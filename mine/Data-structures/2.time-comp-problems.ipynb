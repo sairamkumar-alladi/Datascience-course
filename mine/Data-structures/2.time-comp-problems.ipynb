{
 "cells": [
  {
   "cell_type": "markdown",
   "id": "d8bf3739-b9b3-429c-8d35-328902b5200d",
   "metadata": {},
   "source": [
    "### Problem1"
   ]
  },
  {
   "cell_type": "code",
   "execution_count": 1,
   "id": "1e9f6cd4-8ad1-4d0a-9716-714715c21987",
   "metadata": {},
   "outputs": [],
   "source": [
    "list_a = [1,2,3,4,5]"
   ]
  },
  {
   "cell_type": "code",
   "execution_count": 2,
   "id": "b162f24f-4ad0-4e62-a246-6bddc08e2ebb",
   "metadata": {},
   "outputs": [],
   "source": [
    "sum = 0\n",
    "for i in list_a:\n",
    "    sum += i"
   ]
  },
  {
   "cell_type": "code",
   "execution_count": 3,
   "id": "956af847-b045-4f06-a92d-05ddf5365615",
   "metadata": {},
   "outputs": [
    {
     "name": "stdout",
     "output_type": "stream",
     "text": [
      "15\n"
     ]
    }
   ],
   "source": [
    "print(sum)"
   ]
  },
  {
   "cell_type": "code",
   "execution_count": 4,
   "id": "e3139002-38fc-479c-bff3-5d15cb4d826d",
   "metadata": {},
   "outputs": [],
   "source": [
    "product = 1\n",
    "for i in list_a:\n",
    "    product = product*i"
   ]
  },
  {
   "cell_type": "code",
   "execution_count": 5,
   "id": "2fca11dd-1af0-4656-a6e5-1fbba56d8cec",
   "metadata": {},
   "outputs": [
    {
     "name": "stdout",
     "output_type": "stream",
     "text": [
      "120\n"
     ]
    }
   ],
   "source": [
    "print(product)"
   ]
  },
  {
   "cell_type": "markdown",
   "id": "d0443a60-b84e-43dc-807b-81820c6233a2",
   "metadata": {},
   "source": [
    "- loop1 -> O(n)\n",
    "- loop2 -> O(n)\n",
    "- O(2n) -> O(n) --> Linear"
   ]
  },
  {
   "cell_type": "markdown",
   "id": "ac3a4dd5-8bfe-496c-944f-a9104f7ed71e",
   "metadata": {},
   "source": [
    "### Problem2"
   ]
  },
  {
   "cell_type": "code",
   "execution_count": 8,
   "id": "42475bcc-c731-48e2-9a72-b8c4526f2a7f",
   "metadata": {},
   "outputs": [
    {
     "name": "stdout",
     "output_type": "stream",
     "text": [
      "(1,1)\n",
      "(1,2)\n",
      "(1,3)\n",
      "(1,4)\n",
      "(1,5)\n",
      "(2,1)\n",
      "(2,2)\n",
      "(2,3)\n",
      "(2,4)\n",
      "(2,5)\n",
      "(3,1)\n",
      "(3,2)\n",
      "(3,3)\n",
      "(3,4)\n",
      "(3,5)\n",
      "(4,1)\n",
      "(4,2)\n",
      "(4,3)\n",
      "(4,4)\n",
      "(4,5)\n",
      "(5,1)\n",
      "(5,2)\n",
      "(5,3)\n",
      "(5,4)\n",
      "(5,5)\n"
     ]
    }
   ],
   "source": [
    "for i in list_a:\n",
    "    for j in list_a:\n",
    "        print(f'({i},{j})')"
   ]
  },
  {
   "cell_type": "markdown",
   "id": "c63d6a9b-a999-477f-9f75-a441d57bd2a3",
   "metadata": {},
   "source": [
    "- O(n^2) --> Quadratic"
   ]
  },
  {
   "cell_type": "markdown",
   "id": "3f5a949e-7825-4be9-9c0e-90a7718f07e0",
   "metadata": {},
   "source": [
    "### Problem3"
   ]
  },
  {
   "cell_type": "code",
   "execution_count": 10,
   "id": "b26e8624-10a2-4e0f-9457-f675f304c160",
   "metadata": {},
   "outputs": [
    {
     "name": "stdout",
     "output_type": "stream",
     "text": [
      "Element 7 found at index 2.\n"
     ]
    }
   ],
   "source": [
    "#Linear Search\n",
    "def linear_search(arr, target):\n",
    "    \"\"\"\n",
    "    Perform linear search on the given list.\n",
    "\n",
    "    Parameters:\n",
    "    - arr: List of elements to search through.\n",
    "    - target: The element to search for.\n",
    "\n",
    "    Returns:\n",
    "    - If the target is found, return its index. Otherwise, return -1.\n",
    "    \"\"\"\n",
    "    for i in range(len(arr)):\n",
    "        if arr[i] == target:\n",
    "            return i\n",
    "    return -1\n",
    "\n",
    "# Example usage\n",
    "my_list = [4, 2, 7, 1, 9, 5]\n",
    "target_element = 7\n",
    "\n",
    "result = linear_search(my_list, target_element)\n",
    "\n",
    "if result != -1:\n",
    "    print(f\"Element {target_element} found at index {result}.\")\n",
    "else:\n",
    "    print(f\"Element {target_element} not found in the list.\")\n"
   ]
  },
  {
   "cell_type": "markdown",
   "id": "1c0669f4-9940-4da0-a382-d0c691866b7b",
   "metadata": {},
   "source": [
    "Regarding time complexity:\n",
    "\n",
    "The time complexity of linear search is O(n), where n is the number of elements in the list.\n",
    "In the worst-case scenario, the algorithm may need to iterate through the entire list to find the target element.\n"
   ]
  },
  {
   "cell_type": "code",
   "execution_count": null,
   "id": "25e50d28-58f3-46ad-aa0f-082880bf5f20",
   "metadata": {},
   "outputs": [],
   "source": []
  }
 ],
 "metadata": {
  "kernelspec": {
   "display_name": "Python 3 (ipykernel)",
   "language": "python",
   "name": "python3"
  },
  "language_info": {
   "codemirror_mode": {
    "name": "ipython",
    "version": 3
   },
   "file_extension": ".py",
   "mimetype": "text/x-python",
   "name": "python",
   "nbconvert_exporter": "python",
   "pygments_lexer": "ipython3",
   "version": "3.10.12"
  }
 },
 "nbformat": 4,
 "nbformat_minor": 5
}

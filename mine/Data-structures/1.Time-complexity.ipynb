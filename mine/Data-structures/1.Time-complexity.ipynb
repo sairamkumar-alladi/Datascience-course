{
 "cells": [
  {
   "cell_type": "markdown",
   "id": "c3e6da40-e073-45ee-96a3-a85db58407fa",
   "metadata": {},
   "source": [
    "## Techniques\n",
    "- Measuring time to execute.\n",
    "- Counting operations involved.\n",
    "- Abstract notion of order of growth."
   ]
  },
  {
   "cell_type": "markdown",
   "id": "cf3bf247-6cc1-45c4-a7e1-d90040cf43bf",
   "metadata": {},
   "source": [
    "### Measuring Time\n",
    "- Different time for different algorithm(D)\n",
    "- Time varies if implementation changes (ND)\n",
    "- Different machines different time (ND)\n",
    "- Does not work for extremely small input(ND)\n",
    "- Time varies for different inputs, but can't establish a relationship(ND)"
   ]
  },
  {
   "cell_type": "code",
   "execution_count": 30,
   "id": "b2e3a78b-d0e4-41a9-9287-8b7395d4794d",
   "metadata": {},
   "outputs": [],
   "source": [
    "import time"
   ]
  },
  {
   "cell_type": "code",
   "execution_count": 31,
   "id": "c70e54a5-6b56-4cbb-a320-4fe5a3c5a123",
   "metadata": {},
   "outputs": [
    {
     "name": "stdout",
     "output_type": "stream",
     "text": [
      "0.00017642974853515625\n"
     ]
    }
   ],
   "source": [
    "start = time.time()\n",
    "list_a = []\n",
    "for i in range(1,101):\n",
    "    list_a.append(i)\n",
    "print(time.time() - start)"
   ]
  },
  {
   "cell_type": "code",
   "execution_count": 32,
   "id": "e411323d-37a4-466a-84a0-25efae3d2d21",
   "metadata": {},
   "outputs": [
    {
     "name": "stdout",
     "output_type": "stream",
     "text": [
      "8.630752563476562e-05\n"
     ]
    }
   ],
   "source": [
    "start1 = time.time()\n",
    "list_a = []\n",
    "i = 1\n",
    "while i <= 100:\n",
    "    list_a.append(i)\n",
    "    i+=1\n",
    "print(time.time() - start1)"
   ]
  },
  {
   "cell_type": "markdown",
   "id": "9451835d-5ff3-4211-ae1a-0559c67e7c6c",
   "metadata": {},
   "source": [
    "### Counting Operations\n",
    "Assume these steps take constant time:\n",
    "- mathematical operations\n",
    "- comparisions\n",
    "- assignments\n",
    "- accessing objects in memory\n",
    "- Then count no.of operations executed as function of size of input.\n",
    "  \n",
    "Problems with this approach:\n",
    "- Different time for different algorithm(D)\n",
    "- Time varies if implementation changes (ND)\n",
    "- Different machines different time (ND)(S)\n",
    "- No clear defination of which operation to count.\n",
    "- Time varies for different inputs, but can't establish a relationship(ND)(S)"
   ]
  },
  {
   "cell_type": "code",
   "execution_count": 33,
   "id": "f1337628-07f1-4c0b-8024-ee14506050aa",
   "metadata": {},
   "outputs": [],
   "source": [
    "def mysum(x):\n",
    "    total = 0\n",
    "    for i in range(x+1):\n",
    "        total+=i\n",
    "    return total\n",
    "#  1+3x (no.of operations)"
   ]
  },
  {
   "cell_type": "code",
   "execution_count": 34,
   "id": "d37511d9-d474-4cea-83f4-189abc3eb9ed",
   "metadata": {},
   "outputs": [
    {
     "data": {
      "text/plain": [
       "5050"
      ]
     },
     "execution_count": 34,
     "metadata": {},
     "output_type": "execute_result"
    }
   ],
   "source": [
    "mysum(100)"
   ]
  },
  {
   "cell_type": "code",
   "execution_count": 38,
   "id": "e516e178-647a-429b-bc5d-41fca61f77d0",
   "metadata": {},
   "outputs": [],
   "source": [
    "def c_to_f(c):\n",
    "    return c*9.0/5 + 32\n",
    "# 3ops"
   ]
  },
  {
   "cell_type": "code",
   "execution_count": 39,
   "id": "d0d1281a-8440-41f3-b144-cbe07cdb48a0",
   "metadata": {},
   "outputs": [
    {
     "data": {
      "text/plain": [
       "86.0"
      ]
     },
     "execution_count": 39,
     "metadata": {},
     "output_type": "execute_result"
    }
   ],
   "source": [
    "c_to_f(30)"
   ]
  },
  {
   "cell_type": "markdown",
   "id": "bb0ebb17-aa04-423a-a257-cc290d777f33",
   "metadata": {},
   "source": [
    "### Orders Of Growth(Big Oh or O()(order of growth))\n",
    "Goals:\n",
    "- Want to evaluate programs efficiency when input is very big.\n",
    "- Want to express the growth of program's run time as input size grows.\n",
    "- Want to put an upper bound on growth - as tight as possible.\n",
    "- do not need to be precise: \"order of\" not \"exact\" growth.\n",
    "- We will look at largest factors in run time (which section of the program will take the longest run?)(nested for loop vs for loop)"
   ]
  },
  {
   "cell_type": "code",
   "execution_count": 40,
   "id": "89902753-f186-4a11-9815-6db70523f4e1",
   "metadata": {},
   "outputs": [],
   "source": [
    "def fact_iter(n):\n",
    "    answer = 1 # ope-1\n",
    "    while n>1 : # ope-2\n",
    "        answer *=n # ope -3+4\n",
    "        n-=1 # ope -5+6\n",
    "    return answer\n",
    "# ope = 1+5*n - number of steps"
   ]
  },
  {
   "cell_type": "markdown",
   "id": "bea1ca8d-871a-4844-8952-af7a34718d45",
   "metadata": {},
   "source": [
    "Worst case asymptotic complexity:\n",
    "- ignore additive constants\n",
    "- ignore multiplicative constants - O(n)"
   ]
  },
  {
   "cell_type": "markdown",
   "id": "a648370e-9d36-4572-a5e7-911c5077b314",
   "metadata": {},
   "source": [
    "So the idea is simple\n",
    "- n^2 + 2*n + 2 (n^2 - nested loop, 2*n-n.of operations inside loop, 2-operations outside loop) -->O(n^2)\n",
    "- n^2 + 100000*n + 3^1000 -->O(n^2)\n",
    "- log(n) + n + 4  --> O(n)\n",
    "- 0.0001*n*log(n)+300*n --> O(n*log(n))\n",
    "- 2*n^30 + 3^n --> (3^n)"
   ]
  },
  {
   "cell_type": "markdown",
   "id": "f3f37a6f-2ab0-472b-8a04-10c85c6777f5",
   "metadata": {},
   "source": [
    "- Constant, linear,quadratic, logarithmic,nlogn,exponentional (x-input,y-time)"
   ]
  },
  {
   "cell_type": "code",
   "execution_count": 45,
   "id": "847f64b6-3c52-4088-af4a-300da244ea99",
   "metadata": {},
   "outputs": [
    {
     "data": {
      "text/plain": [
       "101"
      ]
     },
     "execution_count": 45,
     "metadata": {},
     "output_type": "execute_result"
    }
   ],
   "source": [
    "# constant time operation\n",
    "list_a = list(range(1,102))\n",
    "list_a[100] # indexing \n",
    "list_a = list(range(1,202))\n",
    "list_a[100] # indexing "
   ]
  },
  {
   "cell_type": "code",
   "execution_count": 46,
   "id": "ed648e8b-3749-48d5-9ec6-f6ecca7e27f3",
   "metadata": {},
   "outputs": [
    {
     "data": {
      "text/plain": [
       "201"
      ]
     },
     "execution_count": 46,
     "metadata": {},
     "output_type": "execute_result"
    }
   ],
   "source": [
    "# linear time operation\n",
    "# linear search\n",
    "list_b = list(range(1,102))\n",
    "max(list_a)"
   ]
  },
  {
   "cell_type": "code",
   "execution_count": 47,
   "id": "7b490edf-431b-4bad-a97e-528d506e9774",
   "metadata": {},
   "outputs": [],
   "source": [
    "# quadratic\n",
    "# sorting algorithms, nested loops"
   ]
  },
  {
   "cell_type": "markdown",
   "id": "89625229-389c-47e4-83a4-6a70ab6ac429",
   "metadata": {},
   "source": [
    "# logarithmic\n",
    "- input - 10\n",
    "- output- 1\n",
    "- input multiply, output addition"
   ]
  },
  {
   "cell_type": "code",
   "execution_count": null,
   "id": "37d96f82-9382-4a51-8fce-2d608f6363df",
   "metadata": {},
   "outputs": [],
   "source": []
  }
 ],
 "metadata": {
  "kernelspec": {
   "display_name": "Python 3 (ipykernel)",
   "language": "python",
   "name": "python3"
  },
  "language_info": {
   "codemirror_mode": {
    "name": "ipython",
    "version": 3
   },
   "file_extension": ".py",
   "mimetype": "text/x-python",
   "name": "python",
   "nbconvert_exporter": "python",
   "pygments_lexer": "ipython3",
   "version": "3.10.12"
  }
 },
 "nbformat": 4,
 "nbformat_minor": 5
}

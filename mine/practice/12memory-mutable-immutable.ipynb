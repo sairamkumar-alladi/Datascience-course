{
 "cells": [
  {
   "cell_type": "markdown",
   "id": "57a74317-5c71-4f2a-8a64-9073841d10b2",
   "metadata": {},
   "source": [
    "## Identity of an Object\n",
    "Whenever an object is created in Python, it will be given a unique identifier (id).\n",
    "This unique id can be different for each time you run the program.\n",
    "Every object that you use in a Python Program will be stored in Computer Memory.\n",
    "The unique id will be related to the location where the object is stored in the Computer Memory.\n",
    "\n"
   ]
  },
  {
   "cell_type": "code",
   "execution_count": 1,
   "id": "604fd729-6997-49be-b845-f047e71995a5",
   "metadata": {},
   "outputs": [
    {
     "name": "stdout",
     "output_type": "stream",
     "text": [
      "140533561612672\n",
      "140533561612672\n",
      "140533561613184\n",
      "140533625258512\n",
      "140533625258640\n",
      "140533625258320\n"
     ]
    }
   ],
   "source": [
    "list_a = [1,2,3]\n",
    "print(id(list_a))\n",
    "list_b = [7,8]\n",
    "list_a+=list_b\n",
    "print(id(list_a))\n",
    "print(id(list_b))\n",
    "\n",
    "\n",
    "a = 10\n",
    "print(id(a))\n",
    "b = 4\n",
    "a += b\n",
    "print(id(a))\n",
    "print(id(b))"
   ]
  },
  {
   "cell_type": "markdown",
   "id": "29358b5b-2400-4c85-88e3-8a9be9674120",
   "metadata": {},
   "source": [
    "List Concatenation:\n",
    "When you perform list_a += [2, 4], you are modifying the existing list list_a by concatenating it with [2, 4]. This operation does not create a new list; it modifies the existing one in place. Therefore, the id(list_a) before and after the operation remains the same because you are still referring to the same list object in memory.\n",
    "\n",
    "Integer Addition:\n",
    "When you perform a += 4, you are adding 4 to the integer variable a. Unlike lists, integers are immutable in Python, which means you cannot modify them in place. Instead, a new integer object is created with the updated value, and the variable a is then updated to reference this new object. As a result, the id(a) before and after the operation will likely be different because you have essentially created a new integer object with the value 14 and updated the variable a to reference this new object.\n",
    "\n",
    "In summary, the behavior is different because lists are mutable (they can be modified in place), while integers are immutable (they cannot be modified in place). This leads to different memory management behavior in Python."
   ]
  },
  {
   "cell_type": "code",
   "execution_count": 2,
   "id": "6305963d-8fdb-483c-8225-898abd64b2e2",
   "metadata": {},
   "outputs": [
    {
     "name": "stdout",
     "output_type": "stream",
     "text": [
      "140533561610880\n",
      "140533561610880\n",
      "list a : [1, 2, 3, 4]\n",
      "list b : [1, 2, 3, 4]\n"
     ]
    }
   ],
   "source": [
    "#list_a and list_b will be referring to the same object.\n",
    "list_a = [1, 2, 3]\n",
    "list_b = list_a\n",
    "print(id(list_a))\n",
    "print(id(list_b))\n",
    "\n",
    "\n",
    "\n",
    "list_a = [1, 2, 3, 5]\n",
    "list_b = list_a\n",
    "list_b[3] = 4\n",
    "print(\"list a : \" + str(list_a))\n",
    "print(\"list b : \" + str(list_b))\n"
   ]
  },
  {
   "cell_type": "code",
   "execution_count": 3,
   "id": "a3d7bfdd-808b-440e-b325-9034f7e1323e",
   "metadata": {},
   "outputs": [
    {
     "name": "stdout",
     "output_type": "stream",
     "text": [
      "list a : [6, 7]\n",
      "list b : [1, 2]\n",
      "list a : [1, 2, 6, 7]\n",
      "list b : [1, 2]\n"
     ]
    }
   ],
   "source": [
    "#The assignment will update the reference to new object.\n",
    "list_a = [1, 2]\n",
    "list_b = list_a\n",
    "list_a = [6, 7]\n",
    "print(\"list a : \" + str(list_a))\n",
    "print(\"list b : \" + str(list_b))\n",
    "\n",
    "list_a = [1, 2]\n",
    "list_b = list_a\n",
    "list_a = list_a + [6, 7]\n",
    "print(\"list a : \" + str(list_a))\n",
    "print(\"list b : \" + str(list_b))\n",
    "\n"
   ]
  },
  {
   "cell_type": "code",
   "execution_count": 4,
   "id": "7be703e8-51bd-40e1-b7fc-3eeca7519693",
   "metadata": {},
   "outputs": [
    {
     "name": "stdout",
     "output_type": "stream",
     "text": [
      "list a : [1, 2, 6, 7]\n",
      "list b : [1, 2, 6, 7]\n"
     ]
    }
   ],
   "source": [
    "#Compound assignment will update the existing list instead of creating a new object.\n",
    "list_a = [1, 2]\n",
    "list_b = list_a\n",
    "list_a += [6, 7]\n",
    "print(\"list a : \" + str(list_a))\n",
    "print(\"list b : \" + str(list_b))\n"
   ]
  },
  {
   "cell_type": "code",
   "execution_count": 5,
   "id": "1308a5ee-517d-49a0-9d6b-ff592ef16d9c",
   "metadata": {},
   "outputs": [
    {
     "name": "stdout",
     "output_type": "stream",
     "text": [
      "[1, 4, 6, 7]\n",
      "[3, [1, 4, 6, 7]]\n"
     ]
    }
   ],
   "source": [
    "#Updating mutable objects will also effect the values in the list, as the reference is changed.\n",
    "ist_a = [1,2]\n",
    "list_b = [3, list_a]\n",
    "list_a[1] = 4\n",
    "print(list_a)\n",
    "print(list_b)\n"
   ]
  },
  {
   "cell_type": "code",
   "execution_count": 6,
   "id": "13d2ce4f-bfd6-4e2a-ba15-a31291f93c56",
   "metadata": {},
   "outputs": [
    {
     "name": "stdout",
     "output_type": "stream",
     "text": [
      "[1, 2]\n",
      "[1, 2]\n"
     ]
    }
   ],
   "source": [
    "#Updating immutable objects will not effect the values in the list, as the reference will be changed.\n",
    "a = 2\n",
    "list_a = [1,a]\n",
    "print(list_a)\n",
    "a = 3\n",
    "print(list_a)\n"
   ]
  },
  {
   "cell_type": "code",
   "execution_count": null,
   "id": "9d3e1669-76e1-471e-b52b-9dd2f1a86dec",
   "metadata": {},
   "outputs": [],
   "source": []
  },
  {
   "cell_type": "code",
   "execution_count": null,
   "id": "29768a48-9f79-4374-894a-cb60fad1ce07",
   "metadata": {},
   "outputs": [],
   "source": []
  }
 ],
 "metadata": {
  "kernelspec": {
   "display_name": "Python 3 (ipykernel)",
   "language": "python",
   "name": "python3"
  },
  "language_info": {
   "codemirror_mode": {
    "name": "ipython",
    "version": 3
   },
   "file_extension": ".py",
   "mimetype": "text/x-python",
   "name": "python",
   "nbconvert_exporter": "python",
   "pygments_lexer": "ipython3",
   "version": "3.10.12"
  }
 },
 "nbformat": 4,
 "nbformat_minor": 5
}

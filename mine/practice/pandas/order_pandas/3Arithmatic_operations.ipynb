{
 "cells": [
  {
   "cell_type": "markdown",
   "id": "8a866a29-78b1-4d3f-a704-19218236b53e",
   "metadata": {},
   "source": [
    "# Arithmatic operations"
   ]
  },
  {
   "cell_type": "code",
   "execution_count": 1,
   "id": "beb5a3eb-9829-44eb-9afc-b1ea9a7bd847",
   "metadata": {},
   "outputs": [],
   "source": [
    "import pandas as pd\n",
    "import numpy as np"
   ]
  },
  {
   "cell_type": "code",
   "execution_count": 2,
   "id": "d75a2efe-e3cc-40a6-a640-feadc9087cd6",
   "metadata": {},
   "outputs": [
    {
     "data": {
      "text/html": [
       "<div>\n",
       "<style scoped>\n",
       "    .dataframe tbody tr th:only-of-type {\n",
       "        vertical-align: middle;\n",
       "    }\n",
       "\n",
       "    .dataframe tbody tr th {\n",
       "        vertical-align: top;\n",
       "    }\n",
       "\n",
       "    .dataframe thead th {\n",
       "        text-align: right;\n",
       "    }\n",
       "</style>\n",
       "<table border=\"1\" class=\"dataframe\">\n",
       "  <thead>\n",
       "    <tr style=\"text-align: right;\">\n",
       "      <th></th>\n",
       "      <th>name</th>\n",
       "      <th>Telugu</th>\n",
       "      <th>English</th>\n",
       "    </tr>\n",
       "  </thead>\n",
       "  <tbody>\n",
       "    <tr>\n",
       "      <th>0</th>\n",
       "      <td>sai</td>\n",
       "      <td>90</td>\n",
       "      <td>59</td>\n",
       "    </tr>\n",
       "    <tr>\n",
       "      <th>1</th>\n",
       "      <td>Anil</td>\n",
       "      <td>20</td>\n",
       "      <td>95</td>\n",
       "    </tr>\n",
       "    <tr>\n",
       "      <th>2</th>\n",
       "      <td>Venkat</td>\n",
       "      <td>35</td>\n",
       "      <td>68</td>\n",
       "    </tr>\n",
       "  </tbody>\n",
       "</table>\n",
       "</div>"
      ],
      "text/plain": [
       "     name  Telugu  English\n",
       "0     sai      90       59\n",
       "1    Anil      20       95\n",
       "2  Venkat      35       68"
      ]
     },
     "execution_count": 2,
     "metadata": {},
     "output_type": "execute_result"
    }
   ],
   "source": [
    "df = pd.DataFrame({\"name\":[\"sai\",\"Anil\",\"Venkat\"],\"Telugu\":[90,20,35],\"English\":[59,95,68]})\n",
    "df"
   ]
  },
  {
   "cell_type": "code",
   "execution_count": 3,
   "id": "9eada822-5533-4043-a612-c7a3af16ffc9",
   "metadata": {},
   "outputs": [
    {
     "data": {
      "text/html": [
       "<div>\n",
       "<style scoped>\n",
       "    .dataframe tbody tr th:only-of-type {\n",
       "        vertical-align: middle;\n",
       "    }\n",
       "\n",
       "    .dataframe tbody tr th {\n",
       "        vertical-align: top;\n",
       "    }\n",
       "\n",
       "    .dataframe thead th {\n",
       "        text-align: right;\n",
       "    }\n",
       "</style>\n",
       "<table border=\"1\" class=\"dataframe\">\n",
       "  <thead>\n",
       "    <tr style=\"text-align: right;\">\n",
       "      <th></th>\n",
       "      <th>name</th>\n",
       "      <th>Telugu</th>\n",
       "      <th>English</th>\n",
       "      <th>Total</th>\n",
       "    </tr>\n",
       "  </thead>\n",
       "  <tbody>\n",
       "    <tr>\n",
       "      <th>0</th>\n",
       "      <td>sai</td>\n",
       "      <td>90</td>\n",
       "      <td>59</td>\n",
       "      <td>149</td>\n",
       "    </tr>\n",
       "    <tr>\n",
       "      <th>1</th>\n",
       "      <td>Anil</td>\n",
       "      <td>20</td>\n",
       "      <td>95</td>\n",
       "      <td>115</td>\n",
       "    </tr>\n",
       "    <tr>\n",
       "      <th>2</th>\n",
       "      <td>Venkat</td>\n",
       "      <td>35</td>\n",
       "      <td>68</td>\n",
       "      <td>103</td>\n",
       "    </tr>\n",
       "  </tbody>\n",
       "</table>\n",
       "</div>"
      ],
      "text/plain": [
       "     name  Telugu  English  Total\n",
       "0     sai      90       59    149\n",
       "1    Anil      20       95    115\n",
       "2  Venkat      35       68    103"
      ]
     },
     "execution_count": 3,
     "metadata": {},
     "output_type": "execute_result"
    }
   ],
   "source": [
    "df[\"Total\"] = df[\"Telugu\"] + df[\"English\"]\n",
    "df"
   ]
  },
  {
   "cell_type": "code",
   "execution_count": 4,
   "id": "814f6012-5d55-488f-9e49-848ef0a9f100",
   "metadata": {},
   "outputs": [],
   "source": [
    "df[\"Percentage\"] = (df[\"Total\"] / 200)*100"
   ]
  },
  {
   "cell_type": "code",
   "execution_count": 5,
   "id": "a1e1ed34-6659-461f-8c1e-bbf764ec5a20",
   "metadata": {},
   "outputs": [
    {
     "data": {
      "text/html": [
       "<div>\n",
       "<style scoped>\n",
       "    .dataframe tbody tr th:only-of-type {\n",
       "        vertical-align: middle;\n",
       "    }\n",
       "\n",
       "    .dataframe tbody tr th {\n",
       "        vertical-align: top;\n",
       "    }\n",
       "\n",
       "    .dataframe thead th {\n",
       "        text-align: right;\n",
       "    }\n",
       "</style>\n",
       "<table border=\"1\" class=\"dataframe\">\n",
       "  <thead>\n",
       "    <tr style=\"text-align: right;\">\n",
       "      <th></th>\n",
       "      <th>name</th>\n",
       "      <th>Telugu</th>\n",
       "      <th>English</th>\n",
       "      <th>Total</th>\n",
       "      <th>Percentage</th>\n",
       "    </tr>\n",
       "  </thead>\n",
       "  <tbody>\n",
       "    <tr>\n",
       "      <th>0</th>\n",
       "      <td>sai</td>\n",
       "      <td>90</td>\n",
       "      <td>59</td>\n",
       "      <td>149</td>\n",
       "      <td>74.5</td>\n",
       "    </tr>\n",
       "    <tr>\n",
       "      <th>1</th>\n",
       "      <td>Anil</td>\n",
       "      <td>20</td>\n",
       "      <td>95</td>\n",
       "      <td>115</td>\n",
       "      <td>57.5</td>\n",
       "    </tr>\n",
       "    <tr>\n",
       "      <th>2</th>\n",
       "      <td>Venkat</td>\n",
       "      <td>35</td>\n",
       "      <td>68</td>\n",
       "      <td>103</td>\n",
       "      <td>51.5</td>\n",
       "    </tr>\n",
       "  </tbody>\n",
       "</table>\n",
       "</div>"
      ],
      "text/plain": [
       "     name  Telugu  English  Total  Percentage\n",
       "0     sai      90       59    149        74.5\n",
       "1    Anil      20       95    115        57.5\n",
       "2  Venkat      35       68    103        51.5"
      ]
     },
     "execution_count": 5,
     "metadata": {},
     "output_type": "execute_result"
    }
   ],
   "source": [
    "df"
   ]
  },
  {
   "cell_type": "code",
   "execution_count": 6,
   "id": "bbf9887f-e8a3-46be-b577-622cc8c8378f",
   "metadata": {},
   "outputs": [],
   "source": [
    "df[\"Status\"] = (df[\"Telugu\"] > 35) & (df[\"English\"] > 35)"
   ]
  },
  {
   "cell_type": "code",
   "execution_count": 7,
   "id": "7668b8a7-2f64-415c-be56-f3bc0d3d2647",
   "metadata": {},
   "outputs": [
    {
     "data": {
      "text/html": [
       "<div>\n",
       "<style scoped>\n",
       "    .dataframe tbody tr th:only-of-type {\n",
       "        vertical-align: middle;\n",
       "    }\n",
       "\n",
       "    .dataframe tbody tr th {\n",
       "        vertical-align: top;\n",
       "    }\n",
       "\n",
       "    .dataframe thead th {\n",
       "        text-align: right;\n",
       "    }\n",
       "</style>\n",
       "<table border=\"1\" class=\"dataframe\">\n",
       "  <thead>\n",
       "    <tr style=\"text-align: right;\">\n",
       "      <th></th>\n",
       "      <th>name</th>\n",
       "      <th>Telugu</th>\n",
       "      <th>English</th>\n",
       "      <th>Total</th>\n",
       "      <th>Percentage</th>\n",
       "      <th>Status</th>\n",
       "    </tr>\n",
       "  </thead>\n",
       "  <tbody>\n",
       "    <tr>\n",
       "      <th>0</th>\n",
       "      <td>sai</td>\n",
       "      <td>90</td>\n",
       "      <td>59</td>\n",
       "      <td>149</td>\n",
       "      <td>74.5</td>\n",
       "      <td>True</td>\n",
       "    </tr>\n",
       "    <tr>\n",
       "      <th>1</th>\n",
       "      <td>Anil</td>\n",
       "      <td>20</td>\n",
       "      <td>95</td>\n",
       "      <td>115</td>\n",
       "      <td>57.5</td>\n",
       "      <td>False</td>\n",
       "    </tr>\n",
       "    <tr>\n",
       "      <th>2</th>\n",
       "      <td>Venkat</td>\n",
       "      <td>35</td>\n",
       "      <td>68</td>\n",
       "      <td>103</td>\n",
       "      <td>51.5</td>\n",
       "      <td>False</td>\n",
       "    </tr>\n",
       "  </tbody>\n",
       "</table>\n",
       "</div>"
      ],
      "text/plain": [
       "     name  Telugu  English  Total  Percentage  Status\n",
       "0     sai      90       59    149        74.5    True\n",
       "1    Anil      20       95    115        57.5   False\n",
       "2  Venkat      35       68    103        51.5   False"
      ]
     },
     "execution_count": 7,
     "metadata": {},
     "output_type": "execute_result"
    }
   ],
   "source": [
    "df"
   ]
  },
  {
   "cell_type": "code",
   "execution_count": 8,
   "id": "afaa5e49-479f-4d33-a493-ceb8c693f550",
   "metadata": {},
   "outputs": [],
   "source": [
    "df[\"Status\"] = np.where((df[\"Telugu\"] > 35) & (df[\"English\"] > 35), \"Pass\", \"Fail\")"
   ]
  },
  {
   "cell_type": "code",
   "execution_count": 9,
   "id": "409dac0e-97cc-4752-8a63-81211bf30319",
   "metadata": {},
   "outputs": [
    {
     "data": {
      "text/html": [
       "<div>\n",
       "<style scoped>\n",
       "    .dataframe tbody tr th:only-of-type {\n",
       "        vertical-align: middle;\n",
       "    }\n",
       "\n",
       "    .dataframe tbody tr th {\n",
       "        vertical-align: top;\n",
       "    }\n",
       "\n",
       "    .dataframe thead th {\n",
       "        text-align: right;\n",
       "    }\n",
       "</style>\n",
       "<table border=\"1\" class=\"dataframe\">\n",
       "  <thead>\n",
       "    <tr style=\"text-align: right;\">\n",
       "      <th></th>\n",
       "      <th>name</th>\n",
       "      <th>Telugu</th>\n",
       "      <th>English</th>\n",
       "      <th>Total</th>\n",
       "      <th>Percentage</th>\n",
       "      <th>Status</th>\n",
       "    </tr>\n",
       "  </thead>\n",
       "  <tbody>\n",
       "    <tr>\n",
       "      <th>0</th>\n",
       "      <td>sai</td>\n",
       "      <td>90</td>\n",
       "      <td>59</td>\n",
       "      <td>149</td>\n",
       "      <td>74.5</td>\n",
       "      <td>Pass</td>\n",
       "    </tr>\n",
       "    <tr>\n",
       "      <th>1</th>\n",
       "      <td>Anil</td>\n",
       "      <td>20</td>\n",
       "      <td>95</td>\n",
       "      <td>115</td>\n",
       "      <td>57.5</td>\n",
       "      <td>Fail</td>\n",
       "    </tr>\n",
       "    <tr>\n",
       "      <th>2</th>\n",
       "      <td>Venkat</td>\n",
       "      <td>35</td>\n",
       "      <td>68</td>\n",
       "      <td>103</td>\n",
       "      <td>51.5</td>\n",
       "      <td>Fail</td>\n",
       "    </tr>\n",
       "  </tbody>\n",
       "</table>\n",
       "</div>"
      ],
      "text/plain": [
       "     name  Telugu  English  Total  Percentage Status\n",
       "0     sai      90       59    149        74.5   Pass\n",
       "1    Anil      20       95    115        57.5   Fail\n",
       "2  Venkat      35       68    103        51.5   Fail"
      ]
     },
     "execution_count": 9,
     "metadata": {},
     "output_type": "execute_result"
    }
   ],
   "source": [
    "df"
   ]
  },
  {
   "cell_type": "code",
   "execution_count": 10,
   "id": "7d8ca586-eaaa-4dae-9a45-ed68ec39c748",
   "metadata": {},
   "outputs": [
    {
     "data": {
      "text/html": [
       "<div>\n",
       "<style scoped>\n",
       "    .dataframe tbody tr th:only-of-type {\n",
       "        vertical-align: middle;\n",
       "    }\n",
       "\n",
       "    .dataframe tbody tr th {\n",
       "        vertical-align: top;\n",
       "    }\n",
       "\n",
       "    .dataframe thead th {\n",
       "        text-align: right;\n",
       "    }\n",
       "</style>\n",
       "<table border=\"1\" class=\"dataframe\">\n",
       "  <thead>\n",
       "    <tr style=\"text-align: right;\">\n",
       "      <th></th>\n",
       "      <th>name</th>\n",
       "      <th>Telugu</th>\n",
       "      <th>English</th>\n",
       "      <th>Total</th>\n",
       "      <th>Percentage</th>\n",
       "      <th>Status</th>\n",
       "    </tr>\n",
       "  </thead>\n",
       "  <tbody>\n",
       "    <tr>\n",
       "      <th>0</th>\n",
       "      <td>sai</td>\n",
       "      <td>90</td>\n",
       "      <td>59</td>\n",
       "      <td>149</td>\n",
       "      <td>74.5</td>\n",
       "      <td>Pass</td>\n",
       "    </tr>\n",
       "    <tr>\n",
       "      <th>1</th>\n",
       "      <td>Anil</td>\n",
       "      <td>20</td>\n",
       "      <td>95</td>\n",
       "      <td>115</td>\n",
       "      <td>57.5</td>\n",
       "      <td>Fail</td>\n",
       "    </tr>\n",
       "    <tr>\n",
       "      <th>2</th>\n",
       "      <td>Venkat</td>\n",
       "      <td>35</td>\n",
       "      <td>68</td>\n",
       "      <td>103</td>\n",
       "      <td>51.5</td>\n",
       "      <td>Fail</td>\n",
       "    </tr>\n",
       "  </tbody>\n",
       "</table>\n",
       "</div>"
      ],
      "text/plain": [
       "     name  Telugu  English  Total  Percentage Status\n",
       "0     sai      90       59    149        74.5   Pass\n",
       "1    Anil      20       95    115        57.5   Fail\n",
       "2  Venkat      35       68    103        51.5   Fail"
      ]
     },
     "execution_count": 10,
     "metadata": {},
     "output_type": "execute_result"
    }
   ],
   "source": [
    "passing_condition = (df[\"Telugu\"] > 35) & (df[\"English\"] > 35)\n",
    "df[\"Status\"] = \"Fail\"\n",
    "df.loc[passing_condition, \"Status\"] = \"Pass\"\n",
    "df"
   ]
  },
  {
   "cell_type": "code",
   "execution_count": 11,
   "id": "c65304f8-6f5d-48ce-8b55-9a827a2b53ff",
   "metadata": {},
   "outputs": [
    {
     "data": {
      "text/html": [
       "<div>\n",
       "<style scoped>\n",
       "    .dataframe tbody tr th:only-of-type {\n",
       "        vertical-align: middle;\n",
       "    }\n",
       "\n",
       "    .dataframe tbody tr th {\n",
       "        vertical-align: top;\n",
       "    }\n",
       "\n",
       "    .dataframe thead th {\n",
       "        text-align: right;\n",
       "    }\n",
       "</style>\n",
       "<table border=\"1\" class=\"dataframe\">\n",
       "  <thead>\n",
       "    <tr style=\"text-align: right;\">\n",
       "      <th></th>\n",
       "      <th>name</th>\n",
       "      <th>Telugu</th>\n",
       "      <th>English</th>\n",
       "      <th>Total</th>\n",
       "      <th>Percentage</th>\n",
       "      <th>Status</th>\n",
       "    </tr>\n",
       "  </thead>\n",
       "  <tbody>\n",
       "    <tr>\n",
       "      <th>0</th>\n",
       "      <td>sai</td>\n",
       "      <td>90</td>\n",
       "      <td>59</td>\n",
       "      <td>149</td>\n",
       "      <td>74.5</td>\n",
       "      <td>Pass</td>\n",
       "    </tr>\n",
       "    <tr>\n",
       "      <th>1</th>\n",
       "      <td>Anil</td>\n",
       "      <td>20</td>\n",
       "      <td>95</td>\n",
       "      <td>115</td>\n",
       "      <td>57.5</td>\n",
       "      <td>Fail</td>\n",
       "    </tr>\n",
       "    <tr>\n",
       "      <th>2</th>\n",
       "      <td>Venkat</td>\n",
       "      <td>35</td>\n",
       "      <td>68</td>\n",
       "      <td>103</td>\n",
       "      <td>51.5</td>\n",
       "      <td>Fail</td>\n",
       "    </tr>\n",
       "  </tbody>\n",
       "</table>\n",
       "</div>"
      ],
      "text/plain": [
       "     name  Telugu  English  Total  Percentage Status\n",
       "0     sai      90       59    149        74.5   Pass\n",
       "1    Anil      20       95    115        57.5   Fail\n",
       "2  Venkat      35       68    103        51.5   Fail"
      ]
     },
     "execution_count": 11,
     "metadata": {},
     "output_type": "execute_result"
    }
   ],
   "source": [
    "df"
   ]
  },
  {
   "cell_type": "code",
   "execution_count": 14,
   "id": "1b3ed054-71c2-4759-8e2e-cc1e9e990cc8",
   "metadata": {},
   "outputs": [
    {
     "data": {
      "text/plain": [
       "Index(['name', 'Telugu', 'English', 'Total', 'Percentage', 'Status'], dtype='object')"
      ]
     },
     "execution_count": 14,
     "metadata": {},
     "output_type": "execute_result"
    }
   ],
   "source": [
    "df.columns"
   ]
  },
  {
   "cell_type": "code",
   "execution_count": 19,
   "id": "c598db9f-665c-410e-b3ea-f6f0227b9db1",
   "metadata": {},
   "outputs": [
    {
     "data": {
      "text/plain": [
       "name           saiAnil\n",
       "Telugu             110\n",
       "English            154\n",
       "Total              264\n",
       "Percentage       132.0\n",
       "Status        PassFail\n",
       "dtype: object"
      ]
     },
     "execution_count": 19,
     "metadata": {},
     "output_type": "execute_result"
    }
   ],
   "source": [
    "df.loc[df[\"Total\"] > 110].sum()"
   ]
  },
  {
   "cell_type": "code",
   "execution_count": 28,
   "id": "ad5540dc-7a64-40a5-ac45-65adb7f6dd8c",
   "metadata": {},
   "outputs": [
    {
     "data": {
      "text/html": [
       "<div>\n",
       "<style scoped>\n",
       "    .dataframe tbody tr th:only-of-type {\n",
       "        vertical-align: middle;\n",
       "    }\n",
       "\n",
       "    .dataframe tbody tr th {\n",
       "        vertical-align: top;\n",
       "    }\n",
       "\n",
       "    .dataframe thead th {\n",
       "        text-align: right;\n",
       "    }\n",
       "</style>\n",
       "<table border=\"1\" class=\"dataframe\">\n",
       "  <thead>\n",
       "    <tr style=\"text-align: right;\">\n",
       "      <th></th>\n",
       "      <th>Telugu</th>\n",
       "      <th>English</th>\n",
       "      <th>Total</th>\n",
       "    </tr>\n",
       "  </thead>\n",
       "  <tbody>\n",
       "    <tr>\n",
       "      <th>0</th>\n",
       "      <td>90</td>\n",
       "      <td>59</td>\n",
       "      <td>149</td>\n",
       "    </tr>\n",
       "    <tr>\n",
       "      <th>1</th>\n",
       "      <td>20</td>\n",
       "      <td>95</td>\n",
       "      <td>115</td>\n",
       "    </tr>\n",
       "    <tr>\n",
       "      <th>2</th>\n",
       "      <td>35</td>\n",
       "      <td>68</td>\n",
       "      <td>103</td>\n",
       "    </tr>\n",
       "  </tbody>\n",
       "</table>\n",
       "</div>"
      ],
      "text/plain": [
       "   Telugu  English  Total\n",
       "0      90       59    149\n",
       "1      20       95    115\n",
       "2      35       68    103"
      ]
     },
     "execution_count": 28,
     "metadata": {},
     "output_type": "execute_result"
    }
   ],
   "source": [
    "df.loc[:,\"Telugu\": \"Total\"]"
   ]
  },
  {
   "cell_type": "code",
   "execution_count": 27,
   "id": "ea1f1a7f-115a-4aea-9fb8-c5a0dd1e2028",
   "metadata": {},
   "outputs": [
    {
     "data": {
      "text/plain": [
       "0    298\n",
       "1    230\n",
       "2    206\n",
       "dtype: int64"
      ]
     },
     "execution_count": 27,
     "metadata": {},
     "output_type": "execute_result"
    }
   ],
   "source": [
    "df.loc[:,\"Telugu\": \"Total\"].sum(axis=1)"
   ]
  },
  {
   "cell_type": "code",
   "execution_count": 29,
   "id": "5457d3cd-eeaa-4cc9-a546-d2625a5a2c54",
   "metadata": {},
   "outputs": [
    {
     "data": {
      "text/html": [
       "<div>\n",
       "<style scoped>\n",
       "    .dataframe tbody tr th:only-of-type {\n",
       "        vertical-align: middle;\n",
       "    }\n",
       "\n",
       "    .dataframe tbody tr th {\n",
       "        vertical-align: top;\n",
       "    }\n",
       "\n",
       "    .dataframe thead th {\n",
       "        text-align: right;\n",
       "    }\n",
       "</style>\n",
       "<table border=\"1\" class=\"dataframe\">\n",
       "  <thead>\n",
       "    <tr style=\"text-align: right;\">\n",
       "      <th></th>\n",
       "      <th>name</th>\n",
       "      <th>Telugu</th>\n",
       "      <th>English</th>\n",
       "      <th>Total</th>\n",
       "      <th>Percentage</th>\n",
       "      <th>Status</th>\n",
       "    </tr>\n",
       "  </thead>\n",
       "  <tbody>\n",
       "    <tr>\n",
       "      <th>0</th>\n",
       "      <td>sai</td>\n",
       "      <td>90</td>\n",
       "      <td>59</td>\n",
       "      <td>149</td>\n",
       "      <td>74.5</td>\n",
       "      <td>Pass</td>\n",
       "    </tr>\n",
       "    <tr>\n",
       "      <th>1</th>\n",
       "      <td>Anil</td>\n",
       "      <td>20</td>\n",
       "      <td>95</td>\n",
       "      <td>115</td>\n",
       "      <td>57.5</td>\n",
       "      <td>Fail</td>\n",
       "    </tr>\n",
       "    <tr>\n",
       "      <th>2</th>\n",
       "      <td>Venkat</td>\n",
       "      <td>35</td>\n",
       "      <td>68</td>\n",
       "      <td>103</td>\n",
       "      <td>51.5</td>\n",
       "      <td>Fail</td>\n",
       "    </tr>\n",
       "  </tbody>\n",
       "</table>\n",
       "</div>"
      ],
      "text/plain": [
       "     name  Telugu  English  Total  Percentage Status\n",
       "0     sai      90       59    149        74.5   Pass\n",
       "1    Anil      20       95    115        57.5   Fail\n",
       "2  Venkat      35       68    103        51.5   Fail"
      ]
     },
     "execution_count": 29,
     "metadata": {},
     "output_type": "execute_result"
    }
   ],
   "source": [
    "df\n"
   ]
  },
  {
   "cell_type": "code",
   "execution_count": 30,
   "id": "6008ecf2-376b-4892-9fca-47d661dc82b4",
   "metadata": {},
   "outputs": [
    {
     "data": {
      "text/plain": [
       "149"
      ]
     },
     "execution_count": 30,
     "metadata": {},
     "output_type": "execute_result"
    }
   ],
   "source": [
    "df['Total'].max()"
   ]
  },
  {
   "cell_type": "code",
   "execution_count": 31,
   "id": "e6cf9a8e-b656-49c1-8489-e6a00f5dab4e",
   "metadata": {},
   "outputs": [
    {
     "data": {
      "text/plain": [
       "103"
      ]
     },
     "execution_count": 31,
     "metadata": {},
     "output_type": "execute_result"
    }
   ],
   "source": [
    "df['Total'].min()"
   ]
  },
  {
   "cell_type": "code",
   "execution_count": 32,
   "id": "0b246a39-87a0-4664-a01f-a284bae76115",
   "metadata": {},
   "outputs": [
    {
     "data": {
      "text/plain": [
       "0    103\n",
       "1    115\n",
       "2    149\n",
       "Name: Total, dtype: int64"
      ]
     },
     "execution_count": 32,
     "metadata": {},
     "output_type": "execute_result"
    }
   ],
   "source": [
    "df['Total'].mode()"
   ]
  },
  {
   "cell_type": "code",
   "execution_count": 33,
   "id": "d872f750-5650-4b90-a052-915d98d67aa2",
   "metadata": {},
   "outputs": [
    {
     "data": {
      "text/plain": [
       "122.33333333333333"
      ]
     },
     "execution_count": 33,
     "metadata": {},
     "output_type": "execute_result"
    }
   ],
   "source": [
    "df['Total'].mean()"
   ]
  },
  {
   "cell_type": "code",
   "execution_count": 34,
   "id": "9a3389aa-fcb7-4de1-8fff-0d8e70aa4996",
   "metadata": {},
   "outputs": [
    {
     "data": {
      "text/plain": [
       "3"
      ]
     },
     "execution_count": 34,
     "metadata": {},
     "output_type": "execute_result"
    }
   ],
   "source": [
    "df['Total'].count()"
   ]
  },
  {
   "cell_type": "code",
   "execution_count": 35,
   "id": "a0a9c607-b30a-493a-a659-fb0dcd55f978",
   "metadata": {},
   "outputs": [
    {
     "data": {
      "text/plain": [
       "0    False\n",
       "1    False\n",
       "2    False\n",
       "Name: Total, dtype: bool"
      ]
     },
     "execution_count": 35,
     "metadata": {},
     "output_type": "execute_result"
    }
   ],
   "source": [
    "df['Total'].isna()"
   ]
  },
  {
   "cell_type": "code",
   "execution_count": null,
   "id": "1977aa5c-3de6-4b51-a2bd-ef9b929cf95e",
   "metadata": {},
   "outputs": [],
   "source": []
  }
 ],
 "metadata": {
  "kernelspec": {
   "display_name": "Python 3 (ipykernel)",
   "language": "python",
   "name": "python3"
  },
  "language_info": {
   "codemirror_mode": {
    "name": "ipython",
    "version": 3
   },
   "file_extension": ".py",
   "mimetype": "text/x-python",
   "name": "python",
   "nbconvert_exporter": "python",
   "pygments_lexer": "ipython3",
   "version": "3.10.12"
  }
 },
 "nbformat": 4,
 "nbformat_minor": 5
}

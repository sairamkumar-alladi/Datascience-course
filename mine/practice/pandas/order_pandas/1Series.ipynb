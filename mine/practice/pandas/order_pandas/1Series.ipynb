{
 "cells": [
  {
   "cell_type": "markdown",
   "id": "45f4ca04-2cd5-4b63-aa0d-b8dad09a2823",
   "metadata": {},
   "source": [
    "## Three main datastructures\n",
    "1. Series (1-D)\n",
    "2. Dataframe(2-D)\n",
    "3. Panel(3-D)"
   ]
  },
  {
   "cell_type": "code",
   "execution_count": 1,
   "id": "ebe8d63d-b8ce-47a7-8714-1380acdcc29e",
   "metadata": {},
   "outputs": [],
   "source": [
    "import pandas as pd"
   ]
  },
  {
   "cell_type": "markdown",
   "id": "e162424a-143a-452f-a132-58d36d45151c",
   "metadata": {},
   "source": [
    "## Series"
   ]
  },
  {
   "cell_type": "code",
   "execution_count": 2,
   "id": "60db2cd0-9347-4889-bf3f-61dd86d75360",
   "metadata": {},
   "outputs": [
    {
     "data": {
      "text/plain": [
       "0    3\n",
       "1    4\n",
       "2    5\n",
       "3    6\n",
       "4    7\n",
       "5    8\n",
       "dtype: int64"
      ]
     },
     "execution_count": 2,
     "metadata": {},
     "output_type": "execute_result"
    }
   ],
   "source": [
    "x = [3,4,5,6,7,8]\n",
    "var = pd.Series(x)\n",
    "var"
   ]
  },
  {
   "cell_type": "code",
   "execution_count": 3,
   "id": "444daf50-a212-4146-be05-e8846e244bf1",
   "metadata": {},
   "outputs": [
    {
     "data": {
      "text/plain": [
       "pandas.core.series.Series"
      ]
     },
     "execution_count": 3,
     "metadata": {},
     "output_type": "execute_result"
    }
   ],
   "source": [
    "type(var)"
   ]
  },
  {
   "cell_type": "code",
   "execution_count": 4,
   "id": "4bb3c2e5-8a7e-440d-afc7-68c7c74b0b90",
   "metadata": {},
   "outputs": [
    {
     "data": {
      "text/plain": [
       "5"
      ]
     },
     "execution_count": 4,
     "metadata": {},
     "output_type": "execute_result"
    }
   ],
   "source": [
    "var[2]"
   ]
  },
  {
   "cell_type": "code",
   "execution_count": 5,
   "id": "13ffb5a0-ef35-416d-a177-b804e1e6661e",
   "metadata": {},
   "outputs": [
    {
     "data": {
      "text/plain": [
       "a    3.0\n",
       "s    4.0\n",
       "d    5.0\n",
       "f    6.0\n",
       "Name: Python Series, dtype: float64"
      ]
     },
     "execution_count": 5,
     "metadata": {},
     "output_type": "execute_result"
    }
   ],
   "source": [
    "x = [3,4,5,6]\n",
    "var = pd.Series(x,index=['a','s','d','f'],dtype='float',name='Python Series')\n",
    "var"
   ]
  },
  {
   "cell_type": "code",
   "execution_count": 6,
   "id": "9e34d1ec-ae64-4b1f-a797-21e7aa96921a",
   "metadata": {},
   "outputs": [
    {
     "data": {
      "text/plain": [
       "name    [Python, c, c++, java]\n",
       "por           [12, 13, 14, 15]\n",
       "rank              [1, 4, 3, 2]\n",
       "dtype: object"
      ]
     },
     "execution_count": 6,
     "metadata": {},
     "output_type": "execute_result"
    }
   ],
   "source": [
    "dic = {'name':['Python','c', 'c++','java'],'por':[12,13,14,15],'rank':[1,4,3,2]}\n",
    "var1 = pd.Series(dic)\n",
    "var1"
   ]
  },
  {
   "cell_type": "code",
   "execution_count": 7,
   "id": "c8b6abd2-6041-4857-9606-09e0061e6d1f",
   "metadata": {},
   "outputs": [
    {
     "data": {
      "text/plain": [
       "['Python', 'c', 'c++', 'java']"
      ]
     },
     "execution_count": 7,
     "metadata": {},
     "output_type": "execute_result"
    }
   ],
   "source": [
    "var1['name']"
   ]
  },
  {
   "cell_type": "code",
   "execution_count": 8,
   "id": "981dfbb8-6071-40d9-9354-efefe894589c",
   "metadata": {},
   "outputs": [
    {
     "data": {
      "text/plain": [
       "0    12\n",
       "dtype: int64"
      ]
     },
     "execution_count": 8,
     "metadata": {},
     "output_type": "execute_result"
    }
   ],
   "source": [
    "s = pd.Series(12)\n",
    "s"
   ]
  },
  {
   "cell_type": "code",
   "execution_count": 9,
   "id": "0bf03d6d-1cd3-4dc4-a4d7-27d53db761db",
   "metadata": {},
   "outputs": [
    {
     "data": {
      "text/plain": [
       "pandas.core.series.Series"
      ]
     },
     "execution_count": 9,
     "metadata": {},
     "output_type": "execute_result"
    }
   ],
   "source": [
    "type(s)"
   ]
  },
  {
   "cell_type": "code",
   "execution_count": 10,
   "id": "6d262ccc-cf79-4f6a-a6fc-9117b8ac2c56",
   "metadata": {},
   "outputs": [
    {
     "data": {
      "text/plain": [
       "1    12\n",
       "2    12\n",
       "3    12\n",
       "4    12\n",
       "5    12\n",
       "6    12\n",
       "7    12\n",
       "8    12\n",
       "dtype: int64"
      ]
     },
     "execution_count": 10,
     "metadata": {},
     "output_type": "execute_result"
    }
   ],
   "source": [
    "s = pd.Series(12,index=[1,2,3,4,5,6,7,8])\n",
    "s"
   ]
  },
  {
   "cell_type": "code",
   "execution_count": 11,
   "id": "15a5cdb5-bf5f-4d13-90f8-cbc2884f8bbc",
   "metadata": {},
   "outputs": [],
   "source": [
    "s1 = pd.Series(12,index=[1,2,3,4,5,6,7,8])\n",
    "s2 = pd.Series(12,index=[1,2,3,4])"
   ]
  },
  {
   "cell_type": "code",
   "execution_count": 12,
   "id": "521395a3-d5e9-4a2e-a21e-9eafbf8ee6a9",
   "metadata": {},
   "outputs": [
    {
     "data": {
      "text/plain": [
       "1    24.0\n",
       "2    24.0\n",
       "3    24.0\n",
       "4    24.0\n",
       "5     NaN\n",
       "6     NaN\n",
       "7     NaN\n",
       "8     NaN\n",
       "dtype: float64"
      ]
     },
     "execution_count": 12,
     "metadata": {},
     "output_type": "execute_result"
    }
   ],
   "source": [
    "s1+s2"
   ]
  },
  {
   "cell_type": "code",
   "execution_count": 13,
   "id": "742d1735-4bb2-4d49-ae50-8580d5764dcf",
   "metadata": {},
   "outputs": [],
   "source": [
    "#No roadcast error"
   ]
  },
  {
   "cell_type": "code",
   "execution_count": null,
   "id": "af430068-51c4-4e01-be0c-1ba12afc9402",
   "metadata": {},
   "outputs": [],
   "source": []
  }
 ],
 "metadata": {
  "kernelspec": {
   "display_name": "Python 3 (ipykernel)",
   "language": "python",
   "name": "python3"
  },
  "language_info": {
   "codemirror_mode": {
    "name": "ipython",
    "version": 3
   },
   "file_extension": ".py",
   "mimetype": "text/x-python",
   "name": "python",
   "nbconvert_exporter": "python",
   "pygments_lexer": "ipython3",
   "version": "3.10.12"
  }
 },
 "nbformat": 4,
 "nbformat_minor": 5
}

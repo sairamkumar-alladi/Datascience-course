{
 "cells": [
  {
   "cell_type": "code",
   "execution_count": null,
   "id": "a15e63ab-1170-454a-bf6a-3c5741db5dc7",
   "metadata": {},
   "outputs": [],
   "source": [
    "import pandas as pd"
   ]
  },
  {
   "cell_type": "code",
   "execution_count": null,
   "id": "3fc081b7-d325-497b-9d8a-01d7ae2af9a0",
   "metadata": {},
   "outputs": [],
   "source": [
    "df = pd.read_csv('words.csv', index_col='Word')"
   ]
  },
  {
   "cell_type": "code",
   "execution_count": null,
   "id": "a4cc7ff7-45e7-498d-8a28-bcab0c003584",
   "metadata": {},
   "outputs": [],
   "source": [
    "df.head()"
   ]
  },
  {
   "cell_type": "markdown",
   "id": "b877e1dd-5e6f-46f8-bac3-03ab14bf1cab",
   "metadata": {},
   "source": [
    "### Activities"
   ]
  },
  {
   "cell_type": "markdown",
   "id": "af860fa9-9fe7-49d7-8a3e-de4314fedb2c",
   "metadata": {},
   "source": [
    "##### How many elements does this dataframe have?"
   ]
  },
  {
   "cell_type": "code",
   "execution_count": null,
   "id": "a5e1ef51-3424-45a1-998a-85252423a7b4",
   "metadata": {},
   "outputs": [],
   "source": [
    "df.info()"
   ]
  },
  {
   "cell_type": "code",
   "execution_count": null,
   "id": "bb688427-d1e4-4b54-8463-27377248864c",
   "metadata": {},
   "outputs": [],
   "source": [
    "len(df)"
   ]
  },
  {
   "cell_type": "code",
   "execution_count": null,
   "id": "f7447a95-3621-48b8-8070-5a2f64e7a67c",
   "metadata": {},
   "outputs": [],
   "source": [
    "df.shape"
   ]
  },
  {
   "cell_type": "code",
   "execution_count": null,
   "id": "fc5e3429-03df-418d-8e93-e261b30ca5fc",
   "metadata": {},
   "outputs": [],
   "source": [
    "df.describe()"
   ]
  },
  {
   "cell_type": "markdown",
   "id": "ac8b0d25-61d9-4a5f-8a28-12d5ae0c8991",
   "metadata": {},
   "source": [
    "##### What is the value of the word `microspectrophotometries`?"
   ]
  },
  {
   "cell_type": "markdown",
   "id": "fe84203a-46f1-480b-8d4a-df2c0243a271",
   "metadata": {},
   "source": [
    "df.loc['microspectrophotometries','Value']"
   ]
  },
  {
   "cell_type": "markdown",
   "id": "cb7a1d3a-fa94-4ba6-a845-d7b4d49695fd",
   "metadata": {},
   "source": [
    "##### What is the highest possible value of a word?"
   ]
  },
  {
   "cell_type": "code",
   "execution_count": null,
   "id": "fa6ffa26-0e1c-43be-bd5a-25f0aa1aacda",
   "metadata": {},
   "outputs": [],
   "source": [
    "df.sort_values('Value', ascending=False)"
   ]
  },
  {
   "cell_type": "code",
   "execution_count": null,
   "id": "0f73c004-6f0f-4807-87e3-07efb5cb2e8c",
   "metadata": {},
   "outputs": [],
   "source": [
    "df.max()"
   ]
  },
  {
   "cell_type": "code",
   "execution_count": null,
   "id": "bbaf4eef-9dd0-4962-ae7a-efb7378b2b2e",
   "metadata": {},
   "outputs": [],
   "source": [
    "df.describe()"
   ]
  },
  {
   "cell_type": "markdown",
   "id": "6ae6f217-7a38-4674-9a44-83fab9558d97",
   "metadata": {},
   "source": [
    "##### Which of the following words have a Char Count of `7` and a Value of `87`?"
   ]
  },
  {
   "cell_type": "code",
   "execution_count": null,
   "id": "b629720a-9a8e-423e-9181-d6b3ed4cbd66",
   "metadata": {},
   "outputs": [],
   "source": [
    "df.loc[['glowing','microbrew','superheterodyne','pinfish','enfold']]"
   ]
  },
  {
   "cell_type": "markdown",
   "id": "ad6d9fe6-30fe-4412-b7e9-c09dc690c3fb",
   "metadata": {},
   "source": [
    "##### What is the highest possible length of a word?"
   ]
  },
  {
   "cell_type": "code",
   "execution_count": null,
   "id": "3723493a-12d7-4128-b76f-f026ca3466df",
   "metadata": {},
   "outputs": [],
   "source": [
    "df['Char Count'].max()"
   ]
  },
  {
   "cell_type": "markdown",
   "id": "381dae55-37d6-4388-bd7c-65639e4573d6",
   "metadata": {},
   "source": [
    "##### What is the word with the value of `319`?"
   ]
  },
  {
   "cell_type": "code",
   "execution_count": null,
   "id": "9be8df7d-5b08-48bb-a42e-efa6d41d786e",
   "metadata": {},
   "outputs": [],
   "source": [
    "df.loc[df['Value'] == 319]"
   ]
  },
  {
   "cell_type": "markdown",
   "id": "bb886dd9-5a7f-493e-9a6b-11673a9cb4a8",
   "metadata": {},
   "source": [
    "##### What is the most common value?"
   ]
  },
  {
   "cell_type": "code",
   "execution_count": null,
   "id": "5940d642-ff66-42c7-88d0-a308e648e918",
   "metadata": {},
   "outputs": [],
   "source": [
    "df['Value'].mode()"
   ]
  },
  {
   "cell_type": "code",
   "execution_count": null,
   "id": "6dbe6ed4-471b-436e-a6ad-80cc272fa0cd",
   "metadata": {},
   "outputs": [],
   "source": [
    "df['Value'].value_counts()"
   ]
  },
  {
   "cell_type": "markdown",
   "id": "b9dbdfc9-3215-48ce-a1dd-f672c1fcbddd",
   "metadata": {},
   "source": [
    "##### What is the shortest word with value `274`?"
   ]
  },
  {
   "cell_type": "code",
   "execution_count": null,
   "id": "39461f09-c0fa-48d8-9f7b-4db028c8bb8d",
   "metadata": {},
   "outputs": [],
   "source": [
    "df[df['Value']==274]"
   ]
  },
  {
   "cell_type": "markdown",
   "id": "285ff49c-05b3-4107-92ba-33d194a30513",
   "metadata": {},
   "source": [
    "##### Create a column `Ratio` which represents the 'Value Ratio' of a word"
   ]
  },
  {
   "cell_type": "code",
   "execution_count": null,
   "id": "2a10a3a5-0ac3-4b02-b4cd-8b32bcf89404",
   "metadata": {},
   "outputs": [],
   "source": [
    "df['Ratio'] = df['Value']/df['Char Count']\n",
    "df"
   ]
  },
  {
   "cell_type": "markdown",
   "id": "07ccb165-ca6e-4f9f-b022-b6ef2614fd9b",
   "metadata": {},
   "source": [
    "##### What is the maximum value of `Ratio`?"
   ]
  },
  {
   "cell_type": "code",
   "execution_count": null,
   "id": "3c0821c3-05b1-450b-a6f9-362b1d855701",
   "metadata": {},
   "outputs": [],
   "source": [
    "df['Ratio'].max()"
   ]
  },
  {
   "cell_type": "markdown",
   "id": "825909d7-2995-4531-a27d-baeaf3b43710",
   "metadata": {},
   "source": [
    "##### What word is the one with the highest `Ratio`?"
   ]
  },
  {
   "cell_type": "code",
   "execution_count": null,
   "id": "4d43a8d8-3863-4d34-a5ed-6ef730f98c21",
   "metadata": {},
   "outputs": [],
   "source": [
    "df[df['Ratio']==df['Value Ratio'].max()]"
   ]
  },
  {
   "cell_type": "markdown",
   "id": "daf90f6f-c2a3-4468-a543-e1fb67692338",
   "metadata": {},
   "source": [
    "##### How many words have a `Ratio` of `10`?"
   ]
  },
  {
   "cell_type": "code",
   "execution_count": null,
   "id": "5cf0dc95-06a9-4611-8afc-f26278d73677",
   "metadata": {},
   "outputs": [],
   "source": [
    "df[df['Ratio'] == 10].shape\n",
    "df[df['Ratio'] == 10].value_counts()\n",
    "df.query('Ratio == 10').shape"
   ]
  },
  {
   "cell_type": "markdown",
   "id": "286688c7-aa14-440c-a246-a3e6692ce5bd",
   "metadata": {},
   "source": [
    "##### What is the maximum `Value` of all the words with a `Ratio` of `10`?"
   ]
  },
  {
   "cell_type": "code",
   "execution_count": null,
   "id": "6c8bfeed-24cd-4acb-b4d4-25c5d85d95e7",
   "metadata": {},
   "outputs": [],
   "source": [
    "df[(df['Ratio']==10)].describe()\n",
    "df.loc[df['Ratio']==10,\"Value\"].max()"
   ]
  },
  {
   "cell_type": "markdown",
   "id": "1b3cbdc4-28a9-4462-bb04-6dd1f1bf8628",
   "metadata": {},
   "source": [
    "##### Of those words with a `Value` of `260`, what is the lowest `Char Count` found?"
   ]
  },
  {
   "cell_type": "code",
   "execution_count": null,
   "id": "196d852a-d8b3-41d2-89ef-8b729f37b422",
   "metadata": {},
   "outputs": [],
   "source": [
    "df[df['Value'] == 260].sort_values('Char Count')\n",
    "df.loc[df['Value'] == 260,\"Char Count\"].min()"
   ]
  },
  {
   "cell_type": "markdown",
   "id": "3b82ab8a-0b8f-4b4e-90d7-c3da037f01c0",
   "metadata": {},
   "source": [
    "##### Based on the previous task, what word is it?"
   ]
  },
  {
   "cell_type": "code",
   "execution_count": null,
   "id": "0931874b-cd78-4a80-9830-121f3604d356",
   "metadata": {},
   "outputs": [],
   "source": [
    "df[df['Value'] == 260].sort_values('Char Count')"
   ]
  },
  {
   "cell_type": "markdown",
   "id": "5b9ce2a4-a8ad-4d90-a5dc-06472442b197",
   "metadata": {},
   "source": [
    "##### Find all the words with char count > avg char count?"
   ]
  },
  {
   "cell_type": "code",
   "execution_count": null,
   "id": "3e4da998-e17d-4e39-a9f5-dec3d94e82cc",
   "metadata": {},
   "outputs": [],
   "source": [
    "avg = df['Char Count'].mean()\n",
    "avg\n",
    "df.query(\"`Char Count` > @avg\")"
   ]
  },
  {
   "cell_type": "code",
   "execution_count": null,
   "id": "5ce88372-9c36-46f3-a4d5-25cefe1b939e",
   "metadata": {},
   "outputs": [],
   "source": []
  },
  {
   "cell_type": "code",
   "execution_count": null,
   "id": "2b57aac8-3df6-461f-8870-b21212920ccf",
   "metadata": {},
   "outputs": [],
   "source": []
  }
 ],
 "metadata": {
  "kernelspec": {
   "display_name": "Python 3 (ipykernel)",
   "language": "python",
   "name": "python3"
  },
  "language_info": {
   "codemirror_mode": {
    "name": "ipython",
    "version": 3
   },
   "file_extension": ".py",
   "mimetype": "text/x-python",
   "name": "python",
   "nbconvert_exporter": "python",
   "pygments_lexer": "ipython3",
   "version": "3.10.12"
  }
 },
 "nbformat": 4,
 "nbformat_minor": 5
}

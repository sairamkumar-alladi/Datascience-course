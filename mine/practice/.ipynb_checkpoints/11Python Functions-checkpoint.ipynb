{
 "cells": [
  {
   "cell_type": "code",
   "execution_count": 1,
   "id": "77aff4b9-0b52-4ab9-aa77-b414b53bfc0b",
   "metadata": {},
   "outputs": [],
   "source": [
    "a = 5\n",
    "b = 6"
   ]
  },
  {
   "cell_type": "code",
   "execution_count": 2,
   "id": "b9768796-d0e6-4d85-8e5d-f2be50cb11f9",
   "metadata": {},
   "outputs": [
    {
     "data": {
      "text/plain": [
       "11"
      ]
     },
     "execution_count": 2,
     "metadata": {},
     "output_type": "execute_result"
    }
   ],
   "source": [
    "a + b"
   ]
  },
  {
   "cell_type": "code",
   "execution_count": 3,
   "id": "2f5b069b-c470-4953-ac4e-f227901846f4",
   "metadata": {},
   "outputs": [],
   "source": [
    "c = 5\n",
    "d = 7"
   ]
  },
  {
   "cell_type": "code",
   "execution_count": 4,
   "id": "caa44cad-dda9-431c-be1a-571ba9e76ee1",
   "metadata": {},
   "outputs": [
    {
     "data": {
      "text/plain": [
       "12"
      ]
     },
     "execution_count": 4,
     "metadata": {},
     "output_type": "execute_result"
    }
   ],
   "source": [
    "c+d"
   ]
  },
  {
   "cell_type": "code",
   "execution_count": 5,
   "id": "1a9adaa3-021f-47ff-97a5-e4e438c8195b",
   "metadata": {},
   "outputs": [],
   "source": [
    "# Function Definition\n",
    "def add(a,b):# Function Inputs\n",
    "    #Function Logic\n",
    "    c = a+b\n",
    "    # Return Logic\n",
    "    return c"
   ]
  },
  {
   "cell_type": "code",
   "execution_count": 6,
   "id": "ccf21a1c-89c6-4ff3-85b3-b5b4afde000e",
   "metadata": {},
   "outputs": [
    {
     "data": {
      "text/plain": [
       "3"
      ]
     },
     "execution_count": 6,
     "metadata": {},
     "output_type": "execute_result"
    }
   ],
   "source": [
    "result = add(1,2) #Function Calling"
   ]
  },
  {
   "cell_type": "code",
   "execution_count": 10,
   "id": "32568f93-b1b8-4ff4-b146-c638f5f42cec",
   "metadata": {},
   "outputs": [],
   "source": [
    "def display_output(result):\n",
    "    print(f\"Result is: {result}\")"
   ]
  },
  {
   "cell_type": "code",
   "execution_count": 11,
   "id": "0788d7cc-73b6-4acd-9598-87dd4ea63862",
   "metadata": {},
   "outputs": [
    {
     "name": "stdout",
     "output_type": "stream",
     "text": [
      "Result is: 3\n"
     ]
    }
   ],
   "source": [
    "display_output(add(1,2)) # We are calling a function inside a function call"
   ]
  },
  {
   "cell_type": "code",
   "execution_count": 12,
   "id": "051bb4a8-0a00-41ed-9f8b-a9979d6e104e",
   "metadata": {},
   "outputs": [],
   "source": [
    "def greeting():\n",
    "    print(\"Welcome Team! Good Morning!\")"
   ]
  },
  {
   "cell_type": "code",
   "execution_count": 13,
   "id": "4ced88a4-3c4f-4d4c-a448-282dd0e77b48",
   "metadata": {},
   "outputs": [
    {
     "name": "stdout",
     "output_type": "stream",
     "text": [
      "Welcome Team! Good Morning!\n"
     ]
    }
   ],
   "source": [
    "greeting()"
   ]
  },
  {
   "cell_type": "code",
   "execution_count": 14,
   "id": "95a5d644-359b-4f5f-8a72-870b0f308858",
   "metadata": {},
   "outputs": [
    {
     "name": "stdout",
     "output_type": "stream",
     "text": [
      "Welcome Team! Good Morning!\n"
     ]
    }
   ],
   "source": [
    "dummy = greeting()"
   ]
  },
  {
   "cell_type": "code",
   "execution_count": 16,
   "id": "4da40233-54d8-4d3b-856f-4f9962852603",
   "metadata": {},
   "outputs": [
    {
     "data": {
      "text/plain": [
       "NoneType"
      ]
     },
     "execution_count": 16,
     "metadata": {},
     "output_type": "execute_result"
    }
   ],
   "source": [
    "type(dummy)"
   ]
  },
  {
   "cell_type": "code",
   "execution_count": 17,
   "id": "0c5ae523-66d9-40cc-8003-dff4976b9ce0",
   "metadata": {},
   "outputs": [],
   "source": [
    "import numpy as np\n",
    "def get_random_list():\n",
    "    random_list = np.random.randn(1,2)\n",
    "    return random_list"
   ]
  },
  {
   "cell_type": "code",
   "execution_count": 24,
   "id": "0f5721ae-5836-486c-976d-219fb2f62df2",
   "metadata": {},
   "outputs": [],
   "source": [
    "random_list = get_random_list()"
   ]
  },
  {
   "cell_type": "code",
   "execution_count": 21,
   "id": "5a1a5781-afcb-4ecd-9342-229b974b1198",
   "metadata": {},
   "outputs": [
    {
     "name": "stdout",
     "output_type": "stream",
     "text": [
      "Result is: [[ 0.64567008 -0.44711396]]\n"
     ]
    }
   ],
   "source": [
    "display_output(random_list)"
   ]
  },
  {
   "cell_type": "code",
   "execution_count": 23,
   "id": "323dd336-13f7-4160-bb17-9f52b54b15f0",
   "metadata": {},
   "outputs": [
    {
     "name": "stdout",
     "output_type": "stream",
     "text": [
      "Result is: [[ 1.38383784 -0.52401856]]\n"
     ]
    }
   ],
   "source": [
    "display_output(random_list)"
   ]
  },
  {
   "cell_type": "code",
   "execution_count": 25,
   "id": "17f0bd19-f1ca-4abd-a794-f9bfc8cc1734",
   "metadata": {},
   "outputs": [
    {
     "name": "stdout",
     "output_type": "stream",
     "text": [
      "Result is: [[ 2.33019744 -0.55562837]]\n"
     ]
    }
   ],
   "source": [
    "display_output(random_list)"
   ]
  },
  {
   "cell_type": "code",
   "execution_count": 1,
   "id": "0bea8d4d-c24c-4705-8faa-12bbfbe3d6a4",
   "metadata": {},
   "outputs": [],
   "source": [
    "def main():\n",
    "    \"\"\"main function\n",
    "    It's a starting point of LMS\n",
    "    Arguments:\n",
    "    Returns:\n",
    "    \"\"\"\n",
    "    print(\"======================================\")\n",
    "    print(\"Welcome to Library Management System!\")\n",
    "    print(\"======================================\")"
   ]
  },
  {
   "cell_type": "code",
   "execution_count": 2,
   "id": "c2450196-208b-4287-8dd6-29320c543165",
   "metadata": {},
   "outputs": [
    {
     "name": "stdout",
     "output_type": "stream",
     "text": [
      "Help on function main in module __main__:\n",
      "\n",
      "main()\n",
      "    main function\n",
      "    It's a starting point of LMS\n",
      "    Arguments:\n",
      "    Returns:\n",
      "\n"
     ]
    }
   ],
   "source": [
    "help(main)"
   ]
  },
  {
   "cell_type": "code",
   "execution_count": null,
   "id": "efe90d2f-d46b-4d19-a23e-f76c078f74bc",
   "metadata": {},
   "outputs": [],
   "source": []
  }
 ],
 "metadata": {
  "kernelspec": {
   "display_name": "Python 3 (ipykernel)",
   "language": "python",
   "name": "python3"
  },
  "language_info": {
   "codemirror_mode": {
    "name": "ipython",
    "version": 3
   },
   "file_extension": ".py",
   "mimetype": "text/x-python",
   "name": "python",
   "nbconvert_exporter": "python",
   "pygments_lexer": "ipython3",
   "version": "3.11.3"
  }
 },
 "nbformat": 4,
 "nbformat_minor": 5
}

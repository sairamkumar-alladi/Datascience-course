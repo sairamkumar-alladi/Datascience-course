{
 "cells": [
  {
   "cell_type": "markdown",
   "id": "a80f9501-0002-46db-9f35-40bf11bb8fb1",
   "metadata": {},
   "source": [
    "# Simple Flow\n",
    "- If Else Block\n",
    "- Condition\n",
    "- Condtional Operators\n",
    "- Equality, Lesser, Greater, Lesser than or equal, Greater than or equal, Not equal\n",
    "- Logical Operators\n",
    "- And, Or"
   ]
  },
  {
   "cell_type": "markdown",
   "id": "66e14ff9-2824-4f41-9762-a3ddf946b8e7",
   "metadata": {},
   "source": [
    "# Conditional Operators\n",
    "- Equality -> ==\n",
    "- Lesser ->  <\n",
    "- Greater -> >\n",
    "- Lesser than or equal --> <=\n",
    "- Greater than or equal --> >=\n",
    "- Not Equal --> !=, <>"
   ]
  },
  {
   "cell_type": "markdown",
   "id": "f72a3bd9-6660-403c-923d-70444cc77978",
   "metadata": {},
   "source": [
    "# Indentation\n",
    "- Code Block - Its a collection of statement\n",
    "- Statement - An assignment to the expression\n",
    "- Expression - A mathematical operation\n",
    "- Example : 5+7 Expression\n",
    "- Example : a = 5+7 Statement\n",
    "- Example : a = 5+7, b = 8-9\n",
    "- {a = 5+7, b = 8-9} -- Code block -- Code Block delimeters -> {}\n",
    "- In Python We dont have code block delimeters\n",
    "- Indentation\n",
    "- All statements which fall under same indentaion after : then that is called a code block"
   ]
  },
  {
   "cell_type": "markdown",
   "id": "4818fddc-18af-40f8-b56b-eaa017201a01",
   "metadata": {},
   "source": [
    "# Condition Evaluation\n",
    "- if condition evaluation will return True then flow will be executed\n",
    "- In Python 0 treats like False\n",
    "- Any number (Integer and Float) except 0 is True\n",
    "- An empty String also False\n",
    "- Every non empty string is True\n",
    "- An empty List also False\n",
    "- Every List which not empty is True\n",
    "- An Empty Tuple also False\n",
    "- () If number of elements in () is 1 then its not a tuple --> It evaluates as a single element\n",
    "- {} Empty Dictionary is also False\n",
    "- Every Non Empty Set is True\n",
    "- Every Non Empty Dictionary is also True\n",
    "- When you write functions in conditions --> The return of the functions will be evaluated in condition\n",
    "- Order of execution of operators"
   ]
  },
  {
   "cell_type": "code",
   "execution_count": 48,
   "id": "c0570660-1e14-4909-8d76-31c17ad50694",
   "metadata": {},
   "outputs": [
    {
     "name": "stdout",
     "output_type": "stream",
     "text": [
      "9\n"
     ]
    }
   ],
   "source": [
    "if 5 and dict():\n",
    "    a = 5\n",
    "    b = 6\n",
    "    print(a+b)\n",
    "else:\n",
    "    a = 9\n",
    "    b = 0\n",
    "    print(a-b)"
   ]
  },
  {
   "cell_type": "code",
   "execution_count": null,
   "id": "71e0c3f6-27e3-4501-9d74-c6a572d0401d",
   "metadata": {},
   "outputs": [],
   "source": [
    "if condition1:\n",
    "    statements\n",
    "elif condition2:\n",
    "    statements\n",
    "elif condition3:\n",
    "    statements\n",
    "elif condition4:\n",
    "    statements\n",
    "else:\n",
    "    statements"
   ]
  },
  {
   "cell_type": "code",
   "execution_count": null,
   "id": "ccf7e042-f6b7-4919-9293-5ad86f2467a0",
   "metadata": {},
   "outputs": [],
   "source": [
    "## Proper Sanity Check --> Unit Test Cases\n",
    "if condition1:\n",
    "    if condition2:\n",
    "        statements\n",
    "    else\n",
    "        statements\n",
    "else:\n",
    "    if condition3:\n",
    "        statements\n",
    "    elif condition4:\n",
    "        statements\n",
    "    else:\n",
    "        statements"
   ]
  },
  {
   "cell_type": "code",
   "execution_count": 37,
   "id": "93e5b7bb-d419-457d-8db7-896bacd47d54",
   "metadata": {},
   "outputs": [
    {
     "data": {
      "text/plain": [
       "set"
      ]
     },
     "execution_count": 37,
     "metadata": {},
     "output_type": "execute_result"
    }
   ],
   "source": [
    "type({0})"
   ]
  },
  {
   "cell_type": "code",
   "execution_count": 38,
   "id": "0d2c0206-67fd-4dc5-9acf-d163dd95a2c1",
   "metadata": {},
   "outputs": [
    {
     "data": {
      "text/plain": [
       "int"
      ]
     },
     "execution_count": 38,
     "metadata": {},
     "output_type": "execute_result"
    }
   ],
   "source": [
    "type((0))"
   ]
  },
  {
   "cell_type": "code",
   "execution_count": 31,
   "id": "bb9e7ed6-8cbc-47e4-b3e9-e31fef41363f",
   "metadata": {},
   "outputs": [
    {
     "name": "stdout",
     "output_type": "stream",
     "text": [
      "True\n"
     ]
    }
   ],
   "source": [
    "print(5==5)"
   ]
  },
  {
   "cell_type": "code",
   "execution_count": 15,
   "id": "c9aac28d-82ca-4eb7-af5e-9806cffb3129",
   "metadata": {},
   "outputs": [
    {
     "name": "stdout",
     "output_type": "stream",
     "text": [
      "False\n"
     ]
    }
   ],
   "source": [
    "print(5!=5)"
   ]
  },
  {
   "cell_type": "code",
   "execution_count": null,
   "id": "81813c36-a652-4bdf-9a6e-83d798fddeb5",
   "metadata": {},
   "outputs": [],
   "source": []
  }
 ],
 "metadata": {
  "kernelspec": {
   "display_name": "Python 3 (ipykernel)",
   "language": "python",
   "name": "python3"
  },
  "language_info": {
   "codemirror_mode": {
    "name": "ipython",
    "version": 3
   },
   "file_extension": ".py",
   "mimetype": "text/x-python",
   "name": "python",
   "nbconvert_exporter": "python",
   "pygments_lexer": "ipython3",
   "version": "3.11.3"
  }
 },
 "nbformat": 4,
 "nbformat_minor": 5
}

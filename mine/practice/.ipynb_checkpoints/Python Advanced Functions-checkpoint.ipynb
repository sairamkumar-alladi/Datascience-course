{
 "cells": [
  {
   "cell_type": "markdown",
   "id": "fa7a9330-8506-48df-9097-24276588cff3",
   "metadata": {},
   "source": [
    "# Advanced Functions\n",
    "- filter and map are compiled functions --> in binary format\n",
    "- lambda"
   ]
  },
  {
   "cell_type": "markdown",
   "id": "3f2e99b3-5221-437a-a52c-38a3be0ddfe7",
   "metadata": {},
   "source": [
    "# Lambda\n",
    "- lambda is an anonymous function\n",
    "- All lambda functions are named as lambda_function\n",
    "- Lambda evaluates one complete expression only\n",
    "- It will return only one value\n",
    "- It takes multiple values"
   ]
  },
  {
   "cell_type": "code",
   "execution_count": null,
   "id": "1a01be6b-92a2-4215-aa2e-6d05326f08ba",
   "metadata": {},
   "outputs": [],
   "source": [
    "def A(a):\n",
    "    \n",
    "    return 1+2"
   ]
  },
  {
   "cell_type": "code",
   "execution_count": 2,
   "id": "5c181592-4485-41da-a9b8-6f0550c4363d",
   "metadata": {},
   "outputs": [],
   "source": [
    "lamb = lambda a:1+2"
   ]
  },
  {
   "cell_type": "code",
   "execution_count": 9,
   "id": "c6a081f3-b704-4da2-b3b4-7705fb9a567d",
   "metadata": {},
   "outputs": [
    {
     "data": {
      "text/plain": [
       "3"
      ]
     },
     "execution_count": 9,
     "metadata": {},
     "output_type": "execute_result"
    }
   ],
   "source": [
    "lamb(1)"
   ]
  },
  {
   "cell_type": "code",
   "execution_count": 12,
   "id": "34759452-d419-485d-b39a-5de07895844b",
   "metadata": {},
   "outputs": [],
   "source": [
    "def add(a,b):\n",
    "    return a+b"
   ]
  },
  {
   "cell_type": "code",
   "execution_count": 20,
   "id": "8ca489b3-54f1-47a1-8d53-27af71cef584",
   "metadata": {},
   "outputs": [],
   "source": [
    "lamb1 = lambda a,b:a/b"
   ]
  },
  {
   "cell_type": "code",
   "execution_count": 21,
   "id": "2f8bb3ff-5fc6-4714-b52c-733b0d9f8be1",
   "metadata": {},
   "outputs": [
    {
     "data": {
      "text/plain": [
       "0.5"
      ]
     },
     "execution_count": 21,
     "metadata": {},
     "output_type": "execute_result"
    }
   ],
   "source": [
    "lamb1(1,2)"
   ]
  },
  {
   "cell_type": "code",
   "execution_count": 14,
   "id": "e2120158-fed2-4687-8364-e7678f00d977",
   "metadata": {},
   "outputs": [
    {
     "data": {
      "text/plain": [
       "7"
      ]
     },
     "execution_count": 14,
     "metadata": {},
     "output_type": "execute_result"
    }
   ],
   "source": [
    "add(3,4)"
   ]
  },
  {
   "cell_type": "code",
   "execution_count": 22,
   "id": "f11d7ab8-67e0-4056-b536-db1c7a604188",
   "metadata": {},
   "outputs": [],
   "source": [
    "add = lambda a,b:a+b"
   ]
  },
  {
   "cell_type": "code",
   "execution_count": 23,
   "id": "391aef7b-452c-4b67-a586-3fbdf5f751bf",
   "metadata": {},
   "outputs": [],
   "source": [
    "sub = lambda a,b:a-b"
   ]
  },
  {
   "cell_type": "code",
   "execution_count": 24,
   "id": "4f15cff8-00a3-4d5b-85fd-e0cb3340a9f7",
   "metadata": {},
   "outputs": [],
   "source": [
    "mult = lambda a,b:a*b"
   ]
  },
  {
   "cell_type": "code",
   "execution_count": 25,
   "id": "2275913f-3952-444c-85d8-d0d44a7bc3d0",
   "metadata": {},
   "outputs": [],
   "source": [
    "div = lambda a,b:a/b"
   ]
  },
  {
   "cell_type": "code",
   "execution_count": 26,
   "id": "5b455435-e0aa-4b01-96c1-cd1870487399",
   "metadata": {},
   "outputs": [
    {
     "data": {
      "text/plain": [
       "3"
      ]
     },
     "execution_count": 26,
     "metadata": {},
     "output_type": "execute_result"
    }
   ],
   "source": [
    "add(1,2)"
   ]
  },
  {
   "cell_type": "code",
   "execution_count": 27,
   "id": "20ef3e8e-7edf-4cfb-b2c5-936b97d7c171",
   "metadata": {},
   "outputs": [
    {
     "data": {
      "text/plain": [
       "1"
      ]
     },
     "execution_count": 27,
     "metadata": {},
     "output_type": "execute_result"
    }
   ],
   "source": [
    "sub(2,1)"
   ]
  },
  {
   "cell_type": "code",
   "execution_count": 28,
   "id": "50f52599-b021-4540-8b25-02944694ac3d",
   "metadata": {},
   "outputs": [
    {
     "data": {
      "text/plain": [
       "6"
      ]
     },
     "execution_count": 28,
     "metadata": {},
     "output_type": "execute_result"
    }
   ],
   "source": [
    "mult(2,3)"
   ]
  },
  {
   "cell_type": "code",
   "execution_count": 29,
   "id": "90cd01c6-1790-4405-96a9-4336c9383347",
   "metadata": {},
   "outputs": [
    {
     "data": {
      "text/plain": [
       "3.0"
      ]
     },
     "execution_count": 29,
     "metadata": {},
     "output_type": "execute_result"
    }
   ],
   "source": [
    "div(6,2)"
   ]
  },
  {
   "cell_type": "markdown",
   "id": "c1a4ff55-f9bf-43f0-b123-8e3271f1e914",
   "metadata": {},
   "source": [
    "# Filter\n",
    "- filter takes one funtion and a collection"
   ]
  },
  {
   "cell_type": "code",
   "execution_count": 34,
   "id": "cbddfaf7-63ba-410e-91d9-0a2e59def327",
   "metadata": {},
   "outputs": [],
   "source": [
    "def is_even(x):\n",
    "    if x % 2 == 0:\n",
    "        return True\n",
    "    else:\n",
    "        return False"
   ]
  },
  {
   "cell_type": "code",
   "execution_count": 36,
   "id": "a6d21551-da37-4a45-a4f8-106d0bfbc643",
   "metadata": {},
   "outputs": [
    {
     "data": {
      "text/plain": [
       "<filter at 0x107f68d90>"
      ]
     },
     "execution_count": 36,
     "metadata": {},
     "output_type": "execute_result"
    }
   ],
   "source": [
    "filter(is_even,{1,2,3,4,5,6})"
   ]
  },
  {
   "cell_type": "code",
   "execution_count": 38,
   "id": "3e85182e-eee8-4db2-b0e6-0bfc2a9f25ea",
   "metadata": {},
   "outputs": [
    {
     "data": {
      "text/plain": [
       "[2, 4, 6]"
      ]
     },
     "execution_count": 38,
     "metadata": {},
     "output_type": "execute_result"
    }
   ],
   "source": [
    "list(filter(is_even,{1,2,3,4,5,6}))"
   ]
  },
  {
   "cell_type": "code",
   "execution_count": 45,
   "id": "943bd9af-f949-4294-951a-1773d0405eb4",
   "metadata": {},
   "outputs": [
    {
     "name": "stdout",
     "output_type": "stream",
     "text": [
      "(1, '10000')\n",
      "(2, '2')\n",
      "(3, '3')\n",
      "(4, '4')\n",
      "(5, '5')\n",
      "(6, '6')\n"
     ]
    }
   ],
   "source": [
    "for i in {1:\"10000\",2:\"2\",3:\"3\",4:\"4\",5:\"5\",6:\"6\"}.items():\n",
    "    print(i)"
   ]
  },
  {
   "cell_type": "code",
   "execution_count": 46,
   "id": "eece1ab7-a958-4835-97d1-5f188347e94f",
   "metadata": {},
   "outputs": [],
   "source": [
    "def is_even_dict(x):\n",
    "    if x[0] % 2 == 0:\n",
    "        return True\n",
    "    else:\n",
    "        return False"
   ]
  },
  {
   "cell_type": "code",
   "execution_count": 48,
   "id": "079e613f-2142-474e-84dd-2a7e425775ac",
   "metadata": {},
   "outputs": [
    {
     "data": {
      "text/plain": [
       "[(2, '2'), (4, '4'), (6, '6')]"
      ]
     },
     "execution_count": 48,
     "metadata": {},
     "output_type": "execute_result"
    }
   ],
   "source": [
    "list(filter(is_even_dict,{1:\"1\",2:\"2\",3:\"3\",4:\"4\",5:\"5\",6:\"6\"}.items()))"
   ]
  },
  {
   "cell_type": "code",
   "execution_count": 40,
   "id": "7393128d-964a-4791-9c22-2146dee5f8a2",
   "metadata": {},
   "outputs": [
    {
     "ename": "TypeError",
     "evalue": "not all arguments converted during string formatting",
     "output_type": "error",
     "traceback": [
      "\u001b[0;31m---------------------------------------------------------------------------\u001b[0m",
      "\u001b[0;31mTypeError\u001b[0m                                 Traceback (most recent call last)",
      "Cell \u001b[0;32mIn[40], line 1\u001b[0m\n\u001b[0;32m----> 1\u001b[0m \u001b[38;5;28;43mlist\u001b[39;49m\u001b[43m(\u001b[49m\u001b[38;5;28;43mfilter\u001b[39;49m\u001b[43m(\u001b[49m\u001b[43mis_even\u001b[49m\u001b[43m,\u001b[49m\u001b[43m{\u001b[49m\u001b[38;5;124;43m\"\u001b[39;49m\u001b[38;5;124;43m1\u001b[39;49m\u001b[38;5;124;43m\"\u001b[39;49m\u001b[43m:\u001b[49m\u001b[38;5;241;43m1\u001b[39;49m\u001b[43m,\u001b[49m\u001b[38;5;124;43m\"\u001b[39;49m\u001b[38;5;124;43m2\u001b[39;49m\u001b[38;5;124;43m\"\u001b[39;49m\u001b[43m:\u001b[49m\u001b[38;5;241;43m2\u001b[39;49m\u001b[43m,\u001b[49m\u001b[38;5;124;43m\"\u001b[39;49m\u001b[38;5;124;43m3\u001b[39;49m\u001b[38;5;124;43m\"\u001b[39;49m\u001b[43m:\u001b[49m\u001b[38;5;241;43m3\u001b[39;49m\u001b[43m,\u001b[49m\u001b[38;5;124;43m\"\u001b[39;49m\u001b[38;5;124;43m4\u001b[39;49m\u001b[38;5;124;43m\"\u001b[39;49m\u001b[43m:\u001b[49m\u001b[38;5;241;43m4\u001b[39;49m\u001b[43m,\u001b[49m\u001b[38;5;124;43m\"\u001b[39;49m\u001b[38;5;124;43m5\u001b[39;49m\u001b[38;5;124;43m\"\u001b[39;49m\u001b[43m:\u001b[49m\u001b[38;5;241;43m5\u001b[39;49m\u001b[43m,\u001b[49m\u001b[38;5;124;43m\"\u001b[39;49m\u001b[38;5;124;43m6\u001b[39;49m\u001b[38;5;124;43m\"\u001b[39;49m\u001b[43m:\u001b[49m\u001b[38;5;241;43m6\u001b[39;49m\u001b[43m}\u001b[49m\u001b[43m)\u001b[49m\u001b[43m)\u001b[49m\n",
      "Cell \u001b[0;32mIn[34], line 2\u001b[0m, in \u001b[0;36mis_even\u001b[0;34m(x)\u001b[0m\n\u001b[1;32m      1\u001b[0m \u001b[38;5;28;01mdef\u001b[39;00m \u001b[38;5;21mis_even\u001b[39m(x):\n\u001b[0;32m----> 2\u001b[0m     \u001b[38;5;28;01mif\u001b[39;00m \u001b[43mx\u001b[49m\u001b[43m \u001b[49m\u001b[38;5;241;43m%\u001b[39;49m\u001b[43m \u001b[49m\u001b[38;5;241;43m2\u001b[39;49m \u001b[38;5;241m==\u001b[39m \u001b[38;5;241m0\u001b[39m:\n\u001b[1;32m      3\u001b[0m         \u001b[38;5;28;01mreturn\u001b[39;00m \u001b[38;5;28;01mTrue\u001b[39;00m\n\u001b[1;32m      4\u001b[0m     \u001b[38;5;28;01melse\u001b[39;00m:\n",
      "\u001b[0;31mTypeError\u001b[0m: not all arguments converted during string formatting"
     ]
    }
   ],
   "source": [
    "list(filter(is_even,[\"1\",\"2\",...]))"
   ]
  },
  {
   "cell_type": "code",
   "execution_count": 41,
   "id": "ff4ca9dd-7c28-47b6-b296-5024fcea9ded",
   "metadata": {},
   "outputs": [
    {
     "ename": "TypeError",
     "evalue": "not all arguments converted during string formatting",
     "output_type": "error",
     "traceback": [
      "\u001b[0;31m---------------------------------------------------------------------------\u001b[0m",
      "\u001b[0;31mTypeError\u001b[0m                                 Traceback (most recent call last)",
      "Cell \u001b[0;32mIn[41], line 1\u001b[0m\n\u001b[0;32m----> 1\u001b[0m \u001b[38;5;28;43mlist\u001b[39;49m\u001b[43m(\u001b[49m\u001b[38;5;28;43mfilter\u001b[39;49m\u001b[43m(\u001b[49m\u001b[43mis_even\u001b[49m\u001b[43m,\u001b[49m\u001b[43m \u001b[49m\u001b[43m{\u001b[49m\u001b[38;5;124;43m\"\u001b[39;49m\u001b[38;5;124;43m1\u001b[39;49m\u001b[38;5;124;43m\"\u001b[39;49m\u001b[43m:\u001b[49m\u001b[38;5;124;43m\"\u001b[39;49m\u001b[38;5;124;43m1\u001b[39;49m\u001b[38;5;124;43m\"\u001b[39;49m\u001b[43m,\u001b[49m\u001b[38;5;124;43m\"\u001b[39;49m\u001b[38;5;124;43m2\u001b[39;49m\u001b[38;5;124;43m\"\u001b[39;49m\u001b[43m:\u001b[49m\u001b[38;5;124;43m\"\u001b[39;49m\u001b[38;5;124;43m2\u001b[39;49m\u001b[38;5;124;43m\"\u001b[39;49m\u001b[43m,\u001b[49m\u001b[38;5;124;43m\"\u001b[39;49m\u001b[38;5;124;43m3\u001b[39;49m\u001b[38;5;124;43m\"\u001b[39;49m\u001b[43m:\u001b[49m\u001b[38;5;124;43m\"\u001b[39;49m\u001b[38;5;124;43m3\u001b[39;49m\u001b[38;5;124;43m\"\u001b[39;49m\u001b[43m,\u001b[49m\u001b[38;5;124;43m\"\u001b[39;49m\u001b[38;5;124;43m4\u001b[39;49m\u001b[38;5;124;43m\"\u001b[39;49m\u001b[43m:\u001b[49m\u001b[38;5;124;43m\"\u001b[39;49m\u001b[38;5;124;43m4\u001b[39;49m\u001b[38;5;124;43m\"\u001b[39;49m\u001b[43m,\u001b[49m\u001b[38;5;124;43m\"\u001b[39;49m\u001b[38;5;124;43m5\u001b[39;49m\u001b[38;5;124;43m\"\u001b[39;49m\u001b[43m:\u001b[49m\u001b[38;5;124;43m\"\u001b[39;49m\u001b[38;5;124;43m5\u001b[39;49m\u001b[38;5;124;43m\"\u001b[39;49m\u001b[43m,\u001b[49m\u001b[38;5;124;43m\"\u001b[39;49m\u001b[38;5;124;43m6\u001b[39;49m\u001b[38;5;124;43m\"\u001b[39;49m\u001b[43m:\u001b[49m\u001b[38;5;124;43m\"\u001b[39;49m\u001b[38;5;124;43m6\u001b[39;49m\u001b[38;5;124;43m\"\u001b[39;49m\u001b[43m}\u001b[49m\u001b[43m)\u001b[49m\u001b[43m)\u001b[49m\n",
      "Cell \u001b[0;32mIn[34], line 2\u001b[0m, in \u001b[0;36mis_even\u001b[0;34m(x)\u001b[0m\n\u001b[1;32m      1\u001b[0m \u001b[38;5;28;01mdef\u001b[39;00m \u001b[38;5;21mis_even\u001b[39m(x):\n\u001b[0;32m----> 2\u001b[0m     \u001b[38;5;28;01mif\u001b[39;00m \u001b[43mx\u001b[49m\u001b[43m \u001b[49m\u001b[38;5;241;43m%\u001b[39;49m\u001b[43m \u001b[49m\u001b[38;5;241;43m2\u001b[39;49m \u001b[38;5;241m==\u001b[39m \u001b[38;5;241m0\u001b[39m:\n\u001b[1;32m      3\u001b[0m         \u001b[38;5;28;01mreturn\u001b[39;00m \u001b[38;5;28;01mTrue\u001b[39;00m\n\u001b[1;32m      4\u001b[0m     \u001b[38;5;28;01melse\u001b[39;00m:\n",
      "\u001b[0;31mTypeError\u001b[0m: not all arguments converted during string formatting"
     ]
    }
   ],
   "source": [
    "list(filter(is_even, {\"1\":\"1\",\"2\":\"2\",\"3\":\"3\",\"4\":\"4\",\"5\":\"5\",\"6\":\"6\"}))"
   ]
  },
  {
   "cell_type": "code",
   "execution_count": 49,
   "id": "bda9c86f-eda9-407d-9a17-4ce328610772",
   "metadata": {},
   "outputs": [
    {
     "data": {
      "text/plain": [
       "[2, 4, 6]"
      ]
     },
     "execution_count": 49,
     "metadata": {},
     "output_type": "execute_result"
    }
   ],
   "source": [
    "list(filter(lambda x:x%2==0,[1,2,3,4,5,6]))"
   ]
  },
  {
   "cell_type": "code",
   "execution_count": 55,
   "id": "dba23e0c-f2f9-4b6f-88c5-b64d0836dd0c",
   "metadata": {},
   "outputs": [],
   "source": [
    "lis = [1,0,2,1,0,3,1,0,5,1,0]"
   ]
  },
  {
   "cell_type": "code",
   "execution_count": 56,
   "id": "93b73f21-4cfa-4aed-b8ae-aa73261b7f4c",
   "metadata": {},
   "outputs": [
    {
     "data": {
      "text/plain": [
       "[1, 0, 2, 1, 0, 3, 1, 0, 5, 1, 0]"
      ]
     },
     "execution_count": 56,
     "metadata": {},
     "output_type": "execute_result"
    }
   ],
   "source": [
    "lis"
   ]
  },
  {
   "cell_type": "code",
   "execution_count": 52,
   "id": "d8313e97-57b2-4759-9b01-6ecc55ed3bdf",
   "metadata": {},
   "outputs": [],
   "source": [
    "# Wanto replace 0s with 100"
   ]
  },
  {
   "cell_type": "code",
   "execution_count": 60,
   "id": "e36de9b3-aae7-47fb-970c-2a951a5113a4",
   "metadata": {},
   "outputs": [],
   "source": [
    "def mapper(x):\n",
    "    if x == 0:\n",
    "        return 100\n",
    "    else:\n",
    "        return x"
   ]
  },
  {
   "cell_type": "code",
   "execution_count": 65,
   "id": "669aeb3d-7a40-4e0b-9ede-0c8339fd29c2",
   "metadata": {},
   "outputs": [
    {
     "data": {
      "text/plain": [
       "100"
      ]
     },
     "execution_count": 65,
     "metadata": {},
     "output_type": "execute_result"
    }
   ],
   "source": [
    "100 if 0==0 else 0"
   ]
  },
  {
   "cell_type": "code",
   "execution_count": 62,
   "id": "ad749621-90b3-42e2-bcf1-fe422a566c2d",
   "metadata": {},
   "outputs": [
    {
     "data": {
      "text/plain": [
       "[1, 100, 2, 1, 100, 3, 1, 100, 5, 1, 100]"
      ]
     },
     "execution_count": 62,
     "metadata": {},
     "output_type": "execute_result"
    }
   ],
   "source": [
    "list(map(mapper,lis))"
   ]
  },
  {
   "cell_type": "code",
   "execution_count": 66,
   "id": "7142df1e-a3af-4734-b1cd-968253a639bd",
   "metadata": {},
   "outputs": [
    {
     "data": {
      "text/plain": [
       "[1, 100, 2, 1, 100, 3, 1, 100, 5, 1, 100]"
      ]
     },
     "execution_count": 66,
     "metadata": {},
     "output_type": "execute_result"
    }
   ],
   "source": [
    "list(map(lambda x:100 if x==0 else x,lis))"
   ]
  },
  {
   "cell_type": "code",
   "execution_count": 53,
   "id": "1c2649f3-f0bb-487d-aa45-c45188d3da12",
   "metadata": {},
   "outputs": [],
   "source": [
    "for i in range(len(lis)):\n",
    "    if lis[i] == 0:\n",
    "        lis[i] = 100"
   ]
  },
  {
   "cell_type": "code",
   "execution_count": 54,
   "id": "c98c2bd6-70f9-4464-ab72-637f248822e2",
   "metadata": {},
   "outputs": [
    {
     "data": {
      "text/plain": [
       "[1, 100, 2, 1, 100, 3, 1, 100, 5, 1, 100]"
      ]
     },
     "execution_count": 54,
     "metadata": {},
     "output_type": "execute_result"
    }
   ],
   "source": [
    "lis"
   ]
  },
  {
   "cell_type": "code",
   "execution_count": null,
   "id": "a46f8f3b-7233-46a0-be4a-ba3bafbfe043",
   "metadata": {},
   "outputs": [],
   "source": []
  }
 ],
 "metadata": {
  "kernelspec": {
   "display_name": "Python 3 (ipykernel)",
   "language": "python",
   "name": "python3"
  },
  "language_info": {
   "codemirror_mode": {
    "name": "ipython",
    "version": 3
   },
   "file_extension": ".py",
   "mimetype": "text/x-python",
   "name": "python",
   "nbconvert_exporter": "python",
   "pygments_lexer": "ipython3",
   "version": "3.11.3"
  }
 },
 "nbformat": 4,
 "nbformat_minor": 5
}

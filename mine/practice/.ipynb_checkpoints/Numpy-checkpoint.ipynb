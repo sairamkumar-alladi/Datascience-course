{
 "cells": [
  {
   "cell_type": "markdown",
   "id": "88e3db7c-3978-4521-8a66-3c6dc09157c6",
   "metadata": {},
   "source": [
    "# Matrix Multiplication\n",
    "- Matrix A --> (m,n)\n",
    "- Matrix B --> (p,q)\n",
    "- Matrix Multiplication (Dot Product) --> If n=p\n",
    "- The output of the Dot product --> (m,q)"
   ]
  },
  {
   "cell_type": "code",
   "execution_count": 1,
   "id": "32693d3c-bbb8-45b7-948f-e778af83cb99",
   "metadata": {},
   "outputs": [],
   "source": [
    "A = (2,2)\n",
    "B = (2,2)"
   ]
  },
  {
   "cell_type": "code",
   "execution_count": 2,
   "id": "f7e20c79-2433-4e24-afcf-906d60e9a66a",
   "metadata": {},
   "outputs": [
    {
     "name": "stdout",
     "output_type": "stream",
     "text": [
      "Step (0,0):::\n",
      "\n",
      "Row:  (0, 0)\n",
      "Column:  (0, 0)\n",
      "Row:  (0, 1)\n",
      "Column:  (1, 0)\n",
      "\n",
      "\n",
      "Step (0,1):::\n",
      "\n",
      "Row:  (0, 0)\n",
      "Column:  (0, 1)\n",
      "Row:  (0, 1)\n",
      "Column:  (1, 1)\n",
      "\n",
      "\n",
      "Step (1,0):::\n",
      "\n",
      "Row:  (1, 0)\n",
      "Column:  (0, 0)\n",
      "Row:  (1, 1)\n",
      "Column:  (1, 0)\n",
      "\n",
      "\n",
      "Step (1,1):::\n",
      "\n",
      "Row:  (1, 0)\n",
      "Column:  (0, 1)\n",
      "Row:  (1, 1)\n",
      "Column:  (1, 1)\n",
      "\n",
      "\n"
     ]
    }
   ],
   "source": [
    "for i in range(A[0]):\n",
    "    for j in range(B[1]):\n",
    "        print(f\"Step ({i},{j}):::\\n\")\n",
    "        for k in range(A[1]):\n",
    "            print(\"Row: \",(i,k))\n",
    "            print(\"Column: \",(k,j))\n",
    "        print(\"\\n\")"
   ]
  },
  {
   "cell_type": "code",
   "execution_count": 9,
   "id": "f7b69b4b-e02c-43bd-b096-db3772c484bd",
   "metadata": {},
   "outputs": [],
   "source": [
    "import numpy as np"
   ]
  },
  {
   "cell_type": "code",
   "execution_count": 12,
   "id": "b11a1f9d-cbd0-4790-a36a-e6d70adb25ca",
   "metadata": {},
   "outputs": [],
   "source": [
    "A = [[1,2],[2,3]]"
   ]
  },
  {
   "cell_type": "code",
   "execution_count": 13,
   "id": "dedbc146-17cf-43cd-9324-3a4d9a1bd6aa",
   "metadata": {},
   "outputs": [
    {
     "data": {
      "text/plain": [
       "[[1, 2], [2, 3]]"
      ]
     },
     "execution_count": 13,
     "metadata": {},
     "output_type": "execute_result"
    }
   ],
   "source": [
    "A"
   ]
  },
  {
   "cell_type": "code",
   "execution_count": 14,
   "id": "c09b1b7c-893d-4502-bac6-a0a587818c62",
   "metadata": {},
   "outputs": [
    {
     "data": {
      "text/plain": [
       "list"
      ]
     },
     "execution_count": 14,
     "metadata": {},
     "output_type": "execute_result"
    }
   ],
   "source": [
    "type(A)"
   ]
  },
  {
   "cell_type": "code",
   "execution_count": 15,
   "id": "8e2f44ac-e40a-40f8-91be-786557d334b2",
   "metadata": {},
   "outputs": [],
   "source": [
    "matrixA = np.array(A) # Explicit Type Casting"
   ]
  },
  {
   "cell_type": "code",
   "execution_count": 16,
   "id": "7c8d1d37-42d1-4354-88a5-e5a85335d487",
   "metadata": {},
   "outputs": [
    {
     "data": {
      "text/plain": [
       "numpy.ndarray"
      ]
     },
     "execution_count": 16,
     "metadata": {},
     "output_type": "execute_result"
    }
   ],
   "source": [
    "type(matrixA)"
   ]
  },
  {
   "cell_type": "code",
   "execution_count": 17,
   "id": "26979b98-88e7-4c2f-b228-43bf76a76bf4",
   "metadata": {},
   "outputs": [
    {
     "data": {
      "text/plain": [
       "array([[1, 2],\n",
       "       [2, 3]])"
      ]
     },
     "execution_count": 17,
     "metadata": {},
     "output_type": "execute_result"
    }
   ],
   "source": [
    "matrixA"
   ]
  },
  {
   "cell_type": "code",
   "execution_count": 18,
   "id": "8cf589e6-04fc-4f94-aa92-e8af94dd9b6c",
   "metadata": {},
   "outputs": [],
   "source": [
    "B = [[1,2],[2,3]]"
   ]
  },
  {
   "cell_type": "code",
   "execution_count": 19,
   "id": "faa48727-af1e-4bfa-93d5-106580c3fe14",
   "metadata": {},
   "outputs": [],
   "source": [
    "matrixB = np.array(B)"
   ]
  },
  {
   "cell_type": "code",
   "execution_count": 20,
   "id": "0000ba87-e79c-41e9-b683-5f419a6c9799",
   "metadata": {},
   "outputs": [
    {
     "data": {
      "text/plain": [
       "array([[1, 2],\n",
       "       [2, 3]])"
      ]
     },
     "execution_count": 20,
     "metadata": {},
     "output_type": "execute_result"
    }
   ],
   "source": [
    "matrixB"
   ]
  },
  {
   "cell_type": "code",
   "execution_count": 22,
   "id": "15530fa5-bdc0-4c51-a4db-22722b8a5de8",
   "metadata": {},
   "outputs": [
    {
     "data": {
      "text/plain": [
       "[[5, 8], [8, 13]]"
      ]
     },
     "execution_count": 22,
     "metadata": {},
     "output_type": "execute_result"
    }
   ],
   "source": [
    "[[5,8],[8,13]]"
   ]
  },
  {
   "cell_type": "code",
   "execution_count": 25,
   "id": "d8f4bdfc-9588-441f-bb1b-8994aa662c2a",
   "metadata": {},
   "outputs": [],
   "source": [
    "(m,n) = matrixA.shape"
   ]
  },
  {
   "cell_type": "code",
   "execution_count": 26,
   "id": "4e9acbb7-4b9a-4641-8402-2df9432144ca",
   "metadata": {},
   "outputs": [],
   "source": [
    "(p,q) = matrixB.shape"
   ]
  },
  {
   "cell_type": "code",
   "execution_count": 27,
   "id": "c5014db7-738a-45ad-8ce1-b7c2bbf3d4cf",
   "metadata": {},
   "outputs": [
    {
     "name": "stdout",
     "output_type": "stream",
     "text": [
      "Matrix Multiplication is possible\n"
     ]
    }
   ],
   "source": [
    "if n==p:\n",
    "    print(\"Matrix Multiplication is possible\")\n",
    "else:\n",
    "    print(\"Matrix Multiplication is not possible\")"
   ]
  },
  {
   "cell_type": "code",
   "execution_count": 28,
   "id": "28c72a63-47a6-4fe8-89c7-7f774d661350",
   "metadata": {},
   "outputs": [],
   "source": [
    "matrixOutput_shape = (m,q)"
   ]
  },
  {
   "cell_type": "code",
   "execution_count": 29,
   "id": "b5fd41b7-8ccf-49a9-929d-df8c4903d2fd",
   "metadata": {},
   "outputs": [
    {
     "data": {
      "text/plain": [
       "(2, 2)"
      ]
     },
     "execution_count": 29,
     "metadata": {},
     "output_type": "execute_result"
    }
   ],
   "source": [
    "matrixOutput_shape"
   ]
  },
  {
   "cell_type": "code",
   "execution_count": 43,
   "id": "1296c2cc-cc2c-4b04-af69-4050bbcacf0a",
   "metadata": {},
   "outputs": [],
   "source": [
    "matrixC = np.zeros((matrixOutput_shape))"
   ]
  },
  {
   "cell_type": "code",
   "execution_count": 44,
   "id": "11cd7e87-1192-4874-9ec5-1e4575bd393b",
   "metadata": {},
   "outputs": [
    {
     "data": {
      "text/plain": [
       "array([[0., 0.],\n",
       "       [0., 0.]])"
      ]
     },
     "execution_count": 44,
     "metadata": {},
     "output_type": "execute_result"
    }
   ],
   "source": [
    "matrixC"
   ]
  },
  {
   "cell_type": "code",
   "execution_count": 58,
   "id": "8e8f447f-6b86-4fc4-8e05-a597f546895b",
   "metadata": {},
   "outputs": [
    {
     "data": {
      "text/plain": [
       "array([[ 5,  8],\n",
       "       [ 8, 13]])"
      ]
     },
     "execution_count": 58,
     "metadata": {},
     "output_type": "execute_result"
    }
   ],
   "source": [
    "np.dot(matrixA,matrixB)"
   ]
  },
  {
   "cell_type": "code",
   "execution_count": 59,
   "id": "4d453bdd-3515-413e-bf18-8d10cacf3c1b",
   "metadata": {},
   "outputs": [
    {
     "name": "stdout",
     "output_type": "stream",
     "text": [
      "step:(0,0\n",
      "\n",
      "mult1:\n",
      "0 0\n",
      "0 0\n",
      "mult2:\n",
      "0 1\n",
      "1 0\n",
      "\n",
      "\n",
      "\n",
      "step:(0,1\n",
      "\n",
      "mult1:\n",
      "0 0\n",
      "0 1\n",
      "mult2:\n",
      "0 1\n",
      "1 1\n",
      "\n",
      "\n",
      "\n",
      "step:(1,0\n",
      "\n",
      "mult1:\n",
      "1 0\n",
      "0 0\n",
      "mult2:\n",
      "1 1\n",
      "1 0\n",
      "\n",
      "\n",
      "\n",
      "step:(1,1\n",
      "\n",
      "mult1:\n",
      "1 0\n",
      "0 1\n",
      "mult2:\n",
      "1 1\n",
      "1 1\n",
      "\n",
      "\n",
      "\n"
     ]
    }
   ],
   "source": [
    "for i in range(m):\n",
    "    for j in range(q):\n",
    "        print(f\"step:({i},{j}\\n\")\n",
    "        for k in range(n):\n",
    "            print(f\"mult{k+1}:\")\n",
    "            print(i,k)\n",
    "            print(k,j)\n",
    "            matrixC[i,j] += matrixA[i,k]*matrixB[k,j]\n",
    "        print(\"\\n\\n\")"
   ]
  },
  {
   "cell_type": "code",
   "execution_count": 48,
   "id": "3a9cce3a-040a-4b4a-a953-b860155e509c",
   "metadata": {},
   "outputs": [
    {
     "data": {
      "text/plain": [
       "array([[ 5.,  8.],\n",
       "       [ 8., 13.]])"
      ]
     },
     "execution_count": 48,
     "metadata": {},
     "output_type": "execute_result"
    }
   ],
   "source": [
    "matrixC"
   ]
  },
  {
   "cell_type": "code",
   "execution_count": 49,
   "id": "c780d59d-227a-4fd6-b676-2ba79e956c39",
   "metadata": {},
   "outputs": [],
   "source": [
    "#Time Complexity of Matrix Multiplication --> O(m*n*q) "
   ]
  },
  {
   "cell_type": "code",
   "execution_count": 50,
   "id": "2ed51af7-2bc4-4185-ac5a-6cea598d0c0c",
   "metadata": {},
   "outputs": [
    {
     "data": {
      "text/plain": [
       "((1024, 512), (512, 1024))"
      ]
     },
     "execution_count": 50,
     "metadata": {},
     "output_type": "execute_result"
    }
   ],
   "source": [
    "(1024,512), (512,1024)"
   ]
  },
  {
   "cell_type": "code",
   "execution_count": 51,
   "id": "42dc33c6-c836-4591-ba88-022146e93a96",
   "metadata": {},
   "outputs": [
    {
     "data": {
      "text/plain": [
       "536870912"
      ]
     },
     "execution_count": 51,
     "metadata": {},
     "output_type": "execute_result"
    }
   ],
   "source": [
    "1024*512*1024"
   ]
  },
  {
   "cell_type": "code",
   "execution_count": 52,
   "id": "0e9d16da-1a11-47b3-a8af-a1e318234623",
   "metadata": {},
   "outputs": [
    {
     "data": {
      "text/plain": [
       "8947848.533333333"
      ]
     },
     "execution_count": 52,
     "metadata": {},
     "output_type": "execute_result"
    }
   ],
   "source": [
    "536870912/60"
   ]
  },
  {
   "cell_type": "code",
   "execution_count": 53,
   "id": "f5423120-faa9-446d-ab0e-75756afe2edf",
   "metadata": {},
   "outputs": [
    {
     "data": {
      "text/plain": [
       "149130.8088888889"
      ]
     },
     "execution_count": 53,
     "metadata": {},
     "output_type": "execute_result"
    }
   ],
   "source": [
    "8947848.533333333/60"
   ]
  },
  {
   "cell_type": "code",
   "execution_count": 54,
   "id": "74db9392-d275-4abd-85d7-1e07c46c454f",
   "metadata": {},
   "outputs": [
    {
     "data": {
      "text/plain": [
       "6213.783703703703"
      ]
     },
     "execution_count": 54,
     "metadata": {},
     "output_type": "execute_result"
    }
   ],
   "source": [
    "149130.8088888889/24"
   ]
  },
  {
   "cell_type": "code",
   "execution_count": 55,
   "id": "748c2379-7b4a-4c79-8bc4-770c13c6a960",
   "metadata": {},
   "outputs": [
    {
     "data": {
      "text/plain": [
       "17.02191780821918"
      ]
     },
     "execution_count": 55,
     "metadata": {},
     "output_type": "execute_result"
    }
   ],
   "source": [
    "6213/365"
   ]
  },
  {
   "cell_type": "code",
   "execution_count": null,
   "id": "d05ec0d4-57e3-492f-8074-36314b341f65",
   "metadata": {},
   "outputs": [],
   "source": []
  }
 ],
 "metadata": {
  "kernelspec": {
   "display_name": "Python 3 (ipykernel)",
   "language": "python",
   "name": "python3"
  },
  "language_info": {
   "codemirror_mode": {
    "name": "ipython",
    "version": 3
   },
   "file_extension": ".py",
   "mimetype": "text/x-python",
   "name": "python",
   "nbconvert_exporter": "python",
   "pygments_lexer": "ipython3",
   "version": "3.10.12"
  }
 },
 "nbformat": 4,
 "nbformat_minor": 5
}

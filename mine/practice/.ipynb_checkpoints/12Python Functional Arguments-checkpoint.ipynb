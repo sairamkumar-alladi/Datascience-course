{
 "cells": [
  {
   "cell_type": "markdown",
   "id": "1e08bfcf-b2a5-4167-a343-3a2590c0bdf6",
   "metadata": {},
   "source": [
    "# Functional Arguments\n",
    "- Functional Parameters, Arguments\n",
    "- Functions stored in Stack Memory of the RAM\n",
    "- Functional Scope\n",
    "- - Local Scope --> Every Function will have a local scope\n",
    "  - Definied variables in function are scoped inside function only\n",
    "  - Global Scope\n",
    "  - All Global Variables are read-only to other functions\n",
    "  - Pass by value\n",
    "  - Pass by Reference\n",
    "  - List, set, Dictionary --> If you pass these collections then the passing is called called by reference\n",
    "  - All primitive data types are pass by value\n",
    "  - The scope of reference variables also local in functions"
   ]
  },
  {
   "cell_type": "code",
   "execution_count": 39,
   "id": "f5f519ca-6a89-4653-930e-b9d6a7e14f1e",
   "metadata": {},
   "outputs": [],
   "source": [
    "# e = 1111\n",
    "def A(a,b,c):\n",
    "    a += 1\n",
    "    b += 2\n",
    "    c += 3\n",
    "    # print(e)\n",
    "    # e = e + 1"
   ]
  },
  {
   "cell_type": "code",
   "execution_count": 35,
   "id": "c443e9be-5b80-49a4-acda-546dacae166a",
   "metadata": {},
   "outputs": [],
   "source": [
    "a = 1 \n",
    "b = 2 \n",
    "c = 3"
   ]
  },
  {
   "cell_type": "code",
   "execution_count": 40,
   "id": "f5730576-1ddd-446e-9d2a-ffa199f9ca16",
   "metadata": {},
   "outputs": [],
   "source": [
    "A(a,b,c)"
   ]
  },
  {
   "cell_type": "code",
   "execution_count": 46,
   "id": "b7fda199-4b8b-4147-b188-9278a6029dd1",
   "metadata": {},
   "outputs": [
    {
     "data": {
      "text/plain": [
       "(1, 2, 3)"
      ]
     },
     "execution_count": 46,
     "metadata": {},
     "output_type": "execute_result"
    }
   ],
   "source": [
    "a,b,c"
   ]
  },
  {
   "cell_type": "code",
   "execution_count": 24,
   "id": "d24c8452-d3d0-488c-9b9a-f15232ee1caf",
   "metadata": {},
   "outputs": [],
   "source": [
    "e = e +1"
   ]
  },
  {
   "cell_type": "code",
   "execution_count": 27,
   "id": "5c975cbe-8941-49b7-ab62-bdf0f2396ea0",
   "metadata": {},
   "outputs": [
    {
     "data": {
      "text/plain": [
       "1112"
      ]
     },
     "execution_count": 27,
     "metadata": {},
     "output_type": "execute_result"
    }
   ],
   "source": [
    "e"
   ]
  },
  {
   "cell_type": "code",
   "execution_count": 65,
   "id": "f6495c32-525d-4efd-aea3-b5bb8323047d",
   "metadata": {},
   "outputs": [],
   "source": [
    "def B(a):\n",
    "    a = a.copy()\n",
    "    a.append(6)\n",
    "    print(6)"
   ]
  },
  {
   "cell_type": "code",
   "execution_count": 66,
   "id": "61f63f83-fbee-4e41-b8e6-c19773307a23",
   "metadata": {},
   "outputs": [],
   "source": [
    "lis = [1,2,3]"
   ]
  },
  {
   "cell_type": "code",
   "execution_count": 67,
   "id": "ab338a2b-8a0c-44a4-8413-7ee7488b4d68",
   "metadata": {},
   "outputs": [
    {
     "name": "stdout",
     "output_type": "stream",
     "text": [
      "6\n"
     ]
    }
   ],
   "source": [
    "B(lis)"
   ]
  },
  {
   "cell_type": "code",
   "execution_count": 68,
   "id": "c1d10340-61f2-43fb-a91b-154015bf7c1b",
   "metadata": {},
   "outputs": [
    {
     "data": {
      "text/plain": [
       "[1, 2, 3]"
      ]
     },
     "execution_count": 68,
     "metadata": {},
     "output_type": "execute_result"
    }
   ],
   "source": [
    "lis"
   ]
  },
  {
   "cell_type": "code",
   "execution_count": 61,
   "id": "5909bbcb-ee13-4fbe-ba43-a6f19e00c7bc",
   "metadata": {},
   "outputs": [
    {
     "name": "stdout",
     "output_type": "stream",
     "text": [
      "1\n"
     ]
    }
   ],
   "source": [
    "print(a)"
   ]
  },
  {
   "cell_type": "code",
   "execution_count": 70,
   "id": "a6989e0a-2794-4a06-8ec1-4e867afb4175",
   "metadata": {},
   "outputs": [],
   "source": [
    "students = {} ## This variable is updating\n",
    "def add_student(students,student_name,roll_number):\n",
    "    students[roll_number] = student_name"
   ]
  },
  {
   "cell_type": "code",
   "execution_count": 71,
   "id": "0751ce9f-f134-4f1d-9838-50e409a9cb70",
   "metadata": {},
   "outputs": [],
   "source": [
    "add_student(students,\"Tharun\",\"123\")"
   ]
  },
  {
   "cell_type": "code",
   "execution_count": 83,
   "id": "a6188b15-fb3e-443e-8295-36fd373c2519",
   "metadata": {},
   "outputs": [
    {
     "data": {
      "text/plain": [
       "{'123': 'Tharun'}"
      ]
     },
     "execution_count": 83,
     "metadata": {},
     "output_type": "execute_result"
    }
   ],
   "source": [
    "students"
   ]
  },
  {
   "cell_type": "code",
   "execution_count": 80,
   "id": "7be471e0-fed1-42b1-9679-0181cd0c3561",
   "metadata": {},
   "outputs": [],
   "source": [
    "name = \"\" ## This variable is not updating\n",
    "def get_name(name):\n",
    "    name = \"Ram\""
   ]
  },
  {
   "cell_type": "code",
   "execution_count": 81,
   "id": "5022c670-40d9-426b-9632-a6638c92780c",
   "metadata": {},
   "outputs": [],
   "source": [
    "get_name(name)"
   ]
  },
  {
   "cell_type": "code",
   "execution_count": 84,
   "id": "6db8577a-d2a7-481b-878d-c83c6ef76a8d",
   "metadata": {},
   "outputs": [
    {
     "data": {
      "text/plain": [
       "''"
      ]
     },
     "execution_count": 84,
     "metadata": {},
     "output_type": "execute_result"
    }
   ],
   "source": [
    "name"
   ]
  },
  {
   "cell_type": "markdown",
   "id": "76b36697-880d-44b1-b851-1ebbe99a10b2",
   "metadata": {},
   "source": [
    "# Types of Functional Arguments\n",
    "- Positional Arguments\n",
    "- Keyword Arguments\n",
    "- Positional Only Arguments\n",
    "- Keyword Only Arguments\n",
    "- Default Arguments\n",
    "- All Positional Arguments are required\n",
    "- Keyword Arguments\n",
    "- All keyword arguments should be at last\n",
    "- Positional Arguments then Keyword arguments\n",
    "- Default Arguments are Optional\n",
    "- *, /\n",
    "- Always / follows *\n",
    "- If we have * in functional arguments --> Parameters after the * should be keyword-only arguments\n",
    "- The Parameteres before the / should be positional only arguments\n",
    "- After / and before * are positional arguments"
   ]
  },
  {
   "cell_type": "code",
   "execution_count": 4,
   "id": "b9246b9d-847b-4a12-a58a-3c8f30a5dc93",
   "metadata": {},
   "outputs": [],
   "source": [
    "def A(a,b,c,d):\n",
    "    print(f\"a:{a} b:{b} c:{c} d: {d}\")"
   ]
  },
  {
   "cell_type": "code",
   "execution_count": 6,
   "id": "88dcfd8c-9a5e-456d-b788-601ae3fd55db",
   "metadata": {},
   "outputs": [
    {
     "name": "stdout",
     "output_type": "stream",
     "text": [
      "a:4 b:2 c:1 d: 3\n"
     ]
    }
   ],
   "source": [
    "a = 1\n",
    "b = 2\n",
    "c = 3\n",
    "d = 4\n",
    "A(d,b,a,c)"
   ]
  },
  {
   "cell_type": "code",
   "execution_count": 7,
   "id": "13d57ed2-8f7c-41ca-947b-f1ebd2980ca4",
   "metadata": {},
   "outputs": [
    {
     "ename": "TypeError",
     "evalue": "A() missing 1 required positional argument: 'd'",
     "output_type": "error",
     "traceback": [
      "\u001b[0;31m---------------------------------------------------------------------------\u001b[0m",
      "\u001b[0;31mTypeError\u001b[0m                                 Traceback (most recent call last)",
      "Cell \u001b[0;32mIn[7], line 1\u001b[0m\n\u001b[0;32m----> 1\u001b[0m \u001b[43mA\u001b[49m\u001b[43m(\u001b[49m\u001b[38;5;241;43m1\u001b[39;49m\u001b[43m,\u001b[49m\u001b[38;5;241;43m2\u001b[39;49m\u001b[43m,\u001b[49m\u001b[38;5;241;43m3\u001b[39;49m\u001b[43m)\u001b[49m\n",
      "\u001b[0;31mTypeError\u001b[0m: A() missing 1 required positional argument: 'd'"
     ]
    }
   ],
   "source": [
    "A(1,2,3)"
   ]
  },
  {
   "cell_type": "code",
   "execution_count": 8,
   "id": "8aa19715-25f3-44db-a97e-7772dacde054",
   "metadata": {},
   "outputs": [
    {
     "ename": "TypeError",
     "evalue": "A() missing 1 required positional argument: 'd'",
     "output_type": "error",
     "traceback": [
      "\u001b[0;31m---------------------------------------------------------------------------\u001b[0m",
      "\u001b[0;31mTypeError\u001b[0m                                 Traceback (most recent call last)",
      "Cell \u001b[0;32mIn[8], line 1\u001b[0m\n\u001b[0;32m----> 1\u001b[0m \u001b[43mA\u001b[49m\u001b[43m(\u001b[49m\u001b[43mb\u001b[49m\u001b[43m,\u001b[49m\u001b[43mc\u001b[49m\u001b[43m,\u001b[49m\u001b[43md\u001b[49m\u001b[43m)\u001b[49m\n",
      "\u001b[0;31mTypeError\u001b[0m: A() missing 1 required positional argument: 'd'"
     ]
    }
   ],
   "source": [
    "A(b,c,d)"
   ]
  },
  {
   "cell_type": "code",
   "execution_count": 9,
   "id": "7a6900e3-bfdb-43ce-92e7-d51438743775",
   "metadata": {},
   "outputs": [
    {
     "name": "stdout",
     "output_type": "stream",
     "text": [
      "Help on function A in module __main__:\n",
      "\n",
      "A(a, b, c, d)\n",
      "\n"
     ]
    }
   ],
   "source": [
    "help(A)"
   ]
  },
  {
   "cell_type": "code",
   "execution_count": 11,
   "id": "e7c9a8de-2c32-4f4a-a892-3968af99c31f",
   "metadata": {},
   "outputs": [
    {
     "name": "stdout",
     "output_type": "stream",
     "text": [
      "a:3 b:1 c:4 d: 2\n"
     ]
    }
   ],
   "source": [
    "A(b=1,d=2,a=3,c=4)"
   ]
  },
  {
   "cell_type": "code",
   "execution_count": 16,
   "id": "5a7b0819-9c77-4b82-9556-2fbbc1c39f3f",
   "metadata": {},
   "outputs": [
    {
     "name": "stdout",
     "output_type": "stream",
     "text": [
      "a:10 b:1 c:6 d: 2\n"
     ]
    }
   ],
   "source": [
    "A(10,b=1,d=2,c=6)"
   ]
  },
  {
   "cell_type": "code",
   "execution_count": 17,
   "id": "37d31961-448b-41bb-a9ae-6c45d42887b8",
   "metadata": {},
   "outputs": [],
   "source": [
    "def B(a,b,c=10):\n",
    "    print(f\"a:{a},b:{b},c:{c}\")"
   ]
  },
  {
   "cell_type": "code",
   "execution_count": 18,
   "id": "7c0e0e75-1188-4072-846b-e7f2e697417e",
   "metadata": {},
   "outputs": [
    {
     "name": "stdout",
     "output_type": "stream",
     "text": [
      "a:1,b:2,c:3\n"
     ]
    }
   ],
   "source": [
    "B(1,2,3)"
   ]
  },
  {
   "cell_type": "code",
   "execution_count": 19,
   "id": "12e156ba-eb82-4252-a4e0-921548001796",
   "metadata": {},
   "outputs": [
    {
     "name": "stdout",
     "output_type": "stream",
     "text": [
      "a:1,b:2,c:10\n"
     ]
    }
   ],
   "source": [
    "B(1,2)"
   ]
  },
  {
   "cell_type": "code",
   "execution_count": 20,
   "id": "be215c02-2084-4262-8e52-a2e2c2486a00",
   "metadata": {},
   "outputs": [
    {
     "name": "stdout",
     "output_type": "stream",
     "text": [
      "a:2,b:1,c:10\n"
     ]
    }
   ],
   "source": [
    "B(b=1,a=2)"
   ]
  },
  {
   "cell_type": "code",
   "execution_count": 21,
   "id": "f196d0c1-7d8f-4bf7-b6d6-b4d40fe5015b",
   "metadata": {},
   "outputs": [
    {
     "name": "stdout",
     "output_type": "stream",
     "text": [
      "a:5,b:1,c:11\n"
     ]
    }
   ],
   "source": [
    "B(b=1,a=5,c=11)"
   ]
  },
  {
   "cell_type": "code",
   "execution_count": 25,
   "id": "40ee4234-55f5-478d-ac7b-ca4db1cc70c7",
   "metadata": {},
   "outputs": [],
   "source": [
    "def C(a,b,/,c,d,*,e):\n",
    "    print(f\"a:{a},b:{b},c:{c},d:{d},e:{e}\")"
   ]
  },
  {
   "cell_type": "code",
   "execution_count": 29,
   "id": "2e26210c-871d-43cf-aa69-3437be6de473",
   "metadata": {},
   "outputs": [
    {
     "name": "stdout",
     "output_type": "stream",
     "text": [
      "a:1,b:2,c:3,d:4,e:5\n"
     ]
    }
   ],
   "source": [
    "C(1,2,3,4,e=5)"
   ]
  },
  {
   "cell_type": "code",
   "execution_count": 30,
   "id": "9ab41a85-4962-41f1-8fe1-a47e2812c5ce",
   "metadata": {},
   "outputs": [
    {
     "ename": "TypeError",
     "evalue": "C() got some positional-only arguments passed as keyword arguments: 'a, b'",
     "output_type": "error",
     "traceback": [
      "\u001b[0;31m---------------------------------------------------------------------------\u001b[0m",
      "\u001b[0;31mTypeError\u001b[0m                                 Traceback (most recent call last)",
      "Cell \u001b[0;32mIn[30], line 1\u001b[0m\n\u001b[0;32m----> 1\u001b[0m \u001b[43mC\u001b[49m\u001b[43m(\u001b[49m\u001b[43ma\u001b[49m\u001b[38;5;241;43m=\u001b[39;49m\u001b[38;5;241;43m1\u001b[39;49m\u001b[43m,\u001b[49m\u001b[43mb\u001b[49m\u001b[38;5;241;43m=\u001b[39;49m\u001b[38;5;241;43m2\u001b[39;49m\u001b[43m,\u001b[49m\u001b[43mc\u001b[49m\u001b[38;5;241;43m=\u001b[39;49m\u001b[38;5;241;43m3\u001b[39;49m\u001b[43m,\u001b[49m\u001b[43md\u001b[49m\u001b[38;5;241;43m=\u001b[39;49m\u001b[38;5;241;43m4\u001b[39;49m\u001b[43m,\u001b[49m\u001b[43me\u001b[49m\u001b[38;5;241;43m=\u001b[39;49m\u001b[38;5;241;43m5\u001b[39;49m\u001b[43m)\u001b[49m\n",
      "\u001b[0;31mTypeError\u001b[0m: C() got some positional-only arguments passed as keyword arguments: 'a, b'"
     ]
    }
   ],
   "source": [
    "C(a=1,b=2,c=3,d=4,e=5)"
   ]
  },
  {
   "cell_type": "code",
   "execution_count": 36,
   "id": "c0b163b1-4f1d-467a-a30e-cfc26fe40034",
   "metadata": {},
   "outputs": [
    {
     "name": "stdout",
     "output_type": "stream",
     "text": [
      "a:1,b:2,c:3,d:4,e:5\n"
     ]
    }
   ],
   "source": [
    "C(1,2,c=3,d=4,e=5)"
   ]
  },
  {
   "cell_type": "code",
   "execution_count": null,
   "id": "1691b31b-2188-4460-98eb-71c181fd2e2e",
   "metadata": {},
   "outputs": [],
   "source": []
  }
 ],
 "metadata": {
  "kernelspec": {
   "display_name": "Python 3 (ipykernel)",
   "language": "python",
   "name": "python3"
  },
  "language_info": {
   "codemirror_mode": {
    "name": "ipython",
    "version": 3
   },
   "file_extension": ".py",
   "mimetype": "text/x-python",
   "name": "python",
   "nbconvert_exporter": "python",
   "pygments_lexer": "ipython3",
   "version": "3.11.3"
  }
 },
 "nbformat": 4,
 "nbformat_minor": 5
}

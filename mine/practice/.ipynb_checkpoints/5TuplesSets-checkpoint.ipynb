{
 "cells": [
  {
   "cell_type": "markdown",
   "id": "28ee435b-34be-4954-8814-e0e41f7e54b5",
   "metadata": {},
   "source": [
    "# Set\n",
    "- Set is an unordered collection\n",
    "- It doesn't have any index\n",
    "- It can store any data type\n",
    "- {} used in set but not declerartion"
   ]
  },
  {
   "cell_type": "code",
   "execution_count": 1,
   "id": "30a954de-9230-4593-83f0-86b6b16252ac",
   "metadata": {},
   "outputs": [],
   "source": [
    "a = set() ## Decleration --> Empty Definition"
   ]
  },
  {
   "cell_type": "code",
   "execution_count": 2,
   "id": "19a9f42d-3a33-4154-b555-63a221056a51",
   "metadata": {},
   "outputs": [
    {
     "data": {
      "text/plain": [
       "set()"
      ]
     },
     "execution_count": 2,
     "metadata": {},
     "output_type": "execute_result"
    }
   ],
   "source": [
    "a"
   ]
  },
  {
   "cell_type": "code",
   "execution_count": 3,
   "id": "7ce28340-a5aa-4544-949b-0856317bf540",
   "metadata": {},
   "outputs": [],
   "source": [
    "a = {1,2,3} # Definition"
   ]
  },
  {
   "cell_type": "code",
   "execution_count": 4,
   "id": "2d654d92-2b1f-459c-88fe-b48d6d0bf3dc",
   "metadata": {},
   "outputs": [
    {
     "data": {
      "text/plain": [
       "{1, 2, 3}"
      ]
     },
     "execution_count": 4,
     "metadata": {},
     "output_type": "execute_result"
    }
   ],
   "source": [
    "a"
   ]
  },
  {
   "cell_type": "code",
   "execution_count": 5,
   "id": "38d5c5f0-8a1f-487f-b7c1-faa532f389c2",
   "metadata": {},
   "outputs": [
    {
     "data": {
      "text/plain": [
       "set"
      ]
     },
     "execution_count": 5,
     "metadata": {},
     "output_type": "execute_result"
    }
   ],
   "source": [
    "type(a)"
   ]
  },
  {
   "cell_type": "code",
   "execution_count": 6,
   "id": "81c45db5-cbc1-483a-b5bf-d2dcbe9140d7",
   "metadata": {},
   "outputs": [],
   "source": [
    "b = int()"
   ]
  },
  {
   "cell_type": "code",
   "execution_count": 8,
   "id": "66ef34aa-576d-4361-b136-607b6fe90328",
   "metadata": {},
   "outputs": [],
   "source": [
    "c = {}"
   ]
  },
  {
   "cell_type": "code",
   "execution_count": 9,
   "id": "5a1e59b3-2b8f-4c2e-a170-c99d1d3740c1",
   "metadata": {},
   "outputs": [
    {
     "data": {
      "text/plain": [
       "dict"
      ]
     },
     "execution_count": 9,
     "metadata": {},
     "output_type": "execute_result"
    }
   ],
   "source": [
    "type(c)"
   ]
  },
  {
   "cell_type": "code",
   "execution_count": 10,
   "id": "20c44fae-aa34-4455-a42b-ad1c6a5ec83c",
   "metadata": {},
   "outputs": [
    {
     "data": {
      "text/plain": [
       "{1, 2, 3}"
      ]
     },
     "execution_count": 10,
     "metadata": {},
     "output_type": "execute_result"
    }
   ],
   "source": [
    "a"
   ]
  },
  {
   "cell_type": "code",
   "execution_count": 11,
   "id": "29ec3b1d-f323-4c21-9b21-5ddb30b325e5",
   "metadata": {},
   "outputs": [],
   "source": [
    "b = {4,5}"
   ]
  },
  {
   "cell_type": "code",
   "execution_count": 12,
   "id": "af5d3bba-be0f-4183-9e99-f69c1391e53d",
   "metadata": {},
   "outputs": [
    {
     "ename": "TypeError",
     "evalue": "unsupported operand type(s) for +: 'set' and 'set'",
     "output_type": "error",
     "traceback": [
      "\u001b[0;31m---------------------------------------------------------------------------\u001b[0m",
      "\u001b[0;31mTypeError\u001b[0m                                 Traceback (most recent call last)",
      "Cell \u001b[0;32mIn[12], line 1\u001b[0m\n\u001b[0;32m----> 1\u001b[0m \u001b[43ma\u001b[49m\u001b[43m \u001b[49m\u001b[38;5;241;43m+\u001b[39;49m\u001b[43m \u001b[49m\u001b[43mb\u001b[49m\n",
      "\u001b[0;31mTypeError\u001b[0m: unsupported operand type(s) for +: 'set' and 'set'"
     ]
    }
   ],
   "source": [
    "a + b"
   ]
  },
  {
   "cell_type": "code",
   "execution_count": 13,
   "id": "85d35da9-59e8-49d9-86a7-1d55ddd6433d",
   "metadata": {},
   "outputs": [],
   "source": [
    "c = {1,1,1,1,2,2,2,2,2,3,3,3,3}"
   ]
  },
  {
   "cell_type": "code",
   "execution_count": 14,
   "id": "74b644d9-d858-4805-aea0-0e5dd68e9d27",
   "metadata": {},
   "outputs": [
    {
     "data": {
      "text/plain": [
       "{1, 2, 3}"
      ]
     },
     "execution_count": 14,
     "metadata": {},
     "output_type": "execute_result"
    }
   ],
   "source": []
  },
  {
   "cell_type": "code",
   "execution_count": 15,
   "id": "adcf7839-1f8d-421a-95c2-c56e84a5c208",
   "metadata": {},
   "outputs": [
    {
     "data": {
      "text/plain": [
       "{1, 2, 3}"
      ]
     },
     "execution_count": 15,
     "metadata": {},
     "output_type": "execute_result"
    }
   ],
   "source": [
    "c.union(a)"
   ]
  },
  {
   "cell_type": "code",
   "execution_count": 16,
   "id": "e7efa7de-e2fc-4585-a7cb-06171a4591ee",
   "metadata": {},
   "outputs": [
    {
     "data": {
      "text/plain": [
       "set()"
      ]
     },
     "execution_count": 16,
     "metadata": {},
     "output_type": "execute_result"
    }
   ],
   "source": [
    "c.intersection(b)"
   ]
  },
  {
   "cell_type": "code",
   "execution_count": 18,
   "id": "e9fa4c51-e45c-444e-a9cd-68ce4da92ce1",
   "metadata": {},
   "outputs": [
    {
     "data": {
      "text/plain": [
       "['__and__',\n",
       " '__class__',\n",
       " '__class_getitem__',\n",
       " '__contains__',\n",
       " '__delattr__',\n",
       " '__dir__',\n",
       " '__doc__',\n",
       " '__eq__',\n",
       " '__format__',\n",
       " '__ge__',\n",
       " '__getattribute__',\n",
       " '__getstate__',\n",
       " '__gt__',\n",
       " '__hash__',\n",
       " '__iand__',\n",
       " '__init__',\n",
       " '__init_subclass__',\n",
       " '__ior__',\n",
       " '__isub__',\n",
       " '__iter__',\n",
       " '__ixor__',\n",
       " '__le__',\n",
       " '__len__',\n",
       " '__lt__',\n",
       " '__ne__',\n",
       " '__new__',\n",
       " '__or__',\n",
       " '__rand__',\n",
       " '__reduce__',\n",
       " '__reduce_ex__',\n",
       " '__repr__',\n",
       " '__ror__',\n",
       " '__rsub__',\n",
       " '__rxor__',\n",
       " '__setattr__',\n",
       " '__sizeof__',\n",
       " '__str__',\n",
       " '__sub__',\n",
       " '__subclasshook__',\n",
       " '__xor__',\n",
       " 'add',\n",
       " 'clear',\n",
       " 'copy',\n",
       " 'difference',\n",
       " 'difference_update',\n",
       " 'discard',\n",
       " 'intersection',\n",
       " 'intersection_update',\n",
       " 'isdisjoint',\n",
       " 'issubset',\n",
       " 'issuperset',\n",
       " 'pop',\n",
       " 'remove',\n",
       " 'symmetric_difference',\n",
       " 'symmetric_difference_update',\n",
       " 'union',\n",
       " 'update']"
      ]
     },
     "execution_count": 18,
     "metadata": {},
     "output_type": "execute_result"
    }
   ],
   "source": [
    "dir(set)"
   ]
  },
  {
   "cell_type": "code",
   "execution_count": 51,
   "id": "fee82745-f801-43ca-b2b3-0a7ae8895558",
   "metadata": {},
   "outputs": [
    {
     "name": "stdout",
     "output_type": "stream",
     "text": [
      "Help on method_descriptor:\n",
      "\n",
      "issubset(...)\n",
      "    Report whether another set contains this set.\n",
      "\n"
     ]
    }
   ],
   "source": [
    "help(set.issubset)"
   ]
  },
  {
   "cell_type": "code",
   "execution_count": 20,
   "id": "8958a472-88b7-4300-b8fe-2fa27835f17d",
   "metadata": {},
   "outputs": [
    {
     "data": {
      "text/plain": [
       "{1, 2, 3, 4, 5}"
      ]
     },
     "execution_count": 20,
     "metadata": {},
     "output_type": "execute_result"
    }
   ],
   "source": [
    "c.symmetric_difference(b) #A union B"
   ]
  },
  {
   "cell_type": "code",
   "execution_count": 21,
   "id": "85838fed-fc9e-44b4-a5e4-e2073883f5ae",
   "metadata": {},
   "outputs": [],
   "source": [
    "c = {1,2,3}"
   ]
  },
  {
   "cell_type": "code",
   "execution_count": 22,
   "id": "79bc0e73-4ff9-419c-b464-151988544631",
   "metadata": {},
   "outputs": [],
   "source": [
    "d = {3,4,5}"
   ]
  },
  {
   "cell_type": "code",
   "execution_count": 23,
   "id": "ffd51715-0c22-4d2d-af0c-83a22eb1d016",
   "metadata": {},
   "outputs": [
    {
     "data": {
      "text/plain": [
       "{1, 2, 4, 5}"
      ]
     },
     "execution_count": 23,
     "metadata": {},
     "output_type": "execute_result"
    }
   ],
   "source": [
    "c.symmetric_difference(d)"
   ]
  },
  {
   "cell_type": "code",
   "execution_count": 28,
   "id": "d82965d6-bd1b-4661-9de5-f0c448d6661e",
   "metadata": {},
   "outputs": [],
   "source": [
    "a = [1,2,3,4,1,2,3] ## implicit Type casting"
   ]
  },
  {
   "cell_type": "code",
   "execution_count": 29,
   "id": "490560ca-b060-488a-af47-711abc2978c1",
   "metadata": {},
   "outputs": [
    {
     "data": {
      "text/plain": [
       "[1, 2, 3, 4, 1, 2, 3]"
      ]
     },
     "execution_count": 29,
     "metadata": {},
     "output_type": "execute_result"
    }
   ],
   "source": [
    "a"
   ]
  },
  {
   "cell_type": "code",
   "execution_count": 30,
   "id": "adbabcca-40a0-4f2e-af5f-a1df19c47f8f",
   "metadata": {},
   "outputs": [
    {
     "data": {
      "text/plain": [
       "list"
      ]
     },
     "execution_count": 30,
     "metadata": {},
     "output_type": "execute_result"
    }
   ],
   "source": [
    "type(a)"
   ]
  },
  {
   "cell_type": "code",
   "execution_count": 32,
   "id": "c8f21b31-8b8b-4c4c-af0b-4d92d45ac6dd",
   "metadata": {},
   "outputs": [],
   "source": [
    "a = set(a) # Converting list to set --> Explicit Type Casting"
   ]
  },
  {
   "cell_type": "code",
   "execution_count": 33,
   "id": "f04a8573-d1ca-494c-a6e7-d37deb9b467c",
   "metadata": {},
   "outputs": [
    {
     "data": {
      "text/plain": [
       "set"
      ]
     },
     "execution_count": 33,
     "metadata": {},
     "output_type": "execute_result"
    }
   ],
   "source": [
    "type(a)"
   ]
  },
  {
   "cell_type": "code",
   "execution_count": 34,
   "id": "e80649f2-c177-4bcc-8209-542d416d1fff",
   "metadata": {},
   "outputs": [],
   "source": [
    "a = {1,2,3,4,5}"
   ]
  },
  {
   "cell_type": "code",
   "execution_count": 35,
   "id": "846a0862-fcb1-49bf-95e4-5e9cde9f5e3e",
   "metadata": {},
   "outputs": [],
   "source": [
    "b = {3,4,5,6}"
   ]
  },
  {
   "cell_type": "code",
   "execution_count": 36,
   "id": "07b8e0ad-cb45-4651-ae03-e12e18fcb408",
   "metadata": {},
   "outputs": [
    {
     "data": {
      "text/plain": [
       "{3, 4, 5}"
      ]
     },
     "execution_count": 36,
     "metadata": {},
     "output_type": "execute_result"
    }
   ],
   "source": [
    "a.intersection(b)"
   ]
  },
  {
   "cell_type": "code",
   "execution_count": null,
   "id": "80e7eae3-3b4b-469a-ab06-80b9f394ea2c",
   "metadata": {},
   "outputs": [],
   "source": [
    "# a-b  logic ==== a.difference(b)\n",
    "# a = a-b logic ==== a = a.difference(b)\n",
    "# a = a.difference(b) !!!!== a.difference_update(b)"
   ]
  },
  {
   "cell_type": "code",
   "execution_count": 45,
   "id": "931e25ac-ebd6-45b7-aa3e-f9cd7e3232d2",
   "metadata": {},
   "outputs": [],
   "source": [
    "a = {1,2,3}\n",
    "b = {3,4,5}"
   ]
  },
  {
   "cell_type": "code",
   "execution_count": 46,
   "id": "12876477-a60b-4c34-9653-aa258b383f32",
   "metadata": {},
   "outputs": [
    {
     "data": {
      "text/plain": [
       "{1, 2}"
      ]
     },
     "execution_count": 46,
     "metadata": {},
     "output_type": "execute_result"
    }
   ],
   "source": [
    "a-b"
   ]
  },
  {
   "cell_type": "code",
   "execution_count": 37,
   "id": "2bf85ffd-b38c-45e7-a243-e1661f927aed",
   "metadata": {},
   "outputs": [
    {
     "data": {
      "text/plain": [
       "{1, 2}"
      ]
     },
     "execution_count": 37,
     "metadata": {},
     "output_type": "execute_result"
    }
   ],
   "source": [
    "a = a - b "
   ]
  },
  {
   "cell_type": "code",
   "execution_count": 42,
   "id": "bd44bb1e-9950-4dec-911a-7f39d6f412f6",
   "metadata": {},
   "outputs": [],
   "source": [
    "a = a.difference(b) # INefficient"
   ]
  },
  {
   "cell_type": "code",
   "execution_count": 43,
   "id": "85a8041a-e6dd-4071-9dea-e3a89a2ca4aa",
   "metadata": {},
   "outputs": [
    {
     "data": {
      "text/plain": [
       "{1, 2}"
      ]
     },
     "execution_count": 43,
     "metadata": {},
     "output_type": "execute_result"
    }
   ],
   "source": [
    "a"
   ]
  },
  {
   "cell_type": "code",
   "execution_count": 40,
   "id": "3ccdcad7-fb8f-47c1-a4cb-2a2a74b91e63",
   "metadata": {},
   "outputs": [],
   "source": [
    "a.difference_update(b)  # Efficient"
   ]
  },
  {
   "cell_type": "code",
   "execution_count": 41,
   "id": "ad1da803-fbcd-4813-885d-58b9c13abc1f",
   "metadata": {},
   "outputs": [
    {
     "data": {
      "text/plain": [
       "{1, 2}"
      ]
     },
     "execution_count": 41,
     "metadata": {},
     "output_type": "execute_result"
    }
   ],
   "source": [
    "a"
   ]
  },
  {
   "cell_type": "code",
   "execution_count": 47,
   "id": "a1609631-0acc-4f07-b2c0-a78a8b54dbbe",
   "metadata": {},
   "outputs": [],
   "source": [
    "a -= b"
   ]
  },
  {
   "cell_type": "code",
   "execution_count": 48,
   "id": "93caff9a-56ac-45a8-8539-72d990839571",
   "metadata": {},
   "outputs": [
    {
     "data": {
      "text/plain": [
       "{1, 2}"
      ]
     },
     "execution_count": 48,
     "metadata": {},
     "output_type": "execute_result"
    }
   ],
   "source": [
    "a"
   ]
  },
  {
   "cell_type": "code",
   "execution_count": 50,
   "id": "a0227204-6bc2-492b-9993-322a04c8de58",
   "metadata": {},
   "outputs": [
    {
     "data": {
      "text/plain": [
       "False"
      ]
     },
     "execution_count": 50,
     "metadata": {},
     "output_type": "execute_result"
    }
   ],
   "source": [
    "a.issubset(b)"
   ]
  },
  {
   "cell_type": "markdown",
   "id": "e5960647-dc75-4934-a1af-cbcc4666fb5d",
   "metadata": {},
   "source": [
    "# Tuple\n",
    "- Its an ordered collection\n",
    "- Tuple is Immutable Object\n",
    "- Tuple also will have indices\n",
    "- indices starts from 0"
   ]
  },
  {
   "cell_type": "code",
   "execution_count": 52,
   "id": "6d2aa4b8-9c65-4906-8fdd-095636b4a871",
   "metadata": {},
   "outputs": [],
   "source": [
    "a = tuple()"
   ]
  },
  {
   "cell_type": "code",
   "execution_count": 53,
   "id": "70ca5770-3dd6-4b1f-b959-80f5e9158f9a",
   "metadata": {},
   "outputs": [],
   "source": [
    "a = ()"
   ]
  },
  {
   "cell_type": "code",
   "execution_count": 54,
   "id": "39f82f01-9f19-4eb9-93a1-14a1868ba1bb",
   "metadata": {},
   "outputs": [],
   "source": [
    "a = (1,2,3)"
   ]
  },
  {
   "cell_type": "code",
   "execution_count": 55,
   "id": "fa47f428-4930-49ca-a7f5-2f5af05acb00",
   "metadata": {},
   "outputs": [
    {
     "data": {
      "text/plain": [
       "(1, 2, 3)"
      ]
     },
     "execution_count": 55,
     "metadata": {},
     "output_type": "execute_result"
    }
   ],
   "source": [
    "a"
   ]
  },
  {
   "cell_type": "code",
   "execution_count": 57,
   "id": "defaed79-d78e-4b32-a764-b615d3d7fab9",
   "metadata": {},
   "outputs": [
    {
     "data": {
      "text/plain": [
       "tuple"
      ]
     },
     "execution_count": 57,
     "metadata": {},
     "output_type": "execute_result"
    }
   ],
   "source": [
    "type(a)"
   ]
  },
  {
   "cell_type": "code",
   "execution_count": 58,
   "id": "d9f68624-f79a-4592-8b1f-4ef04f0ebe25",
   "metadata": {},
   "outputs": [
    {
     "data": {
      "text/plain": [
       "1"
      ]
     },
     "execution_count": 58,
     "metadata": {},
     "output_type": "execute_result"
    }
   ],
   "source": [
    "a[0]"
   ]
  },
  {
   "cell_type": "code",
   "execution_count": 59,
   "id": "a6538a8f-9d41-454b-9978-1925a3708f7b",
   "metadata": {},
   "outputs": [
    {
     "data": {
      "text/plain": [
       "3"
      ]
     },
     "execution_count": 59,
     "metadata": {},
     "output_type": "execute_result"
    }
   ],
   "source": [
    "a[2]"
   ]
  },
  {
   "cell_type": "code",
   "execution_count": 60,
   "id": "6ba44bc5-8116-4154-b3c6-1b3c7953b1b8",
   "metadata": {},
   "outputs": [
    {
     "ename": "TypeError",
     "evalue": "'tuple' object does not support item assignment",
     "output_type": "error",
     "traceback": [
      "\u001b[0;31m---------------------------------------------------------------------------\u001b[0m",
      "\u001b[0;31mTypeError\u001b[0m                                 Traceback (most recent call last)",
      "Cell \u001b[0;32mIn[60], line 1\u001b[0m\n\u001b[0;32m----> 1\u001b[0m \u001b[43ma\u001b[49m\u001b[43m[\u001b[49m\u001b[38;5;241;43m0\u001b[39;49m\u001b[43m]\u001b[49m \u001b[38;5;241m=\u001b[39m \u001b[38;5;241m5\u001b[39m\n",
      "\u001b[0;31mTypeError\u001b[0m: 'tuple' object does not support item assignment"
     ]
    }
   ],
   "source": [
    "a[0] = 5"
   ]
  },
  {
   "cell_type": "code",
   "execution_count": 61,
   "id": "482b1418-9f5f-410f-a619-40054042ac77",
   "metadata": {},
   "outputs": [
    {
     "data": {
      "text/plain": [
       "['__add__',\n",
       " '__class__',\n",
       " '__class_getitem__',\n",
       " '__contains__',\n",
       " '__delattr__',\n",
       " '__dir__',\n",
       " '__doc__',\n",
       " '__eq__',\n",
       " '__format__',\n",
       " '__ge__',\n",
       " '__getattribute__',\n",
       " '__getitem__',\n",
       " '__getnewargs__',\n",
       " '__getstate__',\n",
       " '__gt__',\n",
       " '__hash__',\n",
       " '__init__',\n",
       " '__init_subclass__',\n",
       " '__iter__',\n",
       " '__le__',\n",
       " '__len__',\n",
       " '__lt__',\n",
       " '__mul__',\n",
       " '__ne__',\n",
       " '__new__',\n",
       " '__reduce__',\n",
       " '__reduce_ex__',\n",
       " '__repr__',\n",
       " '__rmul__',\n",
       " '__setattr__',\n",
       " '__sizeof__',\n",
       " '__str__',\n",
       " '__subclasshook__',\n",
       " 'count',\n",
       " 'index']"
      ]
     },
     "execution_count": 61,
     "metadata": {},
     "output_type": "execute_result"
    }
   ],
   "source": [
    "dir(tuple)"
   ]
  },
  {
   "cell_type": "code",
   "execution_count": 62,
   "id": "0b1b64f2-0771-40b6-9d10-5a0a117e0178",
   "metadata": {},
   "outputs": [
    {
     "data": {
      "text/plain": [
       "(1, 2, 3)"
      ]
     },
     "execution_count": 62,
     "metadata": {},
     "output_type": "execute_result"
    }
   ],
   "source": [
    "a"
   ]
  },
  {
   "cell_type": "code",
   "execution_count": 63,
   "id": "00d922df-246b-4a6c-817a-496be2043c03",
   "metadata": {},
   "outputs": [
    {
     "data": {
      "text/plain": [
       "1"
      ]
     },
     "execution_count": 63,
     "metadata": {},
     "output_type": "execute_result"
    }
   ],
   "source": [
    "a.index(2)"
   ]
  },
  {
   "cell_type": "code",
   "execution_count": 64,
   "id": "ebb61b88-9b68-4c25-a4e0-9b710aaf7850",
   "metadata": {},
   "outputs": [
    {
     "data": {
      "text/plain": [
       "1"
      ]
     },
     "execution_count": 64,
     "metadata": {},
     "output_type": "execute_result"
    }
   ],
   "source": [
    "a.count(1)"
   ]
  },
  {
   "cell_type": "code",
   "execution_count": 65,
   "id": "216f2895-c18c-45d7-8afa-a05ea63e67ac",
   "metadata": {},
   "outputs": [],
   "source": [
    "a = (1,2,3,4,4,4,5,5)"
   ]
  },
  {
   "cell_type": "code",
   "execution_count": 66,
   "id": "41299707-757f-4a26-9f18-354a33553639",
   "metadata": {},
   "outputs": [
    {
     "data": {
      "text/plain": [
       "3"
      ]
     },
     "execution_count": 66,
     "metadata": {},
     "output_type": "execute_result"
    }
   ],
   "source": [
    "a.count(4)"
   ]
  },
  {
   "cell_type": "code",
   "execution_count": 68,
   "id": "d180ebe0-bfe3-4c0a-947b-e0dac55049b4",
   "metadata": {},
   "outputs": [
    {
     "data": {
      "text/plain": [
       "2"
      ]
     },
     "execution_count": 68,
     "metadata": {},
     "output_type": "execute_result"
    }
   ],
   "source": [
    "a.count(5)"
   ]
  },
  {
   "cell_type": "code",
   "execution_count": 69,
   "id": "09776cb4-b0e9-42f0-be63-64dbaf26280e",
   "metadata": {},
   "outputs": [
    {
     "data": {
      "text/plain": [
       "1"
      ]
     },
     "execution_count": 69,
     "metadata": {},
     "output_type": "execute_result"
    }
   ],
   "source": [
    "a.count(1)"
   ]
  },
  {
   "cell_type": "code",
   "execution_count": null,
   "id": "4aa1c9bc-d1ce-4ad3-b9b8-80f1b1f9a4b8",
   "metadata": {},
   "outputs": [],
   "source": []
  }
 ],
 "metadata": {
  "kernelspec": {
   "display_name": "Python 3 (ipykernel)",
   "language": "python",
   "name": "python3"
  },
  "language_info": {
   "codemirror_mode": {
    "name": "ipython",
    "version": 3
   },
   "file_extension": ".py",
   "mimetype": "text/x-python",
   "name": "python",
   "nbconvert_exporter": "python",
   "pygments_lexer": "ipython3",
   "version": "3.11.3"
  }
 },
 "nbformat": 4,
 "nbformat_minor": 5
}

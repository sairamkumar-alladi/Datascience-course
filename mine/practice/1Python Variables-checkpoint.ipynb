{
 "cells": [
  {
   "cell_type": "code",
   "execution_count": 1,
   "id": "7f640d51-8f7f-405f-8e5b-e417cd4ed058",
   "metadata": {},
   "outputs": [
    {
     "data": {
      "text/plain": [
       "12"
      ]
     },
     "execution_count": 1,
     "metadata": {},
     "output_type": "execute_result"
    }
   ],
   "source": [
    "5+7"
   ]
  },
  {
   "cell_type": "code",
   "execution_count": 2,
   "id": "e87e8e62-322c-44b1-8aa2-e678c2a962db",
   "metadata": {},
   "outputs": [],
   "source": [
    "#Data Structuring"
   ]
  },
  {
   "cell_type": "code",
   "execution_count": 3,
   "id": "b0e9d847-c525-4b84-910c-6e2976159628",
   "metadata": {},
   "outputs": [],
   "source": [
    "## Integers ==> -inf to +inf ===> -3,-2,-1,0,1,2,3\n",
    "## Real Numbers ==> -inf to +inf ===> -3,-2.8,-1.9,-1,0,..."
   ]
  },
  {
   "cell_type": "code",
   "execution_count": 4,
   "id": "65f6b33a-78e4-421c-944c-7ecfbbeae940",
   "metadata": {},
   "outputs": [],
   "source": [
    "#Integer ==> 32bit --> 4Bytes -- 1Byte = 8bits -- 4294967296 Unsigned (+)/ 2147483648 (+/-)\n",
    "#Big Int, Long, long long\n",
    "#Real number ==> 64bit ---> float pointing -- bytes dedicated to +/-, ., left, right"
   ]
  },
  {
   "cell_type": "code",
   "execution_count": 5,
   "id": "77864dda-08cc-4a87-aba7-230c9831b827",
   "metadata": {},
   "outputs": [],
   "source": [
    "## Store 10000 * 64bit\n",
    "## Store 10000 * 32bit"
   ]
  },
  {
   "cell_type": "code",
   "execution_count": 6,
   "id": "b2e93279-835e-48f6-8b4b-9c3ad690eec1",
   "metadata": {},
   "outputs": [],
   "source": [
    "## strings ==> sequence of characters --> hyderabad"
   ]
  },
  {
   "cell_type": "code",
   "execution_count": 7,
   "id": "48e5ae0e-0d67-42f8-af6b-460a3a8ba624",
   "metadata": {},
   "outputs": [],
   "source": [
    "## To indicate male as 0\n",
    "## To indeciate female as 1"
   ]
  },
  {
   "cell_type": "code",
   "execution_count": 8,
   "id": "79bbbb83-8e59-41ee-8ff1-ef0a1828f97c",
   "metadata": {},
   "outputs": [],
   "source": [
    "## 1bit memory --> 0 or 1 Binary language \n",
    "## Boolean data type\n",
    "## True, False"
   ]
  },
  {
   "cell_type": "code",
   "execution_count": 10,
   "id": "cbea09af-227c-4067-a915-e80d17d7ead0",
   "metadata": {},
   "outputs": [],
   "source": [
    "## 1 Character will take 1 Byte of memory --> 256 characters"
   ]
  },
  {
   "cell_type": "markdown",
   "id": "6c34a49f-ffb7-44cf-ad5f-09903c52131e",
   "metadata": {},
   "source": [
    "# Basic Data Types (Primitive data types) \n",
    "- Boolean Data Type --> 1b (True or False)\n",
    "- Character Data Type --> 1B (ASCII Characters)\n",
    "- Integers -------------> 32b / 4B (max and min)\n",
    "- Floating Point --------> 64b / 8B (max and min)\n",
    "- Every primitive Data type is an immutable object\n",
    "# Intermediate Data Types\n",
    "- Strings\n",
    "- List\n",
    "- Tuple\n",
    "- Set\n",
    "- Dictionary\n",
    "\n",
    "# Advanced Generic Data Types:\n",
    "- LinkedLists\n",
    "- Arrays\n",
    "- Stacks\n",
    "- Queues\n",
    "- Trees\n",
    "- Graphs\n",
    "\n",
    "# Complex Data Types:\n",
    "- Class Objects\n",
    "- Numpy Object\n",
    "- Pandas Data Frame\n",
    "- Pandas Series\n",
    "- Plot object\n",
    "- Tensor Object"
   ]
  },
  {
   "cell_type": "markdown",
   "id": "eee75e84-b170-423e-9bab-98577a5494c6",
   "metadata": {},
   "source": [
    "# Variable\n",
    "- Variable is an alias name to an allocated storage element\n",
    "- Python treats every data type as an object (class)\n",
    "- The value being assigned to a variable is called literal\n",
    "- Integer literal, Float Literal, String literal"
   ]
  },
  {
   "cell_type": "code",
   "execution_count": 29,
   "id": "19483aaf-6eae-4e89-9342-3a0447eb55ab",
   "metadata": {},
   "outputs": [
    {
     "data": {
      "text/plain": [
       "5"
      ]
     },
     "execution_count": 29,
     "metadata": {},
     "output_type": "execute_result"
    }
   ],
   "source": [
    "5"
   ]
  },
  {
   "cell_type": "code",
   "execution_count": 1,
   "id": "14a31006-d1b4-4939-b231-1b25a01f4a26",
   "metadata": {},
   "outputs": [],
   "source": [
    "a = int()"
   ]
  },
  {
   "cell_type": "code",
   "execution_count": 2,
   "id": "f7276d6e-cbeb-48cd-a9b5-2b30e96fdec4",
   "metadata": {},
   "outputs": [],
   "source": [
    "b = float()"
   ]
  },
  {
   "cell_type": "code",
   "execution_count": 3,
   "id": "12cbce20-0570-431a-b71b-8e004d2bd30d",
   "metadata": {},
   "outputs": [],
   "source": [
    "c = str()"
   ]
  },
  {
   "cell_type": "code",
   "execution_count": 18,
   "id": "72b9ad06-296e-4ed4-af95-4d8c67d6a8b9",
   "metadata": {},
   "outputs": [],
   "source": [
    "a = 5"
   ]
  },
  {
   "cell_type": "code",
   "execution_count": 20,
   "id": "11445752-54b3-4c05-a88f-e679ec2c9423",
   "metadata": {},
   "outputs": [
    {
     "data": {
      "text/plain": [
       "5"
      ]
     },
     "execution_count": 20,
     "metadata": {},
     "output_type": "execute_result"
    }
   ],
   "source": [
    "a"
   ]
  },
  {
   "cell_type": "code",
   "execution_count": 21,
   "id": "f24cfbd4-b6f2-4f60-ad03-f7b74a71d2e5",
   "metadata": {},
   "outputs": [
    {
     "data": {
      "text/plain": [
       "int"
      ]
     },
     "execution_count": 21,
     "metadata": {},
     "output_type": "execute_result"
    }
   ],
   "source": [
    "type(a)"
   ]
  },
  {
   "cell_type": "code",
   "execution_count": 22,
   "id": "c9e10f4d-3c0a-4b86-9f2a-2ff33ba527bc",
   "metadata": {},
   "outputs": [],
   "source": [
    "b = 5.5"
   ]
  },
  {
   "cell_type": "code",
   "execution_count": 23,
   "id": "db85fd21-808b-41cd-8bed-989f5bad8467",
   "metadata": {},
   "outputs": [
    {
     "data": {
      "text/plain": [
       "float"
      ]
     },
     "execution_count": 23,
     "metadata": {},
     "output_type": "execute_result"
    }
   ],
   "source": [
    "type(b)"
   ]
  },
  {
   "cell_type": "code",
   "execution_count": 24,
   "id": "a941acdb-4224-4435-bb31-9d9df86cbdc2",
   "metadata": {},
   "outputs": [],
   "source": [
    "c = 't'"
   ]
  },
  {
   "cell_type": "code",
   "execution_count": 25,
   "id": "9f83f2ff-7b92-4cc0-9daf-4f85d8850e71",
   "metadata": {},
   "outputs": [
    {
     "data": {
      "text/plain": [
       "str"
      ]
     },
     "execution_count": 25,
     "metadata": {},
     "output_type": "execute_result"
    }
   ],
   "source": [
    "type(c)"
   ]
  },
  {
   "cell_type": "code",
   "execution_count": 26,
   "id": "423b7484-e6cc-4300-94fb-21616ca9a8e9",
   "metadata": {},
   "outputs": [],
   "source": [
    "d = True"
   ]
  },
  {
   "cell_type": "code",
   "execution_count": 27,
   "id": "aadaeb34-876b-4484-a9fa-860e212560f1",
   "metadata": {},
   "outputs": [
    {
     "data": {
      "text/plain": [
       "bool"
      ]
     },
     "execution_count": 27,
     "metadata": {},
     "output_type": "execute_result"
    }
   ],
   "source": [
    "type(d)"
   ]
  },
  {
   "cell_type": "code",
   "execution_count": 28,
   "id": "139d775b-78cf-4294-9cd6-b44751a8c9ed",
   "metadata": {},
   "outputs": [
    {
     "data": {
      "text/plain": [
       "10.5"
      ]
     },
     "execution_count": 28,
     "metadata": {},
     "output_type": "execute_result"
    }
   ],
   "source": [
    "a + b"
   ]
  },
  {
   "cell_type": "code",
   "execution_count": 31,
   "id": "fb26e2a1-2e76-4c28-a337-2688833d1741",
   "metadata": {},
   "outputs": [],
   "source": [
    "a = 5\n",
    "b = 6\n",
    "c = a+b"
   ]
  },
  {
   "cell_type": "code",
   "execution_count": 32,
   "id": "29e96bc0-0298-4ce5-a80e-f61fc74b478b",
   "metadata": {},
   "outputs": [
    {
     "data": {
      "text/plain": [
       "11"
      ]
     },
     "execution_count": 32,
     "metadata": {},
     "output_type": "execute_result"
    }
   ],
   "source": [
    "c"
   ]
  },
  {
   "cell_type": "code",
   "execution_count": 2,
   "id": "12cfca10-bf8a-4c25-8e4c-2820d5763fbd",
   "metadata": {},
   "outputs": [],
   "source": [
    "a = 1\n",
    "a = a + 1"
   ]
  },
  {
   "cell_type": "code",
   "execution_count": 3,
   "id": "9ff18d97-eef1-45d7-9f27-34ee7297fa51",
   "metadata": {},
   "outputs": [],
   "source": [
    "b = 1"
   ]
  },
  {
   "cell_type": "code",
   "execution_count": 4,
   "id": "382a456a-9ccb-4d6a-bbc4-eff32465f54c",
   "metadata": {},
   "outputs": [],
   "source": [
    "a = 1\n",
    "a += b"
   ]
  },
  {
   "cell_type": "code",
   "execution_count": 5,
   "id": "e1070a7a-1d46-4ae3-9463-90c6bdaf1dc6",
   "metadata": {},
   "outputs": [
    {
     "data": {
      "text/plain": [
       "2"
      ]
     },
     "execution_count": 5,
     "metadata": {},
     "output_type": "execute_result"
    }
   ],
   "source": [
    "a"
   ]
  },
  {
   "cell_type": "code",
   "execution_count": 6,
   "id": "e36fbfa9-4818-4f45-ab31-24c77c2e6155",
   "metadata": {},
   "outputs": [],
   "source": [
    "a -= 1"
   ]
  },
  {
   "cell_type": "code",
   "execution_count": 7,
   "id": "bed962e1-4ad3-4f35-82df-c004ae9686cd",
   "metadata": {},
   "outputs": [],
   "source": [
    "a *= a"
   ]
  },
  {
   "cell_type": "code",
   "execution_count": 8,
   "id": "1ecbfd46-efab-467f-aacf-977086ec4d2a",
   "metadata": {},
   "outputs": [],
   "source": [
    "a = a + 1"
   ]
  },
  {
   "cell_type": "code",
   "execution_count": 9,
   "id": "26673c72-b7cc-42b5-ac7d-78366fa6f178",
   "metadata": {},
   "outputs": [
    {
     "data": {
      "text/plain": [
       "2"
      ]
     },
     "execution_count": 9,
     "metadata": {},
     "output_type": "execute_result"
    }
   ],
   "source": [
    "a * b"
   ]
  },
  {
   "cell_type": "code",
   "execution_count": 10,
   "id": "0db95f8e-811f-4eb4-9df4-3ea5e3a34450",
   "metadata": {},
   "outputs": [
    {
     "data": {
      "text/plain": [
       "2.0"
      ]
     },
     "execution_count": 10,
     "metadata": {},
     "output_type": "execute_result"
    }
   ],
   "source": [
    "a / b"
   ]
  },
  {
   "cell_type": "code",
   "execution_count": 16,
   "id": "32f38aab-2b0f-4283-abeb-bff2764b58e4",
   "metadata": {},
   "outputs": [
    {
     "data": {
      "text/plain": [
       "4"
      ]
     },
     "execution_count": 16,
     "metadata": {},
     "output_type": "execute_result"
    }
   ],
   "source": [
    "a << 1"
   ]
  },
  {
   "cell_type": "code",
   "execution_count": 18,
   "id": "b9d26030-2918-438e-9c4b-75f1f12b5460",
   "metadata": {},
   "outputs": [
    {
     "data": {
      "text/plain": [
       "2"
      ]
     },
     "execution_count": 18,
     "metadata": {},
     "output_type": "execute_result"
    }
   ],
   "source": [
    "a >> 1"
   ]
  },
  {
   "cell_type": "code",
   "execution_count": 24,
   "id": "e2108bb5-487c-4739-bfef-4459a8f9ea26",
   "metadata": {},
   "outputs": [
    {
     "data": {
      "text/plain": [
       "64"
      ]
     },
     "execution_count": 24,
     "metadata": {},
     "output_type": "execute_result"
    }
   ],
   "source": [
    "a = a << 1 # 1 bit shift to the left"
   ]
  },
  {
   "cell_type": "code",
   "execution_count": 20,
   "id": "b25f92b2-4fa7-497e-91ba-942a485d7bab",
   "metadata": {},
   "outputs": [],
   "source": [
    "a = a << 1"
   ]
  },
  {
   "cell_type": "code",
   "execution_count": 21,
   "id": "86ffe546-b8f2-4957-aa59-521a49cd4250",
   "metadata": {},
   "outputs": [],
   "source": [
    "a = a << 1"
   ]
  },
  {
   "cell_type": "code",
   "execution_count": 22,
   "id": "0b3efa72-b720-4ff1-835a-92b69c998c37",
   "metadata": {},
   "outputs": [
    {
     "data": {
      "text/plain": [
       "32"
      ]
     },
     "execution_count": 22,
     "metadata": {},
     "output_type": "execute_result"
    }
   ],
   "source": [
    "a << 1"
   ]
  },
  {
   "cell_type": "code",
   "execution_count": 57,
   "id": "c5df6168-ddea-4b3c-81a2-ecf382ce95c4",
   "metadata": {},
   "outputs": [],
   "source": [
    "a = a >> 1"
   ]
  },
  {
   "cell_type": "code",
   "execution_count": 58,
   "id": "f7a1fa79-a67b-43d7-a6c0-237c830c57f4",
   "metadata": {},
   "outputs": [],
   "source": [
    "a = a >> 1"
   ]
  },
  {
   "cell_type": "code",
   "execution_count": 60,
   "id": "2376e90c-a431-46d8-8d81-929dd79f09d0",
   "metadata": {},
   "outputs": [],
   "source": [
    "a = a >> 1"
   ]
  },
  {
   "cell_type": "code",
   "execution_count": 61,
   "id": "3932585d-f54c-4673-84a7-4c19004e68bf",
   "metadata": {},
   "outputs": [
    {
     "data": {
      "text/plain": [
       "2"
      ]
     },
     "execution_count": 61,
     "metadata": {},
     "output_type": "execute_result"
    }
   ],
   "source": [
    "a"
   ]
  },
  {
   "cell_type": "code",
   "execution_count": 62,
   "id": "7875751e-a288-455c-9dc3-9b69afca2893",
   "metadata": {},
   "outputs": [],
   "source": [
    "a = a >> 1"
   ]
  },
  {
   "cell_type": "code",
   "execution_count": 63,
   "id": "8458a6c4-bcdb-4d1f-89c8-dc8b4c588f71",
   "metadata": {},
   "outputs": [
    {
     "data": {
      "text/plain": [
       "1"
      ]
     },
     "execution_count": 63,
     "metadata": {},
     "output_type": "execute_result"
    }
   ],
   "source": [
    "a"
   ]
  },
  {
   "cell_type": "code",
   "execution_count": 64,
   "id": "e3af16bd-6f7b-471a-b9f7-538554b688e1",
   "metadata": {},
   "outputs": [],
   "source": [
    "a = a >> 1"
   ]
  },
  {
   "cell_type": "code",
   "execution_count": 65,
   "id": "e1d8579c-7d01-4b52-a701-f0e0d93d2386",
   "metadata": {},
   "outputs": [
    {
     "data": {
      "text/plain": [
       "0"
      ]
     },
     "execution_count": 65,
     "metadata": {},
     "output_type": "execute_result"
    }
   ],
   "source": [
    "a"
   ]
  },
  {
   "cell_type": "code",
   "execution_count": 66,
   "id": "e0c007ea-b42b-480c-84c2-00afe299b037",
   "metadata": {},
   "outputs": [],
   "source": [
    "a = 2"
   ]
  },
  {
   "cell_type": "code",
   "execution_count": 67,
   "id": "610beda9-4272-4053-81f1-30f112e000b1",
   "metadata": {},
   "outputs": [
    {
     "data": {
      "text/plain": [
       "8"
      ]
     },
     "execution_count": 67,
     "metadata": {},
     "output_type": "execute_result"
    }
   ],
   "source": [
    "a ** 3"
   ]
  },
  {
   "cell_type": "code",
   "execution_count": 69,
   "id": "4dde8ff3-a003-4bdb-a1ba-cebbab4ab59c",
   "metadata": {},
   "outputs": [
    {
     "data": {
      "text/plain": [
       "8"
      ]
     },
     "execution_count": 69,
     "metadata": {},
     "output_type": "execute_result"
    }
   ],
   "source": [
    "a << 2"
   ]
  },
  {
   "cell_type": "code",
   "execution_count": 7,
   "id": "d5632864-9ea7-4b4d-96d6-bfce27dfe302",
   "metadata": {},
   "outputs": [],
   "source": []
  },
  {
   "cell_type": "code",
   "execution_count": 9,
   "id": "c5e91bab-742c-48cf-9eb5-8d775cd548ce",
   "metadata": {},
   "outputs": [
    {
     "data": {
      "text/plain": [
       "32"
      ]
     },
     "execution_count": 9,
     "metadata": {},
     "output_type": "execute_result"
    }
   ],
   "source": [
    "a = 16\n",
    "a = a * 2 ## 3 registers\n",
    "a # Inefficient way"
   ]
  },
  {
   "cell_type": "code",
   "execution_count": 12,
   "id": "c0e96651-568d-40d6-a325-00545c1cf019",
   "metadata": {},
   "outputs": [
    {
     "data": {
      "text/plain": [
       "32"
      ]
     },
     "execution_count": 12,
     "metadata": {},
     "output_type": "execute_result"
    }
   ],
   "source": [
    "a = 16\n",
    "a *= 2 ## 2 registers\n",
    "a # Efficient compare to above"
   ]
  },
  {
   "cell_type": "code",
   "execution_count": 13,
   "id": "14393f46-4c42-4498-bd28-2f5b9727ce60",
   "metadata": {},
   "outputs": [
    {
     "data": {
      "text/plain": [
       "32"
      ]
     },
     "execution_count": 13,
     "metadata": {},
     "output_type": "execute_result"
    }
   ],
   "source": [
    "a = 16 ## 1 resgiter\n",
    "a << 1 # Highly efficient compare to both of them"
   ]
  },
  {
   "cell_type": "code",
   "execution_count": 14,
   "id": "18bd9138-0c97-4251-91c2-abc03e182bdb",
   "metadata": {},
   "outputs": [
    {
     "data": {
      "text/plain": [
       "64"
      ]
     },
     "execution_count": 14,
     "metadata": {},
     "output_type": "execute_result"
    }
   ],
   "source": [
    "a = 16\n",
    "a << 2"
   ]
  },
  {
   "cell_type": "code",
   "execution_count": 15,
   "id": "214cacb1-7071-4468-b020-e0e7e62ff7c3",
   "metadata": {},
   "outputs": [
    {
     "data": {
      "text/plain": [
       "128"
      ]
     },
     "execution_count": 15,
     "metadata": {},
     "output_type": "execute_result"
    }
   ],
   "source": [
    "a = 16\n",
    "a << 3\n",
    "\n",
    "## 2^3 * 16 "
   ]
  },
  {
   "cell_type": "code",
   "execution_count": 16,
   "id": "de7a754f-bfb7-4bde-8390-8fae70717eaa",
   "metadata": {},
   "outputs": [
    {
     "data": {
      "text/plain": [
       "8"
      ]
     },
     "execution_count": 16,
     "metadata": {},
     "output_type": "execute_result"
    }
   ],
   "source": [
    "a = 16\n",
    "a >> 1\n",
    "## 16 / 2^1"
   ]
  },
  {
   "cell_type": "code",
   "execution_count": 17,
   "id": "3e57bb6a-c33b-485e-84e9-fde039979956",
   "metadata": {},
   "outputs": [
    {
     "data": {
      "text/plain": [
       "4"
      ]
     },
     "execution_count": 17,
     "metadata": {},
     "output_type": "execute_result"
    }
   ],
   "source": [
    "a = 16\n",
    "a >> 2\n",
    "## 16 / 4"
   ]
  },
  {
   "cell_type": "code",
   "execution_count": 18,
   "id": "4d54bd7c-368c-4534-a511-e4975d428eb4",
   "metadata": {},
   "outputs": [
    {
     "data": {
      "text/plain": [
       "2"
      ]
     },
     "execution_count": 18,
     "metadata": {},
     "output_type": "execute_result"
    }
   ],
   "source": [
    "a = 16\n",
    "a >> 3\n",
    "## 16 / 8"
   ]
  },
  {
   "cell_type": "code",
   "execution_count": 6,
   "id": "abe144a7-4207-4d31-8101-444194f59a65",
   "metadata": {},
   "outputs": [
    {
     "data": {
      "text/plain": [
       "0"
      ]
     },
     "execution_count": 6,
     "metadata": {},
     "output_type": "execute_result"
    }
   ],
   "source": [
    "a =5 \n",
    "a >> 9"
   ]
  },
  {
   "cell_type": "code",
   "execution_count": 32,
   "id": "d40bd9b4-6d04-42bd-b5f3-a97e775d8a69",
   "metadata": {},
   "outputs": [],
   "source": [
    "a=3"
   ]
  },
  {
   "cell_type": "code",
   "execution_count": 33,
   "id": "835f9ad2-012f-4082-b86b-136e13d2f830",
   "metadata": {},
   "outputs": [
    {
     "data": {
      "text/plain": [
       "1"
      ]
     },
     "execution_count": 33,
     "metadata": {},
     "output_type": "execute_result"
    }
   ],
   "source": [
    "a>>1"
   ]
  },
  {
   "cell_type": "code",
   "execution_count": 30,
   "id": "7194d9d6-b46b-49f2-9496-4e45a290a3e0",
   "metadata": {},
   "outputs": [
    {
     "data": {
      "text/plain": [
       "24"
      ]
     },
     "execution_count": 30,
     "metadata": {},
     "output_type": "execute_result"
    }
   ],
   "source": []
  },
  {
   "cell_type": "code",
   "execution_count": null,
   "id": "1770bf04-8d0d-4b56-8264-139ca028fee0",
   "metadata": {},
   "outputs": [],
   "source": []
  }
 ],
 "metadata": {
  "kernelspec": {
   "display_name": "Python 3 (ipykernel)",
   "language": "python",
   "name": "python3"
  },
  "language_info": {
   "codemirror_mode": {
    "name": "ipython",
    "version": 3
   },
   "file_extension": ".py",
   "mimetype": "text/x-python",
   "name": "python",
   "nbconvert_exporter": "python",
   "pygments_lexer": "ipython3",
   "version": "3.10.12"
  }
 },
 "nbformat": 4,
 "nbformat_minor": 5
}

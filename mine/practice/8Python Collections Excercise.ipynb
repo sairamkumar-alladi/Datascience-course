{
 "cells": [
  {
   "cell_type": "code",
   "execution_count": 1,
   "id": "2c5f5667-c28d-45cc-9352-43409c39c2fb",
   "metadata": {},
   "outputs": [],
   "source": [
    "import numpy as np"
   ]
  },
  {
   "cell_type": "code",
   "execution_count": 17,
   "id": "ee885308-697a-415e-adc5-2382186eee80",
   "metadata": {},
   "outputs": [],
   "source": [
    "a = [1,2,3,4,np.random.rand(1,2),\"tharun\",8.9,(1,2),{1,2,3,4},{\"Logic\":1}]"
   ]
  },
  {
   "cell_type": "code",
   "execution_count": 5,
   "id": "3cee0fc5-1bcd-475b-8c0c-74e7528dc606",
   "metadata": {},
   "outputs": [
    {
     "data": {
      "text/plain": [
       "list"
      ]
     },
     "execution_count": 5,
     "metadata": {},
     "output_type": "execute_result"
    }
   ],
   "source": [
    "type(a)"
   ]
  },
  {
   "cell_type": "code",
   "execution_count": 7,
   "id": "6e7fe46c-cfb1-43f7-8e17-981e6c5eef69",
   "metadata": {},
   "outputs": [
    {
     "data": {
      "text/plain": [
       "[1,\n",
       " 2,\n",
       " 3,\n",
       " 4,\n",
       " array([[0.9134844 , 0.31511446]]),\n",
       " 'tharun',\n",
       " 8.9,\n",
       " (1, 2),\n",
       " {1, 2, 3, 4},\n",
       " {'Logic': 1}]"
      ]
     },
     "execution_count": 7,
     "metadata": {},
     "output_type": "execute_result"
    }
   ],
   "source": [
    "a"
   ]
  },
  {
   "cell_type": "code",
   "execution_count": 8,
   "id": "9618c7ee-f499-4e87-9838-437257a84fa8",
   "metadata": {},
   "outputs": [
    {
     "data": {
      "text/plain": [
       "4"
      ]
     },
     "execution_count": 8,
     "metadata": {},
     "output_type": "execute_result"
    }
   ],
   "source": [
    "a[3]"
   ]
  },
  {
   "cell_type": "code",
   "execution_count": 9,
   "id": "0da84b1c-e1b1-43a7-bf2c-54f3925d826a",
   "metadata": {},
   "outputs": [
    {
     "data": {
      "text/plain": [
       "'tharun'"
      ]
     },
     "execution_count": 9,
     "metadata": {},
     "output_type": "execute_result"
    }
   ],
   "source": [
    "a[5]"
   ]
  },
  {
   "cell_type": "code",
   "execution_count": 10,
   "id": "540000eb-2e33-4551-89ce-4fe4dadab5c7",
   "metadata": {},
   "outputs": [
    {
     "data": {
      "text/plain": [
       "array([[0.9134844 , 0.31511446]])"
      ]
     },
     "execution_count": 10,
     "metadata": {},
     "output_type": "execute_result"
    }
   ],
   "source": [
    "a[4]"
   ]
  },
  {
   "cell_type": "code",
   "execution_count": 13,
   "id": "9fe13923-7fa4-4805-9453-76315c3ce80a",
   "metadata": {},
   "outputs": [
    {
     "data": {
      "text/plain": [
       "[4,\n",
       " array([[0.9134844 , 0.31511446]]),\n",
       " 'tharun',\n",
       " 8.9,\n",
       " (1, 2),\n",
       " {1, 2, 3, 4},\n",
       " {'Logic': 1}]"
      ]
     },
     "execution_count": 13,
     "metadata": {},
     "output_type": "execute_result"
    }
   ],
   "source": [
    "a[3:]"
   ]
  },
  {
   "cell_type": "code",
   "execution_count": 14,
   "id": "c74a55db-79a9-4853-bbaa-2d918e056393",
   "metadata": {},
   "outputs": [
    {
     "ename": "ValueError",
     "evalue": "The truth value of an array with more than one element is ambiguous. Use a.any() or a.all()",
     "output_type": "error",
     "traceback": [
      "\u001b[0;31m---------------------------------------------------------------------------\u001b[0m",
      "\u001b[0;31mValueError\u001b[0m                                Traceback (most recent call last)",
      "Cell \u001b[0;32mIn[14], line 1\u001b[0m\n\u001b[0;32m----> 1\u001b[0m \u001b[43ma\u001b[49m\u001b[38;5;241;43m.\u001b[39;49m\u001b[43msort\u001b[49m\u001b[43m(\u001b[49m\u001b[43m)\u001b[49m\n",
      "\u001b[0;31mValueError\u001b[0m: The truth value of an array with more than one element is ambiguous. Use a.any() or a.all()"
     ]
    }
   ],
   "source": [
    "a.sort()"
   ]
  },
  {
   "cell_type": "code",
   "execution_count": 18,
   "id": "b80b8db2-a4af-49df-8416-458551dc4f96",
   "metadata": {},
   "outputs": [],
   "source": [
    "b = {}"
   ]
  },
  {
   "cell_type": "code",
   "execution_count": 21,
   "id": "67ff7aeb-437e-43bf-a8a5-bc46151fcca0",
   "metadata": {},
   "outputs": [],
   "source": [
    "b = {\"a\":[1,2,3,4],\"b\":\"tharun\",\"c\":768,\"d\":(6877,98798),\"e\":{1,2,3,3}}"
   ]
  },
  {
   "cell_type": "code",
   "execution_count": 22,
   "id": "7836e072-298b-40e6-aba9-bc4617135626",
   "metadata": {},
   "outputs": [],
   "source": [
    "c = {1:1,2:2,3:3,4:4}"
   ]
  },
  {
   "cell_type": "code",
   "execution_count": 23,
   "id": "285f9e55-1053-4ad5-9c28-f37fa6091595",
   "metadata": {},
   "outputs": [
    {
     "data": {
      "text/plain": [
       "dict_keys([1, 2, 3, 4])"
      ]
     },
     "execution_count": 23,
     "metadata": {},
     "output_type": "execute_result"
    }
   ],
   "source": [
    "c.keys()"
   ]
  },
  {
   "cell_type": "code",
   "execution_count": 24,
   "id": "dfc5625e-d4e2-4311-8528-86c5973b2df4",
   "metadata": {},
   "outputs": [
    {
     "data": {
      "text/plain": [
       "dict_values([1, 2, 3, 4])"
      ]
     },
     "execution_count": 24,
     "metadata": {},
     "output_type": "execute_result"
    }
   ],
   "source": [
    "c.values()"
   ]
  },
  {
   "cell_type": "code",
   "execution_count": 25,
   "id": "4e0b2026-b22d-405d-9350-4dc4f271a746",
   "metadata": {},
   "outputs": [
    {
     "data": {
      "text/plain": [
       "dict_items([(1, 1), (2, 2), (3, 3), (4, 4)])"
      ]
     },
     "execution_count": 25,
     "metadata": {},
     "output_type": "execute_result"
    }
   ],
   "source": [
    "c.items()"
   ]
  },
  {
   "cell_type": "code",
   "execution_count": 26,
   "id": "8146938e-8b93-41a6-848a-4fd306108f90",
   "metadata": {},
   "outputs": [
    {
     "ename": "TypeError",
     "evalue": "unhashable type: 'list'",
     "output_type": "error",
     "traceback": [
      "\u001b[0;31m---------------------------------------------------------------------------\u001b[0m",
      "\u001b[0;31mTypeError\u001b[0m                                 Traceback (most recent call last)",
      "Cell \u001b[0;32mIn[26], line 1\u001b[0m\n\u001b[0;32m----> 1\u001b[0m d \u001b[38;5;241m=\u001b[39m {[\u001b[38;5;241m1\u001b[39m,\u001b[38;5;241m2\u001b[39m]:\u001b[38;5;124m'\u001b[39m\u001b[38;5;124mtharun\u001b[39m\u001b[38;5;124m'\u001b[39m,[\u001b[38;5;241m2\u001b[39m,\u001b[38;5;241m3\u001b[39m]:\u001b[38;5;124m'\u001b[39m\u001b[38;5;124msai\u001b[39m\u001b[38;5;124m'\u001b[39m}\n",
      "\u001b[0;31mTypeError\u001b[0m: unhashable type: 'list'"
     ]
    }
   ],
   "source": [
    "d = {[1,2]:'tharun',[2,3]:'sai'}"
   ]
  },
  {
   "cell_type": "code",
   "execution_count": 27,
   "id": "177eeccd-5ba6-4592-aeb6-1bf4dea94ea7",
   "metadata": {},
   "outputs": [],
   "source": [
    "e = {(1,2):'tharun',(2,3):'sai'}"
   ]
  },
  {
   "cell_type": "code",
   "execution_count": 28,
   "id": "9ee0ed8a-edff-479f-b7c7-e885f9d14d3c",
   "metadata": {},
   "outputs": [],
   "source": [
    "f = {7.3:'dsjhfgdsu',0.8:'fjhvbdsh'}"
   ]
  },
  {
   "cell_type": "code",
   "execution_count": 33,
   "id": "2e1e70f5-db2b-49f5-b33d-40d858f64320",
   "metadata": {},
   "outputs": [],
   "source": [
    "## List of dictionaries\n",
    "a = [\n",
    "    {\n",
    "    },\n",
    "    {\n",
    "    },\n",
    "    {\n",
    "    }\n",
    "]"
   ]
  },
  {
   "cell_type": "code",
   "execution_count": 30,
   "id": "7be214af-c869-4196-a3f0-85b1bfcb140a",
   "metadata": {},
   "outputs": [
    {
     "data": {
      "text/plain": [
       "list"
      ]
     },
     "execution_count": 30,
     "metadata": {},
     "output_type": "execute_result"
    }
   ],
   "source": [
    "type(a)"
   ]
  },
  {
   "cell_type": "code",
   "execution_count": 31,
   "id": "a17beafb-b4f0-4d2c-a54c-7b6a9ba9a31d",
   "metadata": {},
   "outputs": [
    {
     "data": {
      "text/plain": [
       "3"
      ]
     },
     "execution_count": 31,
     "metadata": {},
     "output_type": "execute_result"
    }
   ],
   "source": [
    "len(a)"
   ]
  },
  {
   "cell_type": "code",
   "execution_count": 32,
   "id": "95cf943d-234e-4e96-910d-7cb482d9a8d7",
   "metadata": {},
   "outputs": [
    {
     "data": {
      "text/plain": [
       "[{}, {}, {}]"
      ]
     },
     "execution_count": 32,
     "metadata": {},
     "output_type": "execute_result"
    }
   ],
   "source": [
    "a"
   ]
  },
  {
   "cell_type": "code",
   "execution_count": 34,
   "id": "8b9e3d71-c43f-4dde-b132-cc0083d3a5ef",
   "metadata": {},
   "outputs": [],
   "source": [
    "b = [\n",
    "    {1,2,3},\n",
    "    {\n",
    "        \"tharun\":24\n",
    "    }\n",
    "]"
   ]
  },
  {
   "cell_type": "code",
   "execution_count": 35,
   "id": "3ff74958-c3f0-42e8-a35d-55c70b692012",
   "metadata": {},
   "outputs": [
    {
     "data": {
      "text/plain": [
       "list"
      ]
     },
     "execution_count": 35,
     "metadata": {},
     "output_type": "execute_result"
    }
   ],
   "source": [
    "type(b)"
   ]
  },
  {
   "cell_type": "code",
   "execution_count": 36,
   "id": "72a603ed-78e6-45cb-9bf2-28c538cc30ed",
   "metadata": {},
   "outputs": [
    {
     "data": {
      "text/plain": [
       "2"
      ]
     },
     "execution_count": 36,
     "metadata": {},
     "output_type": "execute_result"
    }
   ],
   "source": [
    "len(b)"
   ]
  },
  {
   "cell_type": "code",
   "execution_count": 37,
   "id": "703f781a-2f30-4296-8907-0e5a9a0feb19",
   "metadata": {},
   "outputs": [
    {
     "data": {
      "text/plain": [
       "{'tharun': 24}"
      ]
     },
     "execution_count": 37,
     "metadata": {},
     "output_type": "execute_result"
    }
   ],
   "source": [
    "b[1]"
   ]
  },
  {
   "cell_type": "code",
   "execution_count": 38,
   "id": "3a8d5b01-656f-43df-a371-94b1b93d7199",
   "metadata": {},
   "outputs": [
    {
     "data": {
      "text/plain": [
       "[{1, 2, 3}, {'tharun': 24}]"
      ]
     },
     "execution_count": 38,
     "metadata": {},
     "output_type": "execute_result"
    }
   ],
   "source": [
    "b"
   ]
  },
  {
   "cell_type": "code",
   "execution_count": 39,
   "id": "a0ccd461-bcd0-4faf-92ab-e5eccf96676f",
   "metadata": {},
   "outputs": [],
   "source": [
    "c = [{\"name\":\"tharun\"},[1,2,3],({\"1\":\"1\"},[1,2,3],(90,76),{98,56,00})]"
   ]
  },
  {
   "cell_type": "code",
   "execution_count": 40,
   "id": "3f55353e-16db-4f63-9f7b-c980c55336f1",
   "metadata": {},
   "outputs": [
    {
     "data": {
      "text/plain": [
       "list"
      ]
     },
     "execution_count": 40,
     "metadata": {},
     "output_type": "execute_result"
    }
   ],
   "source": [
    "type(c)"
   ]
  },
  {
   "cell_type": "code",
   "execution_count": 41,
   "id": "83df8c60-69d7-459f-ab18-33ca04f5408a",
   "metadata": {},
   "outputs": [
    {
     "data": {
      "text/plain": [
       "3"
      ]
     },
     "execution_count": 41,
     "metadata": {},
     "output_type": "execute_result"
    }
   ],
   "source": [
    "len(c)"
   ]
  },
  {
   "cell_type": "code",
   "execution_count": 43,
   "id": "a37f1bce-65c5-47c7-9b39-21814121fc21",
   "metadata": {},
   "outputs": [
    {
     "data": {
      "text/plain": [
       "[1, 2, 3]"
      ]
     },
     "execution_count": 43,
     "metadata": {},
     "output_type": "execute_result"
    }
   ],
   "source": [
    "c[2][1]"
   ]
  },
  {
   "cell_type": "code",
   "execution_count": 44,
   "id": "53d948ae-773d-4f47-b363-7c1fa166c225",
   "metadata": {},
   "outputs": [
    {
     "data": {
      "text/plain": [
       "[1, 2, 3]"
      ]
     },
     "execution_count": 44,
     "metadata": {},
     "output_type": "execute_result"
    }
   ],
   "source": [
    "c[1]"
   ]
  },
  {
   "cell_type": "code",
   "execution_count": 45,
   "id": "622aaa94-b3de-4d52-b494-ad7d5803811c",
   "metadata": {},
   "outputs": [
    {
     "data": {
      "text/plain": [
       "3"
      ]
     },
     "execution_count": 45,
     "metadata": {},
     "output_type": "execute_result"
    }
   ],
   "source": [
    "c[1][2]"
   ]
  },
  {
   "cell_type": "code",
   "execution_count": 46,
   "id": "40a34850-4b75-4f14-8ca5-aa7732e0da4e",
   "metadata": {},
   "outputs": [
    {
     "data": {
      "text/plain": [
       "{'name': 'tharun'}"
      ]
     },
     "execution_count": 46,
     "metadata": {},
     "output_type": "execute_result"
    }
   ],
   "source": [
    "c[0]"
   ]
  },
  {
   "cell_type": "code",
   "execution_count": 47,
   "id": "902bc12d-6b98-45fa-8dc2-348a40d96121",
   "metadata": {},
   "outputs": [
    {
     "data": {
      "text/plain": [
       "'tharun'"
      ]
     },
     "execution_count": 47,
     "metadata": {},
     "output_type": "execute_result"
    }
   ],
   "source": [
    "c[0]['name']"
   ]
  },
  {
   "cell_type": "code",
   "execution_count": 48,
   "id": "195a14b2-db23-457c-ab97-44d39ecfcd09",
   "metadata": {},
   "outputs": [
    {
     "data": {
      "text/plain": [
       "'1'"
      ]
     },
     "execution_count": 48,
     "metadata": {},
     "output_type": "execute_result"
    }
   ],
   "source": [
    "c[2][0]['1']"
   ]
  },
  {
   "cell_type": "code",
   "execution_count": null,
   "id": "7826d5b4-d91b-463e-af72-6400bdad2179",
   "metadata": {},
   "outputs": [],
   "source": []
  }
 ],
 "metadata": {
  "kernelspec": {
   "display_name": "Python 3 (ipykernel)",
   "language": "python",
   "name": "python3"
  },
  "language_info": {
   "codemirror_mode": {
    "name": "ipython",
    "version": 3
   },
   "file_extension": ".py",
   "mimetype": "text/x-python",
   "name": "python",
   "nbconvert_exporter": "python",
   "pygments_lexer": "ipython3",
   "version": "3.10.12"
  }
 },
 "nbformat": 4,
 "nbformat_minor": 5
}

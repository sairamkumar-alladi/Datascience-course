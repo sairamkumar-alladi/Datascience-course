{
 "cells": [
  {
   "cell_type": "markdown",
   "id": "80dd95c1-fb88-4955-bcdb-a5ed5e0eaed6",
   "metadata": {},
   "source": [
    "# Loops:\n",
    "- Repeatative tasks\n",
    "- For Each Loop - For each element of a given list\n",
    "- For Loops are Inefficient\n",
    "- Normal For Loops focused on number of iterations"
   ]
  },
  {
   "cell_type": "code",
   "execution_count": 1,
   "id": "7b863189-d1ef-4a20-93ed-6c5147575907",
   "metadata": {},
   "outputs": [],
   "source": [
    "students = [\"Raju\",\"Ramesh\",\"Rani\",\"Rakesh\",\"Ramesh\"]"
   ]
  },
  {
   "cell_type": "code",
   "execution_count": 2,
   "id": "f3413c72-9f1b-4d00-af14-95f0770228d9",
   "metadata": {},
   "outputs": [
    {
     "name": "stdout",
     "output_type": "stream",
     "text": [
      "Student Found at 2nd place\n"
     ]
    }
   ],
   "source": [
    "## no of cpu clocks = 2\n",
    "if students[0] == \"Ramesh\":\n",
    "    print(\"Student Found at 1st place\")\n",
    "elif students[1] == \"Ramesh\":\n",
    "    print(\"Student Found at 2nd place\")\n",
    "elif students[2] == \"Ramesh\":\n",
    "    print(\"Student Found at 3rd place\")\n",
    "elif students[3] == \"Ramesh\":\n",
    "    print(\"Student Found at 4th place\")\n",
    "elif students[4] == \"Ramesh\":\n",
    "    print(\"Student Found at 5th place\")"
   ]
  },
  {
   "cell_type": "code",
   "execution_count": 5,
   "id": "aa9a033b-b3ca-4034-b252-0a3739e190e7",
   "metadata": {},
   "outputs": [
    {
     "name": "stdout",
     "output_type": "stream",
     "text": [
      "I Found Ramesh! in place of 1\n"
     ]
    }
   ],
   "source": [
    "# No of cpu clocks = 2\n",
    "for index,student in enumerate(students):\n",
    "    if student == \"Ramesh\":\n",
    "        print(f\"I Found Ramesh! in place of {index}\")\n",
    "        break"
   ]
  },
  {
   "cell_type": "markdown",
   "id": "1128b648-fe22-4ce4-a927-50b969c6f3a2",
   "metadata": {},
   "source": [
    "# Time Complexity\n",
    "- Search Algorithm --> Sequential Search\n",
    "- Possible Consumption of CPU clocks\n",
    "- If you found the element at 1st place -- No of clocks = 1\n",
    "- If you found the element at last ------- No of clocks = len(students) = n\n",
    "- Best Time Complexity --- O(1) --> Best Possible way --> BigO(1) -->()\n",
    "- Worst Time Complexity --- O(n) --> Worst Possible way --> BigO(n)"
   ]
  },
  {
   "cell_type": "code",
   "execution_count": 2,
   "id": "d70ad3af-0d7c-4787-ac92-646f80f34664",
   "metadata": {},
   "outputs": [
    {
     "data": {
      "text/plain": [
       "1"
      ]
     },
     "execution_count": 2,
     "metadata": {},
     "output_type": "execute_result"
    }
   ],
   "source": [
    "# List Index\n",
    "students.index('Ramesh')"
   ]
  },
  {
   "cell_type": "code",
   "execution_count": 8,
   "id": "7f8613c8-d03d-460e-9392-36a5d03da604",
   "metadata": {},
   "outputs": [
    {
     "data": {
      "text/plain": [
       "[(0, 1), (1, 2), (2, 3)]"
      ]
     },
     "execution_count": 8,
     "metadata": {},
     "output_type": "execute_result"
    }
   ],
   "source": [
    "list(enumerate([1,2,3]))"
   ]
  },
  {
   "cell_type": "code",
   "execution_count": 19,
   "id": "a04ec5de-cf69-4e8a-8e60-b4c0fbd02ae7",
   "metadata": {},
   "outputs": [
    {
     "data": {
      "text/plain": [
       "[0, 1, 2, 3, 4, 5, 6, 7, 8, 9]"
      ]
     },
     "execution_count": 19,
     "metadata": {},
     "output_type": "execute_result"
    }
   ],
   "source": [
    "list(range(10))"
   ]
  },
  {
   "cell_type": "code",
   "execution_count": 20,
   "id": "5c128dba-af8f-4bf0-84e1-a5212a86a23d",
   "metadata": {},
   "outputs": [
    {
     "data": {
      "text/plain": [
       "[1, 2, 3, 4, 5, 6, 7, 8, 9]"
      ]
     },
     "execution_count": 20,
     "metadata": {},
     "output_type": "execute_result"
    }
   ],
   "source": [
    "list(range(1,10))"
   ]
  },
  {
   "cell_type": "code",
   "execution_count": 21,
   "id": "5c6f5b98-dbb2-409d-b942-50c98a3d74b4",
   "metadata": {},
   "outputs": [
    {
     "data": {
      "text/plain": [
       "[2, 4, 6, 8]"
      ]
     },
     "execution_count": 21,
     "metadata": {},
     "output_type": "execute_result"
    }
   ],
   "source": [
    "#step = stride\n",
    "list(range(2,10,2))"
   ]
  },
  {
   "cell_type": "code",
   "execution_count": 22,
   "id": "e6e0b1ad-a9b2-4341-b0ca-7704f9bdb3fe",
   "metadata": {},
   "outputs": [
    {
     "data": {
      "text/plain": [
       "[10, 9, 8, 7, 6, 5, 4, 3, 2]"
      ]
     },
     "execution_count": 22,
     "metadata": {},
     "output_type": "execute_result"
    }
   ],
   "source": [
    "list(range(10,1,-1))"
   ]
  },
  {
   "cell_type": "code",
   "execution_count": 23,
   "id": "0b8016d6-d605-4490-9fc0-04945d60aca4",
   "metadata": {},
   "outputs": [
    {
     "data": {
      "text/plain": [
       "[10, 8, 6, 4, 2]"
      ]
     },
     "execution_count": 23,
     "metadata": {},
     "output_type": "execute_result"
    }
   ],
   "source": [
    "list(range(10,1,-2))"
   ]
  },
  {
   "cell_type": "code",
   "execution_count": 24,
   "id": "44d7c339-ee6e-4f5a-b7a6-c0dfc7d0b444",
   "metadata": {},
   "outputs": [],
   "source": [
    "poem = '''\n",
    "FROM off a hill whose concave womb reworded\n",
    "A plaintful story from a sistering vale,\n",
    "My spirits to attend this double voice accorded,\n",
    "And down I laid to list the sad-tuned tale;\n",
    "Ere long espied a fickle maid full pale,\n",
    "Tearing of papers, breaking rings a-twain,\n",
    "Storming her world with sorrow's wind and rain.\n",
    "'''"
   ]
  },
  {
   "cell_type": "code",
   "execution_count": 25,
   "id": "361d9cdb-e0e1-4e7a-9952-a169aa2fe32a",
   "metadata": {},
   "outputs": [
    {
     "data": {
      "text/plain": [
       "['\\nFROM',\n",
       " 'off',\n",
       " 'a',\n",
       " 'hill',\n",
       " 'whose',\n",
       " 'concave',\n",
       " 'womb',\n",
       " 'reworded\\nA',\n",
       " 'plaintful',\n",
       " 'story',\n",
       " 'from',\n",
       " 'a',\n",
       " 'sistering',\n",
       " 'vale,\\nMy',\n",
       " 'spirits',\n",
       " 'to',\n",
       " 'attend',\n",
       " 'this',\n",
       " 'double',\n",
       " 'voice',\n",
       " 'accorded,\\nAnd',\n",
       " 'down',\n",
       " 'I',\n",
       " 'laid',\n",
       " 'to',\n",
       " 'list',\n",
       " 'the',\n",
       " 'sad-tuned',\n",
       " 'tale;\\nEre',\n",
       " 'long',\n",
       " 'espied',\n",
       " 'a',\n",
       " 'fickle',\n",
       " 'maid',\n",
       " 'full',\n",
       " 'pale,\\nTearing',\n",
       " 'of',\n",
       " 'papers,',\n",
       " 'breaking',\n",
       " 'rings',\n",
       " 'a-twain,\\nStorming',\n",
       " 'her',\n",
       " 'world',\n",
       " 'with',\n",
       " \"sorrow's\",\n",
       " 'wind',\n",
       " 'and',\n",
       " 'rain.\\n']"
      ]
     },
     "execution_count": 25,
     "metadata": {},
     "output_type": "execute_result"
    }
   ],
   "source": [
    "poem.split(' ')"
   ]
  },
  {
   "cell_type": "code",
   "execution_count": 26,
   "id": "56f93e28-6b79-4a2d-98bf-30752c5f7b96",
   "metadata": {},
   "outputs": [
    {
     "ename": "SyntaxError",
     "evalue": "unexpected character after line continuation character (428054424.py, line 1)",
     "output_type": "error",
     "traceback": [
      "\u001b[0;36m  Cell \u001b[0;32mIn[26], line 1\u001b[0;36m\u001b[0m\n\u001b[0;31m    vale\\nMy\u001b[0m\n\u001b[0m         ^\u001b[0m\n\u001b[0;31mSyntaxError\u001b[0m\u001b[0;31m:\u001b[0m unexpected character after line continuation character\n"
     ]
    }
   ],
   "source": [
    "vale\\nMy"
   ]
  },
  {
   "cell_type": "code",
   "execution_count": 31,
   "id": "839acb13-44e4-4566-9230-ca930440bbd9",
   "metadata": {},
   "outputs": [
    {
     "data": {
      "text/plain": [
       "[['FROM', 'off', 'a', 'hill', 'whose', 'concave', 'womb', 'reworded'],\n",
       " ['A', 'plaintful', 'story', 'from', 'a', 'sistering', 'vale,'],\n",
       " ['My', 'spirits', 'to', 'attend', 'this', 'double', 'voice', 'accorded,'],\n",
       " ['And', 'down', 'I', 'laid', 'to', 'list', 'the', 'sad-tuned', 'tale;'],\n",
       " ['Ere', 'long', 'espied', 'a', 'fickle', 'maid', 'full', 'pale,'],\n",
       " ['Tearing', 'of', 'papers,', 'breaking', 'rings', 'a-twain,'],\n",
       " ['Storming', 'her', 'world', 'with', \"sorrow's\", 'wind', 'and', 'rain.']]"
      ]
     },
     "execution_count": 31,
     "metadata": {},
     "output_type": "execute_result"
    }
   ],
   "source": [
    "lines = list(filter(lambda x:x != \"\",poem.split('\\n')))\n",
    "words = list(map(lambda x:x.split(' '),lines))\n",
    "# lines\n",
    "words\n"
   ]
  },
  {
   "cell_type": "code",
   "execution_count": 32,
   "id": "c71cabd4-86f7-4661-a65d-488d53fbe7f7",
   "metadata": {},
   "outputs": [],
   "source": [
    "index = 0\n",
    "for line_words in words:\n",
    "    if \"tale\" in line_words:\n",
    "        print(index+line_words.index(\"tale\"))\n",
    "    else:\n",
    "        index += len(line_words)"
   ]
  },
  {
   "cell_type": "code",
   "execution_count": 33,
   "id": "dc9fb060-7386-49c4-9aca-6f22abc97316",
   "metadata": {},
   "outputs": [
    {
     "ename": "ValueError",
     "evalue": "'tale' is not in list",
     "output_type": "error",
     "traceback": [
      "\u001b[0;31m---------------------------------------------------------------------------\u001b[0m",
      "\u001b[0;31mValueError\u001b[0m                                Traceback (most recent call last)",
      "Cell \u001b[0;32mIn[33], line 3\u001b[0m\n\u001b[1;32m      1\u001b[0m words \u001b[38;5;241m=\u001b[39m poem\u001b[38;5;241m.\u001b[39mreplace(\u001b[38;5;124m'\u001b[39m\u001b[38;5;130;01m\\n\u001b[39;00m\u001b[38;5;124m'\u001b[39m,\u001b[38;5;124m'\u001b[39m\u001b[38;5;124m \u001b[39m\u001b[38;5;124m'\u001b[39m)\u001b[38;5;241m.\u001b[39msplit(\u001b[38;5;124m'\u001b[39m\u001b[38;5;124m \u001b[39m\u001b[38;5;124m'\u001b[39m)\n\u001b[1;32m      2\u001b[0m words \u001b[38;5;241m=\u001b[39m \u001b[38;5;28mlist\u001b[39m(\u001b[38;5;28mfilter\u001b[39m(\u001b[38;5;28;01mlambda\u001b[39;00m x:x \u001b[38;5;241m!=\u001b[39m \u001b[38;5;124m\"\u001b[39m\u001b[38;5;124m\"\u001b[39m, words))\n\u001b[0;32m----> 3\u001b[0m \u001b[43mwords\u001b[49m\u001b[38;5;241;43m.\u001b[39;49m\u001b[43mindex\u001b[49m\u001b[43m(\u001b[49m\u001b[38;5;124;43m'\u001b[39;49m\u001b[38;5;124;43mtale\u001b[39;49m\u001b[38;5;124;43m'\u001b[39;49m\u001b[43m)\u001b[49m\n",
      "\u001b[0;31mValueError\u001b[0m: 'tale' is not in list"
     ]
    }
   ],
   "source": [
    "words = poem.replace('\\n',' ').split(' ')\n",
    "words = list(filter(lambda x:x != \"\", words))\n",
    "words.index('tale')"
   ]
  },
  {
   "cell_type": "code",
   "execution_count": 37,
   "id": "02135c04-0903-4455-b2c3-cb37efded3e6",
   "metadata": {},
   "outputs": [],
   "source": [
    "statements = \"Task\""
   ]
  },
  {
   "cell_type": "code",
   "execution_count": 40,
   "id": "3972d387-f01d-481b-8b38-f7534fa51645",
   "metadata": {},
   "outputs": [
    {
     "name": "stdout",
     "output_type": "stream",
     "text": [
      "Task\n",
      "Task\n",
      "Task\n",
      "Task\n",
      "Task\n",
      "Task\n",
      "Task\n",
      "Task\n",
      "Task\n",
      "Task\n"
     ]
    }
   ],
   "source": [
    "for i in range(10):\n",
    "    print(statements)"
   ]
  },
  {
   "cell_type": "code",
   "execution_count": null,
   "id": "39ab3dfc-f4fe-4f72-933a-f09df8d8b7dc",
   "metadata": {},
   "outputs": [],
   "source": []
  },
  {
   "cell_type": "code",
   "execution_count": 41,
   "id": "633366b2-96b0-4230-911e-af43dd7f9d97",
   "metadata": {},
   "outputs": [
    {
     "name": "stdout",
     "output_type": "stream",
     "text": [
      "I Found Ramesh! at 1\n"
     ]
    }
   ],
   "source": [
    "for i in range(len(students)):\n",
    "    if students[i] == \"Ramesh\":\n",
    "        print(f\"I Found Ramesh! at {i}\")\n",
    "        break"
   ]
  },
  {
   "cell_type": "code",
   "execution_count": 42,
   "id": "4efef4e7-4a99-48cd-bca4-9f40f3308363",
   "metadata": {},
   "outputs": [],
   "source": [
    "### 1. iteration --> students[0] == \"Ramesh\"\n",
    "### 2. iteration --> students[1] == \"Ramesh\""
   ]
  },
  {
   "cell_type": "code",
   "execution_count": 43,
   "id": "a981c69d-8d96-4625-b02c-ac500c7fe5d3",
   "metadata": {},
   "outputs": [
    {
     "data": {
      "text/plain": [
       "['Raju', 'Rani', 'Rakesh']"
      ]
     },
     "execution_count": 43,
     "metadata": {},
     "output_type": "execute_result"
    }
   ],
   "source": [
    "[ele for ele in students if ele != \"Ramesh\"] #Inline Forloops"
   ]
  },
  {
   "cell_type": "code",
   "execution_count": 46,
   "id": "293e86fd-c0a1-46e0-a58e-a141dbe47f8f",
   "metadata": {},
   "outputs": [
    {
     "data": {
      "text/plain": [
       "[10, 8]"
      ]
     },
     "execution_count": 46,
     "metadata": {},
     "output_type": "execute_result"
    }
   ],
   "source": [
    "list_a = [1,3,9,10,8,7]\n",
    "\n",
    "list_b = [elem for elem in list_a if elem % 2 ==0]\n",
    "list_b"
   ]
  },
  {
   "cell_type": "code",
   "execution_count": 47,
   "id": "282c7472-9d83-415f-8826-74e9a7036437",
   "metadata": {},
   "outputs": [],
   "source": [
    "name = \"Hyderabad\""
   ]
  },
  {
   "cell_type": "code",
   "execution_count": 48,
   "id": "8f6889f3-7103-4328-90aa-206f0b4ab0bb",
   "metadata": {},
   "outputs": [
    {
     "name": "stdout",
     "output_type": "stream",
     "text": [
      "H\n",
      "y\n",
      "d\n",
      "e\n",
      "r\n",
      "a\n",
      "b\n",
      "a\n",
      "d\n"
     ]
    }
   ],
   "source": [
    "for ch in name:\n",
    "    print(ch)"
   ]
  },
  {
   "cell_type": "code",
   "execution_count": 49,
   "id": "8583c582-e261-4f6c-89c4-97bbffabc4a5",
   "metadata": {},
   "outputs": [],
   "source": [
    "maths_book_index = {\"Logic\":1,\"LinearAlgebra\":25,\"Geometry\":57,\"Trigonometry\":99} "
   ]
  },
  {
   "cell_type": "code",
   "execution_count": 51,
   "id": "162f1898-2315-48dc-90fe-3b8696a4c778",
   "metadata": {},
   "outputs": [
    {
     "name": "stdout",
     "output_type": "stream",
     "text": [
      "Logic\n",
      "LinearAlgebra\n",
      "Geometry\n",
      "Trigonometry\n"
     ]
    }
   ],
   "source": [
    "for ele in maths_book_index: # default takes keys\n",
    "    print(ele)"
   ]
  },
  {
   "cell_type": "code",
   "execution_count": 52,
   "id": "61d1abde-a8d2-4fe3-9b01-9864e79ac48f",
   "metadata": {},
   "outputs": [
    {
     "data": {
      "text/plain": [
       "dict_items([('Logic', 1), ('LinearAlgebra', 25), ('Geometry', 57), ('Trigonometry', 99)])"
      ]
     },
     "execution_count": 52,
     "metadata": {},
     "output_type": "execute_result"
    }
   ],
   "source": [
    "maths_book_index.items()"
   ]
  },
  {
   "cell_type": "code",
   "execution_count": 53,
   "id": "113222ad-def4-49e9-b0a8-0a959ae39e06",
   "metadata": {
    "scrolled": true
   },
   "outputs": [
    {
     "name": "stdout",
     "output_type": "stream",
     "text": [
      "Logic:1\n",
      "Iteration Number: 0\n",
      "LinearAlgebra:25\n",
      "Iteration Number: 1\n",
      "Geometry:57\n",
      "Iteration Number: 2\n",
      "Trigonometry:99\n",
      "Iteration Number: 3\n"
     ]
    }
   ],
   "source": [
    "i = 0\n",
    "for key,value in maths_book_index.items():\n",
    "    print(f\"{key}:{value}\")\n",
    "    print(f\"Iteration Number: {i}\")\n",
    "    i += 1"
   ]
  },
  {
   "cell_type": "code",
   "execution_count": 3,
   "id": "409e0a5b-8884-49de-bfd5-300d7c8b675f",
   "metadata": {},
   "outputs": [],
   "source": [
    "import string\n",
    "alphabet = list(string.ascii_lowercase)"
   ]
  },
  {
   "cell_type": "code",
   "execution_count": 56,
   "id": "dc1da43f-2255-4077-8cb3-3c73f2145c55",
   "metadata": {},
   "outputs": [
    {
     "data": {
      "text/plain": [
       "['a',\n",
       " 'b',\n",
       " 'c',\n",
       " 'd',\n",
       " 'e',\n",
       " 'f',\n",
       " 'g',\n",
       " 'h',\n",
       " 'i',\n",
       " 'j',\n",
       " 'k',\n",
       " 'l',\n",
       " 'm',\n",
       " 'n',\n",
       " 'o',\n",
       " 'p',\n",
       " 'q',\n",
       " 'r',\n",
       " 's',\n",
       " 't',\n",
       " 'u',\n",
       " 'v',\n",
       " 'w',\n",
       " 'x',\n",
       " 'y',\n",
       " 'z']"
      ]
     },
     "execution_count": 56,
     "metadata": {},
     "output_type": "execute_result"
    }
   ],
   "source": [
    "alphabet"
   ]
  },
  {
   "cell_type": "code",
   "execution_count": 57,
   "id": "dfbbff3e-39e1-4bae-acc5-f19a654d2a8b",
   "metadata": {},
   "outputs": [],
   "source": [
    "chtoi = {ch:nu for nu,ch in enumerate(alphabet)}"
   ]
  },
  {
   "cell_type": "code",
   "execution_count": 58,
   "id": "1178fbf7-4d78-43a7-9b18-4e7c8b0a72d9",
   "metadata": {},
   "outputs": [
    {
     "data": {
      "text/plain": [
       "{'a': 0,\n",
       " 'b': 1,\n",
       " 'c': 2,\n",
       " 'd': 3,\n",
       " 'e': 4,\n",
       " 'f': 5,\n",
       " 'g': 6,\n",
       " 'h': 7,\n",
       " 'i': 8,\n",
       " 'j': 9,\n",
       " 'k': 10,\n",
       " 'l': 11,\n",
       " 'm': 12,\n",
       " 'n': 13,\n",
       " 'o': 14,\n",
       " 'p': 15,\n",
       " 'q': 16,\n",
       " 'r': 17,\n",
       " 's': 18,\n",
       " 't': 19,\n",
       " 'u': 20,\n",
       " 'v': 21,\n",
       " 'w': 22,\n",
       " 'x': 23,\n",
       " 'y': 24,\n",
       " 'z': 25}"
      ]
     },
     "execution_count": 58,
     "metadata": {},
     "output_type": "execute_result"
    }
   ],
   "source": [
    "chtoi"
   ]
  },
  {
   "cell_type": "code",
   "execution_count": 66,
   "id": "5c6a3b5b-72fc-4f37-93dd-5bf09a8a02c9",
   "metadata": {},
   "outputs": [
    {
     "data": {
      "text/plain": [
       "{0: 'a',\n",
       " 1: 'b',\n",
       " 2: 'c',\n",
       " 3: 'd',\n",
       " 4: 'e',\n",
       " 5: 'f',\n",
       " 6: 'g',\n",
       " 7: 'h',\n",
       " 8: 'i',\n",
       " 9: 'j',\n",
       " 10: 'k',\n",
       " 11: 'l',\n",
       " 12: 'm',\n",
       " 13: 'n',\n",
       " 14: 'o',\n",
       " 15: 'p',\n",
       " 16: 'q',\n",
       " 17: 'r',\n",
       " 18: 's',\n",
       " 19: 't',\n",
       " 20: 'u',\n",
       " 21: 'v',\n",
       " 22: 'w',\n",
       " 23: 'x',\n",
       " 24: 'y',\n",
       " 25: 'z'}"
      ]
     },
     "execution_count": 66,
     "metadata": {},
     "output_type": "execute_result"
    }
   ],
   "source": [
    "itoch = {nu:ch for nu,ch in enumerate(alphabet)}\n",
    "itoch"
   ]
  },
  {
   "cell_type": "code",
   "execution_count": 67,
   "id": "5a7635a8-3e33-4450-96e6-4f62f9313b09",
   "metadata": {},
   "outputs": [],
   "source": [
    "itoch = {}\n",
    "for nu,ch in enumerate(alphabet):\n",
    "    itoch[nu]=ch"
   ]
  },
  {
   "cell_type": "code",
   "execution_count": 68,
   "id": "c5605b39-ad6b-4f4e-ad23-2eb06e3b34bd",
   "metadata": {},
   "outputs": [
    {
     "data": {
      "text/plain": [
       "{0: 'a',\n",
       " 1: 'b',\n",
       " 2: 'c',\n",
       " 3: 'd',\n",
       " 4: 'e',\n",
       " 5: 'f',\n",
       " 6: 'g',\n",
       " 7: 'h',\n",
       " 8: 'i',\n",
       " 9: 'j',\n",
       " 10: 'k',\n",
       " 11: 'l',\n",
       " 12: 'm',\n",
       " 13: 'n',\n",
       " 14: 'o',\n",
       " 15: 'p',\n",
       " 16: 'q',\n",
       " 17: 'r',\n",
       " 18: 's',\n",
       " 19: 't',\n",
       " 20: 'u',\n",
       " 21: 'v',\n",
       " 22: 'w',\n",
       " 23: 'x',\n",
       " 24: 'y',\n",
       " 25: 'z'}"
      ]
     },
     "execution_count": 68,
     "metadata": {},
     "output_type": "execute_result"
    }
   ],
   "source": [
    "itoch"
   ]
  },
  {
   "cell_type": "code",
   "execution_count": 69,
   "id": "948aa748-0a86-4d67-b8d3-0979b9bbf952",
   "metadata": {},
   "outputs": [],
   "source": [
    "def mapper(x):\n",
    "    return {x[1]:x[0]}"
   ]
  },
  {
   "cell_type": "code",
   "execution_count": 7,
   "id": "46dc07d3-e47c-455b-9d91-0860c0d269b2",
   "metadata": {},
   "outputs": [
    {
     "data": {
      "text/plain": [
       "[{0, 'a'},\n",
       " {1, 'b'},\n",
       " {2, 'c'},\n",
       " {3, 'd'},\n",
       " {4, 'e'},\n",
       " {5, 'f'},\n",
       " {6, 'g'},\n",
       " {7, 'h'},\n",
       " {8, 'i'},\n",
       " {9, 'j'},\n",
       " {10, 'k'},\n",
       " {11, 'l'},\n",
       " {12, 'm'},\n",
       " {13, 'n'},\n",
       " {14, 'o'},\n",
       " {15, 'p'},\n",
       " {16, 'q'},\n",
       " {17, 'r'},\n",
       " {18, 's'},\n",
       " {19, 't'},\n",
       " {20, 'u'},\n",
       " {21, 'v'},\n",
       " {22, 'w'},\n",
       " {23, 'x'},\n",
       " {24, 'y'},\n",
       " {25, 'z'}]"
      ]
     },
     "execution_count": 7,
     "metadata": {},
     "output_type": "execute_result"
    }
   ],
   "source": [
    "# list(map(mapper,enumerate(alphabet)))\n",
    "list(map(lambda pair:{pair[1],pair[0]},enumerate(alphabet)))"
   ]
  },
  {
   "cell_type": "code",
   "execution_count": 71,
   "id": "8a11644d-1443-46db-bbc7-f20f1b530117",
   "metadata": {},
   "outputs": [
    {
     "data": {
      "text/plain": [
       "[(0, 1), (1, 2), (2, 3)]"
      ]
     },
     "execution_count": 71,
     "metadata": {},
     "output_type": "execute_result"
    }
   ],
   "source": [
    "list(enumerate([1,2,3]))"
   ]
  },
  {
   "cell_type": "code",
   "execution_count": 59,
   "id": "597c4949-2918-4956-92a6-4b7bce14ae04",
   "metadata": {},
   "outputs": [
    {
     "data": {
      "text/plain": [
       "{0: 't', 1: 'h', 2: 'r'}"
      ]
     },
     "execution_count": 59,
     "metadata": {},
     "output_type": "execute_result"
    }
   ],
   "source": [
    "{nu:ch for nu,ch in list(enumerate(('t','h','r')))}"
   ]
  },
  {
   "cell_type": "code",
   "execution_count": null,
   "id": "66798b2d-a500-4ceb-8b3b-b317b310cc85",
   "metadata": {},
   "outputs": [],
   "source": []
  },
  {
   "cell_type": "code",
   "execution_count": 72,
   "id": "55bc578b-fb13-427d-9ec1-a364c37e08f6",
   "metadata": {},
   "outputs": [],
   "source": [
    "##\n",
    "numbers = [1,2,3,4,5,6,7,8,9,10]"
   ]
  },
  {
   "cell_type": "code",
   "execution_count": 73,
   "id": "e5f84632-3001-4dc3-a281-a9c45d095b37",
   "metadata": {},
   "outputs": [],
   "source": [
    "even_numbers = []\n",
    "odd_numbers = []\n",
    "for number in numbers:\n",
    "    if number % 2 == 0:\n",
    "        even_numbers.append(number)\n",
    "    else:\n",
    "        odd_numbers.append(number)"
   ]
  },
  {
   "cell_type": "code",
   "execution_count": 74,
   "id": "96224e2d-cb0d-4a00-a742-dc9da1a57072",
   "metadata": {},
   "outputs": [
    {
     "data": {
      "text/plain": [
       "[2, 4, 6, 8, 10]"
      ]
     },
     "execution_count": 74,
     "metadata": {},
     "output_type": "execute_result"
    }
   ],
   "source": [
    "even_numbers"
   ]
  },
  {
   "cell_type": "code",
   "execution_count": 75,
   "id": "ebc98464-2b6a-40dd-a0e4-4e66ad584557",
   "metadata": {},
   "outputs": [
    {
     "data": {
      "text/plain": [
       "[1, 3, 5, 7, 9]"
      ]
     },
     "execution_count": 75,
     "metadata": {},
     "output_type": "execute_result"
    }
   ],
   "source": [
    "odd_numbers"
   ]
  },
  {
   "cell_type": "code",
   "execution_count": 76,
   "id": "021b1f67-a4df-4eb5-a52a-19e1a884e871",
   "metadata": {},
   "outputs": [],
   "source": [
    "even_numbers = [number for number in numbers if number % 2  == 0]\n",
    "odd_numbers = [number for number in numbers if number % 2 == 1]"
   ]
  },
  {
   "cell_type": "code",
   "execution_count": 77,
   "id": "b80f4f79-b85b-4e53-99ed-a4c0ce2e3a55",
   "metadata": {},
   "outputs": [
    {
     "data": {
      "text/plain": [
       "[2, 4, 6, 8, 10]"
      ]
     },
     "execution_count": 77,
     "metadata": {},
     "output_type": "execute_result"
    }
   ],
   "source": [
    "even_numbers"
   ]
  },
  {
   "cell_type": "code",
   "execution_count": 78,
   "id": "63ee49c6-7d04-44df-9fd3-47e14c8d2968",
   "metadata": {},
   "outputs": [
    {
     "data": {
      "text/plain": [
       "[1, 3, 5, 7, 9]"
      ]
     },
     "execution_count": 78,
     "metadata": {},
     "output_type": "execute_result"
    }
   ],
   "source": [
    "odd_numbers"
   ]
  },
  {
   "cell_type": "code",
   "execution_count": 79,
   "id": "7075f052-49d0-4ecc-97d8-50d32a546949",
   "metadata": {},
   "outputs": [],
   "source": [
    "## filter, range, enumerate\n",
    "even_numbers = list(filter(lambda num:num%2 == 0, numbers))\n",
    "odd_numbers = list(filter(lambda num:num%2 == 1, numbers))"
   ]
  },
  {
   "cell_type": "code",
   "execution_count": 80,
   "id": "92ad45bd-7a0b-47f1-8472-3e3d273e6e4f",
   "metadata": {},
   "outputs": [
    {
     "data": {
      "text/plain": [
       "[2, 4, 6, 8, 10]"
      ]
     },
     "execution_count": 80,
     "metadata": {},
     "output_type": "execute_result"
    }
   ],
   "source": [
    "even_numbers"
   ]
  },
  {
   "cell_type": "code",
   "execution_count": 81,
   "id": "6a4c3084-87eb-4670-a073-7b51bddc31de",
   "metadata": {},
   "outputs": [
    {
     "data": {
      "text/plain": [
       "[1, 3, 5, 7, 9]"
      ]
     },
     "execution_count": 81,
     "metadata": {},
     "output_type": "execute_result"
    }
   ],
   "source": [
    "odd_numbers"
   ]
  },
  {
   "cell_type": "code",
   "execution_count": 82,
   "id": "edad79a3-5123-4b7d-a116-8d7ef2c8c066",
   "metadata": {},
   "outputs": [
    {
     "data": {
      "text/plain": [
       "range(1, 10)"
      ]
     },
     "execution_count": 82,
     "metadata": {},
     "output_type": "execute_result"
    }
   ],
   "source": [
    "range(1,10)"
   ]
  },
  {
   "cell_type": "code",
   "execution_count": 83,
   "id": "cb058bd2-a7cd-406f-92f3-02aef48e977e",
   "metadata": {},
   "outputs": [
    {
     "data": {
      "text/plain": [
       "<enumerate at 0x7fa72e5f7d40>"
      ]
     },
     "execution_count": 83,
     "metadata": {},
     "output_type": "execute_result"
    }
   ],
   "source": [
    "## Compiled C Language Code\n",
    "enumerate([1,2])"
   ]
  },
  {
   "cell_type": "code",
   "execution_count": 84,
   "id": "98b5dab1-9fa0-4c07-9c8f-861932c14bb1",
   "metadata": {},
   "outputs": [
    {
     "data": {
      "text/plain": [
       "[0, 4, 8]"
      ]
     },
     "execution_count": 84,
     "metadata": {},
     "output_type": "execute_result"
    }
   ],
   "source": [
    "list(range(0,10,4))"
   ]
  },
  {
   "cell_type": "code",
   "execution_count": 85,
   "id": "253f5bc9-a5cc-4c32-a79c-99835a02fe65",
   "metadata": {},
   "outputs": [
    {
     "data": {
      "text/plain": [
       "[0, 2, 4, 6, 8]"
      ]
     },
     "execution_count": 85,
     "metadata": {},
     "output_type": "execute_result"
    }
   ],
   "source": [
    "[i for i in range(10) if i%2 == 0]"
   ]
  },
  {
   "cell_type": "code",
   "execution_count": 86,
   "id": "16aac0fa-5ce5-4916-99b2-ac6f5ac5c1c3",
   "metadata": {},
   "outputs": [
    {
     "data": {
      "text/plain": [
       "[(0, 'a'), (1, 'b'), (2, 'c')]"
      ]
     },
     "execution_count": 86,
     "metadata": {},
     "output_type": "execute_result"
    }
   ],
   "source": [
    "list(enumerate(['a','b','c']))"
   ]
  },
  {
   "cell_type": "code",
   "execution_count": 1,
   "id": "5b239147-029a-417f-b5ae-b6a28d7a32e4",
   "metadata": {},
   "outputs": [
    {
     "data": {
      "text/plain": [
       "{0: 'T',\n",
       " 1: 'h',\n",
       " 2: 'a',\n",
       " 3: 'r',\n",
       " 4: 'u',\n",
       " 5: 'n',\n",
       " 6: 'K',\n",
       " 7: 'u',\n",
       " 8: 'm',\n",
       " 9: 'a',\n",
       " 10: 'r'}"
      ]
     },
     "execution_count": 1,
     "metadata": {},
     "output_type": "execute_result"
    }
   ],
   "source": [
    "{i:ele for i,ele in enumerate(\"TharunKumar\")}"
   ]
  },
  {
   "cell_type": "code",
   "execution_count": 20,
   "id": "6325440a-bfa7-481d-81ae-8c94068cee55",
   "metadata": {},
   "outputs": [
    {
     "name": "stdout",
     "output_type": "stream",
     "text": [
      "Burganing\n"
     ]
    },
    {
     "name": "stdin",
     "output_type": "stream",
     "text": [
      " 55\n"
     ]
    },
    {
     "name": "stdout",
     "output_type": "stream",
     "text": [
      "Item sold\n"
     ]
    }
   ],
   "source": [
    "num = 0\n",
    "while num<=25:\n",
    "    print(\"Burganing\")\n",
    "    num = int(input())\n",
    "print(\"Item sold\")"
   ]
  },
  {
   "cell_type": "code",
   "execution_count": 15,
   "id": "86fe2fee-27d8-4c23-99a6-b285624986bb",
   "metadata": {},
   "outputs": [
    {
     "name": "stdout",
     "output_type": "stream",
     "text": [
      "0 0\n",
      "0 1\n",
      "0 2\n",
      "0 3\n",
      "0 4\n",
      "0 5\n",
      "0 6\n",
      "0 7\n",
      "0 8\n",
      "0 9\n",
      "1 0\n",
      "1 1\n",
      "1 2\n",
      "1 3\n",
      "1 4\n",
      "1 5\n",
      "1 6\n",
      "1 7\n",
      "1 8\n",
      "1 9\n",
      "2 0\n",
      "2 1\n",
      "2 2\n",
      "2 3\n",
      "2 4\n",
      "2 5\n",
      "2 6\n",
      "2 7\n",
      "2 8\n",
      "2 9\n",
      "3 0\n",
      "3 1\n",
      "3 2\n",
      "3 3\n",
      "3 4\n",
      "3 5\n",
      "3 6\n",
      "3 7\n",
      "3 8\n",
      "3 9\n",
      "4 0\n",
      "4 1\n",
      "4 2\n",
      "4 3\n",
      "4 4\n",
      "4 5\n",
      "4 6\n",
      "4 7\n",
      "4 8\n",
      "4 9\n",
      "5 0\n",
      "5 1\n",
      "5 2\n",
      "5 3\n",
      "5 4\n",
      "5 5\n",
      "5 6\n",
      "5 7\n",
      "5 8\n",
      "5 9\n",
      "6 0\n",
      "6 1\n",
      "6 2\n",
      "6 3\n",
      "6 4\n",
      "6 5\n",
      "6 6\n",
      "6 7\n",
      "6 8\n",
      "6 9\n",
      "7 0\n",
      "7 1\n",
      "7 2\n",
      "7 3\n",
      "7 4\n",
      "7 5\n",
      "7 6\n",
      "7 7\n",
      "7 8\n",
      "7 9\n",
      "8 0\n",
      "8 1\n",
      "8 2\n",
      "8 3\n",
      "8 4\n",
      "8 5\n",
      "8 6\n",
      "8 7\n",
      "8 8\n",
      "8 9\n",
      "9 0\n",
      "9 1\n",
      "9 2\n",
      "9 3\n",
      "9 4\n",
      "9 5\n",
      "9 6\n",
      "9 7\n",
      "9 8\n",
      "9 9\n"
     ]
    },
    {
     "ename": "NameError",
     "evalue": "name 'n' is not defined",
     "output_type": "error",
     "traceback": [
      "\u001b[0;31m---------------------------------------------------------------------------\u001b[0m",
      "\u001b[0;31mNameError\u001b[0m                                 Traceback (most recent call last)",
      "Cell \u001b[0;32mIn[15], line 8\u001b[0m\n\u001b[1;32m      3\u001b[0m         \u001b[38;5;28mprint\u001b[39m(i,j)\n\u001b[1;32m      5\u001b[0m \u001b[38;5;66;03m# ==> For Every ith iteration j number of iterations will be there\u001b[39;00m\n\u001b[1;32m      6\u001b[0m \u001b[38;5;66;03m# ==> Total number of iterations 10*10\u001b[39;00m\n\u001b[0;32m----> 8\u001b[0m \u001b[38;5;28;01mfor\u001b[39;00m i \u001b[38;5;129;01min\u001b[39;00m \u001b[38;5;28mrange\u001b[39m(\u001b[43mn\u001b[49m):\n\u001b[1;32m      9\u001b[0m     \u001b[38;5;28;01mfor\u001b[39;00m j \u001b[38;5;129;01min\u001b[39;00m \u001b[38;5;28mrange\u001b[39m(m):\n\u001b[1;32m     10\u001b[0m         \u001b[38;5;28mprint\u001b[39m(n,m)\n",
      "\u001b[0;31mNameError\u001b[0m: name 'n' is not defined"
     ]
    }
   ],
   "source": [
    "for i in range(10):\n",
    "    for j in range(10):\n",
    "        print(i,j)\n",
    "\n",
    "# ==> For Every ith iteration j number of iterations will be there\n",
    "# ==> Total number of iterations 10*10\n",
    "\n",
    "for i in range(n):\n",
    "    for j in range(m):\n",
    "        print(n,m)\n",
    "\n",
    "# ==> Total Number of iterations => m*n\n",
    "# # Time Complexity ==> O(m*n)\n",
    "# Time Complexity ==> O(n^2) (m==n)\n",
    "# Total Number of Iterations ==> Time Complexity\n",
    "\n",
    "\n",
    "# for i in range(n):\n",
    "#     print(i)\n",
    "\n",
    "# Time Complexity ==> O(n)\n"
   ]
  },
  {
   "cell_type": "code",
   "execution_count": 16,
   "id": "146a07e6-eeac-48bd-aa84-823083a2f3ba",
   "metadata": {},
   "outputs": [],
   "source": [
    "# for i in range(m):\n",
    "#     for j in range(n):\n",
    "#         for k in range(p):\n",
    "#             print(i,j,k)\n",
    "\n",
    "# Time Complexity ===> O(m*n*p) ==> O(n^3)\n",
    "\n",
    "# Matrix Multiplication ==> O(n^3)(m=n=p)"
   ]
  },
  {
   "cell_type": "code",
   "execution_count": null,
   "id": "d51ab87f-4be2-4a19-b6ad-031f0530ee4a",
   "metadata": {},
   "outputs": [],
   "source": [
    "# for i in range(n):\n",
    "#     for j in range(n-i):\n",
    "#         print(i,j)\n",
    "\n",
    "# Total Number of combinations ==> \n",
    "# (0,0),(0,1),(0,2),(0,3),(0,4) - 5 \n",
    "# (1,0),(1,1),(1,2),(1,3) - 4\n",
    "# (2,0),(2,1),(2,2) - 3\n",
    "# (3,0),(3,1) - 2\n",
    "# (4,0) - 1\n",
    "\n",
    "# 5+4+3+2+1 = n(n+1)/2\n",
    "\n",
    "# Time Complexity  n(n+1)/2 < n^2\n",
    "# ================> O(n^2)\n",
    "# ================> Omega(n(n+1)/2)\n",
    "# ================> o(n^2)\n",
    "\n",
    "# for i in range(n):\n",
    "#     for j in range(n-i):\n",
    "#         for k in range(n-j):\n",
    "#             print(i,j,k)"
   ]
  }
 ],
 "metadata": {
  "kernelspec": {
   "display_name": "Python 3 (ipykernel)",
   "language": "python",
   "name": "python3"
  },
  "language_info": {
   "codemirror_mode": {
    "name": "ipython",
    "version": 3
   },
   "file_extension": ".py",
   "mimetype": "text/x-python",
   "name": "python",
   "nbconvert_exporter": "python",
   "pygments_lexer": "ipython3",
   "version": "3.10.12"
  }
 },
 "nbformat": 4,
 "nbformat_minor": 5
}

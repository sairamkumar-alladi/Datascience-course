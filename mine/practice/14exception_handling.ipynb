{
 "cells": [
  {
   "cell_type": "code",
   "execution_count": 4,
   "id": "9481bd95-fea4-42ad-b705-7ea5af414c46",
   "metadata": {},
   "outputs": [
    {
     "name": "stdout",
     "output_type": "stream",
     "text": [
      "Cannot divide by zero!\n",
      "This will always run.\n"
     ]
    }
   ],
   "source": [
    "try:\n",
    "    # Code that may raise an exception\n",
    "    result = 10 / 0\n",
    "    # result = 10 / 'k'\n",
    "except ZeroDivisionError:\n",
    "    # Handle specific exception\n",
    "    print(\"Cannot divide by zero!\")\n",
    "except Exception as e:\n",
    "    # Handle any other exception\n",
    "    print(f\"An error occurred: {e}\")\n",
    "else:\n",
    "    # Code to execute if no exception occurred\n",
    "    print(\"Calculation successful!\")\n",
    "finally:\n",
    "    # Code to execute regardless of whether an exception occurred\n",
    "    print(\"This will always run.\")\n"
   ]
  },
  {
   "cell_type": "code",
   "execution_count": null,
   "id": "33f73716-72fa-4ec0-bc3c-548dd5ed4b58",
   "metadata": {},
   "outputs": [],
   "source": []
  }
 ],
 "metadata": {
  "kernelspec": {
   "display_name": "Python 3 (ipykernel)",
   "language": "python",
   "name": "python3"
  },
  "language_info": {
   "codemirror_mode": {
    "name": "ipython",
    "version": 3
   },
   "file_extension": ".py",
   "mimetype": "text/x-python",
   "name": "python",
   "nbconvert_exporter": "python",
   "pygments_lexer": "ipython3",
   "version": "3.10.12"
  }
 },
 "nbformat": 4,
 "nbformat_minor": 5
}

{
 "cells": [
  {
   "cell_type": "markdown",
   "id": "16916538-1062-4859-a8e1-7517cd90c610",
   "metadata": {},
   "source": [
    "# Files\n",
    "- open is a function in python used for creating and reading files.\n",
    "- file modes\n",
    "- \"read_mode\",\"write_mode\",\"append_mode\"\n",
    "- read_mode ==> Once you open a file which is already existing, you are only allowed to read content(\"r\").\n",
    "- write_mode ==> Read and Write the file, if file not exist it will create file.--> removes existing content(\"w\").\n",
    "- append_file ==> Read and Write the file, if file not exist it will create file.--> It will not remove existing content(\"a\").\n",
    "- read() ==> reads as one string.\n",
    "- readlines() ==> reads lines.\n",
    "- If we dont close will get resource busy error."
   ]
  },
  {
   "cell_type": "code",
   "execution_count": 1,
   "id": "46161efa-968c-48c0-ae68-4a165506cfc7",
   "metadata": {},
   "outputs": [],
   "source": [
    "file = open(\"sample.txt\",'r')"
   ]
  },
  {
   "cell_type": "code",
   "execution_count": 2,
   "id": "7a644b0f-bc4b-430a-9150-d02036600deb",
   "metadata": {},
   "outputs": [
    {
     "data": {
      "text/plain": [
       "\"Hello world!\\nThis is sai!\\nWhat's up!\""
      ]
     },
     "execution_count": 2,
     "metadata": {},
     "output_type": "execute_result"
    }
   ],
   "source": [
    "file.read()"
   ]
  },
  {
   "cell_type": "code",
   "execution_count": 3,
   "id": "ade6ac06-d414-4884-b3df-5169e61c21ea",
   "metadata": {},
   "outputs": [
    {
     "data": {
      "text/plain": [
       "[]"
      ]
     },
     "execution_count": 3,
     "metadata": {},
     "output_type": "execute_result"
    }
   ],
   "source": [
    "file.readlines()"
   ]
  },
  {
   "cell_type": "code",
   "execution_count": 4,
   "id": "b0dc8bee-6e33-4e9c-a01c-5a58f916e6a5",
   "metadata": {},
   "outputs": [
    {
     "data": {
      "text/plain": [
       "0"
      ]
     },
     "execution_count": 4,
     "metadata": {},
     "output_type": "execute_result"
    }
   ],
   "source": [
    "file.seek(0)"
   ]
  },
  {
   "cell_type": "code",
   "execution_count": 5,
   "id": "25fae373-cf3e-4cd8-83db-2df4aa1a18da",
   "metadata": {},
   "outputs": [
    {
     "data": {
      "text/plain": [
       "['Hello world!\\n', 'This is sai!\\n', \"What's up!\"]"
      ]
     },
     "execution_count": 5,
     "metadata": {},
     "output_type": "execute_result"
    }
   ],
   "source": [
    "file.readlines()"
   ]
  },
  {
   "cell_type": "code",
   "execution_count": 6,
   "id": "38261d65-95ae-4c96-b46d-5dbdc275dbff",
   "metadata": {},
   "outputs": [],
   "source": [
    "file.close()"
   ]
  },
  {
   "cell_type": "code",
   "execution_count": 7,
   "id": "9026551c-41fa-4705-8a60-467825f3f6cc",
   "metadata": {},
   "outputs": [],
   "source": [
    "file = open(\"sample.txt\",'w')"
   ]
  },
  {
   "cell_type": "code",
   "execution_count": 8,
   "id": "cb0a7bd2-0fb1-4a11-8f73-fa833862a744",
   "metadata": {},
   "outputs": [
    {
     "data": {
      "text/plain": [
       "12"
      ]
     },
     "execution_count": 8,
     "metadata": {},
     "output_type": "execute_result"
    }
   ],
   "source": [
    "file.write(\"Hello world!\")"
   ]
  },
  {
   "cell_type": "code",
   "execution_count": 9,
   "id": "a63f394a-f7ec-40b0-a097-7796aeb16460",
   "metadata": {},
   "outputs": [],
   "source": [
    "file.writelines([\"Hello\\n\",\"Hi\\n\"])"
   ]
  },
  {
   "cell_type": "code",
   "execution_count": 10,
   "id": "3c49d326-2375-443e-b327-d7dd76a985cc",
   "metadata": {},
   "outputs": [],
   "source": [
    "file.flush()"
   ]
  },
  {
   "cell_type": "code",
   "execution_count": 11,
   "id": "e48779e2-71b3-44cc-ba2e-d16e423e11e3",
   "metadata": {},
   "outputs": [],
   "source": [
    "file.close()"
   ]
  },
  {
   "cell_type": "code",
   "execution_count": 12,
   "id": "1264f913-8535-445f-8266-0dc25c15b9ca",
   "metadata": {},
   "outputs": [],
   "source": [
    "file = open(\"sample.txt\",'w') #empty the file"
   ]
  },
  {
   "cell_type": "code",
   "execution_count": 13,
   "id": "340af12f-8804-4ded-9d01-b391cf5a2811",
   "metadata": {},
   "outputs": [
    {
     "data": {
      "text/plain": [
       "12"
      ]
     },
     "execution_count": 13,
     "metadata": {},
     "output_type": "execute_result"
    }
   ],
   "source": [
    "file.write(\"Hello world!\")"
   ]
  },
  {
   "cell_type": "code",
   "execution_count": 14,
   "id": "1533ce15-bfbc-4e70-b802-803b51194842",
   "metadata": {},
   "outputs": [
    {
     "data": {
      "text/plain": [
       "13"
      ]
     },
     "execution_count": 14,
     "metadata": {},
     "output_type": "execute_result"
    }
   ],
   "source": [
    "file.write(\"\\nThis is sai!\")"
   ]
  },
  {
   "cell_type": "code",
   "execution_count": 15,
   "id": "0e32fdbe-020c-4b28-bb6d-53d6dbe40f49",
   "metadata": {},
   "outputs": [],
   "source": [
    "file.close()"
   ]
  },
  {
   "cell_type": "code",
   "execution_count": 16,
   "id": "bd239c55-1f2d-4061-bb48-c4d1b4c59f8b",
   "metadata": {},
   "outputs": [],
   "source": [
    "file = open(\"sample.txt\",'a')"
   ]
  },
  {
   "cell_type": "code",
   "execution_count": 17,
   "id": "81e29922-7a29-444d-bb21-978910365179",
   "metadata": {},
   "outputs": [
    {
     "data": {
      "text/plain": [
       "11"
      ]
     },
     "execution_count": 17,
     "metadata": {},
     "output_type": "execute_result"
    }
   ],
   "source": [
    "file.write(\"\\nWhat's up!\")"
   ]
  },
  {
   "cell_type": "code",
   "execution_count": 18,
   "id": "d251681c-1b43-448f-85f0-85306540c4a0",
   "metadata": {},
   "outputs": [],
   "source": [
    "file.close()"
   ]
  },
  {
   "cell_type": "code",
   "execution_count": 19,
   "id": "9c57ba03-b652-4121-9bea-9f417333c318",
   "metadata": {},
   "outputs": [],
   "source": [
    "file1 = open(\"sample1.txt\",'a')"
   ]
  },
  {
   "cell_type": "code",
   "execution_count": 20,
   "id": "8286d708-1361-48c3-aef9-70c4d3d2b5b5",
   "metadata": {},
   "outputs": [],
   "source": [
    "with open(\"sample.txt\",'r') as file:\n",
    "    data = file.read()\n",
    "    "
   ]
  },
  {
   "cell_type": "code",
   "execution_count": 21,
   "id": "96050458-8106-4f24-80e0-ddf855449811",
   "metadata": {},
   "outputs": [
    {
     "data": {
      "text/plain": [
       "\"Hello world!\\nThis is sai!\\nWhat's up!\""
      ]
     },
     "execution_count": 21,
     "metadata": {},
     "output_type": "execute_result"
    }
   ],
   "source": [
    "data"
   ]
  },
  {
   "cell_type": "markdown",
   "id": "7d33e5f9-1b0b-435f-9811-921166cfd87f",
   "metadata": {},
   "source": [
    "# JSON \n",
    "- Json files will be handled by using json module.\n",
    "- Json and dictionaries are interlinked.\n",
    "- Dictionary is in memory data element.\n",
    "- Json is persistent data element."
   ]
  },
  {
   "cell_type": "code",
   "execution_count": 22,
   "id": "f484f38d-c583-4a7b-936c-abed40aa1bb9",
   "metadata": {},
   "outputs": [],
   "source": [
    "import json"
   ]
  },
  {
   "cell_type": "code",
   "execution_count": 23,
   "id": "9dfd2147-f65d-446c-9236-1e424ff79aae",
   "metadata": {},
   "outputs": [],
   "source": [
    "LMS = {}\n",
    "LMS['admin'] = [\n",
    "    {\n",
    "        \"user\":\"sai\",\n",
    "        \"password\":\"sai@123\"\n",
    "    }\n",
    "]\n",
    "LMS['books'] = {}\n",
    "LMS['books']['CSE'] = {}\n",
    "LMS['books']['CSE']['1stYr'] = {}\n",
    "LMS['books']['CSE']['1stYr']['1stSem'] = [] #List of books of CSE,1styr, 1stsem.\n",
    "LMS['students'] = {}\n",
    "LMS['students']['CSE'] = {}\n",
    "LMS['students']['CSE']['1stYr'] = {}\n",
    "LMS['students']['CSE']['1stYr']['1stSem'] = [] #List of students of CSE,1styr, 1stsem.\n",
    "LMS['teachers'] = {}\n",
    "LMS['teachers']['CSE'] = [] #List of teachers."
   ]
  },
  {
   "cell_type": "code",
   "execution_count": 24,
   "id": "da900574-149c-487e-9175-e1cd30b6fa18",
   "metadata": {},
   "outputs": [
    {
     "data": {
      "text/plain": [
       "{'admin': [{'user': 'sai', 'password': 'sai@123'}],\n",
       " 'books': {'CSE': {'1stYr': {'1stSem': []}}},\n",
       " 'students': {'CSE': {'1stYr': {'1stSem': []}}},\n",
       " 'teachers': {'CSE': []}}"
      ]
     },
     "execution_count": 24,
     "metadata": {},
     "output_type": "execute_result"
    }
   ],
   "source": [
    "LMS"
   ]
  },
  {
   "cell_type": "code",
   "execution_count": 25,
   "id": "10a55108-c5c3-4f79-9f47-a903b331e9fd",
   "metadata": {},
   "outputs": [],
   "source": [
    "with open(\"config.json\",\"w\") as file:\n",
    "    config = str(LMS)\n",
    "    config = config.replace('\\'','\"')\n",
    "    file.write(config)\n",
    "    "
   ]
  },
  {
   "cell_type": "code",
   "execution_count": 26,
   "id": "b5787f6d-a172-474d-97e9-934d2205f6c4",
   "metadata": {},
   "outputs": [],
   "source": [
    "with open(\"config.json\",\"r\") as file:\n",
    "    config_read = json.load(file)"
   ]
  },
  {
   "cell_type": "code",
   "execution_count": 27,
   "id": "263a3a26-8ef3-4837-b4ad-24b0b0e73bb6",
   "metadata": {},
   "outputs": [
    {
     "data": {
      "text/plain": [
       "{'admin': [{'user': 'sai', 'password': 'sai@123'}],\n",
       " 'books': {'CSE': {'1stYr': {'1stSem': []}}},\n",
       " 'students': {'CSE': {'1stYr': {'1stSem': []}}},\n",
       " 'teachers': {'CSE': []}}"
      ]
     },
     "execution_count": 27,
     "metadata": {},
     "output_type": "execute_result"
    }
   ],
   "source": [
    "config_read"
   ]
  },
  {
   "cell_type": "code",
   "execution_count": null,
   "id": "55a701e3-8af1-49e6-a108-9c4386db7cf8",
   "metadata": {},
   "outputs": [],
   "source": []
  }
 ],
 "metadata": {
  "kernelspec": {
   "display_name": "Python 3 (ipykernel)",
   "language": "python",
   "name": "python3"
  },
  "language_info": {
   "codemirror_mode": {
    "name": "ipython",
    "version": 3
   },
   "file_extension": ".py",
   "mimetype": "text/x-python",
   "name": "python",
   "nbconvert_exporter": "python",
   "pygments_lexer": "ipython3",
   "version": "3.10.12"
  }
 },
 "nbformat": 4,
 "nbformat_minor": 5
}

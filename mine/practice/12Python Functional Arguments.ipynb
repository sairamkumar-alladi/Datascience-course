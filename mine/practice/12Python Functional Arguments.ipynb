{
 "cells": [
  {
   "cell_type": "markdown",
   "id": "1e08bfcf-b2a5-4167-a343-3a2590c0bdf6",
   "metadata": {},
   "source": [
    "# Functional Arguments\n",
    "- Functional Parameters, Arguments\n",
    "- Functions stored in Stack Memory of the RAM\n",
    "- Functional Scope\n",
    "- - Local Scope --> Every Function will have a local scope\n",
    "  - Definied variables in function are scoped inside function only\n",
    "  - Global Scope\n",
    "  - All Global Variables are read-only to other functions, not allowed to override global variable.\n",
    "  - Pass by value\n",
    "  - Pass by Reference\n",
    "  - List, set, Dictionary --> If you pass these collections then the passing is called called by reference\n",
    "  - All primitive data types are pass by value\n",
    "  - The scope of reference variables also local in functions"
   ]
  },
  {
   "cell_type": "code",
   "execution_count": 1,
   "id": "f5f519ca-6a89-4653-930e-b9d6a7e14f1e",
   "metadata": {},
   "outputs": [],
   "source": [
    "e = 1111\n",
    "def A(a,b,c):\n",
    "    a += 1\n",
    "    b += 2\n",
    "    c += e\n",
    "    print(e)\n",
    "    print(c)\n",
    "    # e = e + 1"
   ]
  },
  {
   "cell_type": "code",
   "execution_count": 2,
   "id": "c443e9be-5b80-49a4-acda-546dacae166a",
   "metadata": {},
   "outputs": [],
   "source": [
    "a = 1 \n",
    "b = 2 \n",
    "c = 3"
   ]
  },
  {
   "cell_type": "code",
   "execution_count": 3,
   "id": "f5730576-1ddd-446e-9d2a-ffa199f9ca16",
   "metadata": {},
   "outputs": [
    {
     "name": "stdout",
     "output_type": "stream",
     "text": [
      "1111\n",
      "1114\n"
     ]
    }
   ],
   "source": [
    "A(a,b,c)"
   ]
  },
  {
   "cell_type": "code",
   "execution_count": 4,
   "id": "b7fda199-4b8b-4147-b188-9278a6029dd1",
   "metadata": {},
   "outputs": [
    {
     "data": {
      "text/plain": [
       "(1, 2, 3)"
      ]
     },
     "execution_count": 4,
     "metadata": {},
     "output_type": "execute_result"
    }
   ],
   "source": [
    "a,b,c"
   ]
  },
  {
   "cell_type": "code",
   "execution_count": 5,
   "id": "d24c8452-d3d0-488c-9b9a-f15232ee1caf",
   "metadata": {},
   "outputs": [],
   "source": [
    "e = e +1"
   ]
  },
  {
   "cell_type": "code",
   "execution_count": 6,
   "id": "5c975cbe-8941-49b7-ab62-bdf0f2396ea0",
   "metadata": {},
   "outputs": [
    {
     "data": {
      "text/plain": [
       "1112"
      ]
     },
     "execution_count": 6,
     "metadata": {},
     "output_type": "execute_result"
    }
   ],
   "source": [
    "e"
   ]
  },
  {
   "cell_type": "code",
   "execution_count": 7,
   "id": "44c51c72-0b9a-4e44-af86-7558575244a3",
   "metadata": {},
   "outputs": [],
   "source": [
    "def k(a):\n",
    "    a.append(6)\n",
    "    print(a)"
   ]
  },
  {
   "cell_type": "code",
   "execution_count": 8,
   "id": "8d33db6c-1255-4bd2-a3c7-e550ff36bfca",
   "metadata": {},
   "outputs": [],
   "source": [
    "lis = [1,2,3]"
   ]
  },
  {
   "cell_type": "code",
   "execution_count": 9,
   "id": "4ca30da2-4af3-4016-9ca3-520fa79da8d6",
   "metadata": {},
   "outputs": [
    {
     "name": "stdout",
     "output_type": "stream",
     "text": [
      "[1, 2, 3, 6]\n"
     ]
    }
   ],
   "source": [
    "k(lis)"
   ]
  },
  {
   "cell_type": "code",
   "execution_count": 10,
   "id": "09433421-7a6b-455b-a158-967a87d26554",
   "metadata": {},
   "outputs": [
    {
     "data": {
      "text/plain": [
       "[1, 2, 3, 6]"
      ]
     },
     "execution_count": 10,
     "metadata": {},
     "output_type": "execute_result"
    }
   ],
   "source": [
    "lis"
   ]
  },
  {
   "cell_type": "code",
   "execution_count": 11,
   "id": "f6495c32-525d-4efd-aea3-b5bb8323047d",
   "metadata": {},
   "outputs": [],
   "source": [
    "def B(a):\n",
    "    a = a.copy()\n",
    "    a.append(6)\n",
    "    # lis.append(7)\n",
    "    print(a)"
   ]
  },
  {
   "cell_type": "code",
   "execution_count": 12,
   "id": "61f63f83-fbee-4e41-b8e6-c19773307a23",
   "metadata": {},
   "outputs": [],
   "source": [
    "lis = [1,2,3]"
   ]
  },
  {
   "cell_type": "code",
   "execution_count": 13,
   "id": "ab338a2b-8a0c-44a4-8413-7ee7488b4d68",
   "metadata": {},
   "outputs": [
    {
     "name": "stdout",
     "output_type": "stream",
     "text": [
      "[1, 2, 3, 6]\n"
     ]
    }
   ],
   "source": [
    "B(lis)"
   ]
  },
  {
   "cell_type": "code",
   "execution_count": 14,
   "id": "c1d10340-61f2-43fb-a91b-154015bf7c1b",
   "metadata": {},
   "outputs": [
    {
     "data": {
      "text/plain": [
       "[1, 2, 3]"
      ]
     },
     "execution_count": 14,
     "metadata": {},
     "output_type": "execute_result"
    }
   ],
   "source": [
    "lis"
   ]
  },
  {
   "cell_type": "code",
   "execution_count": 15,
   "id": "5909bbcb-ee13-4fbe-ba43-a6f19e00c7bc",
   "metadata": {},
   "outputs": [
    {
     "name": "stdout",
     "output_type": "stream",
     "text": [
      "1\n"
     ]
    }
   ],
   "source": [
    "print(a)"
   ]
  },
  {
   "cell_type": "code",
   "execution_count": 16,
   "id": "39278bcb-72b1-4c00-bb39-dbea82cf49e7",
   "metadata": {},
   "outputs": [
    {
     "ename": "UnboundLocalError",
     "evalue": "local variable 'list_a' referenced before assignment",
     "output_type": "error",
     "traceback": [
      "\u001b[0;31m---------------------------------------------------------------------------\u001b[0m",
      "\u001b[0;31mUnboundLocalError\u001b[0m                         Traceback (most recent call last)",
      "Cell \u001b[0;32mIn[16], line 6\u001b[0m\n\u001b[1;32m      4\u001b[0m     list_a \u001b[38;5;241m+\u001b[39m\u001b[38;5;241m=\u001b[39m list_x\n\u001b[1;32m      5\u001b[0m     \u001b[38;5;28;01mreturn\u001b[39;00m list_a\n\u001b[0;32m----> 6\u001b[0m \u001b[43madd_value\u001b[49m\u001b[43m(\u001b[49m\u001b[43m)\u001b[49m\n",
      "Cell \u001b[0;32mIn[16], line 4\u001b[0m, in \u001b[0;36madd_value\u001b[0;34m(list_x)\u001b[0m\n\u001b[1;32m      3\u001b[0m \u001b[38;5;28;01mdef\u001b[39;00m \u001b[38;5;21madd_value\u001b[39m(list_x \u001b[38;5;241m=\u001b[39m []):\n\u001b[0;32m----> 4\u001b[0m     list_a \u001b[38;5;241m+\u001b[39m\u001b[38;5;241m=\u001b[39m list_x\n\u001b[1;32m      5\u001b[0m     \u001b[38;5;28;01mreturn\u001b[39;00m list_a\n",
      "\u001b[0;31mUnboundLocalError\u001b[0m: local variable 'list_a' referenced before assignment"
     ]
    }
   ],
   "source": [
    "list_a = []\n",
    "\n",
    "def add_value(list_x = []):\n",
    "    list_a += list_x\n",
    "    return list_a\n",
    "add_value()\n",
    "\n",
    "\n"
   ]
  },
  {
   "cell_type": "code",
   "execution_count": 57,
   "id": "7b81d5e9-4a6d-4e0e-b215-4a720fd92593",
   "metadata": {},
   "outputs": [
    {
     "name": "stdout",
     "output_type": "stream",
     "text": [
      "[]\n",
      "[3, 5]\n"
     ]
    }
   ],
   "source": [
    "list_a = []\n",
    "\n",
    "def add_value(list_x = []):\n",
    "    global list_a\n",
    "    list_a += list_x\n",
    "    print(list_a)\n",
    "add_value()\n",
    "add_value([3,5])\n",
    "\n",
    "# when you reassign a variable within a function, it creates a new local variable with the same name,\n",
    "# shadowing the global variable of the same name. So, when you do list_a = [] inside the function, \n",
    "# you are creating a new local variable list_a instead of modifying the global list_a."
   ]
  },
  {
   "cell_type": "code",
   "execution_count": 58,
   "id": "3db29e3b-b0d8-4b67-997b-d82cc568292e",
   "metadata": {},
   "outputs": [
    {
     "name": "stdout",
     "output_type": "stream",
     "text": [
      "[]\n",
      "[3, 5]\n"
     ]
    }
   ],
   "source": [
    "list_a = []\n",
    "\n",
    "def add_value(list_x = []):\n",
    "    list_a.extend(list_x)\n",
    "    print(list_a)\n",
    "add_value()\n",
    "add_value([3,5])"
   ]
  },
  {
   "cell_type": "code",
   "execution_count": 59,
   "id": "fcffc754-bbb0-4191-b42f-0e963656729f",
   "metadata": {},
   "outputs": [
    {
     "name": "stdout",
     "output_type": "stream",
     "text": [
      "[3]\n",
      "[1, 4, 3]\n",
      "[3, 3]\n"
     ]
    }
   ],
   "source": [
    "def any_value(list_x = []):\n",
    "    list_x += [3] \n",
    "    print(list_x)\n",
    "    \n",
    "any_value()\n",
    "any_value([1,4])\n",
    "any_value()"
   ]
  },
  {
   "cell_type": "code",
   "execution_count": 67,
   "id": "a6989e0a-2794-4a06-8ec1-4e867afb4175",
   "metadata": {},
   "outputs": [],
   "source": [
    "students = {} ## This variable is updating\n",
    "def add_student(student_name,roll_number):\n",
    "    students[roll_number] = student_name"
   ]
  },
  {
   "cell_type": "code",
   "execution_count": 68,
   "id": "0751ce9f-f134-4f1d-9838-50e409a9cb70",
   "metadata": {},
   "outputs": [],
   "source": [
    "add_student(\"Tharun\",\"123\")"
   ]
  },
  {
   "cell_type": "code",
   "execution_count": 69,
   "id": "a6188b15-fb3e-443e-8295-36fd373c2519",
   "metadata": {},
   "outputs": [
    {
     "data": {
      "text/plain": [
       "{'123': 'Tharun'}"
      ]
     },
     "execution_count": 69,
     "metadata": {},
     "output_type": "execute_result"
    }
   ],
   "source": [
    "students"
   ]
  },
  {
   "cell_type": "code",
   "execution_count": 70,
   "id": "7be471e0-fed1-42b1-9679-0181cd0c3561",
   "metadata": {},
   "outputs": [],
   "source": [
    "\n",
    "name = \"\" ## This variable is not updating\n",
    "def get_name(name):\n",
    "    name = \"Ram\""
   ]
  },
  {
   "cell_type": "code",
   "execution_count": 71,
   "id": "5022c670-40d9-426b-9632-a6638c92780c",
   "metadata": {},
   "outputs": [],
   "source": [
    "get_name(name)"
   ]
  },
  {
   "cell_type": "code",
   "execution_count": 72,
   "id": "6db8577a-d2a7-481b-878d-c83c6ef76a8d",
   "metadata": {},
   "outputs": [
    {
     "data": {
      "text/plain": [
       "''"
      ]
     },
     "execution_count": 72,
     "metadata": {},
     "output_type": "execute_result"
    }
   ],
   "source": [
    "name"
   ]
  },
  {
   "cell_type": "markdown",
   "id": "76b36697-880d-44b1-b851-1ebbe99a10b2",
   "metadata": {},
   "source": [
    "# Types of Functional Arguments\n",
    "- Positional Arguments\n",
    "- Keyword Arguments\n",
    "- Positional Only Arguments\n",
    "- Keyword Only Arguments\n",
    "- Default Arguments\n",
    "- All Positional Arguments are required\n",
    "- Keyword Arguments\n",
    "- All keyword arguments should be at last\n",
    "- Positional Arguments then Keyword arguments\n",
    "- Default Arguments are Optional\n",
    "- *, /\n",
    "- Always / follows *\n",
    "- If we have * in functional arguments --> Parameters after the * should be keyword-only arguments\n",
    "- The Parameteres before the / should be positional only arguments\n",
    "- After / and before * are positional arguments"
   ]
  },
  {
   "cell_type": "code",
   "execution_count": 73,
   "id": "b9246b9d-847b-4a12-a58a-3c8f30a5dc93",
   "metadata": {},
   "outputs": [],
   "source": [
    "def A(a,b,c,d):\n",
    "    print(f\"a:{a} b:{b} c:{c} d: {d}\")"
   ]
  },
  {
   "cell_type": "code",
   "execution_count": 76,
   "id": "88dcfd8c-9a5e-456d-b788-601ae3fd55db",
   "metadata": {},
   "outputs": [
    {
     "name": "stdout",
     "output_type": "stream",
     "text": [
      "a:4 b:2 c:1 d: 3\n"
     ]
    }
   ],
   "source": [
    "a = 1\n",
    "b = 2\n",
    "c = 3\n",
    "d = 4\n",
    "A(d,b,a,c)"
   ]
  },
  {
   "cell_type": "code",
   "execution_count": 77,
   "id": "13d57ed2-8f7c-41ca-947b-f1ebd2980ca4",
   "metadata": {},
   "outputs": [
    {
     "ename": "TypeError",
     "evalue": "A() missing 1 required positional argument: 'd'",
     "output_type": "error",
     "traceback": [
      "\u001b[0;31m---------------------------------------------------------------------------\u001b[0m",
      "\u001b[0;31mTypeError\u001b[0m                                 Traceback (most recent call last)",
      "Cell \u001b[0;32mIn[77], line 1\u001b[0m\n\u001b[0;32m----> 1\u001b[0m \u001b[43mA\u001b[49m\u001b[43m(\u001b[49m\u001b[38;5;241;43m1\u001b[39;49m\u001b[43m,\u001b[49m\u001b[38;5;241;43m2\u001b[39;49m\u001b[43m,\u001b[49m\u001b[38;5;241;43m3\u001b[39;49m\u001b[43m)\u001b[49m\n",
      "\u001b[0;31mTypeError\u001b[0m: A() missing 1 required positional argument: 'd'"
     ]
    }
   ],
   "source": [
    "A(1,2,3)"
   ]
  },
  {
   "cell_type": "code",
   "execution_count": 78,
   "id": "8aa19715-25f3-44db-a97e-7772dacde054",
   "metadata": {},
   "outputs": [
    {
     "ename": "TypeError",
     "evalue": "A() missing 1 required positional argument: 'd'",
     "output_type": "error",
     "traceback": [
      "\u001b[0;31m---------------------------------------------------------------------------\u001b[0m",
      "\u001b[0;31mTypeError\u001b[0m                                 Traceback (most recent call last)",
      "Cell \u001b[0;32mIn[78], line 1\u001b[0m\n\u001b[0;32m----> 1\u001b[0m \u001b[43mA\u001b[49m\u001b[43m(\u001b[49m\u001b[43mb\u001b[49m\u001b[43m,\u001b[49m\u001b[43mc\u001b[49m\u001b[43m,\u001b[49m\u001b[43md\u001b[49m\u001b[43m)\u001b[49m\n",
      "\u001b[0;31mTypeError\u001b[0m: A() missing 1 required positional argument: 'd'"
     ]
    }
   ],
   "source": [
    "A(b,c,d)"
   ]
  },
  {
   "cell_type": "code",
   "execution_count": 79,
   "id": "7a6900e3-bfdb-43ce-92e7-d51438743775",
   "metadata": {},
   "outputs": [
    {
     "name": "stdout",
     "output_type": "stream",
     "text": [
      "Help on function A in module __main__:\n",
      "\n",
      "A(a, b, c, d)\n",
      "\n"
     ]
    }
   ],
   "source": [
    "help(A)"
   ]
  },
  {
   "cell_type": "code",
   "execution_count": 23,
   "id": "e7c9a8de-2c32-4f4a-a892-3968af99c31f",
   "metadata": {},
   "outputs": [
    {
     "name": "stdout",
     "output_type": "stream",
     "text": [
      "a:3 b:1 c:4 d: 2\n"
     ]
    }
   ],
   "source": [
    "A(b=1,d=2,a=3,c=4)"
   ]
  },
  {
   "cell_type": "code",
   "execution_count": 80,
   "id": "d54e330f-f7ec-4b6a-a3b5-c190255f0c3e",
   "metadata": {},
   "outputs": [
    {
     "ename": "SyntaxError",
     "evalue": "positional argument follows keyword argument (4063572494.py, line 1)",
     "output_type": "error",
     "traceback": [
      "\u001b[0;36m  Cell \u001b[0;32mIn[80], line 1\u001b[0;36m\u001b[0m\n\u001b[0;31m    A(a=10,b=1,d=2,6)\u001b[0m\n\u001b[0m                    ^\u001b[0m\n\u001b[0;31mSyntaxError\u001b[0m\u001b[0;31m:\u001b[0m positional argument follows keyword argument\n"
     ]
    }
   ],
   "source": [
    "A(a=10,b=1,d=2,6)"
   ]
  },
  {
   "cell_type": "code",
   "execution_count": 24,
   "id": "5a7b0819-9c77-4b82-9556-2fbbc1c39f3f",
   "metadata": {},
   "outputs": [
    {
     "name": "stdout",
     "output_type": "stream",
     "text": [
      "a:10 b:1 c:6 d: 2\n"
     ]
    }
   ],
   "source": [
    "A(10,b=1,d=2,c=6)"
   ]
  },
  {
   "cell_type": "code",
   "execution_count": 81,
   "id": "9b1a10ec-5fa7-4562-aa07-b2a4809fab0d",
   "metadata": {},
   "outputs": [
    {
     "ename": "SyntaxError",
     "evalue": "non-default argument follows default argument (3545458256.py, line 1)",
     "output_type": "error",
     "traceback": [
      "\u001b[0;36m  Cell \u001b[0;32mIn[81], line 1\u001b[0;36m\u001b[0m\n\u001b[0;31m    def K(a=10,b=9,c):\u001b[0m\n\u001b[0m                   ^\u001b[0m\n\u001b[0;31mSyntaxError\u001b[0m\u001b[0;31m:\u001b[0m non-default argument follows default argument\n"
     ]
    }
   ],
   "source": [
    "def K(a=10,b=9,c):\n",
    "    print(a+b+c)\n",
    "K(9)"
   ]
  },
  {
   "cell_type": "code",
   "execution_count": 82,
   "id": "17206989-fdca-4dc4-8c37-0ee9a1329c04",
   "metadata": {},
   "outputs": [
    {
     "name": "stdout",
     "output_type": "stream",
     "text": [
      "28\n"
     ]
    }
   ],
   "source": [
    "def K(c,a=10,b=9):\n",
    "    print(a+b+c)\n",
    "K(9)"
   ]
  },
  {
   "cell_type": "code",
   "execution_count": 83,
   "id": "37d31961-448b-41bb-a9ae-6c45d42887b8",
   "metadata": {},
   "outputs": [],
   "source": [
    "def B(a,b,c=10):\n",
    "    print(f\"a:{a},b:{b},c:{c}\")"
   ]
  },
  {
   "cell_type": "code",
   "execution_count": 84,
   "id": "7c0e0e75-1188-4072-846b-e7f2e697417e",
   "metadata": {},
   "outputs": [
    {
     "name": "stdout",
     "output_type": "stream",
     "text": [
      "a:1,b:2,c:3\n"
     ]
    }
   ],
   "source": [
    "B(1,2,3)"
   ]
  },
  {
   "cell_type": "code",
   "execution_count": 85,
   "id": "12e156ba-eb82-4252-a4e0-921548001796",
   "metadata": {},
   "outputs": [
    {
     "name": "stdout",
     "output_type": "stream",
     "text": [
      "a:1,b:2,c:10\n"
     ]
    }
   ],
   "source": [
    "B(1,2)"
   ]
  },
  {
   "cell_type": "code",
   "execution_count": 86,
   "id": "be215c02-2084-4262-8e52-a2e2c2486a00",
   "metadata": {},
   "outputs": [
    {
     "name": "stdout",
     "output_type": "stream",
     "text": [
      "a:2,b:1,c:10\n"
     ]
    }
   ],
   "source": [
    "B(b=1,a=2)"
   ]
  },
  {
   "cell_type": "code",
   "execution_count": 87,
   "id": "f196d0c1-7d8f-4bf7-b6d6-b4d40fe5015b",
   "metadata": {},
   "outputs": [
    {
     "name": "stdout",
     "output_type": "stream",
     "text": [
      "a:5,b:1,c:11\n"
     ]
    }
   ],
   "source": [
    "B(b=1,a=5,c=11)"
   ]
  },
  {
   "cell_type": "code",
   "execution_count": 92,
   "id": "5b97a357-5080-40f0-b03a-1e0c020815e3",
   "metadata": {},
   "outputs": [
    {
     "ename": "SyntaxError",
     "evalue": "invalid syntax (3595714012.py, line 1)",
     "output_type": "error",
     "traceback": [
      "\u001b[0;36m  Cell \u001b[0;32mIn[92], line 1\u001b[0;36m\u001b[0m\n\u001b[0;31m    def C(a,b,*,c,d,/,e):\u001b[0m\n\u001b[0m                    ^\u001b[0m\n\u001b[0;31mSyntaxError\u001b[0m\u001b[0;31m:\u001b[0m invalid syntax\n"
     ]
    }
   ],
   "source": [
    "def C(a,b,*,c,d,/,e):\n",
    "    print(f\"a:{a},b:{b},c:{c},d:{d},e:{e}\")"
   ]
  },
  {
   "cell_type": "code",
   "execution_count": 93,
   "id": "40ee4234-55f5-478d-ac7b-ca4db1cc70c7",
   "metadata": {},
   "outputs": [],
   "source": [
    "def C(a,b,/,c,d,*,e):\n",
    "    print(f\"a:{a},b:{b},c:{c},d:{d},e:{e}\")"
   ]
  },
  {
   "cell_type": "code",
   "execution_count": 94,
   "id": "aeda6acb-601a-416d-ad0e-2fa3cc3b465f",
   "metadata": {},
   "outputs": [
    {
     "ename": "TypeError",
     "evalue": "C() takes 4 positional arguments but 5 were given",
     "output_type": "error",
     "traceback": [
      "\u001b[0;31m---------------------------------------------------------------------------\u001b[0m",
      "\u001b[0;31mTypeError\u001b[0m                                 Traceback (most recent call last)",
      "Cell \u001b[0;32mIn[94], line 1\u001b[0m\n\u001b[0;32m----> 1\u001b[0m \u001b[43mC\u001b[49m\u001b[43m(\u001b[49m\u001b[38;5;241;43m1\u001b[39;49m\u001b[43m,\u001b[49m\u001b[38;5;241;43m2\u001b[39;49m\u001b[43m,\u001b[49m\u001b[38;5;241;43m3\u001b[39;49m\u001b[43m,\u001b[49m\u001b[38;5;241;43m4\u001b[39;49m\u001b[43m,\u001b[49m\u001b[38;5;241;43m5\u001b[39;49m\u001b[43m)\u001b[49m\n",
      "\u001b[0;31mTypeError\u001b[0m: C() takes 4 positional arguments but 5 were given"
     ]
    }
   ],
   "source": [
    "C(1,2,3,4,5)"
   ]
  },
  {
   "cell_type": "code",
   "execution_count": 95,
   "id": "2e26210c-871d-43cf-aa69-3437be6de473",
   "metadata": {},
   "outputs": [
    {
     "name": "stdout",
     "output_type": "stream",
     "text": [
      "a:1,b:2,c:3,d:4,e:5\n"
     ]
    }
   ],
   "source": [
    "C(1,2,3,4,e=5)"
   ]
  },
  {
   "cell_type": "code",
   "execution_count": 96,
   "id": "9ab41a85-4962-41f1-8fe1-a47e2812c5ce",
   "metadata": {},
   "outputs": [
    {
     "ename": "TypeError",
     "evalue": "C() got some positional-only arguments passed as keyword arguments: 'a, b'",
     "output_type": "error",
     "traceback": [
      "\u001b[0;31m---------------------------------------------------------------------------\u001b[0m",
      "\u001b[0;31mTypeError\u001b[0m                                 Traceback (most recent call last)",
      "Cell \u001b[0;32mIn[96], line 1\u001b[0m\n\u001b[0;32m----> 1\u001b[0m \u001b[43mC\u001b[49m\u001b[43m(\u001b[49m\u001b[43ma\u001b[49m\u001b[38;5;241;43m=\u001b[39;49m\u001b[38;5;241;43m1\u001b[39;49m\u001b[43m,\u001b[49m\u001b[43mb\u001b[49m\u001b[38;5;241;43m=\u001b[39;49m\u001b[38;5;241;43m2\u001b[39;49m\u001b[43m,\u001b[49m\u001b[43mc\u001b[49m\u001b[38;5;241;43m=\u001b[39;49m\u001b[38;5;241;43m3\u001b[39;49m\u001b[43m,\u001b[49m\u001b[43md\u001b[49m\u001b[38;5;241;43m=\u001b[39;49m\u001b[38;5;241;43m4\u001b[39;49m\u001b[43m,\u001b[49m\u001b[43me\u001b[49m\u001b[38;5;241;43m=\u001b[39;49m\u001b[38;5;241;43m5\u001b[39;49m\u001b[43m)\u001b[49m\n",
      "\u001b[0;31mTypeError\u001b[0m: C() got some positional-only arguments passed as keyword arguments: 'a, b'"
     ]
    }
   ],
   "source": [
    "C(a=1,b=2,c=3,d=4,e=5)"
   ]
  },
  {
   "cell_type": "code",
   "execution_count": 97,
   "id": "c0b163b1-4f1d-467a-a30e-cfc26fe40034",
   "metadata": {},
   "outputs": [
    {
     "name": "stdout",
     "output_type": "stream",
     "text": [
      "a:1,b:2,c:3,d:4,e:5\n"
     ]
    }
   ],
   "source": [
    "C(1,2,c=3,d=4,e=5)"
   ]
  },
  {
   "cell_type": "code",
   "execution_count": null,
   "id": "c2f24989-1d3d-4a1b-bf53-9d5796b26513",
   "metadata": {},
   "outputs": [],
   "source": []
  }
 ],
 "metadata": {
  "kernelspec": {
   "display_name": "Python 3 (ipykernel)",
   "language": "python",
   "name": "python3"
  },
  "language_info": {
   "codemirror_mode": {
    "name": "ipython",
    "version": 3
   },
   "file_extension": ".py",
   "mimetype": "text/x-python",
   "name": "python",
   "nbconvert_exporter": "python",
   "pygments_lexer": "ipython3",
   "version": "3.10.12"
  }
 },
 "nbformat": 4,
 "nbformat_minor": 5
}

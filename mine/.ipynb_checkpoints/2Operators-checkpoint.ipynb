{
 "cells": [
  {
   "cell_type": "markdown",
   "id": "5430f74b-124d-424e-afb0-a72809b37857",
   "metadata": {},
   "source": [
    "# Operators\n",
    "- '=' This is called an assignment operator but not equalto operator\n",
    "- '+', '-', '*', '/' These are arithmetic operators\n",
    "- '+=', '-=', '*=', '/=' These are called implicit arithmetic operators --> More faster in computation compare to arithmetic operators\n",
    "- '<<', '>>' These are shift operators --> multiply by 2 and divide by 2 using 1\n",
    "- String concatenation operator \"+\"\n",
    "- Operator Overloading \"+\" --> is acting as addition operator, string concatenation operator and also list concatenation operator\n",
    "- \"+\" is not supported in sets\n",
    "- Operator Overloading \"-\" --> acts as subtraction in numbers, set difference in sets"
   ]
  },
  {
   "cell_type": "markdown",
   "id": "0ea25916-c4ae-4e1d-a9b5-81762bda8eb1",
   "metadata": {},
   "source": [
    "# Arithmetic Operators\n",
    "- int (+,-,*) int = int\n",
    "- int / int = float\n",
    "- float (+,-,*,/) int = float\n",
    "- int (+,-,*,/) float = float\n",
    "- float (+,-,*,/) float = float"
   ]
  },
  {
   "cell_type": "markdown",
   "id": "81892bbc-d7f6-489b-90d2-3f030cbf4020",
   "metadata": {},
   "source": [
    "# Other Operators\n",
    "- \"in\" --> will take LHS and RHS and return Boolean Type (True/False)\n",
    "- \"str.join\" --> will take the LHS and RHS\n",
    "- - LHS --> is delimeter\n",
    "  - RHS --> List --> String --> Will convert into sequence\n",
    "- Indexing Operators"
   ]
  },
  {
   "cell_type": "code",
   "execution_count": null,
   "id": "a8570985-e663-4bdf-9349-908ff224d3e3",
   "metadata": {},
   "outputs": [],
   "source": []
  }
 ],
 "metadata": {
  "kernelspec": {
   "display_name": "Python 3 (ipykernel)",
   "language": "python",
   "name": "python3"
  },
  "language_info": {
   "codemirror_mode": {
    "name": "ipython",
    "version": 3
   },
   "file_extension": ".py",
   "mimetype": "text/x-python",
   "name": "python",
   "nbconvert_exporter": "python",
   "pygments_lexer": "ipython3",
   "version": "3.11.3"
  }
 },
 "nbformat": 4,
 "nbformat_minor": 5
}

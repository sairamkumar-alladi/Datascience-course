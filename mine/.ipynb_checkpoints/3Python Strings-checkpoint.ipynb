{
 "cells": [
  {
   "cell_type": "markdown",
   "id": "c5f0d454-67c0-4fe9-8f02-2adcd003bd13",
   "metadata": {},
   "source": [
    "# Strings\n",
    "- String is a sequence of characters\n",
    "- String is an immutable object --> Once created it can't be changed"
   ]
  },
  {
   "cell_type": "code",
   "execution_count": 14,
   "id": "5439c9f1-e2a3-4897-b222-1c4970223eda",
   "metadata": {},
   "outputs": [],
   "source": [
    "name = '''Hyderabad'''"
   ]
  },
  {
   "cell_type": "code",
   "execution_count": 12,
   "id": "62b294d8-7714-46d7-a6fa-6190a40d3eac",
   "metadata": {},
   "outputs": [
    {
     "data": {
      "text/plain": [
       "'Hyderabad'"
      ]
     },
     "execution_count": 12,
     "metadata": {},
     "output_type": "execute_result"
    }
   ],
   "source": [
    "name"
   ]
  },
  {
   "cell_type": "code",
   "execution_count": 13,
   "id": "8ca27cd1-b4b4-47e0-a686-0ae40f81b82e",
   "metadata": {},
   "outputs": [
    {
     "data": {
      "text/plain": [
       "str"
      ]
     },
     "execution_count": 13,
     "metadata": {},
     "output_type": "execute_result"
    }
   ],
   "source": [
    "type(name)"
   ]
  },
  {
   "cell_type": "code",
   "execution_count": 4,
   "id": "cc96e8fa-7290-4345-9328-1153f2fc2d17",
   "metadata": {},
   "outputs": [],
   "source": [
    "ch = 'a'"
   ]
  },
  {
   "cell_type": "code",
   "execution_count": 5,
   "id": "1f802244-b6dc-44f5-9d37-8a898a644fab",
   "metadata": {},
   "outputs": [
    {
     "data": {
      "text/plain": [
       "str"
      ]
     },
     "execution_count": 5,
     "metadata": {},
     "output_type": "execute_result"
    }
   ],
   "source": [
    "type(ch)"
   ]
  },
  {
   "cell_type": "code",
   "execution_count": 6,
   "id": "682cf011-f214-4b63-90af-5800610ae1d6",
   "metadata": {},
   "outputs": [],
   "source": [
    "ch = ''"
   ]
  },
  {
   "cell_type": "code",
   "execution_count": 7,
   "id": "400fa0b1-991b-4773-8f14-48aecf2a1877",
   "metadata": {},
   "outputs": [
    {
     "data": {
      "text/plain": [
       "str"
      ]
     },
     "execution_count": 7,
     "metadata": {},
     "output_type": "execute_result"
    }
   ],
   "source": [
    "type(ch)"
   ]
  },
  {
   "cell_type": "markdown",
   "id": "1ec9102e-b5f6-41c4-9023-9b993de4f2a8",
   "metadata": {},
   "source": [
    "# Assigning String literals\n",
    "- To assign a string literal to a variable  we have to use \"\" to indicate the string literal ==> JSON files\n",
    "- The string can also be enclosed by '' ===> General things\n",
    "- The string can also be enclosed by '''''' ===> SQL Queries\n",
    "\n",
    "In general we use '' mostly for string literals\n",
    "- Python treats string literals by SOS, EOS tokens\n",
    "- SOS -- '\n",
    "- EOS -- '\n",
    "- Escape character -- \\"
   ]
  },
  {
   "cell_type": "code",
   "execution_count": null,
   "id": "bb67510b-fdb5-4729-8b66-abc420e3f0d6",
   "metadata": {},
   "outputs": [],
   "source": []
  },
  {
   "cell_type": "code",
   "execution_count": 16,
   "id": "a391bc84-efef-4069-b13a-b2a2c721d92d",
   "metadata": {},
   "outputs": [],
   "source": [
    "statement = 'Tharun\\'s laptop got damaged'"
   ]
  },
  {
   "cell_type": "code",
   "execution_count": 27,
   "id": "ac8fe245-1792-4dc9-9297-253defbaab5c",
   "metadata": {
    "scrolled": true
   },
   "outputs": [
    {
     "data": {
      "text/plain": [
       "'He said, \"Tharun\\'s latpot got damaged\"'"
      ]
     },
     "execution_count": 27,
     "metadata": {},
     "output_type": "execute_result"
    }
   ],
   "source": [
    "statement"
   ]
  },
  {
   "cell_type": "code",
   "execution_count": 18,
   "id": "d0ecb090-de54-4fe2-bb59-b71af77199c1",
   "metadata": {},
   "outputs": [],
   "source": [
    "## SOS = \" , EOS = \"\n",
    "statement = \"Tharun's laptop got damaged\""
   ]
  },
  {
   "cell_type": "code",
   "execution_count": 19,
   "id": "10428aa8-1969-49ae-920d-63047285802a",
   "metadata": {},
   "outputs": [
    {
     "data": {
      "text/plain": [
       "\"Tharun's laptop got damaged\""
      ]
     },
     "execution_count": 19,
     "metadata": {},
     "output_type": "execute_result"
    }
   ],
   "source": [
    "statement"
   ]
  },
  {
   "cell_type": "code",
   "execution_count": 25,
   "id": "e8ee0b96-54cb-418d-b1d6-0e3dfba273ed",
   "metadata": {},
   "outputs": [],
   "source": [
    "statement = \"He said, \\\"Tharun's latpot got damaged\\\"\""
   ]
  },
  {
   "cell_type": "code",
   "execution_count": 26,
   "id": "feaea606-b04e-4ded-b6d8-15ab8c46daba",
   "metadata": {},
   "outputs": [
    {
     "data": {
      "text/plain": [
       "'He said, \"Tharun\\'s latpot got damaged\"'"
      ]
     },
     "execution_count": 26,
     "metadata": {},
     "output_type": "execute_result"
    }
   ],
   "source": [
    "statement"
   ]
  },
  {
   "cell_type": "code",
   "execution_count": 28,
   "id": "810b1331-fd27-45df-9bf9-badc60d64621",
   "metadata": {},
   "outputs": [],
   "source": [
    "statement = 'He said, \"Tharun\\'s latpot got damaged\"'"
   ]
  },
  {
   "cell_type": "code",
   "execution_count": 29,
   "id": "ca5b2da0-106e-490b-b864-68f9b91ffbe8",
   "metadata": {},
   "outputs": [
    {
     "data": {
      "text/plain": [
       "'He said, \"Tharun\\'s latpot got damaged\"'"
      ]
     },
     "execution_count": 29,
     "metadata": {},
     "output_type": "execute_result"
    }
   ],
   "source": [
    "statement"
   ]
  },
  {
   "cell_type": "code",
   "execution_count": 30,
   "id": "45804070-50d1-42ed-9b9c-d7c61c787647",
   "metadata": {},
   "outputs": [],
   "source": [
    "statement = '''He Said, \"Tharun's laptop got damaged\"'''"
   ]
  },
  {
   "cell_type": "code",
   "execution_count": 31,
   "id": "2a715b41-399b-4b2f-8833-f6bba1dd7548",
   "metadata": {},
   "outputs": [
    {
     "data": {
      "text/plain": [
       "'He Said, \"Tharun\\'s laptop got damaged\"'"
      ]
     },
     "execution_count": 31,
     "metadata": {},
     "output_type": "execute_result"
    }
   ],
   "source": [
    "statement"
   ]
  },
  {
   "cell_type": "code",
   "execution_count": 32,
   "id": "16093a79-ca1a-4f42-b85c-b744ad157fee",
   "metadata": {},
   "outputs": [
    {
     "data": {
      "text/plain": [
       "'Hyderabad'"
      ]
     },
     "execution_count": 32,
     "metadata": {},
     "output_type": "execute_result"
    }
   ],
   "source": [
    "name"
   ]
  },
  {
   "cell_type": "code",
   "execution_count": 33,
   "id": "84df5f6d-04c4-4274-ad26-36447c17022f",
   "metadata": {},
   "outputs": [
    {
     "data": {
      "text/plain": [
       "9"
      ]
     },
     "execution_count": 33,
     "metadata": {},
     "output_type": "execute_result"
    }
   ],
   "source": [
    "len(name)"
   ]
  },
  {
   "cell_type": "code",
   "execution_count": 34,
   "id": "7cd51f7f-6390-4c6e-9c4f-3a627322f2b5",
   "metadata": {},
   "outputs": [],
   "source": [
    "first_name = 'Tharun'\n",
    "last_name = 'Kumar'"
   ]
  },
  {
   "cell_type": "code",
   "execution_count": 35,
   "id": "dcd970ac-2270-4a47-ad1d-c4af615071bd",
   "metadata": {},
   "outputs": [
    {
     "data": {
      "text/plain": [
       "4"
      ]
     },
     "execution_count": 35,
     "metadata": {},
     "output_type": "execute_result"
    }
   ],
   "source": [
    "2+2 # mathematical additioon"
   ]
  },
  {
   "cell_type": "code",
   "execution_count": 36,
   "id": "898cd8d6-928c-4d7e-9ed5-4befb2f7802c",
   "metadata": {},
   "outputs": [
    {
     "data": {
      "text/plain": [
       "'TharunKumar'"
      ]
     },
     "execution_count": 36,
     "metadata": {},
     "output_type": "execute_result"
    }
   ],
   "source": [
    "first_name+last_name # string concatenation"
   ]
  },
  {
   "cell_type": "markdown",
   "id": "e8fdb564-58e6-40d6-ae18-ca61f7241301",
   "metadata": {},
   "source": [
    "# f Strings\n",
    "- Strings should be started with f"
   ]
  },
  {
   "cell_type": "code",
   "execution_count": 42,
   "id": "0fe1efc1-b65a-4552-8b2b-f14fd44e2b1a",
   "metadata": {},
   "outputs": [],
   "source": [
    "full_name = f'{first_name} {last_name}'"
   ]
  },
  {
   "cell_type": "code",
   "execution_count": 53,
   "id": "0a5512c5-6ee4-4599-a1a0-0664e4b36aea",
   "metadata": {},
   "outputs": [
    {
     "data": {
      "text/plain": [
       "'Therun Kumar'"
      ]
     },
     "execution_count": 53,
     "metadata": {},
     "output_type": "execute_result"
    }
   ],
   "source": [
    "full_name"
   ]
  },
  {
   "cell_type": "code",
   "execution_count": 47,
   "id": "132835c4-ee29-4eba-ae08-fe3c1d1ae675",
   "metadata": {},
   "outputs": [],
   "source": [
    "greeting = f'Hello {first_name} {last_name}!'"
   ]
  },
  {
   "cell_type": "code",
   "execution_count": 57,
   "id": "f8a92ee0-ef14-4fec-87ed-18b8f8d037bd",
   "metadata": {},
   "outputs": [
    {
     "data": {
      "text/plain": [
       "'Hello Tharun Kumar!'"
      ]
     },
     "execution_count": 57,
     "metadata": {},
     "output_type": "execute_result"
    }
   ],
   "source": [
    "greeting"
   ]
  },
  {
   "cell_type": "markdown",
   "id": "71032482-77f1-408b-8f81-4a2a5a89e591",
   "metadata": {},
   "source": [
    "# String Extraction\n",
    "- String Indexing\n",
    "- String indices starts from 0\n",
    "- We can't update the string inplace ==> Immutability\n",
    "\n",
    "# String Slicing\n",
    "- Slice Formulae --> The portion --> starting index, end position"
   ]
  },
  {
   "cell_type": "code",
   "execution_count": 55,
   "id": "eb9bab64-d65f-4a88-b124-b811a03e3eca",
   "metadata": {},
   "outputs": [
    {
     "ename": "TypeError",
     "evalue": "'str' object does not support item assignment",
     "output_type": "error",
     "traceback": [
      "\u001b[0;31m---------------------------------------------------------------------------\u001b[0m",
      "\u001b[0;31mTypeError\u001b[0m                                 Traceback (most recent call last)",
      "Cell \u001b[0;32mIn[55], line 1\u001b[0m\n\u001b[0;32m----> 1\u001b[0m \u001b[43mfull_name\u001b[49m\u001b[43m[\u001b[49m\u001b[38;5;241;43m2\u001b[39;49m\u001b[43m]\u001b[49m \u001b[38;5;241m=\u001b[39m \u001b[38;5;124m'\u001b[39m\u001b[38;5;124me\u001b[39m\u001b[38;5;124m'\u001b[39m\n",
      "\u001b[0;31mTypeError\u001b[0m: 'str' object does not support item assignment"
     ]
    }
   ],
   "source": [
    "full_name[2] = 'e'"
   ]
  },
  {
   "cell_type": "code",
   "execution_count": 3,
   "id": "32e1368e-9676-43b4-9952-8aae6af35499",
   "metadata": {},
   "outputs": [],
   "source": [
    "greeting = 'Hello Tharun Kumar'"
   ]
  },
  {
   "cell_type": "code",
   "execution_count": 4,
   "id": "82f20126-2cac-4b0d-81ee-585fae9cf553",
   "metadata": {},
   "outputs": [
    {
     "data": {
      "text/plain": [
       "'Hello Tharun Kumar'"
      ]
     },
     "execution_count": 4,
     "metadata": {},
     "output_type": "execute_result"
    }
   ],
   "source": [
    "greeting"
   ]
  },
  {
   "cell_type": "code",
   "execution_count": 5,
   "id": "c455c650-ebe5-412d-b01c-6e2c1368ed4c",
   "metadata": {},
   "outputs": [
    {
     "data": {
      "text/plain": [
       "'Tharun'"
      ]
     },
     "execution_count": 5,
     "metadata": {},
     "output_type": "execute_result"
    }
   ],
   "source": [
    "greeting[6:12]"
   ]
  },
  {
   "cell_type": "code",
   "execution_count": 7,
   "id": "e1174e51-1116-4f39-9a8f-62392aa21350",
   "metadata": {},
   "outputs": [
    {
     "data": {
      "text/plain": [
       "6"
      ]
     },
     "execution_count": 7,
     "metadata": {},
     "output_type": "execute_result"
    }
   ],
   "source": [
    "greeting.index('T') ## First occurence of the letter and returns the index of that letter."
   ]
  },
  {
   "cell_type": "code",
   "execution_count": 9,
   "id": "dbf6bb2c-baca-4939-ac00-4cb76bf0f131",
   "metadata": {},
   "outputs": [
    {
     "data": {
      "text/plain": [
       "2"
      ]
     },
     "execution_count": 9,
     "metadata": {},
     "output_type": "execute_result"
    }
   ],
   "source": [
    "greeting.index('l')"
   ]
  },
  {
   "cell_type": "code",
   "execution_count": 10,
   "id": "462c7c95-4e98-45d9-a719-aabfffd26983",
   "metadata": {},
   "outputs": [
    {
     "data": {
      "text/plain": [
       "['__add__',\n",
       " '__class__',\n",
       " '__contains__',\n",
       " '__delattr__',\n",
       " '__dir__',\n",
       " '__doc__',\n",
       " '__eq__',\n",
       " '__format__',\n",
       " '__ge__',\n",
       " '__getattribute__',\n",
       " '__getitem__',\n",
       " '__getnewargs__',\n",
       " '__getstate__',\n",
       " '__gt__',\n",
       " '__hash__',\n",
       " '__init__',\n",
       " '__init_subclass__',\n",
       " '__iter__',\n",
       " '__le__',\n",
       " '__len__',\n",
       " '__lt__',\n",
       " '__mod__',\n",
       " '__mul__',\n",
       " '__ne__',\n",
       " '__new__',\n",
       " '__reduce__',\n",
       " '__reduce_ex__',\n",
       " '__repr__',\n",
       " '__rmod__',\n",
       " '__rmul__',\n",
       " '__setattr__',\n",
       " '__sizeof__',\n",
       " '__str__',\n",
       " '__subclasshook__',\n",
       " 'capitalize',\n",
       " 'casefold',\n",
       " 'center',\n",
       " 'count',\n",
       " 'encode',\n",
       " 'endswith',\n",
       " 'expandtabs',\n",
       " 'find',\n",
       " 'format',\n",
       " 'format_map',\n",
       " 'index',\n",
       " 'isalnum',\n",
       " 'isalpha',\n",
       " 'isascii',\n",
       " 'isdecimal',\n",
       " 'isdigit',\n",
       " 'isidentifier',\n",
       " 'islower',\n",
       " 'isnumeric',\n",
       " 'isprintable',\n",
       " 'isspace',\n",
       " 'istitle',\n",
       " 'isupper',\n",
       " 'join',\n",
       " 'ljust',\n",
       " 'lower',\n",
       " 'lstrip',\n",
       " 'maketrans',\n",
       " 'partition',\n",
       " 'removeprefix',\n",
       " 'removesuffix',\n",
       " 'replace',\n",
       " 'rfind',\n",
       " 'rindex',\n",
       " 'rjust',\n",
       " 'rpartition',\n",
       " 'rsplit',\n",
       " 'rstrip',\n",
       " 'split',\n",
       " 'splitlines',\n",
       " 'startswith',\n",
       " 'strip',\n",
       " 'swapcase',\n",
       " 'title',\n",
       " 'translate',\n",
       " 'upper',\n",
       " 'zfill']"
      ]
     },
     "execution_count": 10,
     "metadata": {},
     "output_type": "execute_result"
    }
   ],
   "source": [
    "dir(greeting)"
   ]
  },
  {
   "cell_type": "code",
   "execution_count": 11,
   "id": "6337e27b-dbba-4c59-9a30-b016cfebc623",
   "metadata": {},
   "outputs": [
    {
     "name": "stdout",
     "output_type": "stream",
     "text": [
      "Help on built-in function index:\n",
      "\n",
      "index(...) method of builtins.str instance\n",
      "    S.index(sub[, start[, end]]) -> int\n",
      "    \n",
      "    Return the lowest index in S where substring sub is found,\n",
      "    such that sub is contained within S[start:end].  Optional\n",
      "    arguments start and end are interpreted as in slice notation.\n",
      "    \n",
      "    Raises ValueError when the substring is not found.\n",
      "\n"
     ]
    }
   ],
   "source": [
    "help(greeting.index)"
   ]
  },
  {
   "cell_type": "code",
   "execution_count": 18,
   "id": "17a07d28-8740-48c9-bd3a-464e7e5de81b",
   "metadata": {},
   "outputs": [],
   "source": [
    "word_to_be_find = \"Tharun\"\n",
    "index = greeting.index(word_to_be_find)"
   ]
  },
  {
   "cell_type": "code",
   "execution_count": 19,
   "id": "df801fb2-4858-46e9-93e6-bbeb9f1877eb",
   "metadata": {},
   "outputs": [
    {
     "data": {
      "text/plain": [
       "12"
      ]
     },
     "execution_count": 19,
     "metadata": {},
     "output_type": "execute_result"
    }
   ],
   "source": [
    "end_position = index+len(word_to_be_find)\n",
    "end_position"
   ]
  },
  {
   "cell_type": "code",
   "execution_count": 20,
   "id": "b20f8218-7fb5-4cd5-9ddb-c49b0527cb61",
   "metadata": {},
   "outputs": [],
   "source": [
    "## This is my string, I am finding the word index in the string\n",
    "help_index = '''\n",
    "Help on built-in function index:\n",
    "\n",
    "index(...) method of builtins.str instance\n",
    "    S.index(sub[, start[, end]]) -> int\n",
    "    \n",
    "    Return the lowest index in S where substring sub is found,\n",
    "    such that sub is contained within S[start:end].  Optional\n",
    "    arguments start and end are interpreted as in slice notation.\n",
    "    \n",
    "    Raises ValueError when the substring is not found.\n",
    "'''"
   ]
  },
  {
   "cell_type": "code",
   "execution_count": 22,
   "id": "6b980fd7-c1a6-4a14-9ae0-e11f0b174b61",
   "metadata": {},
   "outputs": [
    {
     "data": {
      "text/plain": [
       "['__add__',\n",
       " '__class__',\n",
       " '__contains__',\n",
       " '__delattr__',\n",
       " '__dir__',\n",
       " '__doc__',\n",
       " '__eq__',\n",
       " '__format__',\n",
       " '__ge__',\n",
       " '__getattribute__',\n",
       " '__getitem__',\n",
       " '__getnewargs__',\n",
       " '__getstate__',\n",
       " '__gt__',\n",
       " '__hash__',\n",
       " '__init__',\n",
       " '__init_subclass__',\n",
       " '__iter__',\n",
       " '__le__',\n",
       " '__len__',\n",
       " '__lt__',\n",
       " '__mod__',\n",
       " '__mul__',\n",
       " '__ne__',\n",
       " '__new__',\n",
       " '__reduce__',\n",
       " '__reduce_ex__',\n",
       " '__repr__',\n",
       " '__rmod__',\n",
       " '__rmul__',\n",
       " '__setattr__',\n",
       " '__sizeof__',\n",
       " '__str__',\n",
       " '__subclasshook__',\n",
       " 'capitalize',\n",
       " 'casefold',\n",
       " 'center',\n",
       " 'count',\n",
       " 'encode',\n",
       " 'endswith',\n",
       " 'expandtabs',\n",
       " 'find',\n",
       " 'format',\n",
       " 'format_map',\n",
       " 'index',\n",
       " 'isalnum',\n",
       " 'isalpha',\n",
       " 'isascii',\n",
       " 'isdecimal',\n",
       " 'isdigit',\n",
       " 'isidentifier',\n",
       " 'islower',\n",
       " 'isnumeric',\n",
       " 'isprintable',\n",
       " 'isspace',\n",
       " 'istitle',\n",
       " 'isupper',\n",
       " 'join',\n",
       " 'ljust',\n",
       " 'lower',\n",
       " 'lstrip',\n",
       " 'maketrans',\n",
       " 'partition',\n",
       " 'removeprefix',\n",
       " 'removesuffix',\n",
       " 'replace',\n",
       " 'rfind',\n",
       " 'rindex',\n",
       " 'rjust',\n",
       " 'rpartition',\n",
       " 'rsplit',\n",
       " 'rstrip',\n",
       " 'split',\n",
       " 'splitlines',\n",
       " 'startswith',\n",
       " 'strip',\n",
       " 'swapcase',\n",
       " 'title',\n",
       " 'translate',\n",
       " 'upper',\n",
       " 'zfill']"
      ]
     },
     "execution_count": 22,
     "metadata": {},
     "output_type": "execute_result"
    }
   ],
   "source": [
    "dir(help_index)"
   ]
  },
  {
   "cell_type": "code",
   "execution_count": 23,
   "id": "48452123-e766-4ee1-ad71-d21b0ad33a21",
   "metadata": {},
   "outputs": [
    {
     "name": "stdout",
     "output_type": "stream",
     "text": [
      "Help on method_descriptor:\n",
      "\n",
      "find(...)\n",
      "    S.find(sub[, start[, end]]) -> int\n",
      "    \n",
      "    Return the lowest index in S where substring sub is found,\n",
      "    such that sub is contained within S[start:end].  Optional\n",
      "    arguments start and end are interpreted as in slice notation.\n",
      "    \n",
      "    Return -1 on failure.\n",
      "\n"
     ]
    }
   ],
   "source": [
    "help(str.find)"
   ]
  },
  {
   "cell_type": "code",
   "execution_count": 24,
   "id": "7a0a3e09-d4ae-44b0-9c4e-b846e997e35e",
   "metadata": {},
   "outputs": [
    {
     "name": "stdout",
     "output_type": "stream",
     "text": [
      "Help on method_descriptor:\n",
      "\n",
      "index(...)\n",
      "    S.index(sub[, start[, end]]) -> int\n",
      "    \n",
      "    Return the lowest index in S where substring sub is found,\n",
      "    such that sub is contained within S[start:end].  Optional\n",
      "    arguments start and end are interpreted as in slice notation.\n",
      "    \n",
      "    Raises ValueError when the substring is not found.\n",
      "\n"
     ]
    }
   ],
   "source": [
    "help(str.index)"
   ]
  },
  {
   "cell_type": "code",
   "execution_count": 26,
   "id": "b72468f6-c7ef-425c-a404-e2fdae3b6554",
   "metadata": {},
   "outputs": [
    {
     "data": {
      "text/plain": [
       "-1"
      ]
     },
     "execution_count": 26,
     "metadata": {},
     "output_type": "execute_result"
    }
   ],
   "source": [
    "help_index.find('Tharun')"
   ]
  },
  {
   "cell_type": "code",
   "execution_count": 27,
   "id": "1c96edad-adca-4e77-986a-2f6410bf0a98",
   "metadata": {},
   "outputs": [
    {
     "ename": "ValueError",
     "evalue": "substring not found",
     "output_type": "error",
     "traceback": [
      "\u001b[0;31m---------------------------------------------------------------------------\u001b[0m",
      "\u001b[0;31mValueError\u001b[0m                                Traceback (most recent call last)",
      "Cell \u001b[0;32mIn[27], line 1\u001b[0m\n\u001b[0;32m----> 1\u001b[0m \u001b[43mhelp_index\u001b[49m\u001b[38;5;241;43m.\u001b[39;49m\u001b[43mindex\u001b[49m\u001b[43m(\u001b[49m\u001b[38;5;124;43m'\u001b[39;49m\u001b[38;5;124;43mTharun\u001b[39;49m\u001b[38;5;124;43m'\u001b[39;49m\u001b[43m)\u001b[49m\n",
      "\u001b[0;31mValueError\u001b[0m: substring not found"
     ]
    }
   ],
   "source": [
    "help_index.index('Tharun')"
   ]
  },
  {
   "cell_type": "code",
   "execution_count": 28,
   "id": "5f38130e-c083-4cf0-be73-eb0f1fdfaf56",
   "metadata": {},
   "outputs": [
    {
     "data": {
      "text/plain": [
       "'\\nHelp on built-in function index:\\n\\nindex(...) method of builtins.str instance\\n    S.index(sub[, start[, end]]) -> int\\n    \\n    Return the lowest index in S where substring sub is found,\\n    such that sub is contained within S[start:end].  Optional\\n    arguments start and end are interpreted as in slice notation.\\n    \\n    Raises ValueError when the substring is not found.\\n'"
      ]
     },
     "execution_count": 28,
     "metadata": {},
     "output_type": "execute_result"
    }
   ],
   "source": [
    "help_index"
   ]
  },
  {
   "cell_type": "code",
   "execution_count": 29,
   "id": "4e7a03c5-987d-42ee-927c-1114cc44cddc",
   "metadata": {},
   "outputs": [
    {
     "data": {
      "text/plain": [
       "4"
      ]
     },
     "execution_count": 29,
     "metadata": {},
     "output_type": "execute_result"
    }
   ],
   "source": [
    "help_index.count('index')"
   ]
  },
  {
   "cell_type": "code",
   "execution_count": 31,
   "id": "7f5e4183-3fec-4b26-a4d2-37d866dfd1d2",
   "metadata": {},
   "outputs": [],
   "source": [
    "help_index1 = help_index.capitalize()"
   ]
  },
  {
   "cell_type": "code",
   "execution_count": 32,
   "id": "c0211ae7-ba05-4572-b4b4-db59c003290b",
   "metadata": {},
   "outputs": [
    {
     "data": {
      "text/plain": [
       "'\\nhelp on built-in function index:\\n\\nindex(...) method of builtins.str instance\\n    s.index(sub[, start[, end]]) -> int\\n    \\n    return the lowest index in s where substring sub is found,\\n    such that sub is contained within s[start:end].  optional\\n    arguments start and end are interpreted as in slice notation.\\n    \\n    raises valueerror when the substring is not found.\\n'"
      ]
     },
     "execution_count": 32,
     "metadata": {},
     "output_type": "execute_result"
    }
   ],
   "source": [
    "help_index1"
   ]
  },
  {
   "cell_type": "code",
   "execution_count": 33,
   "id": "8c0e88d4-e6af-45be-82d2-b4a02f14f818",
   "metadata": {},
   "outputs": [
    {
     "data": {
      "text/plain": [
       "'\\nhelp on built-in function index:\\n\\nindex(...) method of builtins.str instance\\n    s.index(sub[, start[, end]]) -> int\\n    \\n    return the lowest index in s where substring sub is found,\\n    such that sub is contained within s[start:end].  optional\\n    arguments start and end are interpreted as in slice notation.\\n    \\n    raises valueerror when the substring is not found.\\n'"
      ]
     },
     "execution_count": 33,
     "metadata": {},
     "output_type": "execute_result"
    }
   ],
   "source": [
    "help_index1.capitalize()"
   ]
  },
  {
   "cell_type": "code",
   "execution_count": 34,
   "id": "75bc2689-167a-4123-9d28-efc656a99796",
   "metadata": {},
   "outputs": [],
   "source": [
    "name = 'hyderabad'"
   ]
  },
  {
   "cell_type": "code",
   "execution_count": 35,
   "id": "5ab12342-a94a-47b5-890a-2ef1ce82c9f0",
   "metadata": {},
   "outputs": [
    {
     "data": {
      "text/plain": [
       "'Hyderabad'"
      ]
     },
     "execution_count": 35,
     "metadata": {},
     "output_type": "execute_result"
    }
   ],
   "source": [
    "name.capitalize()"
   ]
  },
  {
   "cell_type": "code",
   "execution_count": 37,
   "id": "8dadbbbf-261c-46df-a0c3-4c2ce10e58b5",
   "metadata": {},
   "outputs": [
    {
     "data": {
      "text/plain": [
       "'\\n'"
      ]
     },
     "execution_count": 37,
     "metadata": {},
     "output_type": "execute_result"
    }
   ],
   "source": [
    "help_index1[0]"
   ]
  },
  {
   "cell_type": "code",
   "execution_count": 38,
   "id": "fc376f14-9d50-4fba-82a7-5ab5467d0ed7",
   "metadata": {},
   "outputs": [
    {
     "name": "stdout",
     "output_type": "stream",
     "text": [
      "Help on method_descriptor:\n",
      "\n",
      "isalnum(self, /)\n",
      "    Return True if the string is an alpha-numeric string, False otherwise.\n",
      "    \n",
      "    A string is alpha-numeric if all characters in the string are alpha-numeric and\n",
      "    there is at least one character in the string.\n",
      "\n"
     ]
    }
   ],
   "source": [
    "help(str.isalnum)"
   ]
  },
  {
   "cell_type": "code",
   "execution_count": 43,
   "id": "e594ba97-18ef-4c8b-a7d6-b5ee4ad4ae8f",
   "metadata": {},
   "outputs": [
    {
     "data": {
      "text/plain": [
       "False"
      ]
     },
     "execution_count": 43,
     "metadata": {},
     "output_type": "execute_result"
    }
   ],
   "source": [
    "\"a_@#\".isalnum()"
   ]
  },
  {
   "cell_type": "markdown",
   "id": "f9961801-cc81-4e4b-bf8b-1fa06b903d39",
   "metadata": {},
   "source": [
    "# Formatted Strings\n",
    "- \"Hello <name> Namaste!\" -- String Template\n",
    "- User 1 --> \"Hello Raj Namaste\"\n",
    "- User 2 --> \"Hello Pawan Namaste\"\n",
    "- (\"Hello %s Namaste!\".format(\"Tharun\"))\n",
    "- \"Your balance is <amount>!\"\n",
    "- (\"Your balance is %f\",265.87)\n",
    "\n",
    "# F Strings\n",
    "- name = \"karthik\"\n",
    "- f\"Hello {name} Namaste!\""
   ]
  },
  {
   "cell_type": "code",
   "execution_count": 12,
   "id": "3a986404-1e5c-4a9c-8854-eaf43bb71ef1",
   "metadata": {},
   "outputs": [],
   "source": [
    "name = \"Ramesh\""
   ]
  },
  {
   "cell_type": "code",
   "execution_count": 13,
   "id": "15f231c0-8536-4df5-bb12-4caa68237b40",
   "metadata": {},
   "outputs": [],
   "source": [
    "greeting = f\"Hello {name} Namaste!\" ## HardCoding"
   ]
  },
  {
   "cell_type": "code",
   "execution_count": 15,
   "id": "b259b798-4a8b-4ec0-8063-aef619a2201c",
   "metadata": {},
   "outputs": [
    {
     "data": {
      "text/plain": [
       "'Hello Ramesh Namaste!'"
      ]
     },
     "execution_count": 15,
     "metadata": {},
     "output_type": "execute_result"
    }
   ],
   "source": [
    "greeting"
   ]
  },
  {
   "cell_type": "code",
   "execution_count": 16,
   "id": "0f02bb2e-27a0-4c00-90dc-2d8863175219",
   "metadata": {},
   "outputs": [],
   "source": [
    "amount = 256.89"
   ]
  },
  {
   "cell_type": "code",
   "execution_count": 17,
   "id": "aba85cc8-9c65-4afd-b91e-5ca6546bafb2",
   "metadata": {},
   "outputs": [],
   "source": [
    "balance_info = f\"Hello {name}, Your Balance is {amount}\" ## SoftCoding"
   ]
  },
  {
   "cell_type": "code",
   "execution_count": 18,
   "id": "121e929d-913d-454f-a0dc-029948babee8",
   "metadata": {},
   "outputs": [
    {
     "data": {
      "text/plain": [
       "'Hello Ramesh, Your Balance is 256.89'"
      ]
     },
     "execution_count": 18,
     "metadata": {},
     "output_type": "execute_result"
    }
   ],
   "source": [
    "balance_info"
   ]
  },
  {
   "cell_type": "markdown",
   "id": "0cc2b548-6b04-4ec1-a33b-733be5b55328",
   "metadata": {},
   "source": [
    "# Print Function\n",
    "- Print Function is an i/o function\n",
    "- output --> What is an output device--> Printers, Monitor --> Output Driver--Software\n",
    "- print()\n",
    "- print function will take strings"
   ]
  },
  {
   "cell_type": "code",
   "execution_count": 19,
   "id": "aa4c0d7d-dac3-4c32-83a8-0add475bd03b",
   "metadata": {},
   "outputs": [
    {
     "name": "stdout",
     "output_type": "stream",
     "text": [
      "Hello World!\n"
     ]
    }
   ],
   "source": [
    "print(\"Hello World!\")"
   ]
  },
  {
   "cell_type": "code",
   "execution_count": 20,
   "id": "a3256dab-6d33-4abe-ac3a-5acd40363569",
   "metadata": {},
   "outputs": [
    {
     "name": "stdout",
     "output_type": "stream",
     "text": [
      "Hello Ramesh Namaste!\n"
     ]
    }
   ],
   "source": [
    "print(f'Hello {name} Namaste!')"
   ]
  },
  {
   "cell_type": "code",
   "execution_count": 22,
   "id": "11a08b6e-3c1d-4fb2-b300-b2c3bb67b5b4",
   "metadata": {},
   "outputs": [
    {
     "name": "stdout",
     "output_type": "stream",
     "text": [
      "1.2\n"
     ]
    }
   ],
   "source": [
    "print(1.2) ## 1.2 float --> CPU will give this to output Driver as \"1.2\""
   ]
  },
  {
   "cell_type": "code",
   "execution_count": 26,
   "id": "fe73ed26-f88f-43da-b86e-ef40251ad77b",
   "metadata": {},
   "outputs": [
    {
     "name": "stdout",
     "output_type": "stream",
     "text": [
      "1 2 3 4\n"
     ]
    }
   ],
   "source": [
    "print(1,2,3,4) ## Sequenctial printing --> 4 times"
   ]
  },
  {
   "cell_type": "code",
   "execution_count": 27,
   "id": "a2309792-676c-420f-9342-72db0b6ed33f",
   "metadata": {},
   "outputs": [
    {
     "name": "stdout",
     "output_type": "stream",
     "text": [
      "Hello Ramesh, Your Balance is 256.89\n"
     ]
    }
   ],
   "source": [
    "print(f\"Hello {name}, Your Balance is {amount}\") # Single print"
   ]
  },
  {
   "cell_type": "markdown",
   "id": "5da7f2ae-c64f-4e30-9017-485d32cf9357",
   "metadata": {},
   "source": [
    "# Input Function\n",
    "- input function i/o function\n",
    "- input --> Scanner,Keyboard,Mouse,etc.\n",
    "- input()\n",
    "- input function will take strings\n",
    "- print will take everything --> Every data type"
   ]
  },
  {
   "cell_type": "code",
   "execution_count": 28,
   "id": "56f1d153-5893-4af2-9d12-bc2cdcb09895",
   "metadata": {},
   "outputs": [
    {
     "name": "stdin",
     "output_type": "stream",
     "text": [
      " Tharun\n"
     ]
    },
    {
     "data": {
      "text/plain": [
       "'Tharun'"
      ]
     },
     "execution_count": 28,
     "metadata": {},
     "output_type": "execute_result"
    }
   ],
   "source": [
    "input() ## Return the input value"
   ]
  },
  {
   "cell_type": "code",
   "execution_count": 43,
   "id": "9bf08fc5-2bcb-4690-83ed-1a511135f610",
   "metadata": {},
   "outputs": [
    {
     "name": "stdin",
     "output_type": "stream",
     "text": [
      " 123.123\n"
     ]
    }
   ],
   "source": [
    "amount = input()\n",
    "## 1. CPU execution of input()\n",
    "## 2. CPU activates keyboard and waits for the input\n",
    "## 3. Keyboard takes the input from user -- Waiting step\n",
    "## 4. Keyboard gives back the input given by the user to the CPU\n",
    "## 5. CPU will take the value from keyboard and assign it to name variable as a string"
   ]
  },
  {
   "cell_type": "code",
   "execution_count": 44,
   "id": "c019f4f4-b8e1-4c1d-82da-8f231cc3983d",
   "metadata": {},
   "outputs": [
    {
     "data": {
      "text/plain": [
       "'123.123'"
      ]
     },
     "execution_count": 44,
     "metadata": {},
     "output_type": "execute_result"
    }
   ],
   "source": [
    "amount"
   ]
  },
  {
   "cell_type": "code",
   "execution_count": 45,
   "id": "bcaef844-eeae-42b2-85fd-e80d6829db40",
   "metadata": {},
   "outputs": [
    {
     "data": {
      "text/plain": [
       "['__add__',\n",
       " '__class__',\n",
       " '__contains__',\n",
       " '__delattr__',\n",
       " '__dir__',\n",
       " '__doc__',\n",
       " '__eq__',\n",
       " '__format__',\n",
       " '__ge__',\n",
       " '__getattribute__',\n",
       " '__getitem__',\n",
       " '__getnewargs__',\n",
       " '__getstate__',\n",
       " '__gt__',\n",
       " '__hash__',\n",
       " '__init__',\n",
       " '__init_subclass__',\n",
       " '__iter__',\n",
       " '__le__',\n",
       " '__len__',\n",
       " '__lt__',\n",
       " '__mod__',\n",
       " '__mul__',\n",
       " '__ne__',\n",
       " '__new__',\n",
       " '__reduce__',\n",
       " '__reduce_ex__',\n",
       " '__repr__',\n",
       " '__rmod__',\n",
       " '__rmul__',\n",
       " '__setattr__',\n",
       " '__sizeof__',\n",
       " '__str__',\n",
       " '__subclasshook__',\n",
       " 'capitalize',\n",
       " 'casefold',\n",
       " 'center',\n",
       " 'count',\n",
       " 'encode',\n",
       " 'endswith',\n",
       " 'expandtabs',\n",
       " 'find',\n",
       " 'format',\n",
       " 'format_map',\n",
       " 'index',\n",
       " 'isalnum',\n",
       " 'isalpha',\n",
       " 'isascii',\n",
       " 'isdecimal',\n",
       " 'isdigit',\n",
       " 'isidentifier',\n",
       " 'islower',\n",
       " 'isnumeric',\n",
       " 'isprintable',\n",
       " 'isspace',\n",
       " 'istitle',\n",
       " 'isupper',\n",
       " 'join',\n",
       " 'ljust',\n",
       " 'lower',\n",
       " 'lstrip',\n",
       " 'maketrans',\n",
       " 'partition',\n",
       " 'removeprefix',\n",
       " 'removesuffix',\n",
       " 'replace',\n",
       " 'rfind',\n",
       " 'rindex',\n",
       " 'rjust',\n",
       " 'rpartition',\n",
       " 'rsplit',\n",
       " 'rstrip',\n",
       " 'split',\n",
       " 'splitlines',\n",
       " 'startswith',\n",
       " 'strip',\n",
       " 'swapcase',\n",
       " 'title',\n",
       " 'translate',\n",
       " 'upper',\n",
       " 'zfill']"
      ]
     },
     "execution_count": 45,
     "metadata": {},
     "output_type": "execute_result"
    }
   ],
   "source": [
    "dir(str)"
   ]
  },
  {
   "cell_type": "code",
   "execution_count": 46,
   "id": "2b7c2922-7a72-43ff-afc5-293d897d0be7",
   "metadata": {},
   "outputs": [
    {
     "name": "stdout",
     "output_type": "stream",
     "text": [
      "Help on method_descriptor:\n",
      "\n",
      "join(self, iterable, /)\n",
      "    Concatenate any number of strings.\n",
      "    \n",
      "    The string whose method is called is inserted in between each given string.\n",
      "    The result is returned as a new string.\n",
      "    \n",
      "    Example: '.'.join(['ab', 'pq', 'rs']) -> 'ab.pq.rs'\n",
      "\n"
     ]
    }
   ],
   "source": [
    "help(str.join)"
   ]
  },
  {
   "cell_type": "code",
   "execution_count": 2,
   "id": "8a230576-dc9e-401f-9b42-ec9cc628d121",
   "metadata": {},
   "outputs": [],
   "source": [
    "name = \"Hyderabad\"\n",
    "#Sequence of chracters"
   ]
  },
  {
   "cell_type": "code",
   "execution_count": 11,
   "id": "de6578e8-c33b-4e90-950b-05ccb778e018",
   "metadata": {},
   "outputs": [],
   "source": [
    "status = \"A\" in ('H','y','d','e','r','a','b','a','d')"
   ]
  },
  {
   "cell_type": "code",
   "execution_count": 12,
   "id": "0a067fb6-bb4e-4eaa-984e-997d938633d3",
   "metadata": {},
   "outputs": [
    {
     "data": {
      "text/plain": [
       "False"
      ]
     },
     "execution_count": 12,
     "metadata": {},
     "output_type": "execute_result"
    }
   ],
   "source": [
    "status"
   ]
  },
  {
   "cell_type": "code",
   "execution_count": 13,
   "id": "4f96f38d-8796-42fa-b502-8fa3aa82c6c4",
   "metadata": {},
   "outputs": [
    {
     "data": {
      "text/plain": [
       "'H.y.d.e.r.a.b.a.d'"
      ]
     },
     "execution_count": 13,
     "metadata": {},
     "output_type": "execute_result"
    }
   ],
   "source": [
    "\".\".join(\"Hyderabad\")"
   ]
  },
  {
   "cell_type": "code",
   "execution_count": 20,
   "id": "e3a65d17-b182-41de-a0e5-ac15563df940",
   "metadata": {},
   "outputs": [
    {
     "data": {
      "text/plain": [
       "'Hyderabad,Warangal'"
      ]
     },
     "execution_count": 20,
     "metadata": {},
     "output_type": "execute_result"
    }
   ],
   "source": [
    "\",\".join([\"Hyderabad\",\"Warangal\"])"
   ]
  },
  {
   "cell_type": "code",
   "execution_count": 16,
   "id": "edf47669-3eb8-4fd0-a6c5-73e9a27868d9",
   "metadata": {},
   "outputs": [
    {
     "data": {
      "text/plain": [
       "'H.y.d.e.r.a.b.a.d'"
      ]
     },
     "execution_count": 16,
     "metadata": {},
     "output_type": "execute_result"
    }
   ],
   "source": [
    "\".\".join((\"Hyderabad\"))"
   ]
  },
  {
   "cell_type": "code",
   "execution_count": null,
   "id": "08868989-55ad-4421-b540-df14818a240d",
   "metadata": {},
   "outputs": [],
   "source": [
    "(\"Hyderabad\")\n",
    "('H','y','d','e','r','a','b','a','d')"
   ]
  },
  {
   "cell_type": "code",
   "execution_count": 24,
   "id": "b75398de-dbe6-47ce-9932-dbb92de5a2c9",
   "metadata": {},
   "outputs": [],
   "source": [
    "base_path = \".\""
   ]
  },
  {
   "cell_type": "code",
   "execution_count": 26,
   "id": "81e62102-ed74-4d26-a2c4-692b46513254",
   "metadata": {},
   "outputs": [],
   "source": [
    "path = \"/\".join([base_path,\"new_directory\",\"new_sub_directory\",\"new_file\"])"
   ]
  },
  {
   "cell_type": "code",
   "execution_count": 27,
   "id": "9c7df8f6-f5b3-4fc3-adf5-e67e9358a528",
   "metadata": {},
   "outputs": [
    {
     "data": {
      "text/plain": [
       "'./new_directory/new_sub_directory/new_file'"
      ]
     },
     "execution_count": 27,
     "metadata": {},
     "output_type": "execute_result"
    }
   ],
   "source": [
    "path"
   ]
  },
  {
   "cell_type": "code",
   "execution_count": 28,
   "id": "e82f38c8-3bc1-48d8-abcb-8027e67a778a",
   "metadata": {},
   "outputs": [
    {
     "data": {
      "text/plain": [
       "['.', 'new_directory', 'new_sub_directory', 'new_file']"
      ]
     },
     "execution_count": 28,
     "metadata": {},
     "output_type": "execute_result"
    }
   ],
   "source": [
    "path.split('/')"
   ]
  },
  {
   "cell_type": "code",
   "execution_count": 29,
   "id": "f7301d8c-cfdf-4558-ab30-33b93df37ba9",
   "metadata": {},
   "outputs": [
    {
     "data": {
      "text/plain": [
       "'Hyderabad'"
      ]
     },
     "execution_count": 29,
     "metadata": {},
     "output_type": "execute_result"
    }
   ],
   "source": [
    "name"
   ]
  },
  {
   "cell_type": "code",
   "execution_count": 30,
   "id": "0e88277e-7ed8-4788-83cc-fc93eb7b2ade",
   "metadata": {},
   "outputs": [
    {
     "data": {
      "text/plain": [
       "['Hyder', 'b', 'd']"
      ]
     },
     "execution_count": 30,
     "metadata": {},
     "output_type": "execute_result"
    }
   ],
   "source": [
    "name.split('a')"
   ]
  },
  {
   "cell_type": "code",
   "execution_count": 35,
   "id": "ce342475-47ba-416e-bb02-c8b35d989bc4",
   "metadata": {},
   "outputs": [],
   "source": [
    "cities = ['Hyderabad','Warangal','Bangalore'] # 3strings"
   ]
  },
  {
   "cell_type": "code",
   "execution_count": 36,
   "id": "474df696-b4ae-4fed-a5ca-4dd66f94ba93",
   "metadata": {},
   "outputs": [
    {
     "data": {
      "text/plain": [
       "['Hyderabad', 'Warangal', 'Bangalore']"
      ]
     },
     "execution_count": 36,
     "metadata": {},
     "output_type": "execute_result"
    }
   ],
   "source": [
    "cities"
   ]
  },
  {
   "cell_type": "code",
   "execution_count": 37,
   "id": "1585de3d-5863-4e1e-b70e-3c30f780088b",
   "metadata": {},
   "outputs": [
    {
     "data": {
      "text/plain": [
       "'Hyderabad,Warangal,Bangalore'"
      ]
     },
     "execution_count": 37,
     "metadata": {},
     "output_type": "execute_result"
    }
   ],
   "source": [
    "cities_comb = \",\".join(cities)\n",
    "cities_comb # 1string"
   ]
  },
  {
   "cell_type": "code",
   "execution_count": 38,
   "id": "e676ece9-405f-45c2-8d99-f43efa0376bb",
   "metadata": {},
   "outputs": [
    {
     "data": {
      "text/plain": [
       "['Hyderabad', 'Warangal', 'Bangalore']"
      ]
     },
     "execution_count": 38,
     "metadata": {},
     "output_type": "execute_result"
    }
   ],
   "source": [
    "cities_comb.split(',')"
   ]
  },
  {
   "cell_type": "code",
   "execution_count": 39,
   "id": "265789f7-60b2-4f35-b981-6628d5edb266",
   "metadata": {},
   "outputs": [],
   "source": [
    "#1. Hyderabad, (\"Warangal\",\"Bangalore\")\n",
    "#2. Warangale, (\"Bangalore\")\n",
    "#3. Banagalore"
   ]
  },
  {
   "cell_type": "code",
   "execution_count": 46,
   "id": "4f52ac75-d9e6-47f1-8c1d-16f1e3a9bc07",
   "metadata": {},
   "outputs": [
    {
     "name": "stdout",
     "output_type": "stream",
     "text": [
      "Help on method_descriptor:\n",
      "\n",
      "splitlines(self, /, keepends=False)\n",
      "    Return a list of the lines in the string, breaking at line boundaries.\n",
      "    \n",
      "    Line breaks are not included in the resulting list unless keepends is given and\n",
      "    true.\n",
      "\n"
     ]
    }
   ],
   "source": [
    "help(str.splitlines)"
   ]
  },
  {
   "cell_type": "code",
   "execution_count": 58,
   "id": "386d5fa4-a22f-42ac-b57e-59affe530f73",
   "metadata": {},
   "outputs": [
    {
     "data": {
      "text/plain": [
       "'Hyderabad\\nWarangal\\nBangalore'"
      ]
     },
     "execution_count": 58,
     "metadata": {},
     "output_type": "execute_result"
    }
   ],
   "source": [
    "names = \"\\n\".join(cities)\n",
    "names"
   ]
  },
  {
   "cell_type": "code",
   "execution_count": 59,
   "id": "a497a2ac-d9ec-40a2-923d-b731c92f6d79",
   "metadata": {},
   "outputs": [
    {
     "data": {
      "text/plain": [
       "['Hyderabad', 'Warangal', 'Bangalore']"
      ]
     },
     "execution_count": 59,
     "metadata": {},
     "output_type": "execute_result"
    }
   ],
   "source": [
    "names.splitlines()"
   ]
  },
  {
   "cell_type": "code",
   "execution_count": 60,
   "id": "dd836ccf-9c8d-4e80-a0df-e8c05aa8055e",
   "metadata": {},
   "outputs": [
    {
     "data": {
      "text/plain": [
       "['Hyderabad', 'Warangal', 'Bangalore']"
      ]
     },
     "execution_count": 60,
     "metadata": {},
     "output_type": "execute_result"
    }
   ],
   "source": [
    "names.split('\\n')"
   ]
  },
  {
   "cell_type": "code",
   "execution_count": 52,
   "id": "829cbcf7-dcb5-468d-9ba7-6ee471f7b242",
   "metadata": {},
   "outputs": [
    {
     "data": {
      "text/plain": [
       "['Hyderabad,Warangal,Bangalore']"
      ]
     },
     "execution_count": 52,
     "metadata": {},
     "output_type": "execute_result"
    }
   ],
   "source": [
    "cities_comb.splitlines()"
   ]
  },
  {
   "cell_type": "code",
   "execution_count": 55,
   "id": "5dfe8d67-7227-40cc-9699-49ce6499c77a",
   "metadata": {},
   "outputs": [
    {
     "data": {
      "text/plain": [
       "['Hyderabad', 'Warangal', 'Bangalore']"
      ]
     },
     "execution_count": 55,
     "metadata": {},
     "output_type": "execute_result"
    }
   ],
   "source": [
    "cities_comb.split(',')"
   ]
  },
  {
   "cell_type": "code",
   "execution_count": 61,
   "id": "76691eec-e94a-489a-bd20-caf7c6edd4f0",
   "metadata": {},
   "outputs": [],
   "source": [
    "city_name = \"chennai\""
   ]
  },
  {
   "cell_type": "code",
   "execution_count": 62,
   "id": "bd24299c-9d10-44e6-bf48-17218c8cf3d4",
   "metadata": {},
   "outputs": [
    {
     "data": {
      "text/plain": [
       "['che', '', 'ai']"
      ]
     },
     "execution_count": 62,
     "metadata": {},
     "output_type": "execute_result"
    }
   ],
   "source": [
    "city_name.split('n')"
   ]
  },
  {
   "cell_type": "code",
   "execution_count": 63,
   "id": "b871ce02-3dbb-44a4-a43b-e257dc1269b6",
   "metadata": {},
   "outputs": [],
   "source": [
    "#1. che, (nai)\n",
    "#2. '', (ai)\n",
    "#3. ai"
   ]
  },
  {
   "cell_type": "code",
   "execution_count": 64,
   "id": "037fb593-0356-470f-a135-61d9a117cb50",
   "metadata": {},
   "outputs": [],
   "source": [
    "my_name = \"Tharun Kumar        \""
   ]
  },
  {
   "cell_type": "code",
   "execution_count": 66,
   "id": "c4e8b112-828e-48eb-b258-daaa66e12774",
   "metadata": {},
   "outputs": [
    {
     "data": {
      "text/plain": [
       "'Tharun Kumar'"
      ]
     },
     "execution_count": 66,
     "metadata": {},
     "output_type": "execute_result"
    }
   ],
   "source": [
    "my_name.rstrip()"
   ]
  },
  {
   "cell_type": "code",
   "execution_count": 67,
   "id": "1b84981b-1b11-47f6-9b34-f58258978284",
   "metadata": {},
   "outputs": [],
   "source": [
    "my_name = \"       Tharun Kumar\""
   ]
  },
  {
   "cell_type": "code",
   "execution_count": 68,
   "id": "543de68c-cabd-4292-aff4-2ebd2c37e313",
   "metadata": {},
   "outputs": [
    {
     "data": {
      "text/plain": [
       "'       Tharun Kumar'"
      ]
     },
     "execution_count": 68,
     "metadata": {},
     "output_type": "execute_result"
    }
   ],
   "source": [
    "my_name"
   ]
  },
  {
   "cell_type": "code",
   "execution_count": 70,
   "id": "a11af86d-1a1f-4cac-8c28-c9ebdea385d0",
   "metadata": {},
   "outputs": [
    {
     "data": {
      "text/plain": [
       "'Tharun Kumar'"
      ]
     },
     "execution_count": 70,
     "metadata": {},
     "output_type": "execute_result"
    }
   ],
   "source": [
    "my_name.lstrip()"
   ]
  },
  {
   "cell_type": "code",
   "execution_count": 71,
   "id": "350a5e82-415a-4332-8dac-b7c4a6810c4a",
   "metadata": {},
   "outputs": [],
   "source": [
    "my_name = \"     Tharun Kumar      \""
   ]
  },
  {
   "cell_type": "code",
   "execution_count": 72,
   "id": "1d7d1e73-a6d8-4b44-8768-03eb3ead3e59",
   "metadata": {},
   "outputs": [
    {
     "data": {
      "text/plain": [
       "'Tharun Kumar'"
      ]
     },
     "execution_count": 72,
     "metadata": {},
     "output_type": "execute_result"
    }
   ],
   "source": [
    "my_name.strip()"
   ]
  },
  {
   "cell_type": "code",
   "execution_count": 73,
   "id": "5ffb21fe-3726-4f65-b00e-11defefc7a25",
   "metadata": {},
   "outputs": [
    {
     "name": "stdout",
     "output_type": "stream",
     "text": [
      "Help on built-in function strip:\n",
      "\n",
      "strip(chars=None, /) method of builtins.str instance\n",
      "    Return a copy of the string with leading and trailing whitespace removed.\n",
      "    \n",
      "    If chars is given and not None, remove characters in chars instead.\n",
      "\n"
     ]
    }
   ],
   "source": [
    "help(my_name.strip)"
   ]
  },
  {
   "cell_type": "code",
   "execution_count": 74,
   "id": "5cc6198c-fe58-45ba-9466-fc47b1872e35",
   "metadata": {},
   "outputs": [],
   "source": [
    "my_name = \"$Tharun Kumar$\""
   ]
  },
  {
   "cell_type": "code",
   "execution_count": 75,
   "id": "a59ef9c7-19c3-49fe-bc73-1ba828ada74f",
   "metadata": {},
   "outputs": [
    {
     "data": {
      "text/plain": [
       "'Tharun Kumar'"
      ]
     },
     "execution_count": 75,
     "metadata": {},
     "output_type": "execute_result"
    }
   ],
   "source": [
    "my_name.strip('$')"
   ]
  },
  {
   "cell_type": "code",
   "execution_count": 78,
   "id": "d46e2975-d8d9-4e32-89a5-6ebb6cd93cda",
   "metadata": {},
   "outputs": [
    {
     "data": {
      "text/plain": [
       "'./new_directory/new_sub_directory/new_file'"
      ]
     },
     "execution_count": 78,
     "metadata": {},
     "output_type": "execute_result"
    }
   ],
   "source": [
    "path"
   ]
  },
  {
   "cell_type": "code",
   "execution_count": 79,
   "id": "7f966cf5-cdb4-4160-99e6-cfce5ca2cdb1",
   "metadata": {},
   "outputs": [
    {
     "data": {
      "text/plain": [
       "'./new_directory/new_sub_directory/new_file1'"
      ]
     },
     "execution_count": 79,
     "metadata": {},
     "output_type": "execute_result"
    }
   ],
   "source": [
    "path.replace('new_file','new_file1') # Replace is not inplace"
   ]
  },
  {
   "cell_type": "code",
   "execution_count": 89,
   "id": "015e0ab1-ca9a-4446-b1ef-150cd238cbdd",
   "metadata": {},
   "outputs": [
    {
     "data": {
      "text/plain": [
       "'hyderabad'"
      ]
     },
     "execution_count": 89,
     "metadata": {},
     "output_type": "execute_result"
    }
   ],
   "source": [
    "name"
   ]
  },
  {
   "cell_type": "code",
   "execution_count": 81,
   "id": "e38511f7-d17b-4745-8faf-cbb4f6c903c4",
   "metadata": {},
   "outputs": [
    {
     "ename": "TypeError",
     "evalue": "'str' object does not support item assignment",
     "output_type": "error",
     "traceback": [
      "\u001b[0;31m---------------------------------------------------------------------------\u001b[0m",
      "\u001b[0;31mTypeError\u001b[0m                                 Traceback (most recent call last)",
      "Cell \u001b[0;32mIn[81], line 1\u001b[0m\n\u001b[0;32m----> 1\u001b[0m \u001b[43mname\u001b[49m\u001b[43m[\u001b[49m\u001b[38;5;241;43m0\u001b[39;49m\u001b[43m]\u001b[49m \u001b[38;5;241m=\u001b[39m \u001b[38;5;124m'\u001b[39m\u001b[38;5;124mh\u001b[39m\u001b[38;5;124m'\u001b[39m\n",
      "\u001b[0;31mTypeError\u001b[0m: 'str' object does not support item assignment"
     ]
    }
   ],
   "source": [
    "name[0] = 'h'"
   ]
  },
  {
   "cell_type": "code",
   "execution_count": 88,
   "id": "64b05d2e-9b4d-4fbc-b498-1464d1d7180a",
   "metadata": {},
   "outputs": [],
   "source": [
    "name = name.replace('H','h')"
   ]
  },
  {
   "cell_type": "code",
   "execution_count": null,
   "id": "e8222dc4-ee14-4fd6-878a-78825623e3d1",
   "metadata": {},
   "outputs": [],
   "source": []
  }
 ],
 "metadata": {
  "kernelspec": {
   "display_name": "Python 3 (ipykernel)",
   "language": "python",
   "name": "python3"
  },
  "language_info": {
   "codemirror_mode": {
    "name": "ipython",
    "version": 3
   },
   "file_extension": ".py",
   "mimetype": "text/x-python",
   "name": "python",
   "nbconvert_exporter": "python",
   "pygments_lexer": "ipython3",
   "version": "3.10.12"
  }
 },
 "nbformat": 4,
 "nbformat_minor": 5
}

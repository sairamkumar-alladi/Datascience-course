{
 "cells": [
  {
   "cell_type": "markdown",
   "id": "5c2ddf1e-094f-405f-8ce3-2dceb25f793c",
   "metadata": {},
   "source": [
    "# Python Collections\n",
    "- List\n",
    "- Set\n",
    "- Tuple\n",
    "- Dictionary"
   ]
  },
  {
   "cell_type": "markdown",
   "id": "34428481-2e73-4405-9e9d-608c8a9c0cc8",
   "metadata": {},
   "source": [
    "# List\n",
    "- List is an ordered collection\n",
    "- Collection can have any data type\n",
    "- List will have indices.\n",
    "- List is a mutable data structure\n",
    "\n",
    "# List Indexing\n",
    "- List indices starts from 0\n",
    "- list_variable[]\n",
    "- index = position-1\n",
    "\n",
    "# List Index Slicing\n",
    "- list_variable[start_index:end_position]\n",
    "- Forward indexing --> 0,len(list)-1\n",
    "- Negative Indexing or Backward indexing ---> -1, -(len(list))\n",
    "\n",
    "# most used list functions\n",
    "- append\n",
    "- remove\n",
    "- sort\n",
    "- extend\n",
    "- count\n",
    "- copy\n",
    "- index"
   ]
  },
  {
   "cell_type": "code",
   "execution_count": 4,
   "id": "1cdc0a6f-797a-4c39-a9e4-c644ba9cc3ab",
   "metadata": {},
   "outputs": [],
   "source": [
    "a = list()"
   ]
  },
  {
   "cell_type": "code",
   "execution_count": 3,
   "id": "d5561b04-94a9-400b-b745-a2dee588ed89",
   "metadata": {},
   "outputs": [],
   "source": [
    "b = []"
   ]
  },
  {
   "cell_type": "code",
   "execution_count": 5,
   "id": "d0b83f0e-7637-412f-b742-b901321fa247",
   "metadata": {},
   "outputs": [
    {
     "data": {
      "text/plain": [
       "list"
      ]
     },
     "execution_count": 5,
     "metadata": {},
     "output_type": "execute_result"
    }
   ],
   "source": [
    "type(a)"
   ]
  },
  {
   "cell_type": "code",
   "execution_count": 6,
   "id": "f10f3e1c-5e38-4b31-8e60-cfa19255dd54",
   "metadata": {},
   "outputs": [
    {
     "data": {
      "text/plain": [
       "list"
      ]
     },
     "execution_count": 6,
     "metadata": {},
     "output_type": "execute_result"
    }
   ],
   "source": [
    "type(b)"
   ]
  },
  {
   "cell_type": "code",
   "execution_count": 12,
   "id": "7de79631-a03c-45ff-b8a9-31b9340429c7",
   "metadata": {},
   "outputs": [
    {
     "name": "stdout",
     "output_type": "stream",
     "text": [
      "[]\n"
     ]
    }
   ],
   "source": [
    "print(a)"
   ]
  },
  {
   "cell_type": "code",
   "execution_count": 13,
   "id": "79451a84-5c47-4a8e-b3c8-cbf6523f0c20",
   "metadata": {},
   "outputs": [
    {
     "name": "stdout",
     "output_type": "stream",
     "text": [
      "[]\n"
     ]
    }
   ],
   "source": [
    "print(b)"
   ]
  },
  {
   "cell_type": "code",
   "execution_count": 14,
   "id": "75c2ff01-9daf-4a1d-ab91-41ce44bc5ee9",
   "metadata": {},
   "outputs": [],
   "source": [
    "students = []"
   ]
  },
  {
   "cell_type": "code",
   "execution_count": 15,
   "id": "057f0ce3-1327-4a6a-b082-80ead0703df4",
   "metadata": {},
   "outputs": [],
   "source": [
    "students.append('Raju')"
   ]
  },
  {
   "cell_type": "code",
   "execution_count": 17,
   "id": "6ba5adfb-cac5-493c-a6ca-05e00041014d",
   "metadata": {},
   "outputs": [
    {
     "name": "stdout",
     "output_type": "stream",
     "text": [
      "['Raju']\n"
     ]
    }
   ],
   "source": [
    "print(students)"
   ]
  },
  {
   "cell_type": "code",
   "execution_count": 18,
   "id": "863202aa-c6b2-49c7-9265-ea8f97436863",
   "metadata": {},
   "outputs": [],
   "source": [
    "students.append('Rani')"
   ]
  },
  {
   "cell_type": "code",
   "execution_count": 19,
   "id": "79ed38de-3644-473c-be93-e94706ce3877",
   "metadata": {},
   "outputs": [
    {
     "data": {
      "text/plain": [
       "['Raju', 'Rani']"
      ]
     },
     "execution_count": 19,
     "metadata": {},
     "output_type": "execute_result"
    }
   ],
   "source": [
    "students"
   ]
  },
  {
   "cell_type": "code",
   "execution_count": 20,
   "id": "27e5435e-b1ef-43f7-b12b-635d502edaed",
   "metadata": {},
   "outputs": [],
   "source": [
    "students.append('Ramesh')"
   ]
  },
  {
   "cell_type": "code",
   "execution_count": 21,
   "id": "927112bd-cc6c-4ab8-95b5-74248a6cdde3",
   "metadata": {},
   "outputs": [
    {
     "data": {
      "text/plain": [
       "['Raju', 'Rani', 'Ramesh']"
      ]
     },
     "execution_count": 21,
     "metadata": {},
     "output_type": "execute_result"
    }
   ],
   "source": [
    "students"
   ]
  },
  {
   "cell_type": "code",
   "execution_count": 25,
   "id": "327696d3-650c-48d4-9181-ac0470cccaeb",
   "metadata": {},
   "outputs": [
    {
     "data": {
      "text/plain": [
       "'Raju'"
      ]
     },
     "execution_count": 25,
     "metadata": {},
     "output_type": "execute_result"
    }
   ],
   "source": [
    "students[0]"
   ]
  },
  {
   "cell_type": "code",
   "execution_count": 26,
   "id": "d0b95f40-7935-475c-84c2-7fb537654b7a",
   "metadata": {},
   "outputs": [
    {
     "data": {
      "text/plain": [
       "['Raju', 'Rani']"
      ]
     },
     "execution_count": 26,
     "metadata": {},
     "output_type": "execute_result"
    }
   ],
   "source": [
    "## Extract first 2 students\n",
    "## startindex = 1-1 = 0\n",
    "## endposition = 2\n",
    "students[0:2]"
   ]
  },
  {
   "cell_type": "code",
   "execution_count": 27,
   "id": "9678abe3-6c8c-44e1-bad5-32613d0e7b73",
   "metadata": {},
   "outputs": [
    {
     "data": {
      "text/plain": [
       "['Raju', 'Rani']"
      ]
     },
     "execution_count": 27,
     "metadata": {},
     "output_type": "execute_result"
    }
   ],
   "source": [
    "students[:2]"
   ]
  },
  {
   "cell_type": "code",
   "execution_count": 29,
   "id": "2e6516c3-dc42-4923-9ea4-d60929fdd652",
   "metadata": {},
   "outputs": [
    {
     "data": {
      "text/plain": [
       "['Rani', 'Ramesh']"
      ]
     },
     "execution_count": 29,
     "metadata": {},
     "output_type": "execute_result"
    }
   ],
   "source": [
    "## Extract last 2 students\n",
    "students[1:3]"
   ]
  },
  {
   "cell_type": "code",
   "execution_count": 30,
   "id": "ef6a624c-b6ac-4373-92d4-42859d21ec89",
   "metadata": {},
   "outputs": [],
   "source": [
    "no_students = len(students)"
   ]
  },
  {
   "cell_type": "code",
   "execution_count": 31,
   "id": "277c32ff-668e-4631-8342-e5facecd3dbb",
   "metadata": {},
   "outputs": [
    {
     "data": {
      "text/plain": [
       "3"
      ]
     },
     "execution_count": 31,
     "metadata": {},
     "output_type": "execute_result"
    }
   ],
   "source": [
    "no_students"
   ]
  },
  {
   "cell_type": "code",
   "execution_count": 32,
   "id": "01600d40-18bd-433d-bf66-620eb22dc036",
   "metadata": {},
   "outputs": [
    {
     "data": {
      "text/plain": [
       "1"
      ]
     },
     "execution_count": 32,
     "metadata": {},
     "output_type": "execute_result"
    }
   ],
   "source": [
    "no_students-2"
   ]
  },
  {
   "cell_type": "code",
   "execution_count": 33,
   "id": "ab21e0f9-b206-4d90-8808-f2b2cdd054dd",
   "metadata": {},
   "outputs": [
    {
     "data": {
      "text/plain": [
       "['Rani', 'Ramesh']"
      ]
     },
     "execution_count": 33,
     "metadata": {},
     "output_type": "execute_result"
    }
   ],
   "source": [
    "students[no_students-2:no_students]"
   ]
  },
  {
   "cell_type": "code",
   "execution_count": 34,
   "id": "e923e8e9-5195-4bbb-ae56-fcf8a6ca9f70",
   "metadata": {},
   "outputs": [
    {
     "data": {
      "text/plain": [
       "['Rani', 'Ramesh']"
      ]
     },
     "execution_count": 34,
     "metadata": {},
     "output_type": "execute_result"
    }
   ],
   "source": [
    "students[no_students-2:]"
   ]
  },
  {
   "cell_type": "code",
   "execution_count": 36,
   "id": "9cdc8a86-2b3d-4001-b496-f2e5a7e272fc",
   "metadata": {},
   "outputs": [
    {
     "data": {
      "text/plain": [
       "['Raju', 'Rani', 'Ramesh']"
      ]
     },
     "execution_count": 36,
     "metadata": {},
     "output_type": "execute_result"
    }
   ],
   "source": [
    "students[-3:] #"
   ]
  },
  {
   "cell_type": "code",
   "execution_count": 37,
   "id": "924073d2-39b4-40ba-b89e-78288ff36f61",
   "metadata": {},
   "outputs": [
    {
     "data": {
      "text/plain": [
       "['__add__',\n",
       " '__class__',\n",
       " '__class_getitem__',\n",
       " '__contains__',\n",
       " '__delattr__',\n",
       " '__delitem__',\n",
       " '__dir__',\n",
       " '__doc__',\n",
       " '__eq__',\n",
       " '__format__',\n",
       " '__ge__',\n",
       " '__getattribute__',\n",
       " '__getitem__',\n",
       " '__getstate__',\n",
       " '__gt__',\n",
       " '__hash__',\n",
       " '__iadd__',\n",
       " '__imul__',\n",
       " '__init__',\n",
       " '__init_subclass__',\n",
       " '__iter__',\n",
       " '__le__',\n",
       " '__len__',\n",
       " '__lt__',\n",
       " '__mul__',\n",
       " '__ne__',\n",
       " '__new__',\n",
       " '__reduce__',\n",
       " '__reduce_ex__',\n",
       " '__repr__',\n",
       " '__reversed__',\n",
       " '__rmul__',\n",
       " '__setattr__',\n",
       " '__setitem__',\n",
       " '__sizeof__',\n",
       " '__str__',\n",
       " '__subclasshook__',\n",
       " 'append',\n",
       " 'clear',\n",
       " 'copy',\n",
       " 'count',\n",
       " 'extend',\n",
       " 'index',\n",
       " 'insert',\n",
       " 'pop',\n",
       " 'remove',\n",
       " 'reverse',\n",
       " 'sort']"
      ]
     },
     "execution_count": 37,
     "metadata": {},
     "output_type": "execute_result"
    }
   ],
   "source": [
    "dir(list)"
   ]
  },
  {
   "cell_type": "code",
   "execution_count": 38,
   "id": "b5f1d626-15a5-413a-9f14-b4ee1fe4cc3c",
   "metadata": {},
   "outputs": [
    {
     "data": {
      "text/plain": [
       "['Raju', 'Rani', 'Ramesh']"
      ]
     },
     "execution_count": 38,
     "metadata": {},
     "output_type": "execute_result"
    }
   ],
   "source": [
    "students"
   ]
  },
  {
   "cell_type": "code",
   "execution_count": 39,
   "id": "97fa74d9-f11e-4d08-a819-6bbc8bf83723",
   "metadata": {},
   "outputs": [],
   "source": [
    "students.clear()"
   ]
  },
  {
   "cell_type": "code",
   "execution_count": 43,
   "id": "148ac13b-8bb4-4595-ae2a-27114dfe9ab1",
   "metadata": {},
   "outputs": [],
   "source": [
    "students = [] # Decleration or Instantiaion"
   ]
  },
  {
   "cell_type": "code",
   "execution_count": 44,
   "id": "c947b430-8b28-4af5-9c7e-0c7767ad782c",
   "metadata": {},
   "outputs": [],
   "source": [
    "students = ['Raju', 'Rani', 'Ramesh'] # Definition"
   ]
  },
  {
   "cell_type": "code",
   "execution_count": 45,
   "id": "f32dd519-c4a9-4c7b-b047-519158453e58",
   "metadata": {},
   "outputs": [
    {
     "data": {
      "text/plain": [
       "['Raju', 'Rani', 'Ramesh']"
      ]
     },
     "execution_count": 45,
     "metadata": {},
     "output_type": "execute_result"
    }
   ],
   "source": [
    "students"
   ]
  },
  {
   "cell_type": "code",
   "execution_count": 46,
   "id": "f6964109-147f-4d84-b586-c1803ed01e9b",
   "metadata": {},
   "outputs": [],
   "source": [
    "students.append(1)"
   ]
  },
  {
   "cell_type": "code",
   "execution_count": 47,
   "id": "4accb68b-fe2b-4bc7-9328-36885c433ab5",
   "metadata": {},
   "outputs": [
    {
     "data": {
      "text/plain": [
       "['Raju', 'Rani', 'Ramesh', 1]"
      ]
     },
     "execution_count": 47,
     "metadata": {},
     "output_type": "execute_result"
    }
   ],
   "source": [
    "students"
   ]
  },
  {
   "cell_type": "code",
   "execution_count": 65,
   "id": "20649004-dfee-4d2b-be42-c2bde2a195f9",
   "metadata": {},
   "outputs": [],
   "source": [
    "ranks = ['Raju','Rani','Ramesh']"
   ]
  },
  {
   "cell_type": "code",
   "execution_count": 60,
   "id": "36e43083-a0eb-47d0-b7a3-672a5c16af5b",
   "metadata": {},
   "outputs": [],
   "source": [
    "students.append('Rakesh')"
   ]
  },
  {
   "cell_type": "code",
   "execution_count": 61,
   "id": "8c98cb88-b6ab-4aae-ac7f-d6393739d10c",
   "metadata": {},
   "outputs": [
    {
     "data": {
      "text/plain": [
       "['Raju', 'Rani', 'Ramesh', 'Rakesh']"
      ]
     },
     "execution_count": 61,
     "metadata": {},
     "output_type": "execute_result"
    }
   ],
   "source": [
    "students"
   ]
  },
  {
   "cell_type": "code",
   "execution_count": 66,
   "id": "f8a737a5-f98f-4f8a-9757-a0c61c7f3825",
   "metadata": {},
   "outputs": [
    {
     "data": {
      "text/plain": [
       "['Raju', 'Rani', 'Ramesh']"
      ]
     },
     "execution_count": 66,
     "metadata": {},
     "output_type": "execute_result"
    }
   ],
   "source": [
    "ranks"
   ]
  },
  {
   "cell_type": "code",
   "execution_count": 67,
   "id": "b0740217-43e2-437a-862b-dd3feb35476f",
   "metadata": {},
   "outputs": [],
   "source": [
    "ranks.insert(-1,'Rakesh')"
   ]
  },
  {
   "cell_type": "code",
   "execution_count": 68,
   "id": "3ddd9cd3-2743-4a79-9d31-3dcda57f87d0",
   "metadata": {},
   "outputs": [
    {
     "data": {
      "text/plain": [
       "['Raju', 'Rani', 'Rakesh', 'Ramesh']"
      ]
     },
     "execution_count": 68,
     "metadata": {},
     "output_type": "execute_result"
    }
   ],
   "source": [
    "ranks"
   ]
  },
  {
   "cell_type": "code",
   "execution_count": 70,
   "id": "59a66a16-0ffe-4b22-bf6b-a2ac54d98731",
   "metadata": {},
   "outputs": [],
   "source": [
    "ranks.insert(2,'Ramu')"
   ]
  },
  {
   "cell_type": "code",
   "execution_count": 72,
   "id": "938131a7-d0a1-4410-a3d9-379a1c9e4f93",
   "metadata": {},
   "outputs": [
    {
     "data": {
      "text/plain": [
       "['Raju', 'Rani', 'Ramu', 'Rakesh', 'Ramesh']"
      ]
     },
     "execution_count": 72,
     "metadata": {},
     "output_type": "execute_result"
    }
   ],
   "source": [
    "ranks"
   ]
  },
  {
   "cell_type": "code",
   "execution_count": 73,
   "id": "10dbcb49-bd65-4d23-a64c-73e60adf6628",
   "metadata": {},
   "outputs": [],
   "source": [
    "ranks.insert(,'Mukesh')"
   ]
  },
  {
   "cell_type": "code",
   "execution_count": 75,
   "id": "cf717ccb-1345-40ac-81fb-7585a32a052d",
   "metadata": {},
   "outputs": [
    {
     "data": {
      "text/plain": [
       "['Raju', 'Rani', 'Mukesh', 'Ramu', 'Rakesh', 'Ramesh']"
      ]
     },
     "execution_count": 75,
     "metadata": {},
     "output_type": "execute_result"
    }
   ],
   "source": [
    "ranks"
   ]
  },
  {
   "cell_type": "code",
   "execution_count": 76,
   "id": "63e8c8ae-7a99-4e6a-8800-5d45a23f4569",
   "metadata": {},
   "outputs": [
    {
     "data": {
      "text/plain": [
       "['Raju', 'Rani', 'Mukesh', 'Ramu', 'Rakesh', 'Jack', 'Ramesh']"
      ]
     },
     "execution_count": 76,
     "metadata": {},
     "output_type": "execute_result"
    }
   ],
   "source": [
    "ranks.insert(5,'Jack')\n",
    "ranks"
   ]
  },
  {
   "cell_type": "code",
   "execution_count": 78,
   "id": "a8851351-4121-4807-99b6-7515e2880e5d",
   "metadata": {},
   "outputs": [
    {
     "data": {
      "text/plain": [
       "['Mike', 'Raju', 'Rani', 'Mukesh', 'Ramu', 'Rakesh', 'Jack', 'Ramesh']"
      ]
     },
     "execution_count": 78,
     "metadata": {},
     "output_type": "execute_result"
    }
   ],
   "source": [
    "ranks.insert(0,'Mike')\n",
    "ranks"
   ]
  },
  {
   "cell_type": "code",
   "execution_count": null,
   "id": "0e6bdaaf-0bfa-4568-ba31-4f0cc026eb75",
   "metadata": {},
   "outputs": [],
   "source": [
    "ranks.insert(7,'')"
   ]
  },
  {
   "cell_type": "code",
   "execution_count": 53,
   "id": "5f4c9cfc-e055-4b6e-b30b-47d50a7d9757",
   "metadata": {},
   "outputs": [
    {
     "data": {
      "text/plain": [
       "'Ramesh'"
      ]
     },
     "execution_count": 53,
     "metadata": {},
     "output_type": "execute_result"
    }
   ],
   "source": [
    "ranks.pop()"
   ]
  },
  {
   "cell_type": "code",
   "execution_count": 54,
   "id": "43b04e90-d9fe-4c6a-b60a-861c4ca4dd16",
   "metadata": {},
   "outputs": [
    {
     "data": {
      "text/plain": [
       "'Rakesh'"
      ]
     },
     "execution_count": 54,
     "metadata": {},
     "output_type": "execute_result"
    }
   ],
   "source": [
    "ranks.pop()"
   ]
  },
  {
   "cell_type": "code",
   "execution_count": 55,
   "id": "3c4f38bf-fede-4792-8fff-f4934d6d618b",
   "metadata": {},
   "outputs": [
    {
     "data": {
      "text/plain": [
       "['Raju', 'Rani']"
      ]
     },
     "execution_count": 55,
     "metadata": {},
     "output_type": "execute_result"
    }
   ],
   "source": [
    "ranks"
   ]
  },
  {
   "cell_type": "code",
   "execution_count": 79,
   "id": "9065e58b-86f3-4a30-9bc5-e0bc31541979",
   "metadata": {},
   "outputs": [
    {
     "data": {
      "text/plain": [
       "['Raju', 'Rani', 'Ramesh', 'Rakesh']"
      ]
     },
     "execution_count": 79,
     "metadata": {},
     "output_type": "execute_result"
    }
   ],
   "source": [
    "students"
   ]
  },
  {
   "cell_type": "code",
   "execution_count": 81,
   "id": "77835a80-8612-49fe-a0ec-530426bcc4a5",
   "metadata": {},
   "outputs": [],
   "source": [
    "students.remove('Ramesh') ## value of the element to be deleted."
   ]
  },
  {
   "cell_type": "code",
   "execution_count": 82,
   "id": "09eaf3ee-6363-4e7d-b9ae-b80e1cf5bc65",
   "metadata": {},
   "outputs": [
    {
     "data": {
      "text/plain": [
       "['Raju', 'Rani', 'Rakesh']"
      ]
     },
     "execution_count": 82,
     "metadata": {},
     "output_type": "execute_result"
    }
   ],
   "source": [
    "students"
   ]
  },
  {
   "cell_type": "code",
   "execution_count": 83,
   "id": "9fa5c087-d681-424f-b6a0-8eeab5d1bc87",
   "metadata": {},
   "outputs": [
    {
     "data": {
      "text/plain": [
       "['Raju', 'Rani', 'Rakesh']"
      ]
     },
     "execution_count": 83,
     "metadata": {},
     "output_type": "execute_result"
    }
   ],
   "source": [
    "students"
   ]
  },
  {
   "cell_type": "code",
   "execution_count": 84,
   "id": "c6d7a814-7319-4aca-aae5-78dbe9be0872",
   "metadata": {},
   "outputs": [],
   "source": [
    "students.append('Rani')"
   ]
  },
  {
   "cell_type": "code",
   "execution_count": 90,
   "id": "7957c6cc-6a1c-45a1-a94b-0b4e4f2f1903",
   "metadata": {},
   "outputs": [
    {
     "data": {
      "text/plain": [
       "['Raju', 'Rakesh', 'Rani']"
      ]
     },
     "execution_count": 90,
     "metadata": {},
     "output_type": "execute_result"
    }
   ],
   "source": [
    "students"
   ]
  },
  {
   "cell_type": "code",
   "execution_count": 92,
   "id": "55a4425d-a7b4-4ebd-b52f-db3ffdcc0496",
   "metadata": {},
   "outputs": [
    {
     "data": {
      "text/plain": [
       "['Raju', 'Rakesh', 'Rani']"
      ]
     },
     "execution_count": 92,
     "metadata": {},
     "output_type": "execute_result"
    }
   ],
   "source": [
    "students"
   ]
  },
  {
   "cell_type": "code",
   "execution_count": 93,
   "id": "2cbf2c73-cd13-4d8e-bee7-b44019954b35",
   "metadata": {},
   "outputs": [],
   "source": [
    "students.append('Rakesh')"
   ]
  },
  {
   "cell_type": "code",
   "execution_count": 94,
   "id": "f0a86578-fa1f-4a58-a324-cce5f169c6cb",
   "metadata": {},
   "outputs": [
    {
     "data": {
      "text/plain": [
       "['Raju', 'Rakesh', 'Rani', 'Rakesh']"
      ]
     },
     "execution_count": 94,
     "metadata": {},
     "output_type": "execute_result"
    }
   ],
   "source": [
    "students"
   ]
  },
  {
   "cell_type": "code",
   "execution_count": 95,
   "id": "905c5fb6-70d3-4ac5-af1d-697b9841e6de",
   "metadata": {},
   "outputs": [],
   "source": [
    "students.remove(students[3])"
   ]
  },
  {
   "cell_type": "code",
   "execution_count": 96,
   "id": "e0586ec4-1893-4382-a94b-d57a8e385775",
   "metadata": {},
   "outputs": [
    {
     "data": {
      "text/plain": [
       "['Raju', 'Rani', 'Rakesh']"
      ]
     },
     "execution_count": 96,
     "metadata": {},
     "output_type": "execute_result"
    }
   ],
   "source": [
    "students"
   ]
  },
  {
   "cell_type": "code",
   "execution_count": 99,
   "id": "d993f98c-fcbf-4897-b579-db9695f9eb47",
   "metadata": {},
   "outputs": [],
   "source": [
    "students.insert(1,'Rakesh')"
   ]
  },
  {
   "cell_type": "code",
   "execution_count": 106,
   "id": "2f233184-0efd-48d8-bc2a-8134a9ead2ca",
   "metadata": {},
   "outputs": [
    {
     "data": {
      "text/plain": [
       "['Raju', 'Rakesh', 'Rani', 'Rakesh']"
      ]
     },
     "execution_count": 106,
     "metadata": {},
     "output_type": "execute_result"
    }
   ],
   "source": [
    "students"
   ]
  },
  {
   "cell_type": "code",
   "execution_count": 107,
   "id": "ec2a5116-9ed3-4196-b8e8-eb8047afbf9c",
   "metadata": {},
   "outputs": [],
   "source": []
  },
  {
   "cell_type": "code",
   "execution_count": 108,
   "id": "0b9e0c27-aa2e-4ba0-8a53-0b88e3153bea",
   "metadata": {},
   "outputs": [
    {
     "data": {
      "text/plain": [
       "3"
      ]
     },
     "execution_count": 108,
     "metadata": {},
     "output_type": "execute_result"
    }
   ],
   "source": [
    "index"
   ]
  },
  {
   "cell_type": "code",
   "execution_count": 110,
   "id": "be3c1907-f8b9-418f-9061-ef4aade4e5e2",
   "metadata": {},
   "outputs": [
    {
     "name": "stdout",
     "output_type": "stream",
     "text": [
      "['Raju', 'Rakesh', 'Rani']\n"
     ]
    }
   ],
   "source": [
    "count = 0\n",
    "index = 0\n",
    "for i in range(len(students)):\n",
    "    if students[i] == \"Rakesh\":\n",
    "        count+=1\n",
    "    if count == 2:\n",
    "        index = i\n",
    "if len(students)>index+1:\n",
    "    print(stduents[:index]+students[index+1:])\n",
    "else:\n",
    "    print(students[:index])"
   ]
  },
  {
   "cell_type": "code",
   "execution_count": 111,
   "id": "33be5f47-25b4-47f6-9ffa-b5efc782b27d",
   "metadata": {},
   "outputs": [
    {
     "data": {
      "text/plain": [
       "['Raju', 'Rakesh', 'Rani', 'Rakesh']"
      ]
     },
     "execution_count": 111,
     "metadata": {},
     "output_type": "execute_result"
    }
   ],
   "source": [
    "students"
   ]
  },
  {
   "cell_type": "code",
   "execution_count": 112,
   "id": "14af4a90-285d-4bc7-95e4-2c71a9c9da36",
   "metadata": {},
   "outputs": [],
   "source": [
    "students.sort()"
   ]
  },
  {
   "cell_type": "code",
   "execution_count": 113,
   "id": "754454a1-73c8-45ab-b850-824e6e49b235",
   "metadata": {},
   "outputs": [
    {
     "data": {
      "text/plain": [
       "['Raju', 'Rakesh', 'Rakesh', 'Rani']"
      ]
     },
     "execution_count": 113,
     "metadata": {},
     "output_type": "execute_result"
    }
   ],
   "source": [
    "students"
   ]
  },
  {
   "cell_type": "code",
   "execution_count": 114,
   "id": "513d1ec5-acf4-49ad-bd58-3629d4f07bb5",
   "metadata": {},
   "outputs": [],
   "source": [
    "roll_numbers = [2,1,4,5,3]"
   ]
  },
  {
   "cell_type": "code",
   "execution_count": 115,
   "id": "68395415-ac61-404b-a526-eadb175c6f6f",
   "metadata": {},
   "outputs": [
    {
     "data": {
      "text/plain": [
       "[2, 1, 4, 5, 3]"
      ]
     },
     "execution_count": 115,
     "metadata": {},
     "output_type": "execute_result"
    }
   ],
   "source": [
    "roll_numbers"
   ]
  },
  {
   "cell_type": "code",
   "execution_count": 116,
   "id": "6bf1e9fc-5985-44ec-aea4-aadce1a4d0c4",
   "metadata": {},
   "outputs": [],
   "source": [
    "roll_numbers.sort()"
   ]
  },
  {
   "cell_type": "code",
   "execution_count": 117,
   "id": "98d4b452-4f5b-42a6-bb13-1df7e83fcc83",
   "metadata": {},
   "outputs": [
    {
     "data": {
      "text/plain": [
       "[1, 2, 3, 4, 5]"
      ]
     },
     "execution_count": 117,
     "metadata": {},
     "output_type": "execute_result"
    }
   ],
   "source": [
    "roll_numbers"
   ]
  },
  {
   "cell_type": "code",
   "execution_count": 119,
   "id": "7de2ed45-aa68-4a87-95dc-791effb1f9dc",
   "metadata": {},
   "outputs": [],
   "source": [
    "name = 'Hyderabad'"
   ]
  },
  {
   "cell_type": "code",
   "execution_count": 121,
   "id": "2711cdf1-d0fa-4b83-90d8-db4fe789535f",
   "metadata": {},
   "outputs": [
    {
     "ename": "TypeError",
     "evalue": "'str' object does not support item assignment",
     "output_type": "error",
     "traceback": [
      "\u001b[0;31m---------------------------------------------------------------------------\u001b[0m",
      "\u001b[0;31mTypeError\u001b[0m                                 Traceback (most recent call last)",
      "Cell \u001b[0;32mIn[121], line 1\u001b[0m\n\u001b[0;32m----> 1\u001b[0m \u001b[43mname\u001b[49m\u001b[43m[\u001b[49m\u001b[38;5;241;43m3\u001b[39;49m\u001b[43m]\u001b[49m \u001b[38;5;241m=\u001b[39m \u001b[38;5;124m'\u001b[39m\u001b[38;5;124mh\u001b[39m\u001b[38;5;124m'\u001b[39m\n",
      "\u001b[0;31mTypeError\u001b[0m: 'str' object does not support item assignment"
     ]
    }
   ],
   "source": [
    "name[3] = 'h'"
   ]
  },
  {
   "cell_type": "code",
   "execution_count": 122,
   "id": "1aa9b828-7fb2-49fc-a2ea-d521787b37a3",
   "metadata": {},
   "outputs": [
    {
     "data": {
      "text/plain": [
       "['Raju', 'Rakesh', 'Rakesh', 'Rani']"
      ]
     },
     "execution_count": 122,
     "metadata": {},
     "output_type": "execute_result"
    }
   ],
   "source": [
    "students"
   ]
  },
  {
   "cell_type": "code",
   "execution_count": 123,
   "id": "e64a0cbb-7eee-461e-8141-26e9be711afb",
   "metadata": {},
   "outputs": [],
   "source": [
    "students[3] = 'Rani Kumari'"
   ]
  },
  {
   "cell_type": "code",
   "execution_count": 125,
   "id": "cad34370-8a98-413b-b8d4-e0188de240a7",
   "metadata": {},
   "outputs": [
    {
     "data": {
      "text/plain": [
       "['Raju', 'Rakesh', 'Rakesh', 'Rani Kumari']"
      ]
     },
     "execution_count": 125,
     "metadata": {},
     "output_type": "execute_result"
    }
   ],
   "source": [
    "students"
   ]
  },
  {
   "cell_type": "code",
   "execution_count": 127,
   "id": "eac07397-8bed-4769-b750-5a6294ad8445",
   "metadata": {},
   "outputs": [],
   "source": [
    "rani_kumari_index = students.index('Rani Kumari') #Value of the element "
   ]
  },
  {
   "cell_type": "code",
   "execution_count": 128,
   "id": "e3700622-e7b5-4e4d-b4c2-b02c1f9edb40",
   "metadata": {},
   "outputs": [],
   "source": [
    "students[rani_kumari_index] = 'Rani'"
   ]
  },
  {
   "cell_type": "code",
   "execution_count": 129,
   "id": "9373651f-d1f1-4068-9b29-3b0739f95891",
   "metadata": {},
   "outputs": [
    {
     "data": {
      "text/plain": [
       "['Raju', 'Rakesh', 'Rakesh', 'Rani']"
      ]
     },
     "execution_count": 129,
     "metadata": {},
     "output_type": "execute_result"
    }
   ],
   "source": [
    "students"
   ]
  },
  {
   "cell_type": "code",
   "execution_count": 134,
   "id": "31e0e581-17fe-4b9b-ab48-8d01041c54f0",
   "metadata": {},
   "outputs": [
    {
     "data": {
      "text/plain": [
       "2"
      ]
     },
     "execution_count": 134,
     "metadata": {},
     "output_type": "execute_result"
    }
   ],
   "source": [
    "students.index('Rakesh')+1 ## First occurence"
   ]
  },
  {
   "cell_type": "code",
   "execution_count": 131,
   "id": "fdc47025-4351-4e6d-b468-42e7f5d0215a",
   "metadata": {},
   "outputs": [
    {
     "data": {
      "text/plain": [
       "2"
      ]
     },
     "execution_count": 131,
     "metadata": {},
     "output_type": "execute_result"
    }
   ],
   "source": [
    "students.count('Rakesh')"
   ]
  },
  {
   "cell_type": "code",
   "execution_count": 137,
   "id": "0eb0ebed-9d82-48fb-b6e8-05892cfc3e30",
   "metadata": {},
   "outputs": [
    {
     "data": {
      "text/plain": [
       "[1, 2, 3, 4, 5]"
      ]
     },
     "execution_count": 137,
     "metadata": {},
     "output_type": "execute_result"
    }
   ],
   "source": [
    "roll_numbers"
   ]
  },
  {
   "cell_type": "code",
   "execution_count": 138,
   "id": "035138e7-dc2a-4d6f-bdba-0ff41f836fe9",
   "metadata": {},
   "outputs": [],
   "source": [
    "roll_numbers.reverse()"
   ]
  },
  {
   "cell_type": "code",
   "execution_count": 139,
   "id": "57f0480a-1f65-4564-ac9e-33ed3674da02",
   "metadata": {},
   "outputs": [
    {
     "data": {
      "text/plain": [
       "[5, 4, 3, 2, 1]"
      ]
     },
     "execution_count": 139,
     "metadata": {},
     "output_type": "execute_result"
    }
   ],
   "source": [
    "roll_numbers"
   ]
  },
  {
   "cell_type": "code",
   "execution_count": 1,
   "id": "3fc939a4-293e-4db4-b2d8-79292b84de67",
   "metadata": {},
   "outputs": [],
   "source": [
    "a = 10"
   ]
  },
  {
   "cell_type": "code",
   "execution_count": 2,
   "id": "da746e1d-08c7-400b-8f85-0c7f4fb17eb9",
   "metadata": {},
   "outputs": [],
   "source": [
    "del a"
   ]
  },
  {
   "cell_type": "code",
   "execution_count": 3,
   "id": "a8a491c5-d71d-48cf-8d47-46ce7dd4c797",
   "metadata": {},
   "outputs": [
    {
     "ename": "NameError",
     "evalue": "name 'a' is not defined",
     "output_type": "error",
     "traceback": [
      "\u001b[0;31m---------------------------------------------------------------------------\u001b[0m",
      "\u001b[0;31mNameError\u001b[0m                                 Traceback (most recent call last)",
      "Cell \u001b[0;32mIn[3], line 1\u001b[0m\n\u001b[0;32m----> 1\u001b[0m \u001b[43ma\u001b[49m\n",
      "\u001b[0;31mNameError\u001b[0m: name 'a' is not defined"
     ]
    }
   ],
   "source": [
    "a"
   ]
  },
  {
   "cell_type": "code",
   "execution_count": 4,
   "id": "b38653c5-5a08-49b9-ba54-8d27163f0936",
   "metadata": {},
   "outputs": [],
   "source": [
    "a = [1,2,3]"
   ]
  },
  {
   "cell_type": "code",
   "execution_count": 5,
   "id": "c523003d-857c-493b-a72c-42653628d070",
   "metadata": {},
   "outputs": [],
   "source": [
    "del a"
   ]
  },
  {
   "cell_type": "code",
   "execution_count": 6,
   "id": "ccd1332f-639b-4428-a55d-796d7bf82385",
   "metadata": {},
   "outputs": [
    {
     "ename": "NameError",
     "evalue": "name 'a' is not defined",
     "output_type": "error",
     "traceback": [
      "\u001b[0;31m---------------------------------------------------------------------------\u001b[0m",
      "\u001b[0;31mNameError\u001b[0m                                 Traceback (most recent call last)",
      "Cell \u001b[0;32mIn[6], line 1\u001b[0m\n\u001b[0;32m----> 1\u001b[0m \u001b[43ma\u001b[49m\n",
      "\u001b[0;31mNameError\u001b[0m: name 'a' is not defined"
     ]
    }
   ],
   "source": [
    "a"
   ]
  },
  {
   "cell_type": "code",
   "execution_count": 7,
   "id": "22e10e0d-57e8-4e1b-8c69-81a74eb96656",
   "metadata": {},
   "outputs": [],
   "source": [
    "a = [1,2,3]"
   ]
  },
  {
   "cell_type": "code",
   "execution_count": 8,
   "id": "0693b00e-4d6c-4445-b40d-492a509a6217",
   "metadata": {},
   "outputs": [],
   "source": [
    "del a[0]"
   ]
  },
  {
   "cell_type": "code",
   "execution_count": 9,
   "id": "08188936-a225-4b37-8de8-a7cd1fd048f2",
   "metadata": {},
   "outputs": [
    {
     "data": {
      "text/plain": [
       "[2, 3]"
      ]
     },
     "execution_count": 9,
     "metadata": {},
     "output_type": "execute_result"
    }
   ],
   "source": [
    "a"
   ]
  },
  {
   "cell_type": "code",
   "execution_count": null,
   "id": "7c666114-f18f-416d-8dcf-9d9be2da08d4",
   "metadata": {},
   "outputs": [],
   "source": []
  },
  {
   "cell_type": "code",
   "execution_count": 10,
   "id": "0ba8e9d9-5ef3-4d24-bf63-3b79541267f7",
   "metadata": {},
   "outputs": [
    {
     "data": {
      "text/plain": [
       "[2, 3]"
      ]
     },
     "execution_count": 10,
     "metadata": {},
     "output_type": "execute_result"
    }
   ],
   "source": [
    "a"
   ]
  },
  {
   "cell_type": "code",
   "execution_count": 11,
   "id": "3f62620f-b5e8-44bf-a50f-d8b2edb5b3c2",
   "metadata": {},
   "outputs": [],
   "source": [
    "b = [4,5]"
   ]
  },
  {
   "cell_type": "code",
   "execution_count": 12,
   "id": "d3c3cf29-b7f1-43e9-9dc0-f48f04f23dfe",
   "metadata": {},
   "outputs": [
    {
     "data": {
      "text/plain": [
       "[4, 5]"
      ]
     },
     "execution_count": 12,
     "metadata": {},
     "output_type": "execute_result"
    }
   ],
   "source": [
    "b"
   ]
  },
  {
   "cell_type": "code",
   "execution_count": 13,
   "id": "b20e3b36-b409-430a-9056-68626620133f",
   "metadata": {},
   "outputs": [],
   "source": [
    "c = a + b"
   ]
  },
  {
   "cell_type": "code",
   "execution_count": 14,
   "id": "f771ffd5-5d7c-456b-aca6-627502959c6d",
   "metadata": {},
   "outputs": [
    {
     "data": {
      "text/plain": [
       "[2, 3, 4, 5]"
      ]
     },
     "execution_count": 14,
     "metadata": {},
     "output_type": "execute_result"
    }
   ],
   "source": [
    "c"
   ]
  },
  {
   "cell_type": "code",
   "execution_count": 15,
   "id": "61015180-436f-4447-a94a-8ae3b7f914ef",
   "metadata": {},
   "outputs": [
    {
     "data": {
      "text/plain": [
       "[2, 3]"
      ]
     },
     "execution_count": 15,
     "metadata": {},
     "output_type": "execute_result"
    }
   ],
   "source": [
    "a"
   ]
  },
  {
   "cell_type": "code",
   "execution_count": 17,
   "id": "99c360b3-ccc4-401f-8900-4c6066c7ebc5",
   "metadata": {},
   "outputs": [],
   "source": [
    "a =  [1] + a"
   ]
  },
  {
   "cell_type": "code",
   "execution_count": 18,
   "id": "431a7756-57b8-4e9c-b356-c059a97b64ed",
   "metadata": {},
   "outputs": [
    {
     "data": {
      "text/plain": [
       "[1, 2, 3]"
      ]
     },
     "execution_count": 18,
     "metadata": {},
     "output_type": "execute_result"
    }
   ],
   "source": [
    "a"
   ]
  },
  {
   "cell_type": "code",
   "execution_count": 30,
   "id": "2d9cd92e-7656-4698-b78b-e2e5dc1be633",
   "metadata": {},
   "outputs": [],
   "source": [
    "a = [1,2,3]"
   ]
  },
  {
   "cell_type": "code",
   "execution_count": 31,
   "id": "b476821a-8142-46fb-b359-314b8fc945d5",
   "metadata": {},
   "outputs": [
    {
     "data": {
      "text/plain": [
       "[1, 2, 3]"
      ]
     },
     "execution_count": 31,
     "metadata": {},
     "output_type": "execute_result"
    }
   ],
   "source": [
    "a"
   ]
  },
  {
   "cell_type": "code",
   "execution_count": 32,
   "id": "3ffa30c1-e074-427f-bbb6-4a999d91e9dd",
   "metadata": {},
   "outputs": [],
   "source": [
    "b = [4,5]"
   ]
  },
  {
   "cell_type": "code",
   "execution_count": 33,
   "id": "12766f0f-e204-4849-8dee-72bb10b729fa",
   "metadata": {},
   "outputs": [],
   "source": [
    "a = a + b"
   ]
  },
  {
   "cell_type": "code",
   "execution_count": 29,
   "id": "91341cd2-3433-441c-a990-42ba75494811",
   "metadata": {},
   "outputs": [
    {
     "data": {
      "text/plain": [
       "[1, 2, 3, 4, 5, 4, 5]"
      ]
     },
     "execution_count": 29,
     "metadata": {},
     "output_type": "execute_result"
    }
   ],
   "source": [
    "a"
   ]
  },
  {
   "cell_type": "code",
   "execution_count": 24,
   "id": "c9741a57-a96f-4b45-914d-85857cd81e21",
   "metadata": {},
   "outputs": [],
   "source": [
    "a = [1,2,3]"
   ]
  },
  {
   "cell_type": "code",
   "execution_count": 25,
   "id": "bd7feaa9-ecc6-4105-875b-069e98cad6c0",
   "metadata": {},
   "outputs": [],
   "source": [
    "b = [4,5]"
   ]
  },
  {
   "cell_type": "code",
   "execution_count": 26,
   "id": "f390a698-1ab5-4507-86b8-b162c0b9d811",
   "metadata": {},
   "outputs": [],
   "source": [
    "a.extend(b) # More efficient"
   ]
  },
  {
   "cell_type": "code",
   "execution_count": 42,
   "id": "f45321f2-cb3e-46d1-82ca-9c9b920c453a",
   "metadata": {},
   "outputs": [],
   "source": [
    "c = [0].extend(a)"
   ]
  },
  {
   "cell_type": "code",
   "execution_count": 43,
   "id": "755b4344-46d9-429d-a8e2-b9cf2c9cc441",
   "metadata": {},
   "outputs": [],
   "source": [
    "c = [0] + a"
   ]
  },
  {
   "cell_type": "code",
   "execution_count": 37,
   "id": "2ddc9685-566e-4b53-bd34-b8816d7dbb30",
   "metadata": {},
   "outputs": [],
   "source": [
    "a = [1,2,3]"
   ]
  },
  {
   "cell_type": "code",
   "execution_count": 38,
   "id": "44e68f5c-a061-48da-808a-7431eeb9e527",
   "metadata": {},
   "outputs": [],
   "source": [
    "b = [4,5]"
   ]
  },
  {
   "cell_type": "code",
   "execution_count": 39,
   "id": "b0cc351c-1234-4e32-a55b-9348878a2986",
   "metadata": {},
   "outputs": [],
   "source": [
    "a += b # Intermediate option"
   ]
  },
  {
   "cell_type": "code",
   "execution_count": 40,
   "id": "69b53244-01d7-4443-b815-54e343434d23",
   "metadata": {},
   "outputs": [
    {
     "data": {
      "text/plain": [
       "[1, 2, 3, 4, 5]"
      ]
     },
     "execution_count": 40,
     "metadata": {},
     "output_type": "execute_result"
    }
   ],
   "source": [
    "a"
   ]
  },
  {
   "cell_type": "code",
   "execution_count": null,
   "id": "44e6c748-73d1-41fd-8f2d-9834a428d0ac",
   "metadata": {},
   "outputs": [],
   "source": []
  },
  {
   "cell_type": "code",
   "execution_count": 48,
   "id": "f68da73a-a7b6-407a-b385-b7fdb1e8f061",
   "metadata": {},
   "outputs": [],
   "source": [
    "a = [1,2]"
   ]
  },
  {
   "cell_type": "code",
   "execution_count": 49,
   "id": "f2ce08e1-acee-455b-941c-ad04b0a2b9d6",
   "metadata": {},
   "outputs": [],
   "source": [
    "b = [a]"
   ]
  },
  {
   "cell_type": "code",
   "execution_count": 50,
   "id": "659b2512-9ff4-4345-95a5-a2a9dc9975cb",
   "metadata": {},
   "outputs": [],
   "source": [
    "c = [b]"
   ]
  },
  {
   "cell_type": "code",
   "execution_count": 51,
   "id": "136680ab-0ad6-421f-9b78-9edae52c14e5",
   "metadata": {},
   "outputs": [
    {
     "data": {
      "text/plain": [
       "[1, 2]"
      ]
     },
     "execution_count": 51,
     "metadata": {},
     "output_type": "execute_result"
    }
   ],
   "source": [
    "a"
   ]
  },
  {
   "cell_type": "code",
   "execution_count": 52,
   "id": "d6ea610f-896d-4201-8413-9eec0ed2c90a",
   "metadata": {},
   "outputs": [
    {
     "data": {
      "text/plain": [
       "[[1, 2]]"
      ]
     },
     "execution_count": 52,
     "metadata": {},
     "output_type": "execute_result"
    }
   ],
   "source": [
    "b"
   ]
  },
  {
   "cell_type": "code",
   "execution_count": 53,
   "id": "d30a2bd6-295d-4957-ae36-31652e24b276",
   "metadata": {},
   "outputs": [
    {
     "data": {
      "text/plain": [
       "[[[1, 2]]]"
      ]
     },
     "execution_count": 53,
     "metadata": {},
     "output_type": "execute_result"
    }
   ],
   "source": [
    "c"
   ]
  },
  {
   "cell_type": "code",
   "execution_count": 54,
   "id": "87aff3ed-20f0-4a8a-9c7b-46a07b7d8ef2",
   "metadata": {},
   "outputs": [],
   "source": [
    "c = [[1,2],[3,4],[5,6]]"
   ]
  },
  {
   "cell_type": "code",
   "execution_count": 55,
   "id": "8b41fc9e-94e0-4da9-b2d9-e91fc7dcbbd6",
   "metadata": {},
   "outputs": [
    {
     "data": {
      "text/plain": [
       "[[1, 2], [3, 4], [5, 6]]"
      ]
     },
     "execution_count": 55,
     "metadata": {},
     "output_type": "execute_result"
    }
   ],
   "source": [
    "c"
   ]
  },
  {
   "cell_type": "code",
   "execution_count": 69,
   "id": "536761f6-648e-4a0e-8b78-87eb523e29ea",
   "metadata": {},
   "outputs": [
    {
     "data": {
      "text/plain": [
       "1"
      ]
     },
     "execution_count": 69,
     "metadata": {},
     "output_type": "execute_result"
    }
   ],
   "source": [
    "c[0][0]"
   ]
  },
  {
   "cell_type": "code",
   "execution_count": 65,
   "id": "052ba9e1-8ed7-4d65-b4db-ad30f5ced996",
   "metadata": {},
   "outputs": [
    {
     "ename": "TypeError",
     "evalue": "list indices must be integers or slices, not tuple",
     "output_type": "error",
     "traceback": [
      "\u001b[0;31m---------------------------------------------------------------------------\u001b[0m",
      "\u001b[0;31mTypeError\u001b[0m                                 Traceback (most recent call last)",
      "Cell \u001b[0;32mIn[65], line 1\u001b[0m\n\u001b[0;32m----> 1\u001b[0m \u001b[43mc\u001b[49m\u001b[43m[\u001b[49m\u001b[38;5;241;43m1\u001b[39;49m\u001b[43m,\u001b[49m\u001b[38;5;241;43m1\u001b[39;49m\u001b[43m]\u001b[49m\n",
      "\u001b[0;31mTypeError\u001b[0m: list indices must be integers or slices, not tuple"
     ]
    }
   ],
   "source": [
    "c[1,1]"
   ]
  },
  {
   "cell_type": "code",
   "execution_count": 70,
   "id": "aba55ee3-4861-4ca2-92fa-40ccbc9149c6",
   "metadata": {},
   "outputs": [],
   "source": [
    "c = [set()]"
   ]
  },
  {
   "cell_type": "code",
   "execution_count": 71,
   "id": "ed36717d-2890-4331-87b5-019664679b3f",
   "metadata": {},
   "outputs": [],
   "source": [
    "c = [dict()]"
   ]
  },
  {
   "cell_type": "code",
   "execution_count": null,
   "id": "6376f215-7229-4b88-8d0d-3eb460b53eda",
   "metadata": {},
   "outputs": [],
   "source": [
    "c = [pd,numpy,tensorflwo]"
   ]
  }
 ],
 "metadata": {
  "kernelspec": {
   "display_name": "Python 3 (ipykernel)",
   "language": "python",
   "name": "python3"
  },
  "language_info": {
   "codemirror_mode": {
    "name": "ipython",
    "version": 3
   },
   "file_extension": ".py",
   "mimetype": "text/x-python",
   "name": "python",
   "nbconvert_exporter": "python",
   "pygments_lexer": "ipython3",
   "version": "3.11.3"
  }
 },
 "nbformat": 4,
 "nbformat_minor": 5
}

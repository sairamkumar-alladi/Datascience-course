{
 "cells": [
  {
   "cell_type": "markdown",
   "id": "3c74f2e3-9722-4a30-91ab-85dc1d36ba32",
   "metadata": {},
   "source": [
    "# Dictionaries\n",
    "- Key Value Pairs\n",
    "- Hashtable\n",
    "- MapTable\n",
    "- Lookup Table\n",
    "- Dictionary is a collection of elements\n",
    "- Each element is a key value pair\n",
    "- Key Value Pair will be described as key:value\n",
    "- DIctionary will also have indexing but the indexing can be done using keys of the dictionary\n",
    "- dictionatry indices are set(keys) --{\"Geometry\",\"Logic\",\"Trigonometry\",\"LinearAlgebra\"}\n",
    "- Hashing Function --> Address\n",
    "- Dictionary is not an ordered collection\n",
    "- Dictionary Keys should be immutable objects only."
   ]
  },
  {
   "cell_type": "code",
   "execution_count": 1,
   "id": "8052a81b-613e-45c7-aa51-1574e2b45ea7",
   "metadata": {},
   "outputs": [],
   "source": [
    "a = {}"
   ]
  },
  {
   "cell_type": "code",
   "execution_count": 2,
   "id": "6031335f-2e81-4bcb-b30d-2eb9df244628",
   "metadata": {},
   "outputs": [],
   "source": [
    "b = dict()"
   ]
  },
  {
   "cell_type": "code",
   "execution_count": 3,
   "id": "8573eefd-7400-4c5f-86ba-5861e165247f",
   "metadata": {},
   "outputs": [
    {
     "data": {
      "text/plain": [
       "dict"
      ]
     },
     "execution_count": 3,
     "metadata": {},
     "output_type": "execute_result"
    }
   ],
   "source": [
    "type(a)"
   ]
  },
  {
   "cell_type": "code",
   "execution_count": 4,
   "id": "375f91b1-ef97-4c0d-a57e-13e7fea70317",
   "metadata": {},
   "outputs": [
    {
     "data": {
      "text/plain": [
       "dict"
      ]
     },
     "execution_count": 4,
     "metadata": {},
     "output_type": "execute_result"
    }
   ],
   "source": [
    "type(b)"
   ]
  },
  {
   "cell_type": "code",
   "execution_count": 5,
   "id": "2c6c7503-e1ba-4f78-a51b-3c9e69589070",
   "metadata": {},
   "outputs": [],
   "source": [
    "maths_book_index = {\"Logic\":1,\"LinearAlgebra\":25,\"Geometry\":57,\"Trigonometry\":99} ## Defining the dictionary"
   ]
  },
  {
   "cell_type": "code",
   "execution_count": 6,
   "id": "dac4914f-d608-4fbc-839f-ca978149f515",
   "metadata": {},
   "outputs": [
    {
     "data": {
      "text/plain": [
       "57"
      ]
     },
     "execution_count": 6,
     "metadata": {},
     "output_type": "execute_result"
    }
   ],
   "source": [
    "maths_book_index[\"Geometry\"]"
   ]
  },
  {
   "cell_type": "code",
   "execution_count": 8,
   "id": "5b8d566f-831e-4a2d-8edb-1388687fa8c4",
   "metadata": {},
   "outputs": [
    {
     "data": {
      "text/plain": [
       "57"
      ]
     },
     "execution_count": 8,
     "metadata": {},
     "output_type": "execute_result"
    }
   ],
   "source": [
    "maths_book_index.get(\"Geometry\")"
   ]
  },
  {
   "cell_type": "code",
   "execution_count": 9,
   "id": "97fecbef-c2a8-4cf0-9f5c-94510a0b2da4",
   "metadata": {},
   "outputs": [
    {
     "data": {
      "text/plain": [
       "dict_keys(['Logic', 'LinearAlgebra', 'Geometry', 'Trigonometry'])"
      ]
     },
     "execution_count": 9,
     "metadata": {},
     "output_type": "execute_result"
    }
   ],
   "source": [
    "maths_book_index.keys()"
   ]
  },
  {
   "cell_type": "code",
   "execution_count": 10,
   "id": "8f832e43-c7b5-43a6-aa47-08cb296305a2",
   "metadata": {},
   "outputs": [
    {
     "data": {
      "text/plain": [
       "dict_values([1, 25, 57, 99])"
      ]
     },
     "execution_count": 10,
     "metadata": {},
     "output_type": "execute_result"
    }
   ],
   "source": [
    "maths_book_index.values()"
   ]
  },
  {
   "cell_type": "code",
   "execution_count": 11,
   "id": "6fd29b33-8890-4088-93f3-c415f55e5101",
   "metadata": {},
   "outputs": [
    {
     "data": {
      "text/plain": [
       "dict_items([('Logic', 1), ('LinearAlgebra', 25), ('Geometry', 57), ('Trigonometry', 99)])"
      ]
     },
     "execution_count": 11,
     "metadata": {},
     "output_type": "execute_result"
    }
   ],
   "source": [
    "maths_book_index.items()"
   ]
  },
  {
   "cell_type": "code",
   "execution_count": 17,
   "id": "b0d600b9-bd1b-46cd-9092-7d57a19ddc5b",
   "metadata": {},
   "outputs": [],
   "source": [
    "maths_keys = list(maths_book_index.keys()) #Explicit Type Casting"
   ]
  },
  {
   "cell_type": "code",
   "execution_count": 18,
   "id": "73b4f7c8-7acb-4faa-b10d-752b443619bb",
   "metadata": {},
   "outputs": [
    {
     "data": {
      "text/plain": [
       "['Geometry', 'LinearAlgebra', 'Logic', 'Trigonometry']"
      ]
     },
     "execution_count": 18,
     "metadata": {},
     "output_type": "execute_result"
    }
   ],
   "source": [
    "maths_keys.sort()\n",
    "maths_keys"
   ]
  },
  {
   "cell_type": "code",
   "execution_count": 20,
   "id": "c31f46e5-007c-4c51-a7eb-36e28f007194",
   "metadata": {},
   "outputs": [
    {
     "data": {
      "text/plain": [
       "['__call__',\n",
       " '__class__',\n",
       " '__delattr__',\n",
       " '__dir__',\n",
       " '__doc__',\n",
       " '__eq__',\n",
       " '__format__',\n",
       " '__ge__',\n",
       " '__getattribute__',\n",
       " '__getstate__',\n",
       " '__gt__',\n",
       " '__hash__',\n",
       " '__init__',\n",
       " '__init_subclass__',\n",
       " '__le__',\n",
       " '__lt__',\n",
       " '__module__',\n",
       " '__name__',\n",
       " '__ne__',\n",
       " '__new__',\n",
       " '__qualname__',\n",
       " '__reduce__',\n",
       " '__reduce_ex__',\n",
       " '__repr__',\n",
       " '__self__',\n",
       " '__setattr__',\n",
       " '__sizeof__',\n",
       " '__str__',\n",
       " '__subclasshook__',\n",
       " '__text_signature__']"
      ]
     },
     "execution_count": 20,
     "metadata": {},
     "output_type": "execute_result"
    }
   ],
   "source": [
    "dir(maths_book_index.keys)"
   ]
  },
  {
   "cell_type": "code",
   "execution_count": 7,
   "id": "5fbaba5c-90c3-442b-9c3c-5232a0128a56",
   "metadata": {},
   "outputs": [
    {
     "data": {
      "text/plain": [
       "['__class__',\n",
       " '__class_getitem__',\n",
       " '__contains__',\n",
       " '__delattr__',\n",
       " '__delitem__',\n",
       " '__dir__',\n",
       " '__doc__',\n",
       " '__eq__',\n",
       " '__format__',\n",
       " '__ge__',\n",
       " '__getattribute__',\n",
       " '__getitem__',\n",
       " '__getstate__',\n",
       " '__gt__',\n",
       " '__hash__',\n",
       " '__init__',\n",
       " '__init_subclass__',\n",
       " '__ior__',\n",
       " '__iter__',\n",
       " '__le__',\n",
       " '__len__',\n",
       " '__lt__',\n",
       " '__ne__',\n",
       " '__new__',\n",
       " '__or__',\n",
       " '__reduce__',\n",
       " '__reduce_ex__',\n",
       " '__repr__',\n",
       " '__reversed__',\n",
       " '__ror__',\n",
       " '__setattr__',\n",
       " '__setitem__',\n",
       " '__sizeof__',\n",
       " '__str__',\n",
       " '__subclasshook__',\n",
       " 'clear',\n",
       " 'copy',\n",
       " 'fromkeys',\n",
       " 'get',\n",
       " 'items',\n",
       " 'keys',\n",
       " 'pop',\n",
       " 'popitem',\n",
       " 'setdefault',\n",
       " 'update',\n",
       " 'values']"
      ]
     },
     "execution_count": 7,
     "metadata": {},
     "output_type": "execute_result"
    }
   ],
   "source": [
    "dir(dict)"
   ]
  },
  {
   "cell_type": "code",
   "execution_count": null,
   "id": "d887feec-225b-4729-9860-8485a4e3d603",
   "metadata": {},
   "outputs": [],
   "source": []
  }
 ],
 "metadata": {
  "kernelspec": {
   "display_name": "Python 3 (ipykernel)",
   "language": "python",
   "name": "python3"
  },
  "language_info": {
   "codemirror_mode": {
    "name": "ipython",
    "version": 3
   },
   "file_extension": ".py",
   "mimetype": "text/x-python",
   "name": "python",
   "nbconvert_exporter": "python",
   "pygments_lexer": "ipython3",
   "version": "3.11.3"
  }
 },
 "nbformat": 4,
 "nbformat_minor": 5
}
